{
 "cells": [
  {
   "cell_type": "code",
   "execution_count": 2,
   "metadata": {
    "collapsed": false
   },
   "outputs": [
    {
     "data": {
      "text/plain": [
       "(45, 67679)"
      ]
     },
     "execution_count": 2,
     "metadata": {},
     "output_type": "execute_result"
    }
   ],
   "source": [
    "# Code to get all subjects' fucntional voxelwise features\n",
    "import glob\n",
    "import sklearn\n",
    "import numpy as np\n",
    "import nibabel as nib\n",
    "import nilearn\n",
    "from nilearn import image\n",
    "fnames = glob.glob('/Users/swatirane/Documents/Neurohack2016/kids/abide/reho/Outputs/cpac/filt_noglobal/reho_all/*.nii.gz')\n",
    "\n",
    "#prepare masker\n",
    "mask=nib.load('MNI3mm.nii.gz')\n",
    "mask_imge=mask.get_data()\n",
    "\n",
    "from nilearn.input_data import NiftiMasker\n",
    "use_mask=NiftiMasker(mask_img=mask)\n",
    "\n",
    "# functional voxels\n",
    "nz_vox=use_mask.fit_transform(fnames)\n",
    "nz_vox.shape  \n",
    "    "
   ]
  },
  {
   "cell_type": "code",
   "execution_count": null,
   "metadata": {
    "collapsed": true
   },
   "outputs": [],
   "source": [
    "%%file run.py\n"
   ]
  },
  {
   "cell_type": "markdown",
   "metadata": {},
   "source": [
    "Create run.py:  inut directory, output directory, phenotypic file, argument (-test, --train, --modelinput)\n",
    "Output for test is csv with predictions\n",
    "Output for train is 3D NII with model\n",
    "\n",
    "Takes in: Directory of data\n",
    "\n",
    "To do: Scikit learn models, and their hyperparameters\n"
   ]
  }
 ],
 "metadata": {
  "kernelspec": {
   "display_name": "Python 3",
   "language": "python",
   "name": "python3"
  },
  "language_info": {
   "codemirror_mode": {
    "name": "ipython",
    "version": 3
   },
   "file_extension": ".py",
   "mimetype": "text/x-python",
   "name": "python",
   "nbconvert_exporter": "python",
   "pygments_lexer": "ipython3",
   "version": "3.5.1"
  }
 },
 "nbformat": 4,
 "nbformat_minor": 0
}
