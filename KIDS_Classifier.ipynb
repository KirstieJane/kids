{
 "cells": [
  {
   "cell_type": "markdown",
   "metadata": {},
   "source": [
    "# Download Imaging Data"
   ]
  },
  {
   "cell_type": "code",
   "execution_count": 1,
   "metadata": {
    "collapsed": false
   },
   "outputs": [],
   "source": [
    "# Step 1\n",
    "# Download data to get started using script from https://github.com/preprocessed-connectomes-project/abide - SRL 09/06/2016\n",
    "\n",
    "# Run in python 2 in terminal\n",
    "#python download_abide_preproc.py -d reho -p cpac -s filt_noglobal -o reho -t PITT\n",
    "\n"
   ]
  },
  {
   "cell_type": "markdown",
   "metadata": {},
   "source": [
    "# Read phenotypic csv file"
   ]
  },
  {
   "cell_type": "code",
   "execution_count": 28,
   "metadata": {
    "collapsed": false
   },
   "outputs": [
    {
     "ename": "OSError",
     "evalue": "File b'Phenotypic_V1_0b_preprocessed1.csv' does not exist",
     "output_type": "error",
     "traceback": [
      "\u001b[0;31m---------------------------------------------------------------------------\u001b[0m",
      "\u001b[0;31mOSError\u001b[0m                                   Traceback (most recent call last)",
      "\u001b[0;32m<ipython-input-28-ae469b9a75ed>\u001b[0m in \u001b[0;36m<module>\u001b[0;34m()\u001b[0m\n\u001b[1;32m      3\u001b[0m \u001b[0;32mimport\u001b[0m \u001b[0mmatplotlib\u001b[0m\u001b[0;34m.\u001b[0m\u001b[0mpyplot\u001b[0m \u001b[0;32mas\u001b[0m \u001b[0mplt\u001b[0m\u001b[0;34m\u001b[0m\u001b[0m\n\u001b[1;32m      4\u001b[0m \u001b[0mget_ipython\u001b[0m\u001b[0;34m(\u001b[0m\u001b[0;34m)\u001b[0m\u001b[0;34m.\u001b[0m\u001b[0mmagic\u001b[0m\u001b[0;34m(\u001b[0m\u001b[0;34m'matplotlib inline'\u001b[0m\u001b[0;34m)\u001b[0m\u001b[0;34m\u001b[0m\u001b[0m\n\u001b[0;32m----> 5\u001b[0;31m \u001b[0mdemograf\u001b[0m\u001b[0;34m=\u001b[0m\u001b[0mpd\u001b[0m\u001b[0;34m.\u001b[0m\u001b[0mread_csv\u001b[0m\u001b[0;34m(\u001b[0m\u001b[0;34m'Phenotypic_V1_0b_preprocessed1.csv'\u001b[0m\u001b[0;34m)\u001b[0m\u001b[0;34m\u001b[0m\u001b[0m\n\u001b[0m\u001b[1;32m      6\u001b[0m \u001b[0mdemograf\u001b[0m\u001b[0;34m.\u001b[0m\u001b[0mshape\u001b[0m\u001b[0;34m\u001b[0m\u001b[0m\n",
      "\u001b[0;32m/Users/swatirane/anaconda/lib/python3.5/site-packages/pandas/io/parsers.py\u001b[0m in \u001b[0;36mparser_f\u001b[0;34m(filepath_or_buffer, sep, delimiter, header, names, index_col, usecols, squeeze, prefix, mangle_dupe_cols, dtype, engine, converters, true_values, false_values, skipinitialspace, skiprows, skipfooter, nrows, na_values, keep_default_na, na_filter, verbose, skip_blank_lines, parse_dates, infer_datetime_format, keep_date_col, date_parser, dayfirst, iterator, chunksize, compression, thousands, decimal, lineterminator, quotechar, quoting, escapechar, comment, encoding, dialect, tupleize_cols, error_bad_lines, warn_bad_lines, skip_footer, doublequote, delim_whitespace, as_recarray, compact_ints, use_unsigned, low_memory, buffer_lines, memory_map, float_precision)\u001b[0m\n\u001b[1;32m    560\u001b[0m                     skip_blank_lines=skip_blank_lines)\n\u001b[1;32m    561\u001b[0m \u001b[0;34m\u001b[0m\u001b[0m\n\u001b[0;32m--> 562\u001b[0;31m         \u001b[0;32mreturn\u001b[0m \u001b[0m_read\u001b[0m\u001b[0;34m(\u001b[0m\u001b[0mfilepath_or_buffer\u001b[0m\u001b[0;34m,\u001b[0m \u001b[0mkwds\u001b[0m\u001b[0;34m)\u001b[0m\u001b[0;34m\u001b[0m\u001b[0m\n\u001b[0m\u001b[1;32m    563\u001b[0m \u001b[0;34m\u001b[0m\u001b[0m\n\u001b[1;32m    564\u001b[0m     \u001b[0mparser_f\u001b[0m\u001b[0;34m.\u001b[0m\u001b[0m__name__\u001b[0m \u001b[0;34m=\u001b[0m \u001b[0mname\u001b[0m\u001b[0;34m\u001b[0m\u001b[0m\n",
      "\u001b[0;32m/Users/swatirane/anaconda/lib/python3.5/site-packages/pandas/io/parsers.py\u001b[0m in \u001b[0;36m_read\u001b[0;34m(filepath_or_buffer, kwds)\u001b[0m\n\u001b[1;32m    313\u001b[0m \u001b[0;34m\u001b[0m\u001b[0m\n\u001b[1;32m    314\u001b[0m     \u001b[0;31m# Create the parser.\u001b[0m\u001b[0;34m\u001b[0m\u001b[0;34m\u001b[0m\u001b[0m\n\u001b[0;32m--> 315\u001b[0;31m     \u001b[0mparser\u001b[0m \u001b[0;34m=\u001b[0m \u001b[0mTextFileReader\u001b[0m\u001b[0;34m(\u001b[0m\u001b[0mfilepath_or_buffer\u001b[0m\u001b[0;34m,\u001b[0m \u001b[0;34m**\u001b[0m\u001b[0mkwds\u001b[0m\u001b[0;34m)\u001b[0m\u001b[0;34m\u001b[0m\u001b[0m\n\u001b[0m\u001b[1;32m    316\u001b[0m \u001b[0;34m\u001b[0m\u001b[0m\n\u001b[1;32m    317\u001b[0m     \u001b[0;32mif\u001b[0m \u001b[0;34m(\u001b[0m\u001b[0mnrows\u001b[0m \u001b[0;32mis\u001b[0m \u001b[0;32mnot\u001b[0m \u001b[0;32mNone\u001b[0m\u001b[0;34m)\u001b[0m \u001b[0;32mand\u001b[0m \u001b[0;34m(\u001b[0m\u001b[0mchunksize\u001b[0m \u001b[0;32mis\u001b[0m \u001b[0;32mnot\u001b[0m \u001b[0;32mNone\u001b[0m\u001b[0;34m)\u001b[0m\u001b[0;34m:\u001b[0m\u001b[0;34m\u001b[0m\u001b[0m\n",
      "\u001b[0;32m/Users/swatirane/anaconda/lib/python3.5/site-packages/pandas/io/parsers.py\u001b[0m in \u001b[0;36m__init__\u001b[0;34m(self, f, engine, **kwds)\u001b[0m\n\u001b[1;32m    643\u001b[0m             \u001b[0mself\u001b[0m\u001b[0;34m.\u001b[0m\u001b[0moptions\u001b[0m\u001b[0;34m[\u001b[0m\u001b[0;34m'has_index_names'\u001b[0m\u001b[0;34m]\u001b[0m \u001b[0;34m=\u001b[0m \u001b[0mkwds\u001b[0m\u001b[0;34m[\u001b[0m\u001b[0;34m'has_index_names'\u001b[0m\u001b[0;34m]\u001b[0m\u001b[0;34m\u001b[0m\u001b[0m\n\u001b[1;32m    644\u001b[0m \u001b[0;34m\u001b[0m\u001b[0m\n\u001b[0;32m--> 645\u001b[0;31m         \u001b[0mself\u001b[0m\u001b[0;34m.\u001b[0m\u001b[0m_make_engine\u001b[0m\u001b[0;34m(\u001b[0m\u001b[0mself\u001b[0m\u001b[0;34m.\u001b[0m\u001b[0mengine\u001b[0m\u001b[0;34m)\u001b[0m\u001b[0;34m\u001b[0m\u001b[0m\n\u001b[0m\u001b[1;32m    646\u001b[0m \u001b[0;34m\u001b[0m\u001b[0m\n\u001b[1;32m    647\u001b[0m     \u001b[0;32mdef\u001b[0m \u001b[0mclose\u001b[0m\u001b[0;34m(\u001b[0m\u001b[0mself\u001b[0m\u001b[0;34m)\u001b[0m\u001b[0;34m:\u001b[0m\u001b[0;34m\u001b[0m\u001b[0m\n",
      "\u001b[0;32m/Users/swatirane/anaconda/lib/python3.5/site-packages/pandas/io/parsers.py\u001b[0m in \u001b[0;36m_make_engine\u001b[0;34m(self, engine)\u001b[0m\n\u001b[1;32m    797\u001b[0m     \u001b[0;32mdef\u001b[0m \u001b[0m_make_engine\u001b[0m\u001b[0;34m(\u001b[0m\u001b[0mself\u001b[0m\u001b[0;34m,\u001b[0m \u001b[0mengine\u001b[0m\u001b[0;34m=\u001b[0m\u001b[0;34m'c'\u001b[0m\u001b[0;34m)\u001b[0m\u001b[0;34m:\u001b[0m\u001b[0;34m\u001b[0m\u001b[0m\n\u001b[1;32m    798\u001b[0m         \u001b[0;32mif\u001b[0m \u001b[0mengine\u001b[0m \u001b[0;34m==\u001b[0m \u001b[0;34m'c'\u001b[0m\u001b[0;34m:\u001b[0m\u001b[0;34m\u001b[0m\u001b[0m\n\u001b[0;32m--> 799\u001b[0;31m             \u001b[0mself\u001b[0m\u001b[0;34m.\u001b[0m\u001b[0m_engine\u001b[0m \u001b[0;34m=\u001b[0m \u001b[0mCParserWrapper\u001b[0m\u001b[0;34m(\u001b[0m\u001b[0mself\u001b[0m\u001b[0;34m.\u001b[0m\u001b[0mf\u001b[0m\u001b[0;34m,\u001b[0m \u001b[0;34m**\u001b[0m\u001b[0mself\u001b[0m\u001b[0;34m.\u001b[0m\u001b[0moptions\u001b[0m\u001b[0;34m)\u001b[0m\u001b[0;34m\u001b[0m\u001b[0m\n\u001b[0m\u001b[1;32m    800\u001b[0m         \u001b[0;32melse\u001b[0m\u001b[0;34m:\u001b[0m\u001b[0;34m\u001b[0m\u001b[0m\n\u001b[1;32m    801\u001b[0m             \u001b[0;32mif\u001b[0m \u001b[0mengine\u001b[0m \u001b[0;34m==\u001b[0m \u001b[0;34m'python'\u001b[0m\u001b[0;34m:\u001b[0m\u001b[0;34m\u001b[0m\u001b[0m\n",
      "\u001b[0;32m/Users/swatirane/anaconda/lib/python3.5/site-packages/pandas/io/parsers.py\u001b[0m in \u001b[0;36m__init__\u001b[0;34m(self, src, **kwds)\u001b[0m\n\u001b[1;32m   1211\u001b[0m         \u001b[0mkwds\u001b[0m\u001b[0;34m[\u001b[0m\u001b[0;34m'allow_leading_cols'\u001b[0m\u001b[0;34m]\u001b[0m \u001b[0;34m=\u001b[0m \u001b[0mself\u001b[0m\u001b[0;34m.\u001b[0m\u001b[0mindex_col\u001b[0m \u001b[0;32mis\u001b[0m \u001b[0;32mnot\u001b[0m \u001b[0;32mFalse\u001b[0m\u001b[0;34m\u001b[0m\u001b[0m\n\u001b[1;32m   1212\u001b[0m \u001b[0;34m\u001b[0m\u001b[0m\n\u001b[0;32m-> 1213\u001b[0;31m         \u001b[0mself\u001b[0m\u001b[0;34m.\u001b[0m\u001b[0m_reader\u001b[0m \u001b[0;34m=\u001b[0m \u001b[0m_parser\u001b[0m\u001b[0;34m.\u001b[0m\u001b[0mTextReader\u001b[0m\u001b[0;34m(\u001b[0m\u001b[0msrc\u001b[0m\u001b[0;34m,\u001b[0m \u001b[0;34m**\u001b[0m\u001b[0mkwds\u001b[0m\u001b[0;34m)\u001b[0m\u001b[0;34m\u001b[0m\u001b[0m\n\u001b[0m\u001b[1;32m   1214\u001b[0m \u001b[0;34m\u001b[0m\u001b[0m\n\u001b[1;32m   1215\u001b[0m         \u001b[0;31m# XXX\u001b[0m\u001b[0;34m\u001b[0m\u001b[0;34m\u001b[0m\u001b[0m\n",
      "\u001b[0;32mpandas/parser.pyx\u001b[0m in \u001b[0;36mpandas.parser.TextReader.__cinit__ (pandas/parser.c:3427)\u001b[0;34m()\u001b[0m\n",
      "\u001b[0;32mpandas/parser.pyx\u001b[0m in \u001b[0;36mpandas.parser.TextReader._setup_parser_source (pandas/parser.c:6861)\u001b[0;34m()\u001b[0m\n",
      "\u001b[0;31mOSError\u001b[0m: File b'Phenotypic_V1_0b_preprocessed1.csv' does not exist"
     ]
    }
   ],
   "source": [
    "import pandas as pd\n",
    "import numpy as np\n",
    "import matplotlib.pyplot as plt\n",
    "%matplotlib inline\n",
    "demograf=pd.read_csv('Phenotypic_V1_0b_preprocessed1.csv')\n",
    "demograf.shape"
   ]
  },
  {
   "cell_type": "code",
   "execution_count": 3,
   "metadata": {
    "collapsed": false
   },
   "outputs": [],
   "source": [
    "# Removed rater related columns and columns related QA,\n",
    "demograf.drop(['qc_rater_1', 'qc_notes_rater_1', 'qc_anat_rater_2', 'qc_anat_notes_rater_2', 'qc_func_rater_2','qc_func_notes_rater_2', 'qc_anat_rater_3', 'qc_anat_notes_rater_3', 'qc_func_rater_3','qc_func_notes_rater_3'],inplace=True,axis=1)"
   ]
  },
  {
   "cell_type": "code",
   "execution_count": 4,
   "metadata": {
    "collapsed": false
   },
   "outputs": [
    {
     "data": {
      "text/plain": [
       "(1112, 96)"
      ]
     },
     "execution_count": 4,
     "metadata": {},
     "output_type": "execute_result"
    }
   ],
   "source": [
    "demograf.shape"
   ]
  },
  {
   "cell_type": "code",
   "execution_count": 5,
   "metadata": {
    "collapsed": false
   },
   "outputs": [
    {
     "data": {
      "text/plain": [
       "(1112, 96)"
      ]
     },
     "execution_count": 5,
     "metadata": {},
     "output_type": "execute_result"
    }
   ],
   "source": [
    "# Find data that we want to use\n",
    "nfeatures=demograf.apply(lambda x:x.nunique())\n",
    "inds = nfeatures[nfeatures > 1].index\n",
    "demograf=demograf.loc[:,inds]\n",
    "demograf.shape"
   ]
  },
  {
   "cell_type": "code",
   "execution_count": 6,
   "metadata": {
    "collapsed": false
   },
   "outputs": [
    {
     "data": {
      "text/plain": [
       "Unnamed: 0                   1112\n",
       "Unnamed: 0.1                 1112\n",
       "SUB_ID                       1112\n",
       "X                            1112\n",
       "subject                      1112\n",
       "SITE_ID                        20\n",
       "FILE_ID                      1036\n",
       "DX_GROUP                        2\n",
       "DSM_IV_TR                       6\n",
       "AGE_AT_SCAN                   709\n",
       "SEX                             2\n",
       "HANDEDNESS_CATEGORY             6\n",
       "HANDEDNESS_SCORES             106\n",
       "FIQ                           124\n",
       "VIQ                            88\n",
       "PIQ                            84\n",
       "FIQ_TEST_TYPE                  13\n",
       "VIQ_TEST_TYPE                  12\n",
       "PIQ_TEST_TYPE                  13\n",
       "ADI_R_SOCIAL_TOTAL_A           27\n",
       "ADI_R_VERBAL_TOTAL_BV          24\n",
       "ADI_RRB_TOTAL_C                15\n",
       "ADI_R_ONSET_TOTAL_D             7\n",
       "ADI_R_RSRCH_RELIABLE            3\n",
       "ADOS_MODULE                     4\n",
       "ADOS_TOTAL                     24\n",
       "ADOS_COMM                      10\n",
       "ADOS_SOCIAL                    16\n",
       "ADOS_STEREO_BEHAV              10\n",
       "ADOS_RSRCH_RELIABLE             3\n",
       "                             ... \n",
       "WISC_IV_SIM_SCALED             12\n",
       "WISC_IV_VOCAB_SCALED           15\n",
       "WISC_IV_INFO_SCALED            13\n",
       "WISC_IV_BLK_DSN_SCALED         14\n",
       "WISC_IV_PIC_CON_SCALED         13\n",
       "WISC_IV_MATRIX_SCALED          11\n",
       "WISC_IV_DIGIT_SPAN_SCALED      13\n",
       "WISC_IV_LET_NUM_SCALED         13\n",
       "WISC_IV_CODING_SCALED          11\n",
       "WISC_IV_SYM_SCALED             12\n",
       "EYE_STATUS_AT_SCAN              2\n",
       "AGE_AT_MPRAGE                  98\n",
       "BMI                            90\n",
       "anat_cnr                     1098\n",
       "anat_efc                     1098\n",
       "anat_fber                    1098\n",
       "anat_fwhm                    1098\n",
       "anat_qi1                     1098\n",
       "anat_snr                     1098\n",
       "func_efc                     1097\n",
       "func_fber                    1097\n",
       "func_fwhm                    1096\n",
       "func_dvars                   1097\n",
       "func_outlier                 1097\n",
       "func_quality                 1097\n",
       "func_mean_fd                 1097\n",
       "func_num_fd                   153\n",
       "func_perc_fd                  451\n",
       "func_gsr                     1097\n",
       "SUB_IN_SMP                      2\n",
       "dtype: int64"
      ]
     },
     "execution_count": 6,
     "metadata": {},
     "output_type": "execute_result"
    }
   ],
   "source": [
    "nfeatures"
   ]
  },
  {
   "cell_type": "code",
   "execution_count": 7,
   "metadata": {
    "collapsed": false
   },
   "outputs": [],
   "source": [
    "demograf.drop(['anat_cnr', 'anat_efc', 'anat_fber', 'anat_fwhm', 'anat_qi1', 'anat_snr', 'func_efc', 'func_fber', 'func_fwhm', 'func_dvars', 'func_outlier', 'func_quality', 'func_mean_fd', 'func_num_fd', 'func_perc_fd', 'func_gsr'],inplace=True,axis=1)\n"
   ]
  },
  {
   "cell_type": "code",
   "execution_count": 8,
   "metadata": {
    "collapsed": false
   },
   "outputs": [
    {
     "data": {
      "text/plain": [
       "(1112, 80)"
      ]
     },
     "execution_count": 8,
     "metadata": {},
     "output_type": "execute_result"
    }
   ],
   "source": [
    "demograf.shape"
   ]
  },
  {
   "cell_type": "code",
   "execution_count": 9,
   "metadata": {
    "collapsed": false
   },
   "outputs": [],
   "source": [
    "demograf.drop(['Unnamed: 0', 'Unnamed: 0.1', 'X','FILE_ID','FIQ_TEST_TYPE','PIQ_TEST_TYPE','VIQ_TEST_TYPE'],inplace=True,axis=1)"
   ]
  },
  {
   "cell_type": "code",
   "execution_count": 10,
   "metadata": {
    "collapsed": false
   },
   "outputs": [
    {
     "data": {
      "text/plain": [
       "(1112, 73)"
      ]
     },
     "execution_count": 10,
     "metadata": {},
     "output_type": "execute_result"
    }
   ],
   "source": [
    "demograf.shape"
   ]
  },
  {
   "cell_type": "code",
   "execution_count": 11,
   "metadata": {
    "collapsed": false
   },
   "outputs": [
    {
     "name": "stdout",
     "output_type": "stream",
     "text": [
      "(73,)\n"
     ]
    }
   ],
   "source": [
    "nodata = demograf.apply(lambda x: x.isnull().sum()) # find NaNs\n",
    "nodata.sort_values(ascending=False) # sort by how mcny NaNs\n",
    "print(nodata.shape)"
   ]
  },
  {
   "cell_type": "code",
   "execution_count": 12,
   "metadata": {
    "collapsed": false
   },
   "outputs": [
    {
     "data": {
      "text/plain": [
       "SUB_ID                                0\n",
       "subject                               0\n",
       "SITE_ID                               0\n",
       "DX_GROUP                              0\n",
       "DSM_IV_TR                             0\n",
       "AGE_AT_SCAN                           0\n",
       "SEX                                   0\n",
       "HANDEDNESS_CATEGORY                 315\n",
       "HANDEDNESS_SCORES                   742\n",
       "FIQ                                  35\n",
       "VIQ                                 177\n",
       "PIQ                                 159\n",
       "ADI_R_SOCIAL_TOTAL_A                700\n",
       "ADI_R_VERBAL_TOTAL_BV               700\n",
       "ADI_RRB_TOTAL_C                     700\n",
       "ADI_R_ONSET_TOTAL_D                 781\n",
       "ADI_R_RSRCH_RELIABLE                701\n",
       "ADOS_MODULE                         577\n",
       "ADOS_TOTAL                          670\n",
       "ADOS_COMM                           695\n",
       "ADOS_SOCIAL                         695\n",
       "ADOS_STEREO_BEHAV                   734\n",
       "ADOS_RSRCH_RELIABLE                 732\n",
       "ADOS_GOTHAM_SOCAFFECT               795\n",
       "ADOS_GOTHAM_RRB                     795\n",
       "ADOS_GOTHAM_TOTAL                   795\n",
       "ADOS_GOTHAM_SEVERITY                795\n",
       "SRS_VERSION                         843\n",
       "SRS_RAW_TOTAL                       707\n",
       "SRS_AWARENESS                      1048\n",
       "                                   ... \n",
       "VINELAND_COMMUNICATION_STANDARD     928\n",
       "VINELAND_PERSONAL_V_SCALED          928\n",
       "VINELAND_DOMESTIC_V_SCALED          928\n",
       "VINELAND_COMMUNITY_V_SCALED         928\n",
       "VINELAND_DAILYLVNG_STANDARD         928\n",
       "VINELAND_INTERPERSONAL_V_SCALED     928\n",
       "VINELAND_PLAY_V_SCALED              928\n",
       "VINELAND_COPING_V_SCALED            928\n",
       "VINELAND_SOCIAL_STANDARD            928\n",
       "VINELAND_SUM_SCORES                 928\n",
       "VINELAND_ABC_STANDARD               928\n",
       "VINELAND_INFORMANT                  928\n",
       "WISC_IV_VCI                        1057\n",
       "WISC_IV_PRI                        1057\n",
       "WISC_IV_WMI                        1057\n",
       "WISC_IV_PSI                        1057\n",
       "WISC_IV_SIM_SCALED                 1057\n",
       "WISC_IV_VOCAB_SCALED               1057\n",
       "WISC_IV_INFO_SCALED                1057\n",
       "WISC_IV_BLK_DSN_SCALED             1057\n",
       "WISC_IV_PIC_CON_SCALED             1057\n",
       "WISC_IV_MATRIX_SCALED              1057\n",
       "WISC_IV_DIGIT_SPAN_SCALED          1057\n",
       "WISC_IV_LET_NUM_SCALED             1057\n",
       "WISC_IV_CODING_SCALED              1057\n",
       "WISC_IV_SYM_SCALED                 1057\n",
       "EYE_STATUS_AT_SCAN                    0\n",
       "AGE_AT_MPRAGE                      1011\n",
       "BMI                                 898\n",
       "SUB_IN_SMP                            0\n",
       "dtype: int64"
      ]
     },
     "execution_count": 12,
     "metadata": {},
     "output_type": "execute_result"
    }
   ],
   "source": [
    "#No of No Datas in each column\n",
    "nodata"
   ]
  },
  {
   "cell_type": "code",
   "execution_count": 15,
   "metadata": {
    "collapsed": false
   },
   "outputs": [
    {
     "data": {
      "text/plain": [
       "<matplotlib.axes._subplots.AxesSubplot at 0x117ee70f0>"
      ]
     },
     "execution_count": 15,
     "metadata": {},
     "output_type": "execute_result"
    },
    {
     "data": {
      "image/png": "[encoded data removed]",
      "text/plain": [
       "<matplotlib.figure.Figure at 0x117ef2ef0>"
      ]
     },
     "metadata": {},
     "output_type": "display_data"
    }
   ],
   "source": [
    "demograf['SEX'].plot(kind='hist',bins=2)"
   ]
  },
  {
   "cell_type": "code",
   "execution_count": 16,
   "metadata": {
    "collapsed": false
   },
   "outputs": [
    {
     "data": {
      "text/plain": [
       "SEX  DX_GROUP\n",
       "1    1           474\n",
       "     2           474\n",
       "2    1            65\n",
       "     2            99\n",
       "Name: SUB_ID, dtype: int64"
      ]
     },
     "execution_count": 16,
     "metadata": {},
     "output_type": "execute_result"
    }
   ],
   "source": [
    "demograf.groupby(['SEX','DX_GROUP']).count()['SUB_ID']"
   ]
  },
  {
   "cell_type": "markdown",
   "metadata": {},
   "source": [
    "## QUESTION"
   ]
  },
  {
   "cell_type": "markdown",
   "metadata": {},
   "source": [
    "Most subjects are males, very few females. Seem to be sort of similar in distribution in the diagnostic groups. Should we consider this as a feature at all ? So far no."
   ]
  },
  {
   "cell_type": "code",
   "execution_count": 20,
   "metadata": {
    "collapsed": false
   },
   "outputs": [],
   "source": [
    "final_demograf=demograf[['subject','DX_GROUP','DSM_IV_TR','AGE_AT_SCAN','FIQ']]"
   ]
  },
  {
   "cell_type": "code",
   "execution_count": 21,
   "metadata": {
    "collapsed": false
   },
   "outputs": [
    {
     "data": {
      "text/html": [
       "<div>\n",
       "<table border=\"1\" class=\"dataframe\">\n",
       "  <thead>\n",
       "    <tr style=\"text-align: right;\">\n",
       "      <th></th>\n",
       "      <th>subject</th>\n",
       "      <th>DX_GROUP</th>\n",
       "      <th>DSM_IV_TR</th>\n",
       "      <th>AGE_AT_SCAN</th>\n",
       "      <th>FIQ</th>\n",
       "    </tr>\n",
       "  </thead>\n",
       "  <tbody>\n",
       "    <tr>\n",
       "      <th>0</th>\n",
       "      <td>50002</td>\n",
       "      <td>1</td>\n",
       "      <td>1</td>\n",
       "      <td>16.77</td>\n",
       "      <td>103.0</td>\n",
       "    </tr>\n",
       "    <tr>\n",
       "      <th>1</th>\n",
       "      <td>50003</td>\n",
       "      <td>1</td>\n",
       "      <td>1</td>\n",
       "      <td>24.45</td>\n",
       "      <td>124.0</td>\n",
       "    </tr>\n",
       "    <tr>\n",
       "      <th>2</th>\n",
       "      <td>50004</td>\n",
       "      <td>1</td>\n",
       "      <td>1</td>\n",
       "      <td>19.09</td>\n",
       "      <td>113.0</td>\n",
       "    </tr>\n",
       "    <tr>\n",
       "      <th>3</th>\n",
       "      <td>50005</td>\n",
       "      <td>1</td>\n",
       "      <td>1</td>\n",
       "      <td>13.73</td>\n",
       "      <td>119.0</td>\n",
       "    </tr>\n",
       "    <tr>\n",
       "      <th>4</th>\n",
       "      <td>50006</td>\n",
       "      <td>1</td>\n",
       "      <td>1</td>\n",
       "      <td>13.37</td>\n",
       "      <td>109.0</td>\n",
       "    </tr>\n",
       "    <tr>\n",
       "      <th>5</th>\n",
       "      <td>50007</td>\n",
       "      <td>1</td>\n",
       "      <td>1</td>\n",
       "      <td>17.78</td>\n",
       "      <td>110.0</td>\n",
       "    </tr>\n",
       "    <tr>\n",
       "      <th>6</th>\n",
       "      <td>50008</td>\n",
       "      <td>1</td>\n",
       "      <td>1</td>\n",
       "      <td>32.45</td>\n",
       "      <td>123.0</td>\n",
       "    </tr>\n",
       "    <tr>\n",
       "      <th>7</th>\n",
       "      <td>50009</td>\n",
       "      <td>1</td>\n",
       "      <td>1</td>\n",
       "      <td>33.86</td>\n",
       "      <td>126.0</td>\n",
       "    </tr>\n",
       "    <tr>\n",
       "      <th>8</th>\n",
       "      <td>50010</td>\n",
       "      <td>1</td>\n",
       "      <td>1</td>\n",
       "      <td>35.20</td>\n",
       "      <td>81.0</td>\n",
       "    </tr>\n",
       "    <tr>\n",
       "      <th>9</th>\n",
       "      <td>50011</td>\n",
       "      <td>1</td>\n",
       "      <td>1</td>\n",
       "      <td>16.93</td>\n",
       "      <td>111.0</td>\n",
       "    </tr>\n",
       "    <tr>\n",
       "      <th>10</th>\n",
       "      <td>50012</td>\n",
       "      <td>1</td>\n",
       "      <td>1</td>\n",
       "      <td>21.48</td>\n",
       "      <td>128.0</td>\n",
       "    </tr>\n",
       "    <tr>\n",
       "      <th>11</th>\n",
       "      <td>50013</td>\n",
       "      <td>1</td>\n",
       "      <td>1</td>\n",
       "      <td>9.33</td>\n",
       "      <td>86.0</td>\n",
       "    </tr>\n",
       "    <tr>\n",
       "      <th>12</th>\n",
       "      <td>50014</td>\n",
       "      <td>1</td>\n",
       "      <td>1</td>\n",
       "      <td>14.20</td>\n",
       "      <td>96.0</td>\n",
       "    </tr>\n",
       "    <tr>\n",
       "      <th>13</th>\n",
       "      <td>50015</td>\n",
       "      <td>1</td>\n",
       "      <td>1</td>\n",
       "      <td>14.20</td>\n",
       "      <td>99.0</td>\n",
       "    </tr>\n",
       "    <tr>\n",
       "      <th>14</th>\n",
       "      <td>50016</td>\n",
       "      <td>1</td>\n",
       "      <td>1</td>\n",
       "      <td>21.82</td>\n",
       "      <td>123.0</td>\n",
       "    </tr>\n",
       "    <tr>\n",
       "      <th>15</th>\n",
       "      <td>50017</td>\n",
       "      <td>1</td>\n",
       "      <td>1</td>\n",
       "      <td>22.70</td>\n",
       "      <td>87.0</td>\n",
       "    </tr>\n",
       "    <tr>\n",
       "      <th>16</th>\n",
       "      <td>50019</td>\n",
       "      <td>1</td>\n",
       "      <td>1</td>\n",
       "      <td>27.81</td>\n",
       "      <td>100.0</td>\n",
       "    </tr>\n",
       "    <tr>\n",
       "      <th>17</th>\n",
       "      <td>50020</td>\n",
       "      <td>1</td>\n",
       "      <td>1</td>\n",
       "      <td>20.83</td>\n",
       "      <td>100.0</td>\n",
       "    </tr>\n",
       "    <tr>\n",
       "      <th>18</th>\n",
       "      <td>50022</td>\n",
       "      <td>1</td>\n",
       "      <td>1</td>\n",
       "      <td>16.99</td>\n",
       "      <td>119.0</td>\n",
       "    </tr>\n",
       "    <tr>\n",
       "      <th>19</th>\n",
       "      <td>50023</td>\n",
       "      <td>1</td>\n",
       "      <td>1</td>\n",
       "      <td>12.64</td>\n",
       "      <td>97.0</td>\n",
       "    </tr>\n",
       "    <tr>\n",
       "      <th>20</th>\n",
       "      <td>50024</td>\n",
       "      <td>1</td>\n",
       "      <td>1</td>\n",
       "      <td>22.64</td>\n",
       "      <td>127.0</td>\n",
       "    </tr>\n",
       "    <tr>\n",
       "      <th>21</th>\n",
       "      <td>50025</td>\n",
       "      <td>1</td>\n",
       "      <td>1</td>\n",
       "      <td>31.72</td>\n",
       "      <td>131.0</td>\n",
       "    </tr>\n",
       "    <tr>\n",
       "      <th>22</th>\n",
       "      <td>50026</td>\n",
       "      <td>1</td>\n",
       "      <td>1</td>\n",
       "      <td>16.28</td>\n",
       "      <td>87.0</td>\n",
       "    </tr>\n",
       "    <tr>\n",
       "      <th>23</th>\n",
       "      <td>50027</td>\n",
       "      <td>1</td>\n",
       "      <td>1</td>\n",
       "      <td>12.24</td>\n",
       "      <td>98.0</td>\n",
       "    </tr>\n",
       "    <tr>\n",
       "      <th>24</th>\n",
       "      <td>50028</td>\n",
       "      <td>1</td>\n",
       "      <td>1</td>\n",
       "      <td>12.74</td>\n",
       "      <td>126.0</td>\n",
       "    </tr>\n",
       "    <tr>\n",
       "      <th>25</th>\n",
       "      <td>50029</td>\n",
       "      <td>1</td>\n",
       "      <td>1</td>\n",
       "      <td>11.40</td>\n",
       "      <td>106.0</td>\n",
       "    </tr>\n",
       "    <tr>\n",
       "      <th>26</th>\n",
       "      <td>50030</td>\n",
       "      <td>2</td>\n",
       "      <td>0</td>\n",
       "      <td>25.12</td>\n",
       "      <td>105.0</td>\n",
       "    </tr>\n",
       "    <tr>\n",
       "      <th>27</th>\n",
       "      <td>50031</td>\n",
       "      <td>2</td>\n",
       "      <td>0</td>\n",
       "      <td>12.92</td>\n",
       "      <td>106.0</td>\n",
       "    </tr>\n",
       "    <tr>\n",
       "      <th>28</th>\n",
       "      <td>50032</td>\n",
       "      <td>2</td>\n",
       "      <td>0</td>\n",
       "      <td>19.80</td>\n",
       "      <td>119.0</td>\n",
       "    </tr>\n",
       "    <tr>\n",
       "      <th>29</th>\n",
       "      <td>50033</td>\n",
       "      <td>2</td>\n",
       "      <td>0</td>\n",
       "      <td>12.15</td>\n",
       "      <td>98.0</td>\n",
       "    </tr>\n",
       "    <tr>\n",
       "      <th>...</th>\n",
       "      <td>...</td>\n",
       "      <td>...</td>\n",
       "      <td>...</td>\n",
       "      <td>...</td>\n",
       "      <td>...</td>\n",
       "    </tr>\n",
       "    <tr>\n",
       "      <th>1082</th>\n",
       "      <td>51558</td>\n",
       "      <td>2</td>\n",
       "      <td>0</td>\n",
       "      <td>27.00</td>\n",
       "      <td>-9999.0</td>\n",
       "    </tr>\n",
       "    <tr>\n",
       "      <th>1083</th>\n",
       "      <td>51559</td>\n",
       "      <td>2</td>\n",
       "      <td>0</td>\n",
       "      <td>27.00</td>\n",
       "      <td>-9999.0</td>\n",
       "    </tr>\n",
       "    <tr>\n",
       "      <th>1084</th>\n",
       "      <td>51560</td>\n",
       "      <td>2</td>\n",
       "      <td>0</td>\n",
       "      <td>27.00</td>\n",
       "      <td>-9999.0</td>\n",
       "    </tr>\n",
       "    <tr>\n",
       "      <th>1085</th>\n",
       "      <td>51561</td>\n",
       "      <td>2</td>\n",
       "      <td>0</td>\n",
       "      <td>36.00</td>\n",
       "      <td>-9999.0</td>\n",
       "    </tr>\n",
       "    <tr>\n",
       "      <th>1086</th>\n",
       "      <td>51562</td>\n",
       "      <td>2</td>\n",
       "      <td>0</td>\n",
       "      <td>37.00</td>\n",
       "      <td>-9999.0</td>\n",
       "    </tr>\n",
       "    <tr>\n",
       "      <th>1087</th>\n",
       "      <td>51563</td>\n",
       "      <td>2</td>\n",
       "      <td>0</td>\n",
       "      <td>38.00</td>\n",
       "      <td>-9999.0</td>\n",
       "    </tr>\n",
       "    <tr>\n",
       "      <th>1088</th>\n",
       "      <td>51564</td>\n",
       "      <td>2</td>\n",
       "      <td>0</td>\n",
       "      <td>39.00</td>\n",
       "      <td>-9999.0</td>\n",
       "    </tr>\n",
       "    <tr>\n",
       "      <th>1089</th>\n",
       "      <td>51565</td>\n",
       "      <td>2</td>\n",
       "      <td>0</td>\n",
       "      <td>39.00</td>\n",
       "      <td>-9999.0</td>\n",
       "    </tr>\n",
       "    <tr>\n",
       "      <th>1090</th>\n",
       "      <td>51566</td>\n",
       "      <td>2</td>\n",
       "      <td>0</td>\n",
       "      <td>41.00</td>\n",
       "      <td>-9999.0</td>\n",
       "    </tr>\n",
       "    <tr>\n",
       "      <th>1091</th>\n",
       "      <td>51567</td>\n",
       "      <td>2</td>\n",
       "      <td>0</td>\n",
       "      <td>34.00</td>\n",
       "      <td>-9999.0</td>\n",
       "    </tr>\n",
       "    <tr>\n",
       "      <th>1092</th>\n",
       "      <td>51568</td>\n",
       "      <td>2</td>\n",
       "      <td>0</td>\n",
       "      <td>37.00</td>\n",
       "      <td>-9999.0</td>\n",
       "    </tr>\n",
       "    <tr>\n",
       "      <th>1093</th>\n",
       "      <td>51569</td>\n",
       "      <td>2</td>\n",
       "      <td>0</td>\n",
       "      <td>36.00</td>\n",
       "      <td>-9999.0</td>\n",
       "    </tr>\n",
       "    <tr>\n",
       "      <th>1094</th>\n",
       "      <td>51570</td>\n",
       "      <td>2</td>\n",
       "      <td>0</td>\n",
       "      <td>42.00</td>\n",
       "      <td>-9999.0</td>\n",
       "    </tr>\n",
       "    <tr>\n",
       "      <th>1095</th>\n",
       "      <td>51571</td>\n",
       "      <td>1</td>\n",
       "      <td>1</td>\n",
       "      <td>22.00</td>\n",
       "      <td>-9999.0</td>\n",
       "    </tr>\n",
       "    <tr>\n",
       "      <th>1096</th>\n",
       "      <td>51572</td>\n",
       "      <td>1</td>\n",
       "      <td>2</td>\n",
       "      <td>28.00</td>\n",
       "      <td>-9999.0</td>\n",
       "    </tr>\n",
       "    <tr>\n",
       "      <th>1097</th>\n",
       "      <td>51573</td>\n",
       "      <td>1</td>\n",
       "      <td>3</td>\n",
       "      <td>30.00</td>\n",
       "      <td>-9999.0</td>\n",
       "    </tr>\n",
       "    <tr>\n",
       "      <th>1098</th>\n",
       "      <td>51574</td>\n",
       "      <td>1</td>\n",
       "      <td>2</td>\n",
       "      <td>30.00</td>\n",
       "      <td>-9999.0</td>\n",
       "    </tr>\n",
       "    <tr>\n",
       "      <th>1099</th>\n",
       "      <td>51575</td>\n",
       "      <td>1</td>\n",
       "      <td>2</td>\n",
       "      <td>31.00</td>\n",
       "      <td>-9999.0</td>\n",
       "    </tr>\n",
       "    <tr>\n",
       "      <th>1100</th>\n",
       "      <td>51576</td>\n",
       "      <td>1</td>\n",
       "      <td>3</td>\n",
       "      <td>31.00</td>\n",
       "      <td>-9999.0</td>\n",
       "    </tr>\n",
       "    <tr>\n",
       "      <th>1101</th>\n",
       "      <td>51577</td>\n",
       "      <td>1</td>\n",
       "      <td>3</td>\n",
       "      <td>31.00</td>\n",
       "      <td>-9999.0</td>\n",
       "    </tr>\n",
       "    <tr>\n",
       "      <th>1102</th>\n",
       "      <td>51578</td>\n",
       "      <td>1</td>\n",
       "      <td>2</td>\n",
       "      <td>33.00</td>\n",
       "      <td>125.0</td>\n",
       "    </tr>\n",
       "    <tr>\n",
       "      <th>1103</th>\n",
       "      <td>51579</td>\n",
       "      <td>1</td>\n",
       "      <td>3</td>\n",
       "      <td>41.00</td>\n",
       "      <td>110.0</td>\n",
       "    </tr>\n",
       "    <tr>\n",
       "      <th>1104</th>\n",
       "      <td>51580</td>\n",
       "      <td>1</td>\n",
       "      <td>3</td>\n",
       "      <td>42.00</td>\n",
       "      <td>-9999.0</td>\n",
       "    </tr>\n",
       "    <tr>\n",
       "      <th>1105</th>\n",
       "      <td>51581</td>\n",
       "      <td>1</td>\n",
       "      <td>3</td>\n",
       "      <td>64.00</td>\n",
       "      <td>120.0</td>\n",
       "    </tr>\n",
       "    <tr>\n",
       "      <th>1106</th>\n",
       "      <td>51582</td>\n",
       "      <td>1</td>\n",
       "      <td>2</td>\n",
       "      <td>31.00</td>\n",
       "      <td>-9999.0</td>\n",
       "    </tr>\n",
       "    <tr>\n",
       "      <th>1107</th>\n",
       "      <td>51583</td>\n",
       "      <td>1</td>\n",
       "      <td>2</td>\n",
       "      <td>35.00</td>\n",
       "      <td>95.0</td>\n",
       "    </tr>\n",
       "    <tr>\n",
       "      <th>1108</th>\n",
       "      <td>51584</td>\n",
       "      <td>1</td>\n",
       "      <td>2</td>\n",
       "      <td>49.00</td>\n",
       "      <td>-9999.0</td>\n",
       "    </tr>\n",
       "    <tr>\n",
       "      <th>1109</th>\n",
       "      <td>51585</td>\n",
       "      <td>1</td>\n",
       "      <td>1</td>\n",
       "      <td>27.00</td>\n",
       "      <td>96.0</td>\n",
       "    </tr>\n",
       "    <tr>\n",
       "      <th>1110</th>\n",
       "      <td>51606</td>\n",
       "      <td>1</td>\n",
       "      <td>2</td>\n",
       "      <td>29.00</td>\n",
       "      <td>118.0</td>\n",
       "    </tr>\n",
       "    <tr>\n",
       "      <th>1111</th>\n",
       "      <td>51607</td>\n",
       "      <td>1</td>\n",
       "      <td>2</td>\n",
       "      <td>26.00</td>\n",
       "      <td>110.0</td>\n",
       "    </tr>\n",
       "  </tbody>\n",
       "</table>\n",
       "<p>1112 rows × 5 columns</p>\n",
       "</div>"
      ],
      "text/plain": [
       "      subject  DX_GROUP  DSM_IV_TR  AGE_AT_SCAN     FIQ\n",
       "0       50002         1          1        16.77   103.0\n",
       "1       50003         1          1        24.45   124.0\n",
       "2       50004         1          1        19.09   113.0\n",
       "3       50005         1          1        13.73   119.0\n",
       "4       50006         1          1        13.37   109.0\n",
       "5       50007         1          1        17.78   110.0\n",
       "6       50008         1          1        32.45   123.0\n",
       "7       50009         1          1        33.86   126.0\n",
       "8       50010         1          1        35.20    81.0\n",
       "9       50011         1          1        16.93   111.0\n",
       "10      50012         1          1        21.48   128.0\n",
       "11      50013         1          1         9.33    86.0\n",
       "12      50014         1          1        14.20    96.0\n",
       "13      50015         1          1        14.20    99.0\n",
       "14      50016         1          1        21.82   123.0\n",
       "15      50017         1          1        22.70    87.0\n",
       "16      50019         1          1        27.81   100.0\n",
       "17      50020         1          1        20.83   100.0\n",
       "18      50022         1          1        16.99   119.0\n",
       "19      50023         1          1        12.64    97.0\n",
       "20      50024         1          1        22.64   127.0\n",
       "21      50025         1          1        31.72   131.0\n",
       "22      50026         1          1        16.28    87.0\n",
       "23      50027         1          1        12.24    98.0\n",
       "24      50028         1          1        12.74   126.0\n",
       "25      50029         1          1        11.40   106.0\n",
       "26      50030         2          0        25.12   105.0\n",
       "27      50031         2          0        12.92   106.0\n",
       "28      50032         2          0        19.80   119.0\n",
       "29      50033         2          0        12.15    98.0\n",
       "...       ...       ...        ...          ...     ...\n",
       "1082    51558         2          0        27.00 -9999.0\n",
       "1083    51559         2          0        27.00 -9999.0\n",
       "1084    51560         2          0        27.00 -9999.0\n",
       "1085    51561         2          0        36.00 -9999.0\n",
       "1086    51562         2          0        37.00 -9999.0\n",
       "1087    51563         2          0        38.00 -9999.0\n",
       "1088    51564         2          0        39.00 -9999.0\n",
       "1089    51565         2          0        39.00 -9999.0\n",
       "1090    51566         2          0        41.00 -9999.0\n",
       "1091    51567         2          0        34.00 -9999.0\n",
       "1092    51568         2          0        37.00 -9999.0\n",
       "1093    51569         2          0        36.00 -9999.0\n",
       "1094    51570         2          0        42.00 -9999.0\n",
       "1095    51571         1          1        22.00 -9999.0\n",
       "1096    51572         1          2        28.00 -9999.0\n",
       "1097    51573         1          3        30.00 -9999.0\n",
       "1098    51574         1          2        30.00 -9999.0\n",
       "1099    51575         1          2        31.00 -9999.0\n",
       "1100    51576         1          3        31.00 -9999.0\n",
       "1101    51577         1          3        31.00 -9999.0\n",
       "1102    51578         1          2        33.00   125.0\n",
       "1103    51579         1          3        41.00   110.0\n",
       "1104    51580         1          3        42.00 -9999.0\n",
       "1105    51581         1          3        64.00   120.0\n",
       "1106    51582         1          2        31.00 -9999.0\n",
       "1107    51583         1          2        35.00    95.0\n",
       "1108    51584         1          2        49.00 -9999.0\n",
       "1109    51585         1          1        27.00    96.0\n",
       "1110    51606         1          2        29.00   118.0\n",
       "1111    51607         1          2        26.00   110.0\n",
       "\n",
       "[1112 rows x 5 columns]"
      ]
     },
     "execution_count": 21,
     "metadata": {},
     "output_type": "execute_result"
    }
   ],
   "source": [
    "final_demograf"
   ]
  },
  {
   "cell_type": "markdown",
   "metadata": {},
   "source": [
    "No reduction to do here"
   ]
  },
  {
   "cell_type": "markdown",
   "metadata": {},
   "source": [
    "# Read imaging data"
   ]
  },
  {
   "cell_type": "code",
   "execution_count": 26,
   "metadata": {
    "collapsed": false
   },
   "outputs": [],
   "source": [
    "import nibabel as nib\n",
    "# Just checking what the data looks like\n",
    "fname = \"/Users/swatirane/Documents/Neurohack2016/kids/abide/reho/Outputs/cpac/filt_noglobal/reho/Pitt_0050004_reho.nii.gz\""
   ]
  },
  {
   "cell_type": "code",
   "execution_count": 30,
   "metadata": {
    "collapsed": false
   },
   "outputs": [],
   "source": [
    "himg=nib.load(fname)\n",
    "img=himg.get_data()"
   ]
  },
  {
   "cell_type": "code",
   "execution_count": 31,
   "metadata": {
    "collapsed": false
   },
   "outputs": [
    {
     "data": {
      "text/plain": [
       "(61, 73, 61)"
      ]
     },
     "execution_count": 31,
     "metadata": {},
     "output_type": "execute_result"
    }
   ],
   "source": [
    "img.shape"
   ]
  },
  {
   "cell_type": "code",
   "execution_count": 35,
   "metadata": {
    "collapsed": false
   },
   "outputs": [
    {
     "data": {
      "text/plain": [
       "<matplotlib.image.AxesImage at 0x11bb59828>"
      ]
     },
     "execution_count": 35,
     "metadata": {},
     "output_type": "execute_result"
    },
    {
     "data": {
      "image/png": "[encoded data removed]",
      "text/plain": [
       "<matplotlib.figure.Figure at 0x115e1d4a8>"
      ]
     },
     "metadata": {},
     "output_type": "display_data"
    }
   ],
   "source": [
    "aslice = img[30,:,:]\n",
    "bslice = img[:,35,:]\n",
    "cslice = img[:,:,30]\n",
    "fig, axes = plt.subplots(1, 3)\n",
    "axes[0].imshow(aslice, cmap=\"gray\")\n",
    "axes[1].imshow(bslice, cmap=\"gray\")\n",
    "axes[2].imshow(cslice, cmap=\"gray\")"
   ]
  },
  {
   "cell_type": "code",
   "execution_count": 36,
   "metadata": {
    "collapsed": false
   },
   "outputs": [
    {
     "data": {
      "text/plain": [
       "numpy.ndarray"
      ]
     },
     "execution_count": 36,
     "metadata": {},
     "output_type": "execute_result"
    }
   ],
   "source": [
    "type(img)"
   ]
  },
  {
   "cell_type": "code",
   "execution_count": 76,
   "metadata": {
    "collapsed": false
   },
   "outputs": [
    {
     "data": {
      "text/plain": [
       "(271633,)"
      ]
     },
     "execution_count": 76,
     "metadata": {},
     "output_type": "execute_result"
    }
   ],
   "source": [
    "img=np.hstack(img)\n",
    "img.shape\n",
    "\n",
    "\n"
   ]
  },
  {
   "cell_type": "code",
   "execution_count": 77,
   "metadata": {
    "collapsed": false
   },
   "outputs": [
    {
     "data": {
      "text/plain": [
       "0.28161373734474182"
      ]
     },
     "execution_count": 77,
     "metadata": {},
     "output_type": "execute_result"
    }
   ],
   "source": [
    "img.max()"
   ]
  },
  {
   "cell_type": "code",
   "execution_count": 72,
   "metadata": {
    "collapsed": false
   },
   "outputs": [
    {
     "data": {
      "text/plain": [
       "(61420,)"
      ]
     },
     "execution_count": 72,
     "metadata": {},
     "output_type": "execute_result"
    }
   ],
   "source": [
    "nozeros=img[img!=0]\n",
    "nozeros.shape"
   ]
  },
  {
   "cell_type": "code",
   "execution_count": 73,
   "metadata": {
    "collapsed": false
   },
   "outputs": [
    {
     "data": {
      "text/plain": [
       "(array([   974.,   8474.,  25700.,  16179.,   6705.,   2304.,    700.,\n",
       "           281.,     72.,     31.]),\n",
       " array([ 0.00241788,  0.03033746,  0.05825705,  0.08617664,  0.11409622,\n",
       "         0.14201581,  0.16993539,  0.19785498,  0.22577457,  0.25369415,\n",
       "         0.28161374]),\n",
       " <a list of 10 Patch objects>)"
      ]
     },
     "execution_count": 73,
     "metadata": {},
     "output_type": "execute_result"
    },
    {
     "data": {
      "image/png": "[encoded data removed]",
      "text/plain": [
       "<matplotlib.figure.Figure at 0x11f6f9da0>"
      ]
     },
     "metadata": {},
     "output_type": "display_data"
    }
   ],
   "source": [
    "plt.hist(nozeros)"
   ]
  },
  {
   "cell_type": "code",
   "execution_count": null,
   "metadata": {
    "collapsed": true
   },
   "outputs": [],
   "source": []
  }
 ],
 "metadata": {
  "kernelspec": {
   "display_name": "Python 3",
   "language": "python",
   "name": "python3"
  },
  "language_info": {
   "codemirror_mode": {
    "name": "ipython",
    "version": 3
   },
   "file_extension": ".py",
   "mimetype": "text/x-python",
   "name": "python",
   "nbconvert_exporter": "python",
   "pygments_lexer": "ipython3",
   "version": "3.5.1"
  }
 },
 "nbformat": 4,
 "nbformat_minor": 0
}
