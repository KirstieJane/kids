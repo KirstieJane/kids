{
 "cells": [
  {
   "cell_type": "code",
   "execution_count": 1,
   "metadata": {
    "collapsed": false
   },
   "outputs": [],
   "source": [
    "import numpy as np\n",
    "import pandas as pd"
   ]
  },
  {
   "cell_type": "code",
   "execution_count": 2,
   "metadata": {
    "collapsed": false
   },
   "outputs": [],
   "source": [
    "xlabel=\"Age at scan (y)\"\n",
    "ylabel=\"Percent Frame Displacement Exceeding Threshold\"\n",
    "x='xvar'\n",
    "y='yvar'\n",
    "variance='variance'\n",
    "\n",
    "def makefakedata():\n",
    "    a=[[x, y, z] for x in [20, 25, 30, 35, 40] for y in [6, 8, 10, 12] for z in [8, 10, 12, 14]]\n",
    "    b=[list(t) for t in zip(*a)]\n",
    "    adf = pd.DataFrame({\n",
    "        'xvar' : np.random.randint(0, 100, 80),\n",
    "        'yvar' : np.random.normal(0, 1, 80),\n",
    "        'variance' : np.random.normal(0,.1, 80),\n",
    "        'SampleSize' : b[0],\n",
    "        'LowerAge' : b[1],\n",
    "        'UpperAge' : b[2]\n",
    "    })\n",
    "    return(adf)"
   ]
  },
  {
   "cell_type": "code",
   "execution_count": 3,
   "metadata": {
    "collapsed": false
   },
   "outputs": [
    {
     "data": {
      "text/plain": [
       "array([ 6,  8, 10, 12])"
      ]
     },
     "execution_count": 3,
     "metadata": {},
     "output_type": "execute_result"
    }
   ],
   "source": [
    "df = makefakedata()\n",
    "df.LowerAge.unique()"
   ]
  },
  {
   "cell_type": "code",
   "execution_count": 4,
   "metadata": {
    "collapsed": false
   },
   "outputs": [
    {
     "name": "stdout",
     "output_type": "stream",
     "text": [
      "xvar\n",
      "yvar\n"
     ]
    }
   ],
   "source": [
    "print(x)\n",
    "print(y)\n"
   ]
  },
  {
   "cell_type": "code",
   "execution_count": 74,
   "metadata": {
    "collapsed": false
   },
   "outputs": [
    {
     "data": {
      "text/html": [
       "\n",
       "    <div class=\"bk-root\">\n",
       "        <a href=\"http://bokeh.pydata.org\" target=\"_blank\" class=\"bk-logo bk-logo-small bk-logo-notebook\"></a>\n",
       "        <span id=\"e4f8176e-a276-44fe-8367-84dda3560e98\">Loading BokehJS ...</span>\n",
       "    </div>"
      ]
     },
     "metadata": {},
     "output_type": "display_data"
    },
    {
     "data": {
      "application/javascript": [
       "\n",
       "(function(global) {\n",
       "  function now() {\n",
       "    return new Date();\n",
       "  }\n",
       "\n",
       "  var force = \"1\";\n",
       "\n",
       "  if (typeof (window._bokeh_onload_callbacks) === \"undefined\" || force !== \"\") {\n",
       "    window._bokeh_onload_callbacks = [];\n",
       "    window._bokeh_is_loading = undefined;\n",
       "  }\n",
       "\n",
       "\n",
       "  \n",
       "  if (typeof (window._bokeh_timeout) === \"undefined\" || force !== \"\") {\n",
       "    window._bokeh_timeout = Date.now() + 5000;\n",
       "    window._bokeh_failed_load = false;\n",
       "  }\n",
       "\n",
       "  var NB_LOAD_WARNING = {'data': {'text/html':\n",
       "     \"<div style='background-color: #fdd'>\\n\"+\n",
       "     \"<p>\\n\"+\n",
       "     \"BokehJS does not appear to have successfully loaded. If loading BokehJS from CDN, this \\n\"+\n",
       "     \"may be due to a slow or bad network connection. Possible fixes:\\n\"+\n",
       "     \"</p>\\n\"+\n",
       "     \"<ul>\\n\"+\n",
       "     \"<li>re-rerun `output_notebook()` to attempt to load from CDN again, or</li>\\n\"+\n",
       "     \"<li>use INLINE resources instead, as so:</li>\\n\"+\n",
       "     \"</ul>\\n\"+\n",
       "     \"<code>\\n\"+\n",
       "     \"from bokeh.resources import INLINE\\n\"+\n",
       "     \"output_notebook(resources=INLINE)\\n\"+\n",
       "     \"</code>\\n\"+\n",
       "     \"</div>\"}};\n",
       "\n",
       "  function display_loaded() {\n",
       "    if (window.Bokeh !== undefined) {\n",
       "      Bokeh.$(\"#e4f8176e-a276-44fe-8367-84dda3560e98\").text(\"BokehJS successfully loaded.\");\n",
       "    } else if (Date.now() < window._bokeh_timeout) {\n",
       "      setTimeout(display_loaded, 100)\n",
       "    }\n",
       "  }\n",
       "\n",
       "  function run_callbacks() {\n",
       "    window._bokeh_onload_callbacks.forEach(function(callback) { callback() });\n",
       "    delete window._bokeh_onload_callbacks\n",
       "    console.info(\"Bokeh: all callbacks have finished\");\n",
       "  }\n",
       "\n",
       "  function load_libs(js_urls, callback) {\n",
       "    window._bokeh_onload_callbacks.push(callback);\n",
       "    if (window._bokeh_is_loading > 0) {\n",
       "      console.log(\"Bokeh: BokehJS is being loaded, scheduling callback at\", now());\n",
       "      return null;\n",
       "    }\n",
       "    if (js_urls == null || js_urls.length === 0) {\n",
       "      run_callbacks();\n",
       "      return null;\n",
       "    }\n",
       "    console.log(\"Bokeh: BokehJS not loaded, scheduling load and callback at\", now());\n",
       "    window._bokeh_is_loading = js_urls.length;\n",
       "    for (var i = 0; i < js_urls.length; i++) {\n",
       "      var url = js_urls[i];\n",
       "      var s = document.createElement('script');\n",
       "      s.src = url;\n",
       "      s.async = false;\n",
       "      s.onreadystatechange = s.onload = function() {\n",
       "        window._bokeh_is_loading--;\n",
       "        if (window._bokeh_is_loading === 0) {\n",
       "          console.log(\"Bokeh: all BokehJS libraries loaded\");\n",
       "          run_callbacks()\n",
       "        }\n",
       "      };\n",
       "      s.onerror = function() {\n",
       "        console.warn(\"failed to load library \" + url);\n",
       "      };\n",
       "      console.log(\"Bokeh: injecting script tag for BokehJS library: \", url);\n",
       "      document.getElementsByTagName(\"head\")[0].appendChild(s);\n",
       "    }\n",
       "  };var element = document.getElementById(\"e4f8176e-a276-44fe-8367-84dda3560e98\");\n",
       "  if (element == null) {\n",
       "    console.log(\"Bokeh: ERROR: autoload.js configured with elementid 'e4f8176e-a276-44fe-8367-84dda3560e98' but no matching script tag was found. \")\n",
       "    return false;\n",
       "  }\n",
       "\n",
       "  var js_urls = ['https://cdn.pydata.org/bokeh/release/bokeh-0.12.2.min.js', 'https://cdn.pydata.org/bokeh/release/bokeh-widgets-0.12.2.min.js', 'https://cdn.pydata.org/bokeh/release/bokeh-compiler-0.12.2.min.js'];\n",
       "\n",
       "  var inline_js = [\n",
       "    function(Bokeh) {\n",
       "      Bokeh.set_log_level(\"info\");\n",
       "    },\n",
       "    \n",
       "    function(Bokeh) {\n",
       "      \n",
       "      Bokeh.$(\"#e4f8176e-a276-44fe-8367-84dda3560e98\").text(\"BokehJS is loading...\");\n",
       "    },\n",
       "    function(Bokeh) {\n",
       "      console.log(\"Bokeh: injecting CSS: https://cdn.pydata.org/bokeh/release/bokeh-0.12.2.min.css\");\n",
       "      Bokeh.embed.inject_css(\"https://cdn.pydata.org/bokeh/release/bokeh-0.12.2.min.css\");\n",
       "      console.log(\"Bokeh: injecting CSS: https://cdn.pydata.org/bokeh/release/bokeh-widgets-0.12.2.min.css\");\n",
       "      Bokeh.embed.inject_css(\"https://cdn.pydata.org/bokeh/release/bokeh-widgets-0.12.2.min.css\");\n",
       "    }\n",
       "  ];\n",
       "\n",
       "  function run_inline_js() {\n",
       "    \n",
       "    if ((window.Bokeh !== undefined) || (force === \"1\")) {\n",
       "      for (var i = 0; i < inline_js.length; i++) {\n",
       "        inline_js[i](window.Bokeh);\n",
       "      }if (force === \"1\") {\n",
       "        display_loaded();\n",
       "      }} else if (Date.now() < window._bokeh_timeout) {\n",
       "      setTimeout(run_inline_js, 100);\n",
       "    } else if (!window._bokeh_failed_load) {\n",
       "      console.log(\"Bokeh: BokehJS failed to load within specified timeout.\");\n",
       "      window._bokeh_failed_load = true;\n",
       "    } else if (!force) {\n",
       "      var cell = $(\"#e4f8176e-a276-44fe-8367-84dda3560e98\").parents('.cell').data().cell;\n",
       "      cell.output_area.append_execute_result(NB_LOAD_WARNING)\n",
       "    }\n",
       "\n",
       "  }\n",
       "\n",
       "  if (window._bokeh_is_loading === 0) {\n",
       "    console.log(\"Bokeh: BokehJS loaded, going straight to plotting\");\n",
       "    run_inline_js();\n",
       "  } else {\n",
       "    load_libs(js_urls, function() {\n",
       "      console.log(\"Bokeh: BokehJS plotting callback run at\", now());\n",
       "      run_inline_js();\n",
       "    });\n",
       "  }\n",
       "}(this));"
      ]
     },
     "metadata": {},
     "output_type": "display_data"
    }
   ],
   "source": [
    "import numpy as np\n",
    "import os\n",
    "import pandas as pd\n",
    "import nibabel as nib\n",
    "\n",
    "from bokeh.io import curdoc, output_notebook, output_file, push_notebook\n",
    "from bokeh.layouts import column\n",
    "from bokeh.models import ColumnDataSource, DataRange1d, Range1d, VBox, HBox, Select\n",
    "from bokeh.palettes import Blues4\n",
    "from bokeh.plotting import Figure, show\n",
    "from scipy.signal import savgol_filter\n",
    "from ipywidgets import interact, FloatSlider\n",
    "\n",
    "output_notebook()\n",
    "\n",
    "def get_dataset(src, samplesize, lowerage, upperage):\n",
    "    src['ci'] = zip(src[y] + src[variance]/2, src[y] - src[variance]/2)\n",
    "    src['ci_x'] = zip(src[x], src[x])\n",
    "    df = src[(src.SampleSize == int(samplesize)) & (src.LowerAge >= int(lowerage)) & (src.UpperAge <= int(upperage))].copy()\n",
    "    df = df.set_index([x])\n",
    "    df.sort_index(inplace=True)\n",
    "    return ColumnDataSource(data=df)\n",
    "\n",
    "def make_plot(source, title):\n",
    "    plot = Figure(plot_width=800, plot_height=600, tools=\"\", toolbar_location=None)\n",
    "    plot.title.text = title\n",
    "    colors = Blues4[0:3]\n",
    "\n",
    "    plot.scatter(x=x, y=y, source=source)\n",
    "    plot.multi_line('ci_x', 'ci', source=source)\n",
    "\n",
    "    # fixed attributes\n",
    "    plot.xaxis.axis_label = xlabel\n",
    "    plot.yaxis.axis_label = ylabel\n",
    "    plot.axis.major_label_text_font_size = \"8pt\"\n",
    "    plot.axis.axis_label_text_font_size = \"8pt\"\n",
    "    plot.axis.axis_label_text_font_style = \"bold\"\n",
    "\n",
    "    return plot\n",
    "def update_plot(N, min_age, max_age):\n",
    "    plot.title.text = \"Motion for sample size \" + str(N) + \", ages \" + str(min_age) + \"-\" + str(max_age)\n",
    "    src = get_dataset(df, N, min_age, max_age)\n",
    "    source.data.update(src.data)\n",
    "    push_notebook()\n"
   ]
  },
  {
   "cell_type": "code",
   "execution_count": 75,
   "metadata": {
    "collapsed": false
   },
   "outputs": [],
   "source": [
    "samplesize = df.SampleSize.max()\n",
    "lowerage = df.LowerAge.min()\n",
    "upperage = df.UpperAge.max()\n"
   ]
  },
  {
   "cell_type": "code",
   "execution_count": 79,
   "metadata": {
    "collapsed": false
   },
   "outputs": [
    {
     "data": {
      "text/html": [
       "\n",
       "\n",
       "    <div class=\"bk-root\">\n",
       "        <div class=\"plotdiv\" id=\"d3306854-b72a-4465-a9da-ca5cd6623204\"></div>\n",
       "    </div>\n",
       "<script type=\"text/javascript\">\n",
       "  \n",
       "  (function(global) {\n",
       "    function now() {\n",
       "      return new Date();\n",
       "    }\n",
       "  \n",
       "    var force = \"\";\n",
       "  \n",
       "    if (typeof (window._bokeh_onload_callbacks) === \"undefined\" || force !== \"\") {\n",
       "      window._bokeh_onload_callbacks = [];\n",
       "      window._bokeh_is_loading = undefined;\n",
       "    }\n",
       "  \n",
       "  \n",
       "    \n",
       "    if (typeof (window._bokeh_timeout) === \"undefined\" || force !== \"\") {\n",
       "      window._bokeh_timeout = Date.now() + 0;\n",
       "      window._bokeh_failed_load = false;\n",
       "    }\n",
       "  \n",
       "    var NB_LOAD_WARNING = {'data': {'text/html':\n",
       "       \"<div style='background-color: #fdd'>\\n\"+\n",
       "       \"<p>\\n\"+\n",
       "       \"BokehJS does not appear to have successfully loaded. If loading BokehJS from CDN, this \\n\"+\n",
       "       \"may be due to a slow or bad network connection. Possible fixes:\\n\"+\n",
       "       \"</p>\\n\"+\n",
       "       \"<ul>\\n\"+\n",
       "       \"<li>re-rerun `output_notebook()` to attempt to load from CDN again, or</li>\\n\"+\n",
       "       \"<li>use INLINE resources instead, as so:</li>\\n\"+\n",
       "       \"</ul>\\n\"+\n",
       "       \"<code>\\n\"+\n",
       "       \"from bokeh.resources import INLINE\\n\"+\n",
       "       \"output_notebook(resources=INLINE)\\n\"+\n",
       "       \"</code>\\n\"+\n",
       "       \"</div>\"}};\n",
       "  \n",
       "    function display_loaded() {\n",
       "      if (window.Bokeh !== undefined) {\n",
       "        Bokeh.$(\"#d3306854-b72a-4465-a9da-ca5cd6623204\").text(\"BokehJS successfully loaded.\");\n",
       "      } else if (Date.now() < window._bokeh_timeout) {\n",
       "        setTimeout(display_loaded, 100)\n",
       "      }\n",
       "    }if ((window.Jupyter !== undefined) && Jupyter.notebook.kernel) {\n",
       "      comm_manager = Jupyter.notebook.kernel.comm_manager\n",
       "      comm_manager.register_target(\"2613b80d-41a9-4bf6-bb94-5673747cab62\", function () {});\n",
       "    }\n",
       "  \n",
       "    function run_callbacks() {\n",
       "      window._bokeh_onload_callbacks.forEach(function(callback) { callback() });\n",
       "      delete window._bokeh_onload_callbacks\n",
       "      console.info(\"Bokeh: all callbacks have finished\");\n",
       "    }\n",
       "  \n",
       "    function load_libs(js_urls, callback) {\n",
       "      window._bokeh_onload_callbacks.push(callback);\n",
       "      if (window._bokeh_is_loading > 0) {\n",
       "        console.log(\"Bokeh: BokehJS is being loaded, scheduling callback at\", now());\n",
       "        return null;\n",
       "      }\n",
       "      if (js_urls == null || js_urls.length === 0) {\n",
       "        run_callbacks();\n",
       "        return null;\n",
       "      }\n",
       "      console.log(\"Bokeh: BokehJS not loaded, scheduling load and callback at\", now());\n",
       "      window._bokeh_is_loading = js_urls.length;\n",
       "      for (var i = 0; i < js_urls.length; i++) {\n",
       "        var url = js_urls[i];\n",
       "        var s = document.createElement('script');\n",
       "        s.src = url;\n",
       "        s.async = false;\n",
       "        s.onreadystatechange = s.onload = function() {\n",
       "          window._bokeh_is_loading--;\n",
       "          if (window._bokeh_is_loading === 0) {\n",
       "            console.log(\"Bokeh: all BokehJS libraries loaded\");\n",
       "            run_callbacks()\n",
       "          }\n",
       "        };\n",
       "        s.onerror = function() {\n",
       "          console.warn(\"failed to load library \" + url);\n",
       "        };\n",
       "        console.log(\"Bokeh: injecting script tag for BokehJS library: \", url);\n",
       "        document.getElementsByTagName(\"head\")[0].appendChild(s);\n",
       "      }\n",
       "    };var element = document.getElementById(\"d3306854-b72a-4465-a9da-ca5cd6623204\");\n",
       "    if (element == null) {\n",
       "      console.log(\"Bokeh: ERROR: autoload.js configured with elementid 'd3306854-b72a-4465-a9da-ca5cd6623204' but no matching script tag was found. \")\n",
       "      return false;\n",
       "    }\n",
       "  \n",
       "    var js_urls = [];\n",
       "  \n",
       "    var inline_js = [\n",
       "      function(Bokeh) {\n",
       "        Bokeh.$(function() {\n",
       "            var docs_json = {\"4c7eb363-f84c-4fab-8c2e-5ad06b5ef257\":{\"roots\":{\"references\":[{\"attributes\":{\"axis_label\":\"Percent Frame Displacement Exceeding Threshold\",\"axis_label_text_font_size\":{\"value\":\"8pt\"},\"axis_label_text_font_style\":\"bold\",\"formatter\":{\"id\":\"235c5c38-7265-44a4-8787-2cc89c82617b\",\"type\":\"BasicTickFormatter\"},\"plot\":{\"id\":\"6b85bf8c-56c8-4b5a-8152-a05b3fb59be9\",\"subtype\":\"Figure\",\"type\":\"Plot\"},\"ticker\":{\"id\":\"6df2aa2f-6dca-477c-a9bf-3990c601cd98\",\"type\":\"BasicTicker\"}},\"id\":\"361ddd10-b156-43cb-a1ec-b119d04f4d57\",\"type\":\"LinearAxis\"},{\"attributes\":{},\"id\":\"782e753c-6d14-48b3-812b-74b3e61fa418\",\"type\":\"BasicTickFormatter\"},{\"attributes\":{\"fill_color\":{\"value\":\"#1f77b4\"},\"line_color\":{\"value\":\"#1f77b4\"},\"x\":{\"field\":\"xvar\"},\"y\":{\"field\":\"yvar\"}},\"id\":\"7cc88466-0357-44d1-9dfb-d3d551e393be\",\"type\":\"Circle\"},{\"attributes\":{\"callback\":null,\"column_names\":[\"ci_x\",\"ci\",\"xvar\",\"UpperAge\",\"SampleSize\",\"yvar\",\"variance\",\"LowerAge\"],\"data\":{\"LowerAge\":[8,8,10,12,6,10,12,8,10,6,12,12,6,8,10,6],\"SampleSize\":[40,40,40,40,40,40,40,40,40,40,40,40,40,40,40,40],\"UpperAge\":[14,12,14,8,14,8,12,8,12,12,10,14,8,10,10,10],\"ci\":[[1.3064646292204944,1.2337443181804333],[-1.1888750590017985,-1.2213459550793808],[0.6286379329851255,0.5532031269392654],[0.1737927618527199,0.280096017217591],[0.4465186312306341,0.44892308436883305],[0.8971013669391391,0.9279551945373111],[1.4070026552004733,1.2832860421133554],[-0.8427880943633622,-1.0265196106240797],[0.6986556479176008,0.6561159061945684],[-0.8196411255938686,-0.6800407176731743],[-0.09068493651937823,-0.15048121316039967],[0.5254770230204618,0.5190098002953681],[1.1077485642894358,1.0503738028165708],[0.8460781775430009,0.6768165652446525],[0.6657438384531461,0.7929081717504708],[0.5759447941895325,0.5261415335914842]],\"ci_x\":[[3,3],[16,16],[18,18],[18,18],[27,27],[30,30],[46,46],[50,50],[51,51],[55,55],[58,58],[66,66],[68,68],[69,69],[72,72],[77,77]],\"variance\":[0.072720311040061,0.032470896077582294,0.07543480604586006,-0.10630325536487109,-0.002404453138198967,-0.030853827598171908,0.123716613087118,0.18373151626071754,0.042539741723032404,-0.13960040792069428,0.059796276641021454,0.0064672227250937775,0.057374761472865125,0.16926161229834846,-0.12716433329732474,0.0498032605980482],\"xvar\":[3,16,18,18,27,30,46,50,51,55,58,66,68,69,72,77],\"yvar\":[1.2701044737004639,-1.2051105070405896,0.5909205299621955,0.22694438953515544,0.4477208577997336,0.9125282807382251,1.3451443486569143,-0.934653852493721,0.6773857770560846,-0.7498409216335215,-0.12058307483988895,0.522243411657915,1.0790611835530033,0.7614473713938267,0.7293260051018084,0.5510431638905083]}},\"id\":\"8ca7abf9-fff4-4e8f-b62a-35f29790b201\",\"type\":\"ColumnDataSource\"},{\"attributes\":{\"plot\":null,\"text\":\"Motion for sample size 40, ages 6-14\"},\"id\":\"52d66f0e-e5b6-4070-bca6-23d39524ec0c\",\"type\":\"Title\"},{\"attributes\":{},\"id\":\"6df2aa2f-6dca-477c-a9bf-3990c601cd98\",\"type\":\"BasicTicker\"},{\"attributes\":{\"data_source\":{\"id\":\"8ca7abf9-fff4-4e8f-b62a-35f29790b201\",\"type\":\"ColumnDataSource\"},\"glyph\":{\"id\":\"22540819-3fe9-4979-9632-231dfc1b36a9\",\"type\":\"MultiLine\"},\"hover_glyph\":null,\"nonselection_glyph\":{\"id\":\"5a6cafd7-25c6-49c6-8bb7-78ca875520d2\",\"type\":\"MultiLine\"},\"selection_glyph\":null},\"id\":\"ae33f685-1f92-42d9-a952-4b5d59010b40\",\"type\":\"GlyphRenderer\"},{\"attributes\":{\"dimension\":1,\"plot\":{\"id\":\"6b85bf8c-56c8-4b5a-8152-a05b3fb59be9\",\"subtype\":\"Figure\",\"type\":\"Plot\"},\"ticker\":{\"id\":\"6df2aa2f-6dca-477c-a9bf-3990c601cd98\",\"type\":\"BasicTicker\"}},\"id\":\"4a04adee-2325-4187-8318-6f0f5e6e5b18\",\"type\":\"Grid\"},{\"attributes\":{},\"id\":\"235c5c38-7265-44a4-8787-2cc89c82617b\",\"type\":\"BasicTickFormatter\"},{\"attributes\":{\"plot\":{\"id\":\"6b85bf8c-56c8-4b5a-8152-a05b3fb59be9\",\"subtype\":\"Figure\",\"type\":\"Plot\"},\"ticker\":{\"id\":\"59d7ba88-c7ba-427c-842f-81d7c0930cfb\",\"type\":\"BasicTicker\"}},\"id\":\"088128ba-79a7-45e5-a0ec-6de219e70555\",\"type\":\"Grid\"},{\"attributes\":{\"data_source\":{\"id\":\"8ca7abf9-fff4-4e8f-b62a-35f29790b201\",\"type\":\"ColumnDataSource\"},\"glyph\":{\"id\":\"7cc88466-0357-44d1-9dfb-d3d551e393be\",\"type\":\"Circle\"},\"hover_glyph\":null,\"nonselection_glyph\":{\"id\":\"4c0da38a-3042-4c2f-9cfe-2c691a9f372e\",\"type\":\"Circle\"},\"selection_glyph\":null},\"id\":\"561e8447-5cd6-4bcf-a6f5-b67cc79f4a2b\",\"type\":\"GlyphRenderer\"},{\"attributes\":{\"line_alpha\":{\"value\":0.1},\"line_color\":{\"value\":\"#1f77b4\"},\"xs\":{\"field\":\"ci_x\"},\"ys\":{\"field\":\"ci\"}},\"id\":\"5a6cafd7-25c6-49c6-8bb7-78ca875520d2\",\"type\":\"MultiLine\"},{\"attributes\":{\"below\":[{\"id\":\"fd212bc1-7ec6-46a8-8fad-687aff2894f8\",\"type\":\"LinearAxis\"}],\"left\":[{\"id\":\"361ddd10-b156-43cb-a1ec-b119d04f4d57\",\"type\":\"LinearAxis\"}],\"plot_width\":800,\"renderers\":[{\"id\":\"fd212bc1-7ec6-46a8-8fad-687aff2894f8\",\"type\":\"LinearAxis\"},{\"id\":\"088128ba-79a7-45e5-a0ec-6de219e70555\",\"type\":\"Grid\"},{\"id\":\"361ddd10-b156-43cb-a1ec-b119d04f4d57\",\"type\":\"LinearAxis\"},{\"id\":\"4a04adee-2325-4187-8318-6f0f5e6e5b18\",\"type\":\"Grid\"},{\"id\":\"561e8447-5cd6-4bcf-a6f5-b67cc79f4a2b\",\"type\":\"GlyphRenderer\"},{\"id\":\"ae33f685-1f92-42d9-a952-4b5d59010b40\",\"type\":\"GlyphRenderer\"}],\"title\":{\"id\":\"52d66f0e-e5b6-4070-bca6-23d39524ec0c\",\"type\":\"Title\"},\"tool_events\":{\"id\":\"c85959ad-ac2f-46a7-93de-10e8dfafd5f2\",\"type\":\"ToolEvents\"},\"toolbar\":{\"id\":\"5fa29671-cf37-43d4-ac67-f14b6a8614c8\",\"type\":\"Toolbar\"},\"toolbar_location\":null,\"x_range\":{\"id\":\"ef68c4d5-1171-432c-b5ab-9f7fa6458dda\",\"type\":\"DataRange1d\"},\"y_range\":{\"id\":\"e89c3f61-d92c-426f-a628-10717dc7d7e0\",\"type\":\"DataRange1d\"}},\"id\":\"6b85bf8c-56c8-4b5a-8152-a05b3fb59be9\",\"subtype\":\"Figure\",\"type\":\"Plot\"},{\"attributes\":{\"callback\":null},\"id\":\"ef68c4d5-1171-432c-b5ab-9f7fa6458dda\",\"type\":\"DataRange1d\"},{\"attributes\":{},\"id\":\"c85959ad-ac2f-46a7-93de-10e8dfafd5f2\",\"type\":\"ToolEvents\"},{\"attributes\":{\"active_drag\":\"auto\",\"active_scroll\":\"auto\",\"active_tap\":\"auto\"},\"id\":\"5fa29671-cf37-43d4-ac67-f14b6a8614c8\",\"type\":\"Toolbar\"},{\"attributes\":{},\"id\":\"59d7ba88-c7ba-427c-842f-81d7c0930cfb\",\"type\":\"BasicTicker\"},{\"attributes\":{\"line_color\":{\"value\":\"#1f77b4\"},\"xs\":{\"field\":\"ci_x\"},\"ys\":{\"field\":\"ci\"}},\"id\":\"22540819-3fe9-4979-9632-231dfc1b36a9\",\"type\":\"MultiLine\"},{\"attributes\":{\"callback\":null},\"id\":\"e89c3f61-d92c-426f-a628-10717dc7d7e0\",\"type\":\"DataRange1d\"},{\"attributes\":{\"fill_alpha\":{\"value\":0.1},\"fill_color\":{\"value\":\"#1f77b4\"},\"line_alpha\":{\"value\":0.1},\"line_color\":{\"value\":\"#1f77b4\"},\"x\":{\"field\":\"xvar\"},\"y\":{\"field\":\"yvar\"}},\"id\":\"4c0da38a-3042-4c2f-9cfe-2c691a9f372e\",\"type\":\"Circle\"},{\"attributes\":{\"axis_label\":\"Age at scan (y)\",\"axis_label_text_font_size\":{\"value\":\"8pt\"},\"axis_label_text_font_style\":\"bold\",\"formatter\":{\"id\":\"782e753c-6d14-48b3-812b-74b3e61fa418\",\"type\":\"BasicTickFormatter\"},\"plot\":{\"id\":\"6b85bf8c-56c8-4b5a-8152-a05b3fb59be9\",\"subtype\":\"Figure\",\"type\":\"Plot\"},\"ticker\":{\"id\":\"59d7ba88-c7ba-427c-842f-81d7c0930cfb\",\"type\":\"BasicTicker\"}},\"id\":\"fd212bc1-7ec6-46a8-8fad-687aff2894f8\",\"type\":\"LinearAxis\"}],\"root_ids\":[\"6b85bf8c-56c8-4b5a-8152-a05b3fb59be9\"]},\"title\":\"Bokeh Application\",\"version\":\"0.12.2\"}};\n",
       "            var render_items = [{\"docid\":\"4c7eb363-f84c-4fab-8c2e-5ad06b5ef257\",\"elementid\":\"d3306854-b72a-4465-a9da-ca5cd6623204\",\"modelid\":\"6b85bf8c-56c8-4b5a-8152-a05b3fb59be9\",\"notebook_comms_target\":\"2613b80d-41a9-4bf6-bb94-5673747cab62\"}];\n",
       "            \n",
       "            Bokeh.embed.embed_items(docs_json, render_items);\n",
       "        });\n",
       "      },\n",
       "      function(Bokeh) {\n",
       "      }\n",
       "    ];\n",
       "  \n",
       "    function run_inline_js() {\n",
       "      \n",
       "      if ((window.Bokeh !== undefined) || (force === \"1\")) {\n",
       "        for (var i = 0; i < inline_js.length; i++) {\n",
       "          inline_js[i](window.Bokeh);\n",
       "        }if (force === \"1\") {\n",
       "          display_loaded();\n",
       "        }} else if (Date.now() < window._bokeh_timeout) {\n",
       "        setTimeout(run_inline_js, 100);\n",
       "      } else if (!window._bokeh_failed_load) {\n",
       "        console.log(\"Bokeh: BokehJS failed to load within specified timeout.\");\n",
       "        window._bokeh_failed_load = true;\n",
       "      } else if (!force) {\n",
       "        var cell = $(\"#d3306854-b72a-4465-a9da-ca5cd6623204\").parents('.cell').data().cell;\n",
       "        cell.output_area.append_execute_result(NB_LOAD_WARNING)\n",
       "      }\n",
       "  \n",
       "    }\n",
       "  \n",
       "    if (window._bokeh_is_loading === 0) {\n",
       "      console.log(\"Bokeh: BokehJS loaded, going straight to plotting\");\n",
       "      run_inline_js();\n",
       "    } else {\n",
       "      load_libs(js_urls, function() {\n",
       "        console.log(\"Bokeh: BokehJS plotting callback run at\", now());\n",
       "        run_inline_js();\n",
       "      });\n",
       "    }\n",
       "  }(this));\n",
       "</script>"
      ]
     },
     "metadata": {},
     "output_type": "display_data"
    },
    {
     "data": {
      "text/html": [
       "<p><code>&lt;Bokeh Notebook handle for <strong>In[79]</strong>&gt;</code></p>"
      ],
      "text/plain": [
       "<bokeh.io._CommsHandle at 0x7f2b1811e510>"
      ]
     },
     "execution_count": 79,
     "metadata": {},
     "output_type": "execute_result"
    }
   ],
   "source": [
    "source = get_dataset(df, samplesize, lowerage, upperage)\n",
    "plot = make_plot(source, \"Motion for sample size \" + str(samplesize) + \", ages \" + str(lowerage) + \"-\" + str(upperage))\n",
    "show(plot, notebook_handle=True)"
   ]
  },
  {
   "cell_type": "code",
   "execution_count": 77,
   "metadata": {
    "collapsed": false
   },
   "outputs": [],
   "source": [
    "def getspacing(alist):\n",
    "    azip=zip(alist[1:], alist[:-1])\n",
    "    thediffs=[q[0]-q[1] for q in azip]\n",
    "    uniquediffs=list(set(thediffs))\n",
    "    nonzerodiffs=uniquediffs[uniquediffs != 0]\n",
    "    if (hasattr(nonzerodiffs, '__len__')) or (isinstance(nonzerodiffs, str)):\n",
    "        nonzerodiffs=-1\n",
    "    return(nonzerodiffs)\n",
    "sampleSpacing=getspacing(df.SampleSize)"
   ]
  },
  {
   "cell_type": "code",
   "execution_count": 81,
   "metadata": {
    "collapsed": false
   },
   "outputs": [],
   "source": [
    "samplesize_widget = FloatSlider(min=df.SampleSize.min(), max=df.SampleSize.max(), step=sampleSpacing, value=samplesize)\n",
    "lowerage_widget = FloatSlider(min=df.LowerAge.min(), max=df.LowerAge.max(), step=1, value=lowerage)\n",
    "upperage_widget = FloatSlider(min=df.UpperAge.min(), max=df.UpperAge.max(), step=1, value=upperage)\n",
    "\n",
    "def update_upperage_range(*args):\n",
    "    if lowerage_widget.value > upperage_widget.value:\n",
    "        upperage_widget.value = lowerage_widget.value\n",
    "lowerage_widget.observe(update_upperage_range, 'value')\n",
    "def update_lowerage_range(*args):\n",
    "    if upperage_widget.value < lowerage_widget.value:\n",
    "        lowerage_widget.value = upperage_widget.value\n",
    "upperage_widget.observe(update_lowerage_range, 'value')\n",
    "\n",
    "interact(update_plot, N=samplesize_widget, min_age=lowerage_widget, max_age=upperage_widget)"
   ]
  },
  {
   "cell_type": "code",
   "execution_count": 36,
   "metadata": {
    "collapsed": false
   },
   "outputs": [],
   "source": []
  },
  {
   "cell_type": "code",
   "execution_count": 55,
   "metadata": {
    "collapsed": false
   },
   "outputs": [
    {
     "data": {
      "text/plain": [
       "5"
      ]
     },
     "execution_count": 55,
     "metadata": {},
     "output_type": "execute_result"
    }
   ],
   "source": []
  },
  {
   "cell_type": "code",
   "execution_count": 46,
   "metadata": {
    "collapsed": true
   },
   "outputs": [],
   "source": []
  },
  {
   "cell_type": "code",
   "execution_count": 47,
   "metadata": {
    "collapsed": false
   },
   "outputs": [
    {
     "data": {
      "text/plain": [
       "2"
      ]
     },
     "execution_count": 47,
     "metadata": {},
     "output_type": "execute_result"
    }
   ],
   "source": []
  },
  {
   "cell_type": "code",
   "execution_count": null,
   "metadata": {
    "collapsed": true
   },
   "outputs": [],
   "source": []
  }
 ],
 "metadata": {
  "anaconda-cloud": {},
  "kernelspec": {
   "display_name": "Python [conda env:nhw16_cluster]",
   "language": "python",
   "name": "conda-env-nhw16_cluster-py"
  },
  "language_info": {
   "codemirror_mode": {
    "name": "ipython",
    "version": 2
   },
   "file_extension": ".py",
   "mimetype": "text/x-python",
   "name": "python",
   "nbconvert_exporter": "python",
   "pygments_lexer": "ipython2",
   "version": "2.7.12"
  },
  "widgets": {
   "state": {
    "01b6874215e444db975b89f55afc1d1c": {
     "views": [
      {
       "cell_index": 8
      }
     ]
    },
    "74487281b28f44649b4d7fcb8649cf8f": {
     "views": [
      {
       "cell_index": 8
      }
     ]
    }
   },
   "version": "1.2.0"
  }
 },
 "nbformat": 4,
 "nbformat_minor": 1
}
