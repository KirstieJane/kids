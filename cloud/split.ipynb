{
 "cells": [
  {
   "cell_type": "code",
   "execution_count": 41,
   "metadata": {
    "collapsed": true
   },
   "outputs": [],
   "source": [
    "import pandas as pd\n",
    "from sklearn.cross_validation import StratifiedShuffleSplit\n",
    "import numpy as np\n",
    "import os"
   ]
  },
  {
   "cell_type": "code",
   "execution_count": 50,
   "metadata": {
    "collapsed": false
   },
   "outputs": [],
   "source": [
    "def group_data(df, keys):\n",
    "    for key in keys:\n",
    "        if 'AGE' in key:\n",
    "            df[key] = pd.qcut(df[key], 2, labels=[0,1])\n",
    "\n",
    "    labels = [ '.'.join([str(df[key].iloc[i]) for key in keys]) for i in range(len(df))]\n",
    "    rows, index, count = np.unique(labels, return_index=True, return_counts=True)\n",
    "    # sub_dataframe \n",
    "    df_sub = df.drop(df.index[index[count==1].tolist()], inplace=False)\n",
    "    for row in rows[count==1]:\n",
    "        labels.remove(row)\n",
    "\n",
    "    return df_sub, labels\n",
    "\n",
    "def split_data(df, keys, num_iter=3, random_state=0):\n",
    "    df_sub, labels = group_data(df, keys)\n",
    "    return df_sub, StratifiedShuffleSplit(labels, num_iter, test_size=0.5, random_state=random_state)\n",
    "\n",
    "def assign_filename(df, base_directory, key_in='FILE_ID', key_out='FILENAME', postfix='_reho.nii.gz'):\n",
    "    df[key_out] = [os.path.join(base_directory, '%s%s' % (file_id, postfix))\n",
    "                        for file_id in df[key_in]]\n"
   ]
  },
  {
   "cell_type": "code",
   "execution_count": 75,
   "metadata": {
    "collapsed": true
   },
   "outputs": [],
   "source": [
    "filename = 'Phenotypic_V1_0b_preprocessed1.csv'\n",
    "basedir = ''\n",
    "key_filename = 'FILENAME'\n",
    "key_target = 'DX_GROUP'\n",
    "num_iter = 3"
   ]
  },
  {
   "cell_type": "code",
   "execution_count": null,
   "metadata": {
    "collapsed": true
   },
   "outputs": [],
   "source": []
  },
  {
   "cell_type": "code",
   "execution_count": 46,
   "metadata": {
    "collapsed": true
   },
   "outputs": [],
   "source": [
    "csv = pd.read_csv(filename)"
   ]
  },
  {
   "cell_type": "code",
   "execution_count": 3,
   "metadata": {
    "collapsed": false
   },
   "outputs": [
    {
     "data": {
      "text/html": [
       "<div>\n",
       "<table border=\"1\" class=\"dataframe\">\n",
       "  <thead>\n",
       "    <tr style=\"text-align: right;\">\n",
       "      <th></th>\n",
       "      <th>Unnamed: 0</th>\n",
       "      <th>Unnamed: 0.1</th>\n",
       "      <th>SUB_ID</th>\n",
       "      <th>X</th>\n",
       "      <th>subject</th>\n",
       "      <th>SITE_ID</th>\n",
       "      <th>FILE_ID</th>\n",
       "      <th>DX_GROUP</th>\n",
       "      <th>DSM_IV_TR</th>\n",
       "      <th>AGE_AT_SCAN</th>\n",
       "      <th>...</th>\n",
       "      <th>qc_notes_rater_1</th>\n",
       "      <th>qc_anat_rater_2</th>\n",
       "      <th>qc_anat_notes_rater_2</th>\n",
       "      <th>qc_func_rater_2</th>\n",
       "      <th>qc_func_notes_rater_2</th>\n",
       "      <th>qc_anat_rater_3</th>\n",
       "      <th>qc_anat_notes_rater_3</th>\n",
       "      <th>qc_func_rater_3</th>\n",
       "      <th>qc_func_notes_rater_3</th>\n",
       "      <th>SUB_IN_SMP</th>\n",
       "    </tr>\n",
       "  </thead>\n",
       "  <tbody>\n",
       "    <tr>\n",
       "      <th>0</th>\n",
       "      <td>0</td>\n",
       "      <td>1</td>\n",
       "      <td>50002</td>\n",
       "      <td>1</td>\n",
       "      <td>50002</td>\n",
       "      <td>PITT</td>\n",
       "      <td>no_filename</td>\n",
       "      <td>1</td>\n",
       "      <td>1</td>\n",
       "      <td>16.77</td>\n",
       "      <td>...</td>\n",
       "      <td>NaN</td>\n",
       "      <td>OK</td>\n",
       "      <td>NaN</td>\n",
       "      <td>fail</td>\n",
       "      <td>ic-parietal-cerebellum</td>\n",
       "      <td>OK</td>\n",
       "      <td>NaN</td>\n",
       "      <td>fail</td>\n",
       "      <td>ERROR #24</td>\n",
       "      <td>1</td>\n",
       "    </tr>\n",
       "    <tr>\n",
       "      <th>1</th>\n",
       "      <td>1</td>\n",
       "      <td>2</td>\n",
       "      <td>50003</td>\n",
       "      <td>2</td>\n",
       "      <td>50003</td>\n",
       "      <td>PITT</td>\n",
       "      <td>Pitt_0050003</td>\n",
       "      <td>1</td>\n",
       "      <td>1</td>\n",
       "      <td>24.45</td>\n",
       "      <td>...</td>\n",
       "      <td>NaN</td>\n",
       "      <td>OK</td>\n",
       "      <td>NaN</td>\n",
       "      <td>OK</td>\n",
       "      <td>NaN</td>\n",
       "      <td>OK</td>\n",
       "      <td>NaN</td>\n",
       "      <td>OK</td>\n",
       "      <td>NaN</td>\n",
       "      <td>1</td>\n",
       "    </tr>\n",
       "    <tr>\n",
       "      <th>2</th>\n",
       "      <td>2</td>\n",
       "      <td>3</td>\n",
       "      <td>50004</td>\n",
       "      <td>3</td>\n",
       "      <td>50004</td>\n",
       "      <td>PITT</td>\n",
       "      <td>Pitt_0050004</td>\n",
       "      <td>1</td>\n",
       "      <td>1</td>\n",
       "      <td>19.09</td>\n",
       "      <td>...</td>\n",
       "      <td>NaN</td>\n",
       "      <td>OK</td>\n",
       "      <td>NaN</td>\n",
       "      <td>OK</td>\n",
       "      <td>NaN</td>\n",
       "      <td>OK</td>\n",
       "      <td>NaN</td>\n",
       "      <td>OK</td>\n",
       "      <td>NaN</td>\n",
       "      <td>1</td>\n",
       "    </tr>\n",
       "    <tr>\n",
       "      <th>3</th>\n",
       "      <td>3</td>\n",
       "      <td>4</td>\n",
       "      <td>50005</td>\n",
       "      <td>4</td>\n",
       "      <td>50005</td>\n",
       "      <td>PITT</td>\n",
       "      <td>Pitt_0050005</td>\n",
       "      <td>1</td>\n",
       "      <td>1</td>\n",
       "      <td>13.73</td>\n",
       "      <td>...</td>\n",
       "      <td>NaN</td>\n",
       "      <td>OK</td>\n",
       "      <td>NaN</td>\n",
       "      <td>maybe</td>\n",
       "      <td>ic-parietal-cerebellum</td>\n",
       "      <td>OK</td>\n",
       "      <td>NaN</td>\n",
       "      <td>OK</td>\n",
       "      <td>NaN</td>\n",
       "      <td>0</td>\n",
       "    </tr>\n",
       "    <tr>\n",
       "      <th>4</th>\n",
       "      <td>4</td>\n",
       "      <td>5</td>\n",
       "      <td>50006</td>\n",
       "      <td>5</td>\n",
       "      <td>50006</td>\n",
       "      <td>PITT</td>\n",
       "      <td>Pitt_0050006</td>\n",
       "      <td>1</td>\n",
       "      <td>1</td>\n",
       "      <td>13.37</td>\n",
       "      <td>...</td>\n",
       "      <td>NaN</td>\n",
       "      <td>OK</td>\n",
       "      <td>NaN</td>\n",
       "      <td>maybe</td>\n",
       "      <td>ic-parietal slight</td>\n",
       "      <td>OK</td>\n",
       "      <td>NaN</td>\n",
       "      <td>OK</td>\n",
       "      <td>NaN</td>\n",
       "      <td>1</td>\n",
       "    </tr>\n",
       "  </tbody>\n",
       "</table>\n",
       "<p>5 rows × 106 columns</p>\n",
       "</div>"
      ],
      "text/plain": [
       "   Unnamed: 0  Unnamed: 0.1  SUB_ID  X  subject SITE_ID       FILE_ID  \\\n",
       "0           0             1   50002  1    50002    PITT   no_filename   \n",
       "1           1             2   50003  2    50003    PITT  Pitt_0050003   \n",
       "2           2             3   50004  3    50004    PITT  Pitt_0050004   \n",
       "3           3             4   50005  4    50005    PITT  Pitt_0050005   \n",
       "4           4             5   50006  5    50006    PITT  Pitt_0050006   \n",
       "\n",
       "   DX_GROUP  DSM_IV_TR  AGE_AT_SCAN     ...      qc_notes_rater_1  \\\n",
       "0         1          1        16.77     ...                   NaN   \n",
       "1         1          1        24.45     ...                   NaN   \n",
       "2         1          1        19.09     ...                   NaN   \n",
       "3         1          1        13.73     ...                   NaN   \n",
       "4         1          1        13.37     ...                   NaN   \n",
       "\n",
       "  qc_anat_rater_2  qc_anat_notes_rater_2  qc_func_rater_2  \\\n",
       "0              OK                    NaN             fail   \n",
       "1              OK                    NaN               OK   \n",
       "2              OK                    NaN               OK   \n",
       "3              OK                    NaN            maybe   \n",
       "4              OK                    NaN            maybe   \n",
       "\n",
       "    qc_func_notes_rater_2  qc_anat_rater_3 qc_anat_notes_rater_3  \\\n",
       "0  ic-parietal-cerebellum               OK                   NaN   \n",
       "1                     NaN               OK                   NaN   \n",
       "2                     NaN               OK                   NaN   \n",
       "3  ic-parietal-cerebellum               OK                   NaN   \n",
       "4      ic-parietal slight               OK                   NaN   \n",
       "\n",
       "  qc_func_rater_3 qc_func_notes_rater_3  SUB_IN_SMP  \n",
       "0            fail             ERROR #24           1  \n",
       "1              OK                   NaN           1  \n",
       "2              OK                   NaN           1  \n",
       "3              OK                   NaN           0  \n",
       "4              OK                   NaN           1  \n",
       "\n",
       "[5 rows x 106 columns]"
      ]
     },
     "execution_count": 3,
     "metadata": {},
     "output_type": "execute_result"
    }
   ],
   "source": [
    "csv.head()"
   ]
  },
  {
   "cell_type": "markdown",
   "metadata": {},
   "source": [
    "## columns to use:\n",
    "* subject\n",
    "* SITE_ID\n",
    "* FILE_ID\n",
    "* DX_GROUP\n",
    "* SEX\n",
    "* AGE_AT_SCAN"
   ]
  },
  {
   "cell_type": "code",
   "execution_count": 36,
   "metadata": {
    "collapsed": true
   },
   "outputs": [],
   "source": [
    "columns = ['subject', 'SITE_ID', 'FILE_ID', 'DX_GROUP', 'SEX', 'AGE_AT_SCAN']"
   ]
  },
  {
   "cell_type": "code",
   "execution_count": 37,
   "metadata": {
    "collapsed": true
   },
   "outputs": [],
   "source": [
    "df = pd.DataFrame()\n",
    "for column in columns:\n",
    "    df[column] = csv[column]"
   ]
  },
  {
   "cell_type": "code",
   "execution_count": 38,
   "metadata": {
    "collapsed": false
   },
   "outputs": [
    {
     "data": {
      "text/html": [
       "<div>\n",
       "<table border=\"1\" class=\"dataframe\">\n",
       "  <thead>\n",
       "    <tr style=\"text-align: right;\">\n",
       "      <th></th>\n",
       "      <th>subject</th>\n",
       "      <th>SITE_ID</th>\n",
       "      <th>FILE_ID</th>\n",
       "      <th>DX_GROUP</th>\n",
       "      <th>SEX</th>\n",
       "      <th>AGE_AT_SCAN</th>\n",
       "    </tr>\n",
       "  </thead>\n",
       "  <tbody>\n",
       "    <tr>\n",
       "      <th>0</th>\n",
       "      <td>50002</td>\n",
       "      <td>PITT</td>\n",
       "      <td>no_filename</td>\n",
       "      <td>1</td>\n",
       "      <td>1</td>\n",
       "      <td>16.77</td>\n",
       "    </tr>\n",
       "    <tr>\n",
       "      <th>1</th>\n",
       "      <td>50003</td>\n",
       "      <td>PITT</td>\n",
       "      <td>Pitt_0050003</td>\n",
       "      <td>1</td>\n",
       "      <td>1</td>\n",
       "      <td>24.45</td>\n",
       "    </tr>\n",
       "    <tr>\n",
       "      <th>2</th>\n",
       "      <td>50004</td>\n",
       "      <td>PITT</td>\n",
       "      <td>Pitt_0050004</td>\n",
       "      <td>1</td>\n",
       "      <td>1</td>\n",
       "      <td>19.09</td>\n",
       "    </tr>\n",
       "    <tr>\n",
       "      <th>3</th>\n",
       "      <td>50005</td>\n",
       "      <td>PITT</td>\n",
       "      <td>Pitt_0050005</td>\n",
       "      <td>1</td>\n",
       "      <td>2</td>\n",
       "      <td>13.73</td>\n",
       "    </tr>\n",
       "    <tr>\n",
       "      <th>4</th>\n",
       "      <td>50006</td>\n",
       "      <td>PITT</td>\n",
       "      <td>Pitt_0050006</td>\n",
       "      <td>1</td>\n",
       "      <td>1</td>\n",
       "      <td>13.37</td>\n",
       "    </tr>\n",
       "  </tbody>\n",
       "</table>\n",
       "</div>"
      ],
      "text/plain": [
       "   subject SITE_ID       FILE_ID  DX_GROUP  SEX  AGE_AT_SCAN\n",
       "0    50002    PITT   no_filename         1    1        16.77\n",
       "1    50003    PITT  Pitt_0050003         1    1        24.45\n",
       "2    50004    PITT  Pitt_0050004         1    1        19.09\n",
       "3    50005    PITT  Pitt_0050005         1    2        13.73\n",
       "4    50006    PITT  Pitt_0050006         1    1        13.37"
      ]
     },
     "execution_count": 38,
     "metadata": {},
     "output_type": "execute_result"
    }
   ],
   "source": [
    "df.head()"
   ]
  },
  {
   "cell_type": "markdown",
   "metadata": {},
   "source": [
    "## add filename(s?)"
   ]
  },
  {
   "cell_type": "code",
   "execution_count": 51,
   "metadata": {
    "collapsed": false,
    "scrolled": true
   },
   "outputs": [
    {
     "data": {
      "text/html": [
       "<div>\n",
       "<table border=\"1\" class=\"dataframe\">\n",
       "  <thead>\n",
       "    <tr style=\"text-align: right;\">\n",
       "      <th></th>\n",
       "      <th>subject</th>\n",
       "      <th>SITE_ID</th>\n",
       "      <th>FILE_ID</th>\n",
       "      <th>DX_GROUP</th>\n",
       "      <th>SEX</th>\n",
       "      <th>AGE_AT_SCAN</th>\n",
       "      <th>FILENAME</th>\n",
       "    </tr>\n",
       "  </thead>\n",
       "  <tbody>\n",
       "    <tr>\n",
       "      <th>0</th>\n",
       "      <td>50002</td>\n",
       "      <td>PITT</td>\n",
       "      <td>no_filename</td>\n",
       "      <td>1</td>\n",
       "      <td>1</td>\n",
       "      <td>16.77</td>\n",
       "      <td>no_filename_reho.nii.gz</td>\n",
       "    </tr>\n",
       "    <tr>\n",
       "      <th>1</th>\n",
       "      <td>50003</td>\n",
       "      <td>PITT</td>\n",
       "      <td>Pitt_0050003</td>\n",
       "      <td>1</td>\n",
       "      <td>1</td>\n",
       "      <td>24.45</td>\n",
       "      <td>Pitt_0050003_reho.nii.gz</td>\n",
       "    </tr>\n",
       "    <tr>\n",
       "      <th>2</th>\n",
       "      <td>50004</td>\n",
       "      <td>PITT</td>\n",
       "      <td>Pitt_0050004</td>\n",
       "      <td>1</td>\n",
       "      <td>1</td>\n",
       "      <td>19.09</td>\n",
       "      <td>Pitt_0050004_reho.nii.gz</td>\n",
       "    </tr>\n",
       "    <tr>\n",
       "      <th>3</th>\n",
       "      <td>50005</td>\n",
       "      <td>PITT</td>\n",
       "      <td>Pitt_0050005</td>\n",
       "      <td>1</td>\n",
       "      <td>2</td>\n",
       "      <td>13.73</td>\n",
       "      <td>Pitt_0050005_reho.nii.gz</td>\n",
       "    </tr>\n",
       "    <tr>\n",
       "      <th>4</th>\n",
       "      <td>50006</td>\n",
       "      <td>PITT</td>\n",
       "      <td>Pitt_0050006</td>\n",
       "      <td>1</td>\n",
       "      <td>1</td>\n",
       "      <td>13.37</td>\n",
       "      <td>Pitt_0050006_reho.nii.gz</td>\n",
       "    </tr>\n",
       "  </tbody>\n",
       "</table>\n",
       "</div>"
      ],
      "text/plain": [
       "   subject SITE_ID       FILE_ID  DX_GROUP  SEX  AGE_AT_SCAN  \\\n",
       "0    50002    PITT   no_filename         1    1        16.77   \n",
       "1    50003    PITT  Pitt_0050003         1    1        24.45   \n",
       "2    50004    PITT  Pitt_0050004         1    1        19.09   \n",
       "3    50005    PITT  Pitt_0050005         1    2        13.73   \n",
       "4    50006    PITT  Pitt_0050006         1    1        13.37   \n",
       "\n",
       "                   FILENAME  \n",
       "0   no_filename_reho.nii.gz  \n",
       "1  Pitt_0050003_reho.nii.gz  \n",
       "2  Pitt_0050004_reho.nii.gz  \n",
       "3  Pitt_0050005_reho.nii.gz  \n",
       "4  Pitt_0050006_reho.nii.gz  "
      ]
     },
     "execution_count": 51,
     "metadata": {},
     "output_type": "execute_result"
    }
   ],
   "source": [
    "assign_filename(df, basedir, key_in='FILE_ID', key_out=key_filename, postfix='_reho.nii.gz')\n",
    "df.head()"
   ]
  },
  {
   "cell_type": "markdown",
   "metadata": {},
   "source": [
    "## exclude subjects without files"
   ]
  },
  {
   "cell_type": "code",
   "execution_count": 69,
   "metadata": {
    "collapsed": false
   },
   "outputs": [],
   "source": [
    "to_exclude = [i for i in range(len(df)) if not os.path.isfile(df[key_filename].iloc[i])]\n",
    "to_exclude = [i for i in range(len(df)) if 'no_filename' in df[key_filename].iloc[i]]\n",
    "df_sub = df.drop(df.index[to_exclude], inplace=False)"
   ]
  },
  {
   "cell_type": "markdown",
   "metadata": {},
   "source": [
    "## Set keys (column names) that we want to split equally\n",
    "## and number of iterations"
   ]
  },
  {
   "cell_type": "code",
   "execution_count": 71,
   "metadata": {
    "collapsed": true
   },
   "outputs": [],
   "source": [
    "keys = ['DX_GROUP', 'SITE_ID', 'SEX', 'AGE_AT_SCAN']\n"
   ]
  },
  {
   "cell_type": "code",
   "execution_count": 40,
   "metadata": {
    "collapsed": false
   },
   "outputs": [
    {
     "data": {
      "text/html": [
       "<div>\n",
       "<table border=\"1\" class=\"dataframe\">\n",
       "  <thead>\n",
       "    <tr style=\"text-align: right;\">\n",
       "      <th></th>\n",
       "      <th>DX_GROUP</th>\n",
       "      <th>SITE_ID</th>\n",
       "      <th>SEX</th>\n",
       "      <th>AGE_AT_SCAN</th>\n",
       "    </tr>\n",
       "  </thead>\n",
       "  <tbody>\n",
       "    <tr>\n",
       "      <th>0</th>\n",
       "      <td>1</td>\n",
       "      <td>PITT</td>\n",
       "      <td>1</td>\n",
       "      <td>16.77</td>\n",
       "    </tr>\n",
       "    <tr>\n",
       "      <th>1</th>\n",
       "      <td>1</td>\n",
       "      <td>PITT</td>\n",
       "      <td>1</td>\n",
       "      <td>24.45</td>\n",
       "    </tr>\n",
       "    <tr>\n",
       "      <th>2</th>\n",
       "      <td>1</td>\n",
       "      <td>PITT</td>\n",
       "      <td>1</td>\n",
       "      <td>19.09</td>\n",
       "    </tr>\n",
       "    <tr>\n",
       "      <th>3</th>\n",
       "      <td>1</td>\n",
       "      <td>PITT</td>\n",
       "      <td>2</td>\n",
       "      <td>13.73</td>\n",
       "    </tr>\n",
       "    <tr>\n",
       "      <th>4</th>\n",
       "      <td>1</td>\n",
       "      <td>PITT</td>\n",
       "      <td>1</td>\n",
       "      <td>13.37</td>\n",
       "    </tr>\n",
       "  </tbody>\n",
       "</table>\n",
       "</div>"
      ],
      "text/plain": [
       "   DX_GROUP SITE_ID  SEX  AGE_AT_SCAN\n",
       "0         1    PITT    1        16.77\n",
       "1         1    PITT    1        24.45\n",
       "2         1    PITT    1        19.09\n",
       "3         1    PITT    2        13.73\n",
       "4         1    PITT    1        13.37"
      ]
     },
     "execution_count": 40,
     "metadata": {},
     "output_type": "execute_result"
    }
   ],
   "source": [
    "df[keys].head()"
   ]
  },
  {
   "cell_type": "markdown",
   "metadata": {},
   "source": [
    "# split subjects"
   ]
  },
  {
   "cell_type": "code",
   "execution_count": 72,
   "metadata": {
    "collapsed": true
   },
   "outputs": [],
   "source": [
    "df_sub, sss = split_data(df_sub, keys, num_iter=3, random_state=0)"
   ]
  },
  {
   "cell_type": "markdown",
   "metadata": {},
   "source": [
    "# read data"
   ]
  },
  {
   "cell_type": "code",
   "execution_count": 74,
   "metadata": {
    "collapsed": true
   },
   "outputs": [],
   "source": [
    "for i in range(len(df_sub)):\n",
    "    filename = df_sub[key_filename].iloc[i]\n",
    "    # \n",
    "    #df_sub[another_column] = data_from_file"
   ]
  },
  {
   "cell_type": "markdown",
   "metadata": {},
   "source": [
    "# run train/validation"
   ]
  },
  {
   "cell_type": "code",
   "execution_count": 83,
   "metadata": {
    "collapsed": false
   },
   "outputs": [
    {
     "name": "stdout",
     "output_type": "stream",
     "text": [
      "\n",
      "iteration 1/3\n",
      "\n",
      "    df_result = pd.DataFrame()\n",
      "    # Model 1\n",
      "    model_1a = Method_1.train(set_a)\n",
      "    model_1b = Method_1.train(set_b)\n",
      "    \n",
      "    predict_model_1a_set_b = Method_1.test(model_1a, set_b)\n",
      "    predict_model_1b_set_a = Method_1.test(model_1b, set_a)\n",
      "    df_result['predict_model_1a_set_b'] = predict_model_1a_set_b\n",
      "    df_result['predict_model_1b_set_a'] = predict_model_1b_set_a\n",
      "    df_result['rss_model_1a_set_b'] = ((df_result['predict_model_1a_set_b'] - df_sub[key_target])**2).sum()\n",
      "    df_result['rss_model_1b_set_a'] = ((df_result['predict_model_1b_set_a'] - df_sub[key_target])**2).sum()\n",
      "    \n",
      "    # Model 2\n",
      "    # ...\n",
      "    \n",
      "    results.append((set_a, set_b, df_result))\n",
      "    \n",
      "\n",
      "iteration 2/3\n",
      "\n",
      "    df_result = pd.DataFrame()\n",
      "    # Model 1\n",
      "    model_1a = Method_1.train(set_a)\n",
      "    model_1b = Method_1.train(set_b)\n",
      "    \n",
      "    predict_model_1a_set_b = Method_1.test(model_1a, set_b)\n",
      "    predict_model_1b_set_a = Method_1.test(model_1b, set_a)\n",
      "    df_result['predict_model_1a_set_b'] = predict_model_1a_set_b\n",
      "    df_result['predict_model_1b_set_a'] = predict_model_1b_set_a\n",
      "    df_result['rss_model_1a_set_b'] = ((df_result['predict_model_1a_set_b'] - df_sub[key_target])**2).sum()\n",
      "    df_result['rss_model_1b_set_a'] = ((df_result['predict_model_1b_set_a'] - df_sub[key_target])**2).sum()\n",
      "    \n",
      "    # Model 2\n",
      "    # ...\n",
      "    \n",
      "    results.append((set_a, set_b, df_result))\n",
      "    \n",
      "\n",
      "iteration 3/3\n",
      "\n",
      "    df_result = pd.DataFrame()\n",
      "    # Model 1\n",
      "    model_1a = Method_1.train(set_a)\n",
      "    model_1b = Method_1.train(set_b)\n",
      "    \n",
      "    predict_model_1a_set_b = Method_1.test(model_1a, set_b)\n",
      "    predict_model_1b_set_a = Method_1.test(model_1b, set_a)\n",
      "    df_result['predict_model_1a_set_b'] = predict_model_1a_set_b\n",
      "    df_result['predict_model_1b_set_a'] = predict_model_1b_set_a\n",
      "    df_result['rss_model_1a_set_b'] = ((df_result['predict_model_1a_set_b'] - df_sub[key_target])**2).sum()\n",
      "    df_result['rss_model_1b_set_a'] = ((df_result['predict_model_1b_set_a'] - df_sub[key_target])**2).sum()\n",
      "    \n",
      "    # Model 2\n",
      "    # ...\n",
      "    \n",
      "    results.append((set_a, set_b, df_result))\n",
      "    \n"
     ]
    }
   ],
   "source": [
    "results = []\n",
    "for i, (index_a, index_b) in enumerate(sss):\n",
    "    print\n",
    "    print 'iteration %s/%s' % (i+1, num_iter)\n",
    "    set_a, set_b = df_sub.iloc[index_a], df_sub.iloc[index_b]\n",
    "    \n",
    "    #set_a.to_csv('split1.csv')\n",
    "    #set_b.to_csv('split2.csv')\n",
    "\n",
    "    print '''\n",
    "    df_result = pd.DataFrame()\n",
    "    # Model 1\n",
    "    model_1a = Method_1.train(set_a)\n",
    "    model_1b = Method_1.train(set_b)\n",
    "    \n",
    "    predict_model_1a_set_b = Method_1.test(model_1a, set_b)\n",
    "    predict_model_1b_set_a = Method_1.test(model_1b, set_a)\n",
    "    df_result['predict_model_1a_set_b'] = predict_model_1a_set_b\n",
    "    df_result['predict_model_1b_set_a'] = predict_model_1b_set_a\n",
    "    df_result['rss_model_1a_set_b'] = ((df_result['predict_model_1a_set_b'] - df_sub[key_target])**2).sum()\n",
    "    df_result['rss_model_1b_set_a'] = ((df_result['predict_model_1b_set_a'] - df_sub[key_target])**2).sum()\n",
    "    \n",
    "    # Model 2\n",
    "    # ...\n",
    "    \n",
    "    results.append((set_a, set_b, df_result))\n",
    "    '''\n",
    "    # run training\n",
    "    #train(index_a)\n",
    "    #train(index_b)\n",
    "\n",
    "    # test data\n",
    "    #predict_a = test(index_a)\n",
    "    #predict_b = test(index_b)\n",
    "\n",
    "    # evaluate\n",
    "    #something = some_kind_of_distance(predict_a, predict_b)\n",
    "    #assess.append(something)\n",
    "\n"
   ]
  },
  {
   "cell_type": "code",
   "execution_count": 84,
   "metadata": {
    "collapsed": false
   },
   "outputs": [
    {
     "data": {
      "text/html": [
       "<div>\n",
       "<table border=\"1\" class=\"dataframe\">\n",
       "  <thead>\n",
       "    <tr style=\"text-align: right;\">\n",
       "      <th></th>\n",
       "      <th>subject</th>\n",
       "      <th>SITE_ID</th>\n",
       "      <th>FILE_ID</th>\n",
       "      <th>DX_GROUP</th>\n",
       "      <th>SEX</th>\n",
       "      <th>AGE_AT_SCAN</th>\n",
       "      <th>FILENAME</th>\n",
       "    </tr>\n",
       "  </thead>\n",
       "  <tbody>\n",
       "    <tr>\n",
       "      <th>615</th>\n",
       "      <td>50799</td>\n",
       "      <td>KKI</td>\n",
       "      <td>KKI_0050799</td>\n",
       "      <td>1</td>\n",
       "      <td>1</td>\n",
       "      <td>0</td>\n",
       "      <td>KKI_0050799_reho.nii.gz</td>\n",
       "    </tr>\n",
       "    <tr>\n",
       "      <th>1051</th>\n",
       "      <td>51465</td>\n",
       "      <td>CALTECH</td>\n",
       "      <td>Caltech_0051465</td>\n",
       "      <td>1</td>\n",
       "      <td>1</td>\n",
       "      <td>1</td>\n",
       "      <td>Caltech_0051465_reho.nii.gz</td>\n",
       "    </tr>\n",
       "    <tr>\n",
       "      <th>389</th>\n",
       "      <td>50481</td>\n",
       "      <td>USM</td>\n",
       "      <td>USM_0050481</td>\n",
       "      <td>1</td>\n",
       "      <td>1</td>\n",
       "      <td>1</td>\n",
       "      <td>USM_0050481_reho.nii.gz</td>\n",
       "    </tr>\n",
       "    <tr>\n",
       "      <th>861</th>\n",
       "      <td>51183</td>\n",
       "      <td>STANFORD</td>\n",
       "      <td>Stanford_0051183</td>\n",
       "      <td>2</td>\n",
       "      <td>1</td>\n",
       "      <td>0</td>\n",
       "      <td>Stanford_0051183_reho.nii.gz</td>\n",
       "    </tr>\n",
       "    <tr>\n",
       "      <th>806</th>\n",
       "      <td>51123</td>\n",
       "      <td>NYU</td>\n",
       "      <td>NYU_0051123</td>\n",
       "      <td>2</td>\n",
       "      <td>1</td>\n",
       "      <td>0</td>\n",
       "      <td>NYU_0051123_reho.nii.gz</td>\n",
       "    </tr>\n",
       "  </tbody>\n",
       "</table>\n",
       "</div>"
      ],
      "text/plain": [
       "      subject   SITE_ID           FILE_ID  DX_GROUP  SEX AGE_AT_SCAN  \\\n",
       "615     50799       KKI       KKI_0050799         1    1           0   \n",
       "1051    51465   CALTECH   Caltech_0051465         1    1           1   \n",
       "389     50481       USM       USM_0050481         1    1           1   \n",
       "861     51183  STANFORD  Stanford_0051183         2    1           0   \n",
       "806     51123       NYU       NYU_0051123         2    1           0   \n",
       "\n",
       "                          FILENAME  \n",
       "615        KKI_0050799_reho.nii.gz  \n",
       "1051   Caltech_0051465_reho.nii.gz  \n",
       "389        USM_0050481_reho.nii.gz  \n",
       "861   Stanford_0051183_reho.nii.gz  \n",
       "806        NYU_0051123_reho.nii.gz  "
      ]
     },
     "execution_count": 84,
     "metadata": {},
     "output_type": "execute_result"
    }
   ],
   "source": [
    "set_a.head()"
   ]
  },
  {
   "cell_type": "code",
   "execution_count": null,
   "metadata": {
    "collapsed": true
   },
   "outputs": [],
   "source": []
  }
 ],
 "metadata": {
  "kernelspec": {
   "display_name": "Python 2",
   "language": "python",
   "name": "python2"
  },
  "language_info": {
   "codemirror_mode": {
    "name": "ipython",
    "version": 2
   },
   "file_extension": ".py",
   "mimetype": "text/x-python",
   "name": "python",
   "nbconvert_exporter": "python",
   "pygments_lexer": "ipython2",
   "version": "2.7.12"
  }
 },
 "nbformat": 4,
 "nbformat_minor": 1
}
