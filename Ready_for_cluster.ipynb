{
 "cells": [
  {
   "cell_type": "code",
   "execution_count": 4,
   "metadata": {
    "collapsed": true
   },
   "outputs": [],
   "source": [
    "from glob import glob\n",
    "import pandas as pd"
   ]
  },
  {
   "cell_type": "code",
   "execution_count": 46,
   "metadata": {
    "collapsed": false
   },
   "outputs": [
    {
     "data": {
      "text/plain": [
       "<module 'abide_motion_wrapper' from 'abide_motion_wrapper.pyc'>"
      ]
     },
     "execution_count": 46,
     "metadata": {},
     "output_type": "execute_result"
    }
   ],
   "source": [
    "import abide_motion_wrapper as amw\n",
    "reload(amw)"
   ]
  },
  {
   "cell_type": "code",
   "execution_count": 43,
   "metadata": {
    "collapsed": false
   },
   "outputs": [],
   "source": [
    "behav_data_f = '../Phenotypic_V1_0b_preprocessed1.csv'\n",
    "\n",
    "df = amw.read_in_data(behav_data_f)\n",
    "\n",
    "motion_thresh_list=range(2,101,2)\n",
    "age_l_list=range(6, 17, 1)\n",
    "age_u_list=range(8, 18, 1)\n",
    "n=range(10, 300, 10)\n",
    "\n",
    "results_dict = {}\n",
    "\n",
    "n_perms=10\n",
    "for motion_thresh, age_l in range(2,101,2):\n",
    "    rsq_list = amw.split_half_outcome(df, motion_thresh, age_l, age_u, n, n_perms=n_perms)\n",
    "\n",
    "    key = (motion_thresh, age_l, age_u, n)\n",
    "    results_dict[key] = [rsq_list]"
   ]
  },
  {
   "cell_type": "code",
   "execution_count": 52,
   "metadata": {
    "collapsed": false
   },
   "outputs": [
    {
     "name": "stdout",
     "output_type": "stream",
     "text": [
      "6 7\n",
      "6 8\n",
      "6 9\n",
      "6 10\n",
      "6 11\n",
      "6 12\n",
      "6 13\n",
      "6 14\n",
      "6 15\n",
      "6 16\n",
      "7 8\n",
      "7 9\n",
      "7 10\n",
      "7 11\n",
      "7 12\n",
      "7 13\n",
      "7 14\n",
      "7 15\n",
      "7 16\n",
      "8 9\n",
      "8 10\n",
      "8 11\n",
      "8 12\n",
      "8 13\n",
      "8 14\n",
      "8 15\n",
      "8 16\n",
      "9 10\n",
      "9 11\n",
      "9 12\n",
      "9 13\n",
      "9 14\n",
      "9 15\n",
      "9 16\n",
      "10 11\n",
      "10 12\n",
      "10 13\n",
      "10 14\n",
      "10 15\n",
      "10 16\n",
      "11 12\n",
      "11 13\n",
      "11 14\n",
      "11 15\n",
      "11 16\n",
      "12 13\n",
      "12 14\n",
      "12 15\n",
      "12 16\n",
      "13 14\n",
      "13 15\n",
      "13 16\n",
      "14 15\n",
      "14 16\n",
      "15 16\n"
     ]
    }
   ],
   "source": [
    "import itertools as it\n",
    "\n",
    "motion_thresh_list=range(2,101,2)\n",
    "age_l_list=range(6, 17, 1)\n",
    "age_u_list=range(8, 18, 1)\n",
    "n=range(10, 300, 10)\n",
    "\n",
    "for l, u in it.combinations(age_l_list, 2):\n",
    "    print l, u"
   ]
  },
  {
   "cell_type": "code",
   "execution_count": 44,
   "metadata": {
    "collapsed": false
   },
   "outputs": [
    {
     "data": {
      "text/plain": [
       "{(5,\n",
       "  6,\n",
       "  20,\n",
       "  50): [array([ 0.81970394,  0.9266363 ,  0.94461842,  0.91344472,  0.92097669,\n",
       "          0.93884365,  0.93346186,  0.92572693,  0.93489222,  0.94494593])],\n",
       " (10,\n",
       "  6,\n",
       "  20,\n",
       "  50): [array([ 0.92932655,  0.93983706,  0.91930938,  0.93813949,  0.93745703,\n",
       "          0.94646111,  0.94773931,  0.8922377 ,  0.8917804 ,  0.9384012 ])],\n",
       " (15,\n",
       "  6,\n",
       "  20,\n",
       "  50): [array([ 0.92311527,  0.93310493,  0.93217975,  0.94686147,  0.9343716 ,\n",
       "          0.93191725,  0.95075993,  0.91703136,  0.93519468,  0.95382757])],\n",
       " (20,\n",
       "  6,\n",
       "  20,\n",
       "  50): [array([ 0.90008395,  0.9319726 ,  0.92850008,  0.92417009,  0.84920026,\n",
       "          0.95161398,  0.93775025,  0.93814525,  0.92774173,  0.9503394 ])],\n",
       " (25,\n",
       "  6,\n",
       "  20,\n",
       "  50): [array([ 0.94626995,  0.94954664,  0.92530945,  0.9410523 ,  0.92935038,\n",
       "          0.91975506,  0.94144706,  0.92409184,  0.94609432,  0.95076392])],\n",
       " (30,\n",
       "  6,\n",
       "  20,\n",
       "  50): [array([ 0.95702224,  0.92049723,  0.93077733,  0.94795969,  0.93001418,\n",
       "          0.94721596,  0.94751897,  0.93610303,  0.82366287,  0.95048407])]}"
      ]
     },
     "execution_count": 44,
     "metadata": {},
     "output_type": "execute_result"
    }
   ],
   "source": [
    "results_dict"
   ]
  },
  {
   "cell_type": "code",
   "execution_count": null,
   "metadata": {
    "collapsed": false
   },
   "outputs": [],
   "source": [
    "columns = [ 'motion_thresh', 'med_rsq', 'CI_95', 'n', 'age_l', 'age_u' ]\n",
    "results_df = pd.DataFrame(columns = columns)\n",
    "\n",
    "for f in glob('../RESULTS/*csv'):\n",
    "    temp_df = pd.read_csv(f, index_col=0)\n",
    "    results_df = results_df.append(temp_df)\n",
    "    \n",
    "results_df.to_csv('../RESULTS/SummaryRsqs.csv', index=None, columns=columns)"
   ]
  },
  {
   "cell_type": "code",
   "execution_count": 15,
   "metadata": {
    "collapsed": false
   },
   "outputs": [
    {
     "data": {
      "text/html": [
       "<div>\n",
       "<table border=\"1\" class=\"dataframe\">\n",
       "  <thead>\n",
       "    <tr style=\"text-align: right;\">\n",
       "      <th></th>\n",
       "      <th>motion_thresh</th>\n",
       "      <th>med_rsq</th>\n",
       "      <th>CI_95</th>\n",
       "      <th>n</th>\n",
       "      <th>age_l</th>\n",
       "      <th>age_u</th>\n",
       "    </tr>\n",
       "  </thead>\n",
       "  <tbody>\n",
       "    <tr>\n",
       "      <th>0</th>\n",
       "      <td>42.0</td>\n",
       "      <td>0.689453</td>\n",
       "      <td>0.327587</td>\n",
       "      <td>10.0</td>\n",
       "      <td>12.0</td>\n",
       "      <td>16.0</td>\n",
       "    </tr>\n",
       "    <tr>\n",
       "      <th>1</th>\n",
       "      <td>2.0</td>\n",
       "      <td>0.923785</td>\n",
       "      <td>0.086767</td>\n",
       "      <td>50.0</td>\n",
       "      <td>14.0</td>\n",
       "      <td>17.0</td>\n",
       "    </tr>\n",
       "    <tr>\n",
       "      <th>2</th>\n",
       "      <td>82.0</td>\n",
       "      <td>0.792088</td>\n",
       "      <td>0.348287</td>\n",
       "      <td>15.0</td>\n",
       "      <td>6.0</td>\n",
       "      <td>13.0</td>\n",
       "    </tr>\n",
       "    <tr>\n",
       "      <th>3</th>\n",
       "      <td>62.0</td>\n",
       "      <td>0.855818</td>\n",
       "      <td>0.260060</td>\n",
       "      <td>20.0</td>\n",
       "      <td>9.0</td>\n",
       "      <td>12.0</td>\n",
       "    </tr>\n",
       "    <tr>\n",
       "      <th>4</th>\n",
       "      <td>42.0</td>\n",
       "      <td>0.849776</td>\n",
       "      <td>0.147301</td>\n",
       "      <td>20.0</td>\n",
       "      <td>6.0</td>\n",
       "      <td>11.0</td>\n",
       "    </tr>\n",
       "  </tbody>\n",
       "</table>\n",
       "</div>"
      ],
      "text/plain": [
       "   motion_thresh   med_rsq     CI_95     n  age_l  age_u\n",
       "0           42.0  0.689453  0.327587  10.0   12.0   16.0\n",
       "1            2.0  0.923785  0.086767  50.0   14.0   17.0\n",
       "2           82.0  0.792088  0.348287  15.0    6.0   13.0\n",
       "3           62.0  0.855818  0.260060  20.0    9.0   12.0\n",
       "4           42.0  0.849776  0.147301  20.0    6.0   11.0"
      ]
     },
     "execution_count": 15,
     "metadata": {},
     "output_type": "execute_result"
    }
   ],
   "source": [
    "df = pd.read_csv('../RESULTS/SummaryRsqs.csv')\n",
    "df.head()"
   ]
  },
  {
   "cell_type": "code",
   "execution_count": 45,
   "metadata": {
    "collapsed": false
   },
   "outputs": [
    {
     "data": {
      "text/html": [
       "<div>\n",
       "<table border=\"1\" class=\"dataframe\">\n",
       "  <thead>\n",
       "    <tr style=\"text-align: right;\">\n",
       "      <th></th>\n",
       "      <th>motion_thresh</th>\n",
       "      <th>rsq</th>\n",
       "      <th>CI_95</th>\n",
       "      <th>n</th>\n",
       "      <th>age_l</th>\n",
       "      <th>age_u</th>\n",
       "    </tr>\n",
       "  </thead>\n",
       "  <tbody>\n",
       "    <tr>\n",
       "      <th>0</th>\n",
       "      <td>5.0</td>\n",
       "      <td>6.0</td>\n",
       "      <td>20.0</td>\n",
       "      <td>50.0</td>\n",
       "      <td>0.920325</td>\n",
       "      <td>0.104077</td>\n",
       "    </tr>\n",
       "    <tr>\n",
       "      <th>0</th>\n",
       "      <td>25.0</td>\n",
       "      <td>6.0</td>\n",
       "      <td>20.0</td>\n",
       "      <td>50.0</td>\n",
       "      <td>0.937368</td>\n",
       "      <td>0.029759</td>\n",
       "    </tr>\n",
       "    <tr>\n",
       "      <th>0</th>\n",
       "      <td>10.0</td>\n",
       "      <td>6.0</td>\n",
       "      <td>20.0</td>\n",
       "      <td>50.0</td>\n",
       "      <td>0.928069</td>\n",
       "      <td>0.055568</td>\n",
       "    </tr>\n",
       "    <tr>\n",
       "      <th>0</th>\n",
       "      <td>15.0</td>\n",
       "      <td>6.0</td>\n",
       "      <td>20.0</td>\n",
       "      <td>50.0</td>\n",
       "      <td>0.935836</td>\n",
       "      <td>0.034737</td>\n",
       "    </tr>\n",
       "    <tr>\n",
       "      <th>0</th>\n",
       "      <td>20.0</td>\n",
       "      <td>6.0</td>\n",
       "      <td>20.0</td>\n",
       "      <td>50.0</td>\n",
       "      <td>0.923952</td>\n",
       "      <td>0.090678</td>\n",
       "    </tr>\n",
       "    <tr>\n",
       "      <th>0</th>\n",
       "      <td>30.0</td>\n",
       "      <td>6.0</td>\n",
       "      <td>20.0</td>\n",
       "      <td>50.0</td>\n",
       "      <td>0.929126</td>\n",
       "      <td>0.110101</td>\n",
       "    </tr>\n",
       "  </tbody>\n",
       "</table>\n",
       "</div>"
      ],
      "text/plain": [
       "   motion_thresh  rsq  CI_95     n     age_l     age_u\n",
       "0            5.0  6.0   20.0  50.0  0.920325  0.104077\n",
       "0           25.0  6.0   20.0  50.0  0.937368  0.029759\n",
       "0           10.0  6.0   20.0  50.0  0.928069  0.055568\n",
       "0           15.0  6.0   20.0  50.0  0.935836  0.034737\n",
       "0           20.0  6.0   20.0  50.0  0.923952  0.090678\n",
       "0           30.0  6.0   20.0  50.0  0.929126  0.110101"
      ]
     },
     "execution_count": 45,
     "metadata": {},
     "output_type": "execute_result"
    }
   ],
   "source": [
    "rsq_002pct_010subs_06to09.csv\n",
    "\n",
    "\n",
    "results_df = pd.DataFrame(columns = columns)\n",
    "\n",
    "for (motion_thresh, age_l, age_u, n), rsq_list in results_dict.items():\n",
    "    mean_rsq = np.mean(rsq_list)\n",
    "    rsq_CI = np.percentile(rsq_list, 97.5) - np.percentile(rsq_list, 2.5)\n",
    "    \n",
    "    temp_df = pd.DataFrame(np.array([[motion_thresh, age_l, age_u, n, mean_rsq, rsq_CI]]), columns=columns)\n",
    "\n",
    "    results_df = results_df.append(temp_df)\n",
    "# Write into x_var y_var variance SampleSize LowerAge UpperAge\n",
    "\n",
    "results_df"
   ]
  },
  {
   "cell_type": "code",
   "execution_count": null,
   "metadata": {
    "collapsed": true
   },
   "outputs": [],
   "source": []
  }
 ],
 "metadata": {
  "anaconda-cloud": {},
  "kernelspec": {
   "display_name": "Python [conda env:nhw16_cluster]",
   "language": "python",
   "name": "conda-env-nhw16_cluster-py"
  },
  "language_info": {
   "codemirror_mode": {
    "name": "ipython",
    "version": 2
   },
   "file_extension": ".py",
   "mimetype": "text/x-python",
   "name": "python",
   "nbconvert_exporter": "python",
   "pygments_lexer": "ipython2",
   "version": "2.7.12"
  }
 },
 "nbformat": 4,
 "nbformat_minor": 1
}
