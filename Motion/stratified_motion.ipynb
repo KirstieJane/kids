{
 "cells": [
  {
   "cell_type": "code",
   "execution_count": 1,
   "metadata": {
    "collapsed": false
   },
   "outputs": [
    {
     "name": "stderr",
     "output_type": "stream",
     "text": [
      "/Users/julialeonard/anaconda/lib/python2.7/site-packages/pandas/computation/expressions.py:21: UserWarning: The installed version of numexpr 2.0.1 is not supported in pandas and will be not be used\n",
      "The minimum supported version is 2.1\n",
      "\n",
      "  \"version is 2.1\\n\".format(ver=ver), UserWarning)\n"
     ]
    }
   ],
   "source": [
    "import matplotlib.pylab as plt\n",
    "%matplotlib inline\n",
    "import numpy as np\n",
    "import os\n",
    "import pandas as pd\n",
    "from scipy.stats import linregress\n",
    "import nibabel as nib\n",
    "import urllib\n",
    "import seaborn as sns\n",
    "sns.set_style('white')\n",
    "sns.set_context('notebook')\n",
    "from __future__ import division"
   ]
  },
  {
   "cell_type": "code",
   "execution_count": 3,
   "metadata": {
    "collapsed": true
   },
   "outputs": [],
   "source": [
    "behav_data_f = '../../Phenotypic_V1_0b_preprocessed1.csv'\n",
    "df = pd.read_csv(behav_data_f)\n",
    "df = df.loc[df['func_perc_fd'].notnull(), :]\n",
    "df = df.loc[df['FILE_ID']!='no_filename', :]\n",
    "df['AGE_YRS'] = np.floor(df['AGE_AT_SCAN'])"
   ]
  },
  {
   "cell_type": "markdown",
   "metadata": {},
   "source": [
    "## Create function that test  motion bins - so only high, medium, or low motion"
   ]
  },
  {
   "cell_type": "markdown",
   "metadata": {},
   "source": [
    "### the idea here is that perhaps motion really matters if you have a homogenous high motion group and not one saturated by non-motion people"
   ]
  },
  {
   "cell_type": "code",
   "execution_count": 12,
   "metadata": {
    "collapsed": true
   },
   "outputs": [],
   "source": [
    "def split_two_matched_samples(df, motion_thresh, age_l, age_u, n):\n",
    "    \"\"\"\n",
    "    This function takes in a data frame, thresholds it to only include\n",
    "    participants whose percentage bad frames are less than motion_thresh\n",
    "    and participants who are between the lower and upper age limits (inclusive),\n",
    "    then returns two matched samples of size n. The samples are matched on\n",
    "    age in years, autism diagnosis, gender and scanning site.\n",
    "    Information about the motion measure is here:\n",
    "    http://preprocessed-connectomes-project.org/quality-assessment-protocol/\n",
    "    \"\"\"\n",
    "\n",
    "    # Start by removing all participants whose data is below a certain\n",
    "    # motion threshold. stratify by 10 perc_fd\n",
    "    motion_thresh_lower = motion_thresh - 10\n",
    "    \n",
    "    \n",
    "    df_samp_motion = df.loc[(df['func_perc_fd']>=motion_thresh_lower)\n",
    "                                    & (df['func_perc_fd']<=motion_thresh), :]    \n",
    "    \n",
    "\n",
    "    # Then remove participants who are younger (in years) than age_l and older\n",
    "    # than age_u. Note that this means people who are age_l and age_u\n",
    "    # (eg 6 and 10) will be included in the sample.\n",
    "    df_samp = df_samp_motion.loc[(df_samp_motion['AGE_YRS']>=age_l)\n",
    "                                    & (df_samp_motion['AGE_YRS']<=age_u), :]\n",
    "\n",
    "    # Shuffle these remaining participants to ensure you get different sub\n",
    "    # samples each time you run the code.\n",
    "    df_samp_rand = df_samp.reindex(np.random.permutation(df_samp.index))\n",
    "\n",
    "    # Only keep the top 2*n participants.\n",
    "    df_samp_2n = df_samp_rand.iloc[:2*n, :]\n",
    "\n",
    "    # Sort these participants according to the sort columns of interest\n",
    "    sort_column_list = ['DSM_IV_TR', 'DX_GROUP', 'SITE_ID', 'SEX', 'AGE_YRS']\n",
    "    df_samp_2n_sorted = df_samp_2n.sort_values(by=sort_column_list)\n",
    "\n",
    "    # Now put all even numbered participants in group A and all odd numbered\n",
    "    # participants in group B.\n",
    "    df_grp_A = df_samp_2n_sorted.iloc[::2, :]\n",
    "    df_grp_B = df_samp_2n_sorted.iloc[1::2, :]\n",
    "\n",
    "    # Boom! Return these two data frames\n",
    "    return df_grp_A, df_grp_B\n"
   ]
  },
  {
   "cell_type": "code",
   "execution_count": 18,
   "metadata": {
    "collapsed": false
   },
   "outputs": [
    {
     "name": "stdout",
     "output_type": "stream",
     "text": [
      "       AGE_AT_SCAN   DX_GROUP        SEX  func_perc_fd\n",
      "count    10.000000  10.000000  10.000000     10.000000\n",
      "mean     13.402180   1.700000   1.100000      3.332739\n",
      "std       3.027525   0.483046   0.316228      2.709015\n",
      "min       9.660000   1.000000   1.000000      0.000000\n",
      "25%      11.515000   1.250000   1.000000      0.621834\n",
      "50%      12.535000   2.000000   1.000000      3.927057\n",
      "75%      13.802500   2.000000   1.000000      5.916480\n",
      "max      18.737900   2.000000   2.000000      6.369427\n",
      "       AGE_AT_SCAN   DX_GROUP        SEX  func_perc_fd\n",
      "count    10.000000  10.000000  10.000000     10.000000\n",
      "mean     13.383800   1.600000   1.300000      2.499048\n",
      "std       3.393531   0.516398   0.483046      2.321534\n",
      "min       7.660000   1.000000   1.000000      0.473934\n",
      "25%      11.410000   1.000000   1.000000      0.620976\n",
      "50%      13.914000   2.000000   1.000000      1.617666\n",
      "75%      15.700000   2.000000   1.750000      3.818613\n",
      "max      18.010000   2.000000   2.000000      7.462687\n"
     ]
    }
   ],
   "source": [
    "df_A, df_B = split_two_matched_samples(df, 10, 6, 18, 10)\n",
    "print df_A[['AGE_AT_SCAN', 'DX_GROUP', 'SEX', 'func_perc_fd']].describe()\n",
    "print df_B[['AGE_AT_SCAN', 'DX_GROUP', 'SEX','func_perc_fd']].describe()"
   ]
  },
  {
   "cell_type": "code",
   "execution_count": null,
   "metadata": {
    "collapsed": true
   },
   "outputs": [],
   "source": []
  }
 ],
 "metadata": {
  "kernelspec": {
   "display_name": "Python 2",
   "language": "python",
   "name": "python2"
  },
  "language_info": {
   "codemirror_mode": {
    "name": "ipython",
    "version": 2
   },
   "file_extension": ".py",
   "mimetype": "text/x-python",
   "name": "python",
   "nbconvert_exporter": "python",
   "pygments_lexer": "ipython2",
   "version": "2.7.12"
  }
 },
 "nbformat": 4,
 "nbformat_minor": 0
}
