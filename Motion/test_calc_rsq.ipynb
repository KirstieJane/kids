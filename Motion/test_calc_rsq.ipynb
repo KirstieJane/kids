{
 "cells": [
  {
   "cell_type": "markdown",
   "metadata": {},
   "source": [
    "# Testing `calc_rsq()`\n",
    "\n",
    "We're getting weird results from our iterations, so let's see what's going on. I'm going to run through this code in python2 and python3."
   ]
  },
  {
   "cell_type": "code",
   "execution_count": 1,
   "metadata": {
    "collapsed": false
   },
   "outputs": [
    {
     "name": "stdout",
     "output_type": "stream",
     "text": [
      "2.7.12 |Continuum Analytics, Inc.| (default, Jul  2 2016, 17:42:40) \n",
      "[GCC 4.4.7 20120313 (Red Hat 4.4.7-1)]\n"
     ]
    }
   ],
   "source": [
    "import sys\n",
    "print (sys.version)"
   ]
  },
  {
   "cell_type": "code",
   "execution_count": 2,
   "metadata": {
    "collapsed": false
   },
   "outputs": [
    {
     "name": "stderr",
     "output_type": "stream",
     "text": [
      "/home/jflournoy/miniconda3/envs/kidsPy2/lib/python2.7/site-packages/matplotlib/font_manager.py:273: UserWarning: Matplotlib is building the font cache using fc-list. This may take a moment.\n",
      "  warnings.warn('Matplotlib is building the font cache using fc-list. This may take a moment.')\n"
     ]
    }
   ],
   "source": [
    "import numpy as np\n",
    "import os\n",
    "import pandas as pd\n",
    "import sys\n",
    "import matplotlib.pyplot as plt\n",
    "%matplotlib inline"
   ]
  },
  {
   "cell_type": "code",
   "execution_count": 3,
   "metadata": {
    "collapsed": false
   },
   "outputs": [],
   "source": [
    "def calc_rsq(av_corr_mat_A, av_corr_mat_B):\n",
    "    \"\"\"\n",
    "    From wikipedia: https://en.wikipedia.org/wiki/Coefficient_of_determination\n",
    "    \n",
    "    Rsq = 1 - (SSres / SStot)\n",
    "    \n",
    "    SSres is calculated as the sum of square errors (where the error\n",
    "    is the difference between x and y).\n",
    "    \n",
    "    SStot is calculated as the total sum of squares in y.\n",
    "    \"\"\"\n",
    "    # Get the data we need\n",
    "    inds = np.triu_indices_from(av_corr_mat_B, k=1)\n",
    "    x = av_corr_mat_A[inds]\n",
    "    y = av_corr_mat_B[inds]\n",
    "    \n",
    "    # Calculate the error/residuals\n",
    "    res = y - x\n",
    "\n",
    "    SSres = np.sum(res**2)\n",
    "    \n",
    "    # Sum up the total error in y\n",
    "    y_var = y - np.mean(y)\n",
    "    \n",
    "    SStot = np.sum(y_var**2)\n",
    "    \n",
    "    # R squared\n",
    "    Rsq = 1 - (SSres/SStot)\n",
    "    \n",
    "    return Rsq"
   ]
  },
  {
   "cell_type": "markdown",
   "metadata": {},
   "source": [
    "## Generate random correlation matrices"
   ]
  },
  {
   "cell_type": "code",
   "execution_count": 4,
   "metadata": {
    "collapsed": true
   },
   "outputs": [],
   "source": [
    "df1 = pd.DataFrame(np.random.normal(0, 1, size=(100, 20)))\n",
    "df2 = pd.DataFrame(np.random.normal(0, 1, size=(100, 20)))\n",
    "df1corrmat = df1.corr()\n",
    "df2corrmat = df2.corr()"
   ]
  },
  {
   "cell_type": "code",
   "execution_count": 5,
   "metadata": {
    "collapsed": false
   },
   "outputs": [
    {
     "data": {
      "text/html": [
       "<div>\n",
       "<table border=\"1\" class=\"dataframe\">\n",
       "  <thead>\n",
       "    <tr style=\"text-align: right;\">\n",
       "      <th></th>\n",
       "      <th>0</th>\n",
       "      <th>1</th>\n",
       "      <th>2</th>\n",
       "      <th>3</th>\n",
       "      <th>4</th>\n",
       "      <th>5</th>\n",
       "      <th>6</th>\n",
       "      <th>7</th>\n",
       "      <th>8</th>\n",
       "      <th>9</th>\n",
       "      <th>10</th>\n",
       "      <th>11</th>\n",
       "      <th>12</th>\n",
       "      <th>13</th>\n",
       "      <th>14</th>\n",
       "      <th>15</th>\n",
       "      <th>16</th>\n",
       "      <th>17</th>\n",
       "      <th>18</th>\n",
       "      <th>19</th>\n",
       "    </tr>\n",
       "  </thead>\n",
       "  <tbody>\n",
       "    <tr>\n",
       "      <th>0</th>\n",
       "      <td>0.055640</td>\n",
       "      <td>1.512612</td>\n",
       "      <td>0.735888</td>\n",
       "      <td>-0.196452</td>\n",
       "      <td>-0.216515</td>\n",
       "      <td>0.904850</td>\n",
       "      <td>0.551909</td>\n",
       "      <td>-1.538587</td>\n",
       "      <td>0.358426</td>\n",
       "      <td>0.530131</td>\n",
       "      <td>0.645912</td>\n",
       "      <td>-0.257739</td>\n",
       "      <td>-0.884687</td>\n",
       "      <td>-0.053250</td>\n",
       "      <td>0.181911</td>\n",
       "      <td>0.573726</td>\n",
       "      <td>-1.407255</td>\n",
       "      <td>1.641799</td>\n",
       "      <td>0.087086</td>\n",
       "      <td>-1.452274</td>\n",
       "    </tr>\n",
       "    <tr>\n",
       "      <th>1</th>\n",
       "      <td>-2.154519</td>\n",
       "      <td>-1.989354</td>\n",
       "      <td>-0.733126</td>\n",
       "      <td>1.762634</td>\n",
       "      <td>-0.588855</td>\n",
       "      <td>-0.295523</td>\n",
       "      <td>0.027152</td>\n",
       "      <td>0.005979</td>\n",
       "      <td>-0.403672</td>\n",
       "      <td>0.803702</td>\n",
       "      <td>0.044962</td>\n",
       "      <td>0.436148</td>\n",
       "      <td>-1.671332</td>\n",
       "      <td>-0.370949</td>\n",
       "      <td>0.752853</td>\n",
       "      <td>0.243152</td>\n",
       "      <td>-0.909387</td>\n",
       "      <td>-0.188488</td>\n",
       "      <td>0.124392</td>\n",
       "      <td>0.659078</td>\n",
       "    </tr>\n",
       "    <tr>\n",
       "      <th>2</th>\n",
       "      <td>-0.747512</td>\n",
       "      <td>-0.269158</td>\n",
       "      <td>-0.089920</td>\n",
       "      <td>0.607347</td>\n",
       "      <td>-0.809505</td>\n",
       "      <td>-0.659259</td>\n",
       "      <td>1.030085</td>\n",
       "      <td>0.449917</td>\n",
       "      <td>0.487897</td>\n",
       "      <td>-0.202785</td>\n",
       "      <td>1.366128</td>\n",
       "      <td>0.399873</td>\n",
       "      <td>1.270250</td>\n",
       "      <td>-0.339279</td>\n",
       "      <td>-1.236108</td>\n",
       "      <td>-1.090876</td>\n",
       "      <td>1.026717</td>\n",
       "      <td>-0.498959</td>\n",
       "      <td>-0.373106</td>\n",
       "      <td>0.231553</td>\n",
       "    </tr>\n",
       "    <tr>\n",
       "      <th>3</th>\n",
       "      <td>1.312038</td>\n",
       "      <td>-0.228906</td>\n",
       "      <td>-1.434094</td>\n",
       "      <td>1.188960</td>\n",
       "      <td>-0.119236</td>\n",
       "      <td>-2.722678</td>\n",
       "      <td>-0.363951</td>\n",
       "      <td>-1.052348</td>\n",
       "      <td>2.202005</td>\n",
       "      <td>-0.609376</td>\n",
       "      <td>-0.030595</td>\n",
       "      <td>-0.303323</td>\n",
       "      <td>0.314084</td>\n",
       "      <td>-0.689706</td>\n",
       "      <td>0.431796</td>\n",
       "      <td>-0.146887</td>\n",
       "      <td>-1.359664</td>\n",
       "      <td>-1.454056</td>\n",
       "      <td>-0.713643</td>\n",
       "      <td>-0.512765</td>\n",
       "    </tr>\n",
       "    <tr>\n",
       "      <th>4</th>\n",
       "      <td>-1.350703</td>\n",
       "      <td>1.369818</td>\n",
       "      <td>0.994983</td>\n",
       "      <td>-1.298466</td>\n",
       "      <td>0.751251</td>\n",
       "      <td>0.102326</td>\n",
       "      <td>1.211105</td>\n",
       "      <td>1.311580</td>\n",
       "      <td>-0.805233</td>\n",
       "      <td>-1.514801</td>\n",
       "      <td>-0.224046</td>\n",
       "      <td>0.892157</td>\n",
       "      <td>2.366844</td>\n",
       "      <td>0.357910</td>\n",
       "      <td>1.305209</td>\n",
       "      <td>0.834339</td>\n",
       "      <td>-0.129287</td>\n",
       "      <td>0.745044</td>\n",
       "      <td>0.951697</td>\n",
       "      <td>-1.219575</td>\n",
       "    </tr>\n",
       "  </tbody>\n",
       "</table>\n",
       "</div>"
      ],
      "text/plain": [
       "         0         1         2         3         4         5         6   \\\n",
       "0  0.055640  1.512612  0.735888 -0.196452 -0.216515  0.904850  0.551909   \n",
       "1 -2.154519 -1.989354 -0.733126  1.762634 -0.588855 -0.295523  0.027152   \n",
       "2 -0.747512 -0.269158 -0.089920  0.607347 -0.809505 -0.659259  1.030085   \n",
       "3  1.312038 -0.228906 -1.434094  1.188960 -0.119236 -2.722678 -0.363951   \n",
       "4 -1.350703  1.369818  0.994983 -1.298466  0.751251  0.102326  1.211105   \n",
       "\n",
       "         7         8         9         10        11        12        13  \\\n",
       "0 -1.538587  0.358426  0.530131  0.645912 -0.257739 -0.884687 -0.053250   \n",
       "1  0.005979 -0.403672  0.803702  0.044962  0.436148 -1.671332 -0.370949   \n",
       "2  0.449917  0.487897 -0.202785  1.366128  0.399873  1.270250 -0.339279   \n",
       "3 -1.052348  2.202005 -0.609376 -0.030595 -0.303323  0.314084 -0.689706   \n",
       "4  1.311580 -0.805233 -1.514801 -0.224046  0.892157  2.366844  0.357910   \n",
       "\n",
       "         14        15        16        17        18        19  \n",
       "0  0.181911  0.573726 -1.407255  1.641799  0.087086 -1.452274  \n",
       "1  0.752853  0.243152 -0.909387 -0.188488  0.124392  0.659078  \n",
       "2 -1.236108 -1.090876  1.026717 -0.498959 -0.373106  0.231553  \n",
       "3  0.431796 -0.146887 -1.359664 -1.454056 -0.713643 -0.512765  \n",
       "4  1.305209  0.834339 -0.129287  0.745044  0.951697 -1.219575  "
      ]
     },
     "execution_count": 5,
     "metadata": {},
     "output_type": "execute_result"
    }
   ],
   "source": [
    "df1.head()"
   ]
  },
  {
   "cell_type": "code",
   "execution_count": 6,
   "metadata": {
    "collapsed": false
   },
   "outputs": [
    {
     "data": {
      "text/html": [
       "<div>\n",
       "<table border=\"1\" class=\"dataframe\">\n",
       "  <thead>\n",
       "    <tr style=\"text-align: right;\">\n",
       "      <th></th>\n",
       "      <th>0</th>\n",
       "      <th>1</th>\n",
       "      <th>2</th>\n",
       "      <th>3</th>\n",
       "      <th>4</th>\n",
       "      <th>5</th>\n",
       "      <th>6</th>\n",
       "      <th>7</th>\n",
       "      <th>8</th>\n",
       "      <th>9</th>\n",
       "      <th>10</th>\n",
       "      <th>11</th>\n",
       "      <th>12</th>\n",
       "      <th>13</th>\n",
       "      <th>14</th>\n",
       "      <th>15</th>\n",
       "      <th>16</th>\n",
       "      <th>17</th>\n",
       "      <th>18</th>\n",
       "      <th>19</th>\n",
       "    </tr>\n",
       "  </thead>\n",
       "  <tbody>\n",
       "    <tr>\n",
       "      <th>0</th>\n",
       "      <td>1.481741</td>\n",
       "      <td>-0.126530</td>\n",
       "      <td>-1.526180</td>\n",
       "      <td>-1.755097</td>\n",
       "      <td>-1.359404</td>\n",
       "      <td>1.353500</td>\n",
       "      <td>-0.554771</td>\n",
       "      <td>-0.387369</td>\n",
       "      <td>0.053631</td>\n",
       "      <td>0.020083</td>\n",
       "      <td>0.792746</td>\n",
       "      <td>1.729616</td>\n",
       "      <td>0.717472</td>\n",
       "      <td>1.011916</td>\n",
       "      <td>1.100349</td>\n",
       "      <td>0.476507</td>\n",
       "      <td>2.493049</td>\n",
       "      <td>-0.695657</td>\n",
       "      <td>-0.607241</td>\n",
       "      <td>1.171680</td>\n",
       "    </tr>\n",
       "    <tr>\n",
       "      <th>1</th>\n",
       "      <td>-0.002637</td>\n",
       "      <td>1.445192</td>\n",
       "      <td>0.844643</td>\n",
       "      <td>0.678230</td>\n",
       "      <td>-0.653058</td>\n",
       "      <td>-0.440393</td>\n",
       "      <td>-0.433633</td>\n",
       "      <td>-0.287185</td>\n",
       "      <td>0.307637</td>\n",
       "      <td>-0.522157</td>\n",
       "      <td>0.630379</td>\n",
       "      <td>-0.423860</td>\n",
       "      <td>1.488721</td>\n",
       "      <td>0.165271</td>\n",
       "      <td>0.540141</td>\n",
       "      <td>0.001891</td>\n",
       "      <td>-0.464489</td>\n",
       "      <td>-0.956190</td>\n",
       "      <td>-0.705365</td>\n",
       "      <td>0.250638</td>\n",
       "    </tr>\n",
       "    <tr>\n",
       "      <th>2</th>\n",
       "      <td>-0.172612</td>\n",
       "      <td>-2.129120</td>\n",
       "      <td>-1.114995</td>\n",
       "      <td>-1.881684</td>\n",
       "      <td>0.279684</td>\n",
       "      <td>-0.616079</td>\n",
       "      <td>1.289964</td>\n",
       "      <td>-0.924920</td>\n",
       "      <td>1.270055</td>\n",
       "      <td>-1.253096</td>\n",
       "      <td>0.166709</td>\n",
       "      <td>1.823443</td>\n",
       "      <td>-0.279950</td>\n",
       "      <td>-0.200283</td>\n",
       "      <td>-0.668185</td>\n",
       "      <td>1.418917</td>\n",
       "      <td>-1.321706</td>\n",
       "      <td>-0.299116</td>\n",
       "      <td>-1.287807</td>\n",
       "      <td>-0.588500</td>\n",
       "    </tr>\n",
       "    <tr>\n",
       "      <th>3</th>\n",
       "      <td>-0.307816</td>\n",
       "      <td>-2.082119</td>\n",
       "      <td>1.766715</td>\n",
       "      <td>-1.629741</td>\n",
       "      <td>-0.850625</td>\n",
       "      <td>-0.255811</td>\n",
       "      <td>-0.086605</td>\n",
       "      <td>-0.790352</td>\n",
       "      <td>1.104164</td>\n",
       "      <td>-0.583218</td>\n",
       "      <td>-0.497299</td>\n",
       "      <td>0.047918</td>\n",
       "      <td>0.071793</td>\n",
       "      <td>-1.009099</td>\n",
       "      <td>-0.127210</td>\n",
       "      <td>-0.748865</td>\n",
       "      <td>0.679903</td>\n",
       "      <td>-0.162098</td>\n",
       "      <td>-0.415079</td>\n",
       "      <td>0.239912</td>\n",
       "    </tr>\n",
       "    <tr>\n",
       "      <th>4</th>\n",
       "      <td>0.443282</td>\n",
       "      <td>-0.355320</td>\n",
       "      <td>0.343230</td>\n",
       "      <td>0.076101</td>\n",
       "      <td>0.170259</td>\n",
       "      <td>1.308542</td>\n",
       "      <td>1.554031</td>\n",
       "      <td>-1.755391</td>\n",
       "      <td>-0.121759</td>\n",
       "      <td>-0.261235</td>\n",
       "      <td>-1.216196</td>\n",
       "      <td>0.484196</td>\n",
       "      <td>-2.153433</td>\n",
       "      <td>-3.187546</td>\n",
       "      <td>0.984768</td>\n",
       "      <td>1.093976</td>\n",
       "      <td>-0.186322</td>\n",
       "      <td>0.100168</td>\n",
       "      <td>-0.066713</td>\n",
       "      <td>0.265887</td>\n",
       "    </tr>\n",
       "  </tbody>\n",
       "</table>\n",
       "</div>"
      ],
      "text/plain": [
       "         0         1         2         3         4         5         6   \\\n",
       "0  1.481741 -0.126530 -1.526180 -1.755097 -1.359404  1.353500 -0.554771   \n",
       "1 -0.002637  1.445192  0.844643  0.678230 -0.653058 -0.440393 -0.433633   \n",
       "2 -0.172612 -2.129120 -1.114995 -1.881684  0.279684 -0.616079  1.289964   \n",
       "3 -0.307816 -2.082119  1.766715 -1.629741 -0.850625 -0.255811 -0.086605   \n",
       "4  0.443282 -0.355320  0.343230  0.076101  0.170259  1.308542  1.554031   \n",
       "\n",
       "         7         8         9         10        11        12        13  \\\n",
       "0 -0.387369  0.053631  0.020083  0.792746  1.729616  0.717472  1.011916   \n",
       "1 -0.287185  0.307637 -0.522157  0.630379 -0.423860  1.488721  0.165271   \n",
       "2 -0.924920  1.270055 -1.253096  0.166709  1.823443 -0.279950 -0.200283   \n",
       "3 -0.790352  1.104164 -0.583218 -0.497299  0.047918  0.071793 -1.009099   \n",
       "4 -1.755391 -0.121759 -0.261235 -1.216196  0.484196 -2.153433 -3.187546   \n",
       "\n",
       "         14        15        16        17        18        19  \n",
       "0  1.100349  0.476507  2.493049 -0.695657 -0.607241  1.171680  \n",
       "1  0.540141  0.001891 -0.464489 -0.956190 -0.705365  0.250638  \n",
       "2 -0.668185  1.418917 -1.321706 -0.299116 -1.287807 -0.588500  \n",
       "3 -0.127210 -0.748865  0.679903 -0.162098 -0.415079  0.239912  \n",
       "4  0.984768  1.093976 -0.186322  0.100168 -0.066713  0.265887  "
      ]
     },
     "execution_count": 6,
     "metadata": {},
     "output_type": "execute_result"
    }
   ],
   "source": [
    "df2.head()"
   ]
  },
  {
   "cell_type": "code",
   "execution_count": 7,
   "metadata": {
    "collapsed": false
   },
   "outputs": [
    {
     "data": {
      "text/html": [
       "<div>\n",
       "<table border=\"1\" class=\"dataframe\">\n",
       "  <thead>\n",
       "    <tr style=\"text-align: right;\">\n",
       "      <th></th>\n",
       "      <th>0</th>\n",
       "      <th>1</th>\n",
       "      <th>2</th>\n",
       "      <th>3</th>\n",
       "      <th>4</th>\n",
       "      <th>5</th>\n",
       "      <th>6</th>\n",
       "      <th>7</th>\n",
       "      <th>8</th>\n",
       "      <th>9</th>\n",
       "      <th>10</th>\n",
       "      <th>11</th>\n",
       "      <th>12</th>\n",
       "      <th>13</th>\n",
       "      <th>14</th>\n",
       "      <th>15</th>\n",
       "      <th>16</th>\n",
       "      <th>17</th>\n",
       "      <th>18</th>\n",
       "      <th>19</th>\n",
       "    </tr>\n",
       "  </thead>\n",
       "  <tbody>\n",
       "    <tr>\n",
       "      <th>0</th>\n",
       "      <td>1.000000</td>\n",
       "      <td>-0.022981</td>\n",
       "      <td>-0.003251</td>\n",
       "      <td>0.079556</td>\n",
       "      <td>-0.024256</td>\n",
       "      <td>-0.075125</td>\n",
       "      <td>0.055348</td>\n",
       "      <td>0.008935</td>\n",
       "      <td>0.060390</td>\n",
       "      <td>-0.046443</td>\n",
       "      <td>-0.072778</td>\n",
       "      <td>-0.100979</td>\n",
       "      <td>-0.119996</td>\n",
       "      <td>-0.146191</td>\n",
       "      <td>-0.028657</td>\n",
       "      <td>-0.058557</td>\n",
       "      <td>-0.030130</td>\n",
       "      <td>-0.145506</td>\n",
       "      <td>0.176320</td>\n",
       "      <td>-0.123878</td>\n",
       "    </tr>\n",
       "    <tr>\n",
       "      <th>1</th>\n",
       "      <td>-0.022981</td>\n",
       "      <td>1.000000</td>\n",
       "      <td>-0.116256</td>\n",
       "      <td>-0.098974</td>\n",
       "      <td>-0.047203</td>\n",
       "      <td>0.156665</td>\n",
       "      <td>0.013945</td>\n",
       "      <td>-0.183282</td>\n",
       "      <td>0.169918</td>\n",
       "      <td>-0.126153</td>\n",
       "      <td>0.028399</td>\n",
       "      <td>-0.043967</td>\n",
       "      <td>-0.060902</td>\n",
       "      <td>-0.162202</td>\n",
       "      <td>0.015408</td>\n",
       "      <td>-0.132974</td>\n",
       "      <td>-0.129763</td>\n",
       "      <td>0.045754</td>\n",
       "      <td>-0.093430</td>\n",
       "      <td>-0.124811</td>\n",
       "    </tr>\n",
       "    <tr>\n",
       "      <th>2</th>\n",
       "      <td>-0.003251</td>\n",
       "      <td>-0.116256</td>\n",
       "      <td>1.000000</td>\n",
       "      <td>0.060497</td>\n",
       "      <td>-0.085920</td>\n",
       "      <td>-0.053784</td>\n",
       "      <td>-0.102440</td>\n",
       "      <td>-0.022010</td>\n",
       "      <td>0.017837</td>\n",
       "      <td>0.026057</td>\n",
       "      <td>0.054382</td>\n",
       "      <td>-0.055135</td>\n",
       "      <td>0.081387</td>\n",
       "      <td>0.107351</td>\n",
       "      <td>0.055792</td>\n",
       "      <td>-0.063357</td>\n",
       "      <td>-0.147698</td>\n",
       "      <td>0.155392</td>\n",
       "      <td>0.104769</td>\n",
       "      <td>-0.007317</td>\n",
       "    </tr>\n",
       "    <tr>\n",
       "      <th>3</th>\n",
       "      <td>0.079556</td>\n",
       "      <td>-0.098974</td>\n",
       "      <td>0.060497</td>\n",
       "      <td>1.000000</td>\n",
       "      <td>-0.028266</td>\n",
       "      <td>-0.138103</td>\n",
       "      <td>-0.054183</td>\n",
       "      <td>-0.011220</td>\n",
       "      <td>-0.121161</td>\n",
       "      <td>0.108943</td>\n",
       "      <td>-0.047016</td>\n",
       "      <td>-0.134242</td>\n",
       "      <td>-0.145179</td>\n",
       "      <td>-0.128420</td>\n",
       "      <td>0.041962</td>\n",
       "      <td>-0.117658</td>\n",
       "      <td>0.031692</td>\n",
       "      <td>-0.230391</td>\n",
       "      <td>0.040642</td>\n",
       "      <td>-0.008998</td>\n",
       "    </tr>\n",
       "    <tr>\n",
       "      <th>4</th>\n",
       "      <td>-0.024256</td>\n",
       "      <td>-0.047203</td>\n",
       "      <td>-0.085920</td>\n",
       "      <td>-0.028266</td>\n",
       "      <td>1.000000</td>\n",
       "      <td>-0.066372</td>\n",
       "      <td>-0.121923</td>\n",
       "      <td>0.061821</td>\n",
       "      <td>-0.063572</td>\n",
       "      <td>-0.078551</td>\n",
       "      <td>0.001476</td>\n",
       "      <td>0.203256</td>\n",
       "      <td>0.053176</td>\n",
       "      <td>0.175035</td>\n",
       "      <td>0.128425</td>\n",
       "      <td>-0.086109</td>\n",
       "      <td>-0.003167</td>\n",
       "      <td>-0.083728</td>\n",
       "      <td>-0.016489</td>\n",
       "      <td>-0.167774</td>\n",
       "    </tr>\n",
       "  </tbody>\n",
       "</table>\n",
       "</div>"
      ],
      "text/plain": [
       "         0         1         2         3         4         5         6   \\\n",
       "0  1.000000 -0.022981 -0.003251  0.079556 -0.024256 -0.075125  0.055348   \n",
       "1 -0.022981  1.000000 -0.116256 -0.098974 -0.047203  0.156665  0.013945   \n",
       "2 -0.003251 -0.116256  1.000000  0.060497 -0.085920 -0.053784 -0.102440   \n",
       "3  0.079556 -0.098974  0.060497  1.000000 -0.028266 -0.138103 -0.054183   \n",
       "4 -0.024256 -0.047203 -0.085920 -0.028266  1.000000 -0.066372 -0.121923   \n",
       "\n",
       "         7         8         9         10        11        12        13  \\\n",
       "0  0.008935  0.060390 -0.046443 -0.072778 -0.100979 -0.119996 -0.146191   \n",
       "1 -0.183282  0.169918 -0.126153  0.028399 -0.043967 -0.060902 -0.162202   \n",
       "2 -0.022010  0.017837  0.026057  0.054382 -0.055135  0.081387  0.107351   \n",
       "3 -0.011220 -0.121161  0.108943 -0.047016 -0.134242 -0.145179 -0.128420   \n",
       "4  0.061821 -0.063572 -0.078551  0.001476  0.203256  0.053176  0.175035   \n",
       "\n",
       "         14        15        16        17        18        19  \n",
       "0 -0.028657 -0.058557 -0.030130 -0.145506  0.176320 -0.123878  \n",
       "1  0.015408 -0.132974 -0.129763  0.045754 -0.093430 -0.124811  \n",
       "2  0.055792 -0.063357 -0.147698  0.155392  0.104769 -0.007317  \n",
       "3  0.041962 -0.117658  0.031692 -0.230391  0.040642 -0.008998  \n",
       "4  0.128425 -0.086109 -0.003167 -0.083728 -0.016489 -0.167774  "
      ]
     },
     "execution_count": 7,
     "metadata": {},
     "output_type": "execute_result"
    }
   ],
   "source": [
    "df1corrmat.head()"
   ]
  },
  {
   "cell_type": "code",
   "execution_count": 8,
   "metadata": {
    "collapsed": false
   },
   "outputs": [
    {
     "data": {
      "text/html": [
       "<div>\n",
       "<table border=\"1\" class=\"dataframe\">\n",
       "  <thead>\n",
       "    <tr style=\"text-align: right;\">\n",
       "      <th></th>\n",
       "      <th>0</th>\n",
       "      <th>1</th>\n",
       "      <th>2</th>\n",
       "      <th>3</th>\n",
       "      <th>4</th>\n",
       "      <th>5</th>\n",
       "      <th>6</th>\n",
       "      <th>7</th>\n",
       "      <th>8</th>\n",
       "      <th>9</th>\n",
       "      <th>10</th>\n",
       "      <th>11</th>\n",
       "      <th>12</th>\n",
       "      <th>13</th>\n",
       "      <th>14</th>\n",
       "      <th>15</th>\n",
       "      <th>16</th>\n",
       "      <th>17</th>\n",
       "      <th>18</th>\n",
       "      <th>19</th>\n",
       "    </tr>\n",
       "  </thead>\n",
       "  <tbody>\n",
       "    <tr>\n",
       "      <th>0</th>\n",
       "      <td>1.000000</td>\n",
       "      <td>0.080499</td>\n",
       "      <td>-0.096901</td>\n",
       "      <td>0.212224</td>\n",
       "      <td>0.095901</td>\n",
       "      <td>-0.107080</td>\n",
       "      <td>0.063214</td>\n",
       "      <td>-0.132513</td>\n",
       "      <td>0.090670</td>\n",
       "      <td>-0.138016</td>\n",
       "      <td>-0.001526</td>\n",
       "      <td>-0.021655</td>\n",
       "      <td>0.003233</td>\n",
       "      <td>-0.088722</td>\n",
       "      <td>-0.055523</td>\n",
       "      <td>0.235366</td>\n",
       "      <td>-0.053579</td>\n",
       "      <td>0.011951</td>\n",
       "      <td>0.106103</td>\n",
       "      <td>-0.154219</td>\n",
       "    </tr>\n",
       "    <tr>\n",
       "      <th>1</th>\n",
       "      <td>0.080499</td>\n",
       "      <td>1.000000</td>\n",
       "      <td>-0.054979</td>\n",
       "      <td>0.176227</td>\n",
       "      <td>0.086226</td>\n",
       "      <td>0.058544</td>\n",
       "      <td>0.058641</td>\n",
       "      <td>0.018827</td>\n",
       "      <td>-0.130001</td>\n",
       "      <td>0.095419</td>\n",
       "      <td>0.026449</td>\n",
       "      <td>-0.036886</td>\n",
       "      <td>0.066718</td>\n",
       "      <td>-0.068192</td>\n",
       "      <td>0.086792</td>\n",
       "      <td>0.088197</td>\n",
       "      <td>0.000701</td>\n",
       "      <td>0.055007</td>\n",
       "      <td>0.032109</td>\n",
       "      <td>0.052019</td>\n",
       "    </tr>\n",
       "    <tr>\n",
       "      <th>2</th>\n",
       "      <td>-0.096901</td>\n",
       "      <td>-0.054979</td>\n",
       "      <td>1.000000</td>\n",
       "      <td>0.042271</td>\n",
       "      <td>-0.050222</td>\n",
       "      <td>0.057839</td>\n",
       "      <td>0.047662</td>\n",
       "      <td>0.084182</td>\n",
       "      <td>0.090247</td>\n",
       "      <td>0.013070</td>\n",
       "      <td>0.165525</td>\n",
       "      <td>-0.121131</td>\n",
       "      <td>0.021698</td>\n",
       "      <td>0.049598</td>\n",
       "      <td>-0.083911</td>\n",
       "      <td>0.103072</td>\n",
       "      <td>-0.050197</td>\n",
       "      <td>0.079074</td>\n",
       "      <td>-0.136556</td>\n",
       "      <td>-0.068713</td>\n",
       "    </tr>\n",
       "    <tr>\n",
       "      <th>3</th>\n",
       "      <td>0.212224</td>\n",
       "      <td>0.176227</td>\n",
       "      <td>0.042271</td>\n",
       "      <td>1.000000</td>\n",
       "      <td>0.081277</td>\n",
       "      <td>-0.065349</td>\n",
       "      <td>0.070908</td>\n",
       "      <td>0.104384</td>\n",
       "      <td>-0.086779</td>\n",
       "      <td>0.053862</td>\n",
       "      <td>-0.028715</td>\n",
       "      <td>-0.016287</td>\n",
       "      <td>-0.063257</td>\n",
       "      <td>-0.008876</td>\n",
       "      <td>0.042010</td>\n",
       "      <td>-0.122628</td>\n",
       "      <td>0.000534</td>\n",
       "      <td>0.066381</td>\n",
       "      <td>0.136511</td>\n",
       "      <td>-0.140364</td>\n",
       "    </tr>\n",
       "    <tr>\n",
       "      <th>4</th>\n",
       "      <td>0.095901</td>\n",
       "      <td>0.086226</td>\n",
       "      <td>-0.050222</td>\n",
       "      <td>0.081277</td>\n",
       "      <td>1.000000</td>\n",
       "      <td>-0.040711</td>\n",
       "      <td>-0.048301</td>\n",
       "      <td>0.041287</td>\n",
       "      <td>0.016508</td>\n",
       "      <td>-0.086873</td>\n",
       "      <td>-0.144587</td>\n",
       "      <td>0.106172</td>\n",
       "      <td>0.128383</td>\n",
       "      <td>-0.091407</td>\n",
       "      <td>0.036639</td>\n",
       "      <td>0.268731</td>\n",
       "      <td>-0.180559</td>\n",
       "      <td>0.119859</td>\n",
       "      <td>0.081776</td>\n",
       "      <td>-0.086327</td>\n",
       "    </tr>\n",
       "  </tbody>\n",
       "</table>\n",
       "</div>"
      ],
      "text/plain": [
       "         0         1         2         3         4         5         6   \\\n",
       "0  1.000000  0.080499 -0.096901  0.212224  0.095901 -0.107080  0.063214   \n",
       "1  0.080499  1.000000 -0.054979  0.176227  0.086226  0.058544  0.058641   \n",
       "2 -0.096901 -0.054979  1.000000  0.042271 -0.050222  0.057839  0.047662   \n",
       "3  0.212224  0.176227  0.042271  1.000000  0.081277 -0.065349  0.070908   \n",
       "4  0.095901  0.086226 -0.050222  0.081277  1.000000 -0.040711 -0.048301   \n",
       "\n",
       "         7         8         9         10        11        12        13  \\\n",
       "0 -0.132513  0.090670 -0.138016 -0.001526 -0.021655  0.003233 -0.088722   \n",
       "1  0.018827 -0.130001  0.095419  0.026449 -0.036886  0.066718 -0.068192   \n",
       "2  0.084182  0.090247  0.013070  0.165525 -0.121131  0.021698  0.049598   \n",
       "3  0.104384 -0.086779  0.053862 -0.028715 -0.016287 -0.063257 -0.008876   \n",
       "4  0.041287  0.016508 -0.086873 -0.144587  0.106172  0.128383 -0.091407   \n",
       "\n",
       "         14        15        16        17        18        19  \n",
       "0 -0.055523  0.235366 -0.053579  0.011951  0.106103 -0.154219  \n",
       "1  0.086792  0.088197  0.000701  0.055007  0.032109  0.052019  \n",
       "2 -0.083911  0.103072 -0.050197  0.079074 -0.136556 -0.068713  \n",
       "3  0.042010 -0.122628  0.000534  0.066381  0.136511 -0.140364  \n",
       "4  0.036639  0.268731 -0.180559  0.119859  0.081776 -0.086327  "
      ]
     },
     "execution_count": 8,
     "metadata": {},
     "output_type": "execute_result"
    }
   ],
   "source": [
    "df2corrmat.head()"
   ]
  },
  {
   "cell_type": "markdown",
   "metadata": {},
   "source": [
    "## Calculate $R^2$ from random matrices"
   ]
  },
  {
   "cell_type": "code",
   "execution_count": 10,
   "metadata": {
    "collapsed": false
   },
   "outputs": [
    {
     "data": {
      "text/plain": [
       "-0.94010995647153583"
      ]
     },
     "execution_count": 10,
     "metadata": {},
     "output_type": "execute_result"
    }
   ],
   "source": [
    "calc_rsq(df1.corr().as_matrix(), df2.corr().as_matrix())"
   ]
  },
  {
   "cell_type": "markdown",
   "metadata": {},
   "source": [
    "Now let's walk through the code above to see what it's doing."
   ]
  },
  {
   "cell_type": "code",
   "execution_count": 11,
   "metadata": {
    "collapsed": false
   },
   "outputs": [
    {
     "data": {
      "text/plain": [
       "(array([ 0,  0,  0,  0,  0,  0,  0,  0,  0,  0,  0,  0,  0,  0,  0,  0,  0,\n",
       "         0,  0,  1,  1,  1,  1,  1,  1,  1,  1,  1,  1,  1,  1,  1,  1,  1,\n",
       "         1,  1,  1,  2,  2,  2,  2,  2,  2,  2,  2,  2,  2,  2,  2,  2,  2,\n",
       "         2,  2,  2,  3,  3,  3,  3,  3,  3,  3,  3,  3,  3,  3,  3,  3,  3,\n",
       "         3,  3,  4,  4,  4,  4,  4,  4,  4,  4,  4,  4,  4,  4,  4,  4,  4,\n",
       "         5,  5,  5,  5,  5,  5,  5,  5,  5,  5,  5,  5,  5,  5,  6,  6,  6,\n",
       "         6,  6,  6,  6,  6,  6,  6,  6,  6,  6,  7,  7,  7,  7,  7,  7,  7,\n",
       "         7,  7,  7,  7,  7,  8,  8,  8,  8,  8,  8,  8,  8,  8,  8,  8,  9,\n",
       "         9,  9,  9,  9,  9,  9,  9,  9,  9, 10, 10, 10, 10, 10, 10, 10, 10,\n",
       "        10, 11, 11, 11, 11, 11, 11, 11, 11, 12, 12, 12, 12, 12, 12, 12, 13,\n",
       "        13, 13, 13, 13, 13, 14, 14, 14, 14, 14, 15, 15, 15, 15, 16, 16, 16,\n",
       "        17, 17, 18]),\n",
       " array([ 1,  2,  3,  4,  5,  6,  7,  8,  9, 10, 11, 12, 13, 14, 15, 16, 17,\n",
       "        18, 19,  2,  3,  4,  5,  6,  7,  8,  9, 10, 11, 12, 13, 14, 15, 16,\n",
       "        17, 18, 19,  3,  4,  5,  6,  7,  8,  9, 10, 11, 12, 13, 14, 15, 16,\n",
       "        17, 18, 19,  4,  5,  6,  7,  8,  9, 10, 11, 12, 13, 14, 15, 16, 17,\n",
       "        18, 19,  5,  6,  7,  8,  9, 10, 11, 12, 13, 14, 15, 16, 17, 18, 19,\n",
       "         6,  7,  8,  9, 10, 11, 12, 13, 14, 15, 16, 17, 18, 19,  7,  8,  9,\n",
       "        10, 11, 12, 13, 14, 15, 16, 17, 18, 19,  8,  9, 10, 11, 12, 13, 14,\n",
       "        15, 16, 17, 18, 19,  9, 10, 11, 12, 13, 14, 15, 16, 17, 18, 19, 10,\n",
       "        11, 12, 13, 14, 15, 16, 17, 18, 19, 11, 12, 13, 14, 15, 16, 17, 18,\n",
       "        19, 12, 13, 14, 15, 16, 17, 18, 19, 13, 14, 15, 16, 17, 18, 19, 14,\n",
       "        15, 16, 17, 18, 19, 15, 16, 17, 18, 19, 16, 17, 18, 19, 17, 18, 19,\n",
       "        18, 19, 19]))"
      ]
     },
     "execution_count": 11,
     "metadata": {},
     "output_type": "execute_result"
    }
   ],
   "source": [
    "inds = np.triu_indices_from( df2.corr().as_matrix(), k=1)\n",
    "inds"
   ]
  },
  {
   "cell_type": "code",
   "execution_count": 12,
   "metadata": {
    "collapsed": true
   },
   "outputs": [],
   "source": [
    "x =  df1.corr().as_matrix()[inds]\n",
    "y =  df2.corr().as_matrix()[inds]"
   ]
  },
  {
   "cell_type": "code",
   "execution_count": 13,
   "metadata": {
    "collapsed": false
   },
   "outputs": [
    {
     "name": "stdout",
     "output_type": "stream",
     "text": [
      "(20, 20) matrix gives an upper triangle with length 190\n"
     ]
    }
   ],
   "source": [
    "print(str(df1.corr().shape) + \" matrix gives an upper triangle with length \" + str((20*(20-1))/2))"
   ]
  },
  {
   "cell_type": "markdown",
   "metadata": {},
   "source": [
    "`df.corr()` is a $20\\times 20$ matrix, so getting the upper triangle should give us $\\frac{20\\cdot (20-1)}{2}=190$ cells in the upper triangle."
   ]
  },
  {
   "cell_type": "code",
   "execution_count": 14,
   "metadata": {
    "collapsed": false
   },
   "outputs": [
    {
     "data": {
      "text/plain": [
       "190"
      ]
     },
     "execution_count": 14,
     "metadata": {},
     "output_type": "execute_result"
    }
   ],
   "source": [
    "len(x)"
   ]
  },
  {
   "cell_type": "markdown",
   "metadata": {},
   "source": [
    "Yay, we get what we expect!"
   ]
  },
  {
   "cell_type": "code",
   "execution_count": 98,
   "metadata": {
    "collapsed": false
   },
   "outputs": [
    {
     "data": {
      "text/plain": [
       "<matplotlib.image.AxesImage at 0x7f0edaa67590>"
      ]
     },
     "execution_count": 98,
     "metadata": {},
     "output_type": "execute_result"
    },
    {
     "data": {
      "image/png": "[encoded data removed]",
      "text/plain": [
       "<matplotlib.figure.Figure at 0x7f0edaac5290>"
      ]
     },
     "metadata": {},
     "output_type": "display_data"
    }
   ],
   "source": [
    "plt.matshow(df1.corr(), vmin=-1, vmax=1, cmap='bwr')"
   ]
  },
  {
   "cell_type": "code",
   "execution_count": 15,
   "metadata": {
    "collapsed": false
   },
   "outputs": [
    {
     "data": {
      "text/html": [
       "<div>\n",
       "<table border=\"1\" class=\"dataframe\">\n",
       "  <thead>\n",
       "    <tr style=\"text-align: right;\">\n",
       "      <th></th>\n",
       "      <th>0</th>\n",
       "      <th>1</th>\n",
       "      <th>2</th>\n",
       "      <th>3</th>\n",
       "      <th>4</th>\n",
       "      <th>5</th>\n",
       "      <th>6</th>\n",
       "      <th>7</th>\n",
       "      <th>8</th>\n",
       "      <th>9</th>\n",
       "      <th>10</th>\n",
       "      <th>11</th>\n",
       "      <th>12</th>\n",
       "      <th>13</th>\n",
       "      <th>14</th>\n",
       "      <th>15</th>\n",
       "      <th>16</th>\n",
       "      <th>17</th>\n",
       "      <th>18</th>\n",
       "      <th>19</th>\n",
       "    </tr>\n",
       "  </thead>\n",
       "  <tbody>\n",
       "    <tr>\n",
       "      <th>0</th>\n",
       "      <td>1.00</td>\n",
       "      <td>-0.02</td>\n",
       "      <td>-0.00</td>\n",
       "      <td>0.08</td>\n",
       "      <td>-0.02</td>\n",
       "      <td>-0.08</td>\n",
       "      <td>0.06</td>\n",
       "      <td>0.01</td>\n",
       "      <td>0.06</td>\n",
       "      <td>-0.05</td>\n",
       "      <td>-0.07</td>\n",
       "      <td>-0.10</td>\n",
       "      <td>-0.12</td>\n",
       "      <td>-0.15</td>\n",
       "      <td>-0.03</td>\n",
       "      <td>-0.06</td>\n",
       "      <td>-0.03</td>\n",
       "      <td>-0.15</td>\n",
       "      <td>0.18</td>\n",
       "      <td>-0.12</td>\n",
       "    </tr>\n",
       "    <tr>\n",
       "      <th>1</th>\n",
       "      <td>-0.02</td>\n",
       "      <td>1.00</td>\n",
       "      <td>-0.12</td>\n",
       "      <td>-0.10</td>\n",
       "      <td>-0.05</td>\n",
       "      <td>0.16</td>\n",
       "      <td>0.01</td>\n",
       "      <td>-0.18</td>\n",
       "      <td>0.17</td>\n",
       "      <td>-0.13</td>\n",
       "      <td>0.03</td>\n",
       "      <td>-0.04</td>\n",
       "      <td>-0.06</td>\n",
       "      <td>-0.16</td>\n",
       "      <td>0.02</td>\n",
       "      <td>-0.13</td>\n",
       "      <td>-0.13</td>\n",
       "      <td>0.05</td>\n",
       "      <td>-0.09</td>\n",
       "      <td>-0.12</td>\n",
       "    </tr>\n",
       "    <tr>\n",
       "      <th>2</th>\n",
       "      <td>-0.00</td>\n",
       "      <td>-0.12</td>\n",
       "      <td>1.00</td>\n",
       "      <td>0.06</td>\n",
       "      <td>-0.09</td>\n",
       "      <td>-0.05</td>\n",
       "      <td>-0.10</td>\n",
       "      <td>-0.02</td>\n",
       "      <td>0.02</td>\n",
       "      <td>0.03</td>\n",
       "      <td>0.05</td>\n",
       "      <td>-0.06</td>\n",
       "      <td>0.08</td>\n",
       "      <td>0.11</td>\n",
       "      <td>0.06</td>\n",
       "      <td>-0.06</td>\n",
       "      <td>-0.15</td>\n",
       "      <td>0.16</td>\n",
       "      <td>0.10</td>\n",
       "      <td>-0.01</td>\n",
       "    </tr>\n",
       "    <tr>\n",
       "      <th>3</th>\n",
       "      <td>0.08</td>\n",
       "      <td>-0.10</td>\n",
       "      <td>0.06</td>\n",
       "      <td>1.00</td>\n",
       "      <td>-0.03</td>\n",
       "      <td>-0.14</td>\n",
       "      <td>-0.05</td>\n",
       "      <td>-0.01</td>\n",
       "      <td>-0.12</td>\n",
       "      <td>0.11</td>\n",
       "      <td>-0.05</td>\n",
       "      <td>-0.13</td>\n",
       "      <td>-0.15</td>\n",
       "      <td>-0.13</td>\n",
       "      <td>0.04</td>\n",
       "      <td>-0.12</td>\n",
       "      <td>0.03</td>\n",
       "      <td>-0.23</td>\n",
       "      <td>0.04</td>\n",
       "      <td>-0.01</td>\n",
       "    </tr>\n",
       "    <tr>\n",
       "      <th>4</th>\n",
       "      <td>-0.02</td>\n",
       "      <td>-0.05</td>\n",
       "      <td>-0.09</td>\n",
       "      <td>-0.03</td>\n",
       "      <td>1.00</td>\n",
       "      <td>-0.07</td>\n",
       "      <td>-0.12</td>\n",
       "      <td>0.06</td>\n",
       "      <td>-0.06</td>\n",
       "      <td>-0.08</td>\n",
       "      <td>0.00</td>\n",
       "      <td>0.20</td>\n",
       "      <td>0.05</td>\n",
       "      <td>0.18</td>\n",
       "      <td>0.13</td>\n",
       "      <td>-0.09</td>\n",
       "      <td>-0.00</td>\n",
       "      <td>-0.08</td>\n",
       "      <td>-0.02</td>\n",
       "      <td>-0.17</td>\n",
       "    </tr>\n",
       "    <tr>\n",
       "      <th>5</th>\n",
       "      <td>-0.08</td>\n",
       "      <td>0.16</td>\n",
       "      <td>-0.05</td>\n",
       "      <td>-0.14</td>\n",
       "      <td>-0.07</td>\n",
       "      <td>1.00</td>\n",
       "      <td>0.09</td>\n",
       "      <td>-0.12</td>\n",
       "      <td>-0.01</td>\n",
       "      <td>-0.11</td>\n",
       "      <td>0.21</td>\n",
       "      <td>-0.24</td>\n",
       "      <td>0.04</td>\n",
       "      <td>-0.11</td>\n",
       "      <td>-0.05</td>\n",
       "      <td>-0.08</td>\n",
       "      <td>0.03</td>\n",
       "      <td>0.10</td>\n",
       "      <td>-0.07</td>\n",
       "      <td>-0.02</td>\n",
       "    </tr>\n",
       "    <tr>\n",
       "      <th>6</th>\n",
       "      <td>0.06</td>\n",
       "      <td>0.01</td>\n",
       "      <td>-0.10</td>\n",
       "      <td>-0.05</td>\n",
       "      <td>-0.12</td>\n",
       "      <td>0.09</td>\n",
       "      <td>1.00</td>\n",
       "      <td>0.02</td>\n",
       "      <td>-0.08</td>\n",
       "      <td>-0.13</td>\n",
       "      <td>0.12</td>\n",
       "      <td>-0.08</td>\n",
       "      <td>0.12</td>\n",
       "      <td>0.11</td>\n",
       "      <td>-0.17</td>\n",
       "      <td>0.08</td>\n",
       "      <td>0.07</td>\n",
       "      <td>0.06</td>\n",
       "      <td>-0.07</td>\n",
       "      <td>0.03</td>\n",
       "    </tr>\n",
       "    <tr>\n",
       "      <th>7</th>\n",
       "      <td>0.01</td>\n",
       "      <td>-0.18</td>\n",
       "      <td>-0.02</td>\n",
       "      <td>-0.01</td>\n",
       "      <td>0.06</td>\n",
       "      <td>-0.12</td>\n",
       "      <td>0.02</td>\n",
       "      <td>1.00</td>\n",
       "      <td>-0.10</td>\n",
       "      <td>-0.06</td>\n",
       "      <td>-0.21</td>\n",
       "      <td>0.22</td>\n",
       "      <td>0.08</td>\n",
       "      <td>0.15</td>\n",
       "      <td>-0.00</td>\n",
       "      <td>-0.01</td>\n",
       "      <td>-0.13</td>\n",
       "      <td>0.11</td>\n",
       "      <td>-0.01</td>\n",
       "      <td>0.10</td>\n",
       "    </tr>\n",
       "    <tr>\n",
       "      <th>8</th>\n",
       "      <td>0.06</td>\n",
       "      <td>0.17</td>\n",
       "      <td>0.02</td>\n",
       "      <td>-0.12</td>\n",
       "      <td>-0.06</td>\n",
       "      <td>-0.01</td>\n",
       "      <td>-0.08</td>\n",
       "      <td>-0.10</td>\n",
       "      <td>1.00</td>\n",
       "      <td>-0.12</td>\n",
       "      <td>0.03</td>\n",
       "      <td>-0.02</td>\n",
       "      <td>-0.08</td>\n",
       "      <td>-0.05</td>\n",
       "      <td>0.08</td>\n",
       "      <td>-0.02</td>\n",
       "      <td>-0.02</td>\n",
       "      <td>-0.06</td>\n",
       "      <td>-0.01</td>\n",
       "      <td>-0.03</td>\n",
       "    </tr>\n",
       "    <tr>\n",
       "      <th>9</th>\n",
       "      <td>-0.05</td>\n",
       "      <td>-0.13</td>\n",
       "      <td>0.03</td>\n",
       "      <td>0.11</td>\n",
       "      <td>-0.08</td>\n",
       "      <td>-0.11</td>\n",
       "      <td>-0.13</td>\n",
       "      <td>-0.06</td>\n",
       "      <td>-0.12</td>\n",
       "      <td>1.00</td>\n",
       "      <td>0.01</td>\n",
       "      <td>0.17</td>\n",
       "      <td>-0.11</td>\n",
       "      <td>0.05</td>\n",
       "      <td>0.13</td>\n",
       "      <td>-0.02</td>\n",
       "      <td>0.01</td>\n",
       "      <td>0.08</td>\n",
       "      <td>0.09</td>\n",
       "      <td>0.06</td>\n",
       "    </tr>\n",
       "    <tr>\n",
       "      <th>10</th>\n",
       "      <td>-0.07</td>\n",
       "      <td>0.03</td>\n",
       "      <td>0.05</td>\n",
       "      <td>-0.05</td>\n",
       "      <td>0.00</td>\n",
       "      <td>0.21</td>\n",
       "      <td>0.12</td>\n",
       "      <td>-0.21</td>\n",
       "      <td>0.03</td>\n",
       "      <td>0.01</td>\n",
       "      <td>1.00</td>\n",
       "      <td>-0.31</td>\n",
       "      <td>0.13</td>\n",
       "      <td>0.05</td>\n",
       "      <td>0.12</td>\n",
       "      <td>-0.07</td>\n",
       "      <td>-0.01</td>\n",
       "      <td>0.16</td>\n",
       "      <td>-0.16</td>\n",
       "      <td>-0.11</td>\n",
       "    </tr>\n",
       "    <tr>\n",
       "      <th>11</th>\n",
       "      <td>-0.10</td>\n",
       "      <td>-0.04</td>\n",
       "      <td>-0.06</td>\n",
       "      <td>-0.13</td>\n",
       "      <td>0.20</td>\n",
       "      <td>-0.24</td>\n",
       "      <td>-0.08</td>\n",
       "      <td>0.22</td>\n",
       "      <td>-0.02</td>\n",
       "      <td>0.17</td>\n",
       "      <td>-0.31</td>\n",
       "      <td>1.00</td>\n",
       "      <td>0.10</td>\n",
       "      <td>0.23</td>\n",
       "      <td>0.03</td>\n",
       "      <td>0.10</td>\n",
       "      <td>0.03</td>\n",
       "      <td>0.00</td>\n",
       "      <td>0.14</td>\n",
       "      <td>0.17</td>\n",
       "    </tr>\n",
       "    <tr>\n",
       "      <th>12</th>\n",
       "      <td>-0.12</td>\n",
       "      <td>-0.06</td>\n",
       "      <td>0.08</td>\n",
       "      <td>-0.15</td>\n",
       "      <td>0.05</td>\n",
       "      <td>0.04</td>\n",
       "      <td>0.12</td>\n",
       "      <td>0.08</td>\n",
       "      <td>-0.08</td>\n",
       "      <td>-0.11</td>\n",
       "      <td>0.13</td>\n",
       "      <td>0.10</td>\n",
       "      <td>1.00</td>\n",
       "      <td>0.28</td>\n",
       "      <td>-0.07</td>\n",
       "      <td>0.01</td>\n",
       "      <td>-0.08</td>\n",
       "      <td>0.04</td>\n",
       "      <td>-0.24</td>\n",
       "      <td>-0.04</td>\n",
       "    </tr>\n",
       "    <tr>\n",
       "      <th>13</th>\n",
       "      <td>-0.15</td>\n",
       "      <td>-0.16</td>\n",
       "      <td>0.11</td>\n",
       "      <td>-0.13</td>\n",
       "      <td>0.18</td>\n",
       "      <td>-0.11</td>\n",
       "      <td>0.11</td>\n",
       "      <td>0.15</td>\n",
       "      <td>-0.05</td>\n",
       "      <td>0.05</td>\n",
       "      <td>0.05</td>\n",
       "      <td>0.23</td>\n",
       "      <td>0.28</td>\n",
       "      <td>1.00</td>\n",
       "      <td>0.17</td>\n",
       "      <td>-0.02</td>\n",
       "      <td>0.01</td>\n",
       "      <td>0.10</td>\n",
       "      <td>-0.10</td>\n",
       "      <td>0.01</td>\n",
       "    </tr>\n",
       "    <tr>\n",
       "      <th>14</th>\n",
       "      <td>-0.03</td>\n",
       "      <td>0.02</td>\n",
       "      <td>0.06</td>\n",
       "      <td>0.04</td>\n",
       "      <td>0.13</td>\n",
       "      <td>-0.05</td>\n",
       "      <td>-0.17</td>\n",
       "      <td>-0.00</td>\n",
       "      <td>0.08</td>\n",
       "      <td>0.13</td>\n",
       "      <td>0.12</td>\n",
       "      <td>0.03</td>\n",
       "      <td>-0.07</td>\n",
       "      <td>0.17</td>\n",
       "      <td>1.00</td>\n",
       "      <td>-0.02</td>\n",
       "      <td>0.08</td>\n",
       "      <td>0.13</td>\n",
       "      <td>-0.07</td>\n",
       "      <td>0.02</td>\n",
       "    </tr>\n",
       "    <tr>\n",
       "      <th>15</th>\n",
       "      <td>-0.06</td>\n",
       "      <td>-0.13</td>\n",
       "      <td>-0.06</td>\n",
       "      <td>-0.12</td>\n",
       "      <td>-0.09</td>\n",
       "      <td>-0.08</td>\n",
       "      <td>0.08</td>\n",
       "      <td>-0.01</td>\n",
       "      <td>-0.02</td>\n",
       "      <td>-0.02</td>\n",
       "      <td>-0.07</td>\n",
       "      <td>0.10</td>\n",
       "      <td>0.01</td>\n",
       "      <td>-0.02</td>\n",
       "      <td>-0.02</td>\n",
       "      <td>1.00</td>\n",
       "      <td>0.20</td>\n",
       "      <td>0.03</td>\n",
       "      <td>0.05</td>\n",
       "      <td>0.11</td>\n",
       "    </tr>\n",
       "    <tr>\n",
       "      <th>16</th>\n",
       "      <td>-0.03</td>\n",
       "      <td>-0.13</td>\n",
       "      <td>-0.15</td>\n",
       "      <td>0.03</td>\n",
       "      <td>-0.00</td>\n",
       "      <td>0.03</td>\n",
       "      <td>0.07</td>\n",
       "      <td>-0.13</td>\n",
       "      <td>-0.02</td>\n",
       "      <td>0.01</td>\n",
       "      <td>-0.01</td>\n",
       "      <td>0.03</td>\n",
       "      <td>-0.08</td>\n",
       "      <td>0.01</td>\n",
       "      <td>0.08</td>\n",
       "      <td>0.20</td>\n",
       "      <td>1.00</td>\n",
       "      <td>-0.03</td>\n",
       "      <td>-0.00</td>\n",
       "      <td>0.15</td>\n",
       "    </tr>\n",
       "    <tr>\n",
       "      <th>17</th>\n",
       "      <td>-0.15</td>\n",
       "      <td>0.05</td>\n",
       "      <td>0.16</td>\n",
       "      <td>-0.23</td>\n",
       "      <td>-0.08</td>\n",
       "      <td>0.10</td>\n",
       "      <td>0.06</td>\n",
       "      <td>0.11</td>\n",
       "      <td>-0.06</td>\n",
       "      <td>0.08</td>\n",
       "      <td>0.16</td>\n",
       "      <td>0.00</td>\n",
       "      <td>0.04</td>\n",
       "      <td>0.10</td>\n",
       "      <td>0.13</td>\n",
       "      <td>0.03</td>\n",
       "      <td>-0.03</td>\n",
       "      <td>1.00</td>\n",
       "      <td>-0.17</td>\n",
       "      <td>0.01</td>\n",
       "    </tr>\n",
       "    <tr>\n",
       "      <th>18</th>\n",
       "      <td>0.18</td>\n",
       "      <td>-0.09</td>\n",
       "      <td>0.10</td>\n",
       "      <td>0.04</td>\n",
       "      <td>-0.02</td>\n",
       "      <td>-0.07</td>\n",
       "      <td>-0.07</td>\n",
       "      <td>-0.01</td>\n",
       "      <td>-0.01</td>\n",
       "      <td>0.09</td>\n",
       "      <td>-0.16</td>\n",
       "      <td>0.14</td>\n",
       "      <td>-0.24</td>\n",
       "      <td>-0.10</td>\n",
       "      <td>-0.07</td>\n",
       "      <td>0.05</td>\n",
       "      <td>-0.00</td>\n",
       "      <td>-0.17</td>\n",
       "      <td>1.00</td>\n",
       "      <td>0.05</td>\n",
       "    </tr>\n",
       "    <tr>\n",
       "      <th>19</th>\n",
       "      <td>-0.12</td>\n",
       "      <td>-0.12</td>\n",
       "      <td>-0.01</td>\n",
       "      <td>-0.01</td>\n",
       "      <td>-0.17</td>\n",
       "      <td>-0.02</td>\n",
       "      <td>0.03</td>\n",
       "      <td>0.10</td>\n",
       "      <td>-0.03</td>\n",
       "      <td>0.06</td>\n",
       "      <td>-0.11</td>\n",
       "      <td>0.17</td>\n",
       "      <td>-0.04</td>\n",
       "      <td>0.01</td>\n",
       "      <td>0.02</td>\n",
       "      <td>0.11</td>\n",
       "      <td>0.15</td>\n",
       "      <td>0.01</td>\n",
       "      <td>0.05</td>\n",
       "      <td>1.00</td>\n",
       "    </tr>\n",
       "  </tbody>\n",
       "</table>\n",
       "</div>"
      ],
      "text/plain": [
       "      0     1     2     3     4     5     6     7     8     9     10    11  \\\n",
       "0   1.00 -0.02 -0.00  0.08 -0.02 -0.08  0.06  0.01  0.06 -0.05 -0.07 -0.10   \n",
       "1  -0.02  1.00 -0.12 -0.10 -0.05  0.16  0.01 -0.18  0.17 -0.13  0.03 -0.04   \n",
       "2  -0.00 -0.12  1.00  0.06 -0.09 -0.05 -0.10 -0.02  0.02  0.03  0.05 -0.06   \n",
       "3   0.08 -0.10  0.06  1.00 -0.03 -0.14 -0.05 -0.01 -0.12  0.11 -0.05 -0.13   \n",
       "4  -0.02 -0.05 -0.09 -0.03  1.00 -0.07 -0.12  0.06 -0.06 -0.08  0.00  0.20   \n",
       "5  -0.08  0.16 -0.05 -0.14 -0.07  1.00  0.09 -0.12 -0.01 -0.11  0.21 -0.24   \n",
       "6   0.06  0.01 -0.10 -0.05 -0.12  0.09  1.00  0.02 -0.08 -0.13  0.12 -0.08   \n",
       "7   0.01 -0.18 -0.02 -0.01  0.06 -0.12  0.02  1.00 -0.10 -0.06 -0.21  0.22   \n",
       "8   0.06  0.17  0.02 -0.12 -0.06 -0.01 -0.08 -0.10  1.00 -0.12  0.03 -0.02   \n",
       "9  -0.05 -0.13  0.03  0.11 -0.08 -0.11 -0.13 -0.06 -0.12  1.00  0.01  0.17   \n",
       "10 -0.07  0.03  0.05 -0.05  0.00  0.21  0.12 -0.21  0.03  0.01  1.00 -0.31   \n",
       "11 -0.10 -0.04 -0.06 -0.13  0.20 -0.24 -0.08  0.22 -0.02  0.17 -0.31  1.00   \n",
       "12 -0.12 -0.06  0.08 -0.15  0.05  0.04  0.12  0.08 -0.08 -0.11  0.13  0.10   \n",
       "13 -0.15 -0.16  0.11 -0.13  0.18 -0.11  0.11  0.15 -0.05  0.05  0.05  0.23   \n",
       "14 -0.03  0.02  0.06  0.04  0.13 -0.05 -0.17 -0.00  0.08  0.13  0.12  0.03   \n",
       "15 -0.06 -0.13 -0.06 -0.12 -0.09 -0.08  0.08 -0.01 -0.02 -0.02 -0.07  0.10   \n",
       "16 -0.03 -0.13 -0.15  0.03 -0.00  0.03  0.07 -0.13 -0.02  0.01 -0.01  0.03   \n",
       "17 -0.15  0.05  0.16 -0.23 -0.08  0.10  0.06  0.11 -0.06  0.08  0.16  0.00   \n",
       "18  0.18 -0.09  0.10  0.04 -0.02 -0.07 -0.07 -0.01 -0.01  0.09 -0.16  0.14   \n",
       "19 -0.12 -0.12 -0.01 -0.01 -0.17 -0.02  0.03  0.10 -0.03  0.06 -0.11  0.17   \n",
       "\n",
       "      12    13    14    15    16    17    18    19  \n",
       "0  -0.12 -0.15 -0.03 -0.06 -0.03 -0.15  0.18 -0.12  \n",
       "1  -0.06 -0.16  0.02 -0.13 -0.13  0.05 -0.09 -0.12  \n",
       "2   0.08  0.11  0.06 -0.06 -0.15  0.16  0.10 -0.01  \n",
       "3  -0.15 -0.13  0.04 -0.12  0.03 -0.23  0.04 -0.01  \n",
       "4   0.05  0.18  0.13 -0.09 -0.00 -0.08 -0.02 -0.17  \n",
       "5   0.04 -0.11 -0.05 -0.08  0.03  0.10 -0.07 -0.02  \n",
       "6   0.12  0.11 -0.17  0.08  0.07  0.06 -0.07  0.03  \n",
       "7   0.08  0.15 -0.00 -0.01 -0.13  0.11 -0.01  0.10  \n",
       "8  -0.08 -0.05  0.08 -0.02 -0.02 -0.06 -0.01 -0.03  \n",
       "9  -0.11  0.05  0.13 -0.02  0.01  0.08  0.09  0.06  \n",
       "10  0.13  0.05  0.12 -0.07 -0.01  0.16 -0.16 -0.11  \n",
       "11  0.10  0.23  0.03  0.10  0.03  0.00  0.14  0.17  \n",
       "12  1.00  0.28 -0.07  0.01 -0.08  0.04 -0.24 -0.04  \n",
       "13  0.28  1.00  0.17 -0.02  0.01  0.10 -0.10  0.01  \n",
       "14 -0.07  0.17  1.00 -0.02  0.08  0.13 -0.07  0.02  \n",
       "15  0.01 -0.02 -0.02  1.00  0.20  0.03  0.05  0.11  \n",
       "16 -0.08  0.01  0.08  0.20  1.00 -0.03 -0.00  0.15  \n",
       "17  0.04  0.10  0.13  0.03 -0.03  1.00 -0.17  0.01  \n",
       "18 -0.24 -0.10 -0.07  0.05 -0.00 -0.17  1.00  0.05  \n",
       "19 -0.04  0.01  0.02  0.11  0.15  0.01  0.05  1.00  "
      ]
     },
     "execution_count": 15,
     "metadata": {},
     "output_type": "execute_result"
    }
   ],
   "source": [
    "df1.corr().round(2)"
   ]
  },
  {
   "cell_type": "code",
   "execution_count": 16,
   "metadata": {
    "collapsed": false
   },
   "outputs": [
    {
     "data": {
      "text/plain": [
       "array([-0.02, -0.  ,  0.08, -0.02, -0.08,  0.06,  0.01,  0.06, -0.05,\n",
       "       -0.07, -0.1 , -0.12, -0.15, -0.03, -0.06, -0.03, -0.15,  0.18,\n",
       "       -0.12, -0.12, -0.1 , -0.05,  0.16,  0.01, -0.18,  0.17, -0.13,\n",
       "        0.03, -0.04, -0.06, -0.16,  0.02, -0.13, -0.13,  0.05, -0.09,\n",
       "       -0.12,  0.06, -0.09, -0.05, -0.1 , -0.02,  0.02,  0.03,  0.05,\n",
       "       -0.06,  0.08,  0.11,  0.06, -0.06, -0.15,  0.16,  0.1 , -0.01,\n",
       "       -0.03, -0.14, -0.05, -0.01, -0.12,  0.11, -0.05, -0.13, -0.15,\n",
       "       -0.13,  0.04, -0.12,  0.03, -0.23,  0.04, -0.01, -0.07, -0.12,\n",
       "        0.06, -0.06, -0.08,  0.  ,  0.2 ,  0.05,  0.18,  0.13, -0.09,\n",
       "       -0.  , -0.08, -0.02, -0.17,  0.09, -0.12, -0.01, -0.11,  0.21,\n",
       "       -0.24,  0.04, -0.11, -0.05, -0.08,  0.03,  0.1 , -0.07, -0.02,\n",
       "        0.02, -0.08, -0.13,  0.12, -0.08,  0.12,  0.11, -0.17,  0.08,\n",
       "        0.07,  0.06, -0.07,  0.03, -0.1 , -0.06, -0.21,  0.22,  0.08,\n",
       "        0.15, -0.  , -0.01, -0.13,  0.11, -0.01,  0.1 , -0.12,  0.03,\n",
       "       -0.02, -0.08, -0.05,  0.08, -0.02, -0.02, -0.06, -0.01, -0.03,\n",
       "        0.01,  0.17, -0.11,  0.05,  0.13, -0.02,  0.01,  0.08,  0.09,\n",
       "        0.06, -0.31,  0.13,  0.05,  0.12, -0.07, -0.01,  0.16, -0.16,\n",
       "       -0.11,  0.1 ,  0.23,  0.03,  0.1 ,  0.03,  0.  ,  0.14,  0.17,\n",
       "        0.28, -0.07,  0.01, -0.08,  0.04, -0.24, -0.04,  0.17, -0.02,\n",
       "        0.01,  0.1 , -0.1 ,  0.01, -0.02,  0.08,  0.13, -0.07,  0.02,\n",
       "        0.2 ,  0.03,  0.05,  0.11, -0.03, -0.  ,  0.15, -0.17,  0.01,  0.05])"
      ]
     },
     "execution_count": 16,
     "metadata": {},
     "output_type": "execute_result"
    }
   ],
   "source": [
    "x.round(2)"
   ]
  },
  {
   "cell_type": "markdown",
   "metadata": {},
   "source": [
    "These also match, so that's good. Time to walk through the $R^2$ calculation."
   ]
  },
  {
   "cell_type": "code",
   "execution_count": 17,
   "metadata": {
    "collapsed": false
   },
   "outputs": [
    {
     "data": {
      "text/plain": [
       "array([  1.03480485e-01,  -9.36495976e-02,   1.32667630e-01,\n",
       "         1.20156300e-01,  -3.19552690e-02,   7.86567956e-03,\n",
       "        -1.41447666e-01,   3.02797871e-02,  -9.15729568e-02,\n",
       "         7.12522270e-02,   7.93242396e-02,   1.23228565e-01,\n",
       "         5.74691386e-02,  -2.68656216e-02,   2.93923481e-01,\n",
       "        -2.34489250e-02,   1.57456534e-01,  -7.02171241e-02,\n",
       "        -3.03416686e-02,   6.12767430e-02,   2.75201042e-01,\n",
       "         1.33429338e-01,  -9.81203631e-02,   4.46951659e-02,\n",
       "         2.02109416e-01,  -2.99919065e-01,   2.21571539e-01,\n",
       "        -1.94979414e-03,   7.08046455e-03,   1.27619991e-01,\n",
       "         9.40100452e-02,   7.13842482e-02,   2.21171564e-01,\n",
       "         1.30463790e-01,   9.25279756e-03,   1.25538271e-01,\n",
       "         1.76829519e-01,  -1.82258120e-02,   3.56980499e-02,\n",
       "         1.11623411e-01,   1.50102260e-01,   1.06191960e-01,\n",
       "         7.24102816e-02,  -1.29867725e-02,   1.11142487e-01,\n",
       "        -6.59953962e-02,  -5.96890151e-02,  -5.77535117e-02,\n",
       "        -1.39702537e-01,   1.66428325e-01,   9.75006688e-02,\n",
       "        -7.63180773e-02,  -2.41325891e-01,  -6.13954873e-02,\n",
       "         1.09542702e-01,   7.27537535e-02,   1.25090848e-01,\n",
       "         1.15604181e-01,   3.43817520e-02,  -5.50815399e-02,\n",
       "         1.83004176e-02,   1.17954386e-01,   8.19224360e-02,\n",
       "         1.19543199e-01,   4.87985674e-05,  -4.97020720e-03,\n",
       "        -3.11574412e-02,   2.96772682e-01,   9.58689431e-02,\n",
       "        -1.31366126e-01,   2.56609580e-02,   7.36218470e-02,\n",
       "        -2.05331986e-02,   8.00800849e-02,  -8.32220414e-03,\n",
       "        -1.46062451e-01,  -9.70837290e-02,   7.52068124e-02,\n",
       "        -2.66442773e-01,  -9.17864510e-02,   3.54839254e-01,\n",
       "        -1.77392027e-01,   2.03587725e-01,   9.82650487e-02,\n",
       "         8.14469934e-02,  -1.40778478e-01,   2.35590371e-01,\n",
       "        -2.37971612e-01,   1.84208652e-01,  -2.82623725e-01,\n",
       "         3.11388018e-01,  -1.01473535e-02,   2.14090172e-01,\n",
       "         7.86006713e-02,   1.47118683e-01,  -4.65339568e-02,\n",
       "         7.40457834e-02,   2.13405766e-01,   1.02135355e-01,\n",
       "         4.75965824e-02,   1.28629086e-01,   1.92902892e-01,\n",
       "        -3.02754183e-03,  -4.44360774e-03,  -1.27431965e-01,\n",
       "        -5.20397235e-02,   1.48263107e-01,  -1.10070342e-01,\n",
       "        -1.81203163e-01,  -1.88160267e-01,   1.36850328e-01,\n",
       "         8.21161729e-03,   1.97677868e-02,   1.01111945e-01,\n",
       "         3.21118201e-01,  -2.90083990e-01,  -1.60070596e-02,\n",
       "         5.89210707e-02,  -1.96329434e-01,  -8.95764652e-02,\n",
       "         3.40065925e-01,  -1.66530849e-01,  -1.49182043e-02,\n",
       "        -1.63794187e-01,  -1.06408206e-01,   1.97474920e-02,\n",
       "         5.67959433e-02,   7.90677361e-02,   7.27748334e-02,\n",
       "        -1.20063158e-01,   2.42409846e-02,   2.09642416e-02,\n",
       "        -1.58543776e-01,  -2.11738225e-01,  -7.89204690e-02,\n",
       "         1.11817160e-01,  -2.35623998e-01,   2.05524971e-01,\n",
       "        -6.42396200e-03,  -3.41337027e-01,  -1.91357480e-02,\n",
       "        -8.81590120e-02,  -2.17113543e-01,   1.84871259e-01,\n",
       "        -1.26673749e-01,   2.45934045e-01,  -8.05015557e-02,\n",
       "         1.12757801e-01,  -2.66168580e-01,   4.65200217e-03,\n",
       "         4.02710429e-02,  -2.16390962e-01,   3.41506514e-01,\n",
       "        -1.24357455e-02,  -7.87884681e-02,  -2.54030680e-01,\n",
       "         2.46479003e-02,  -1.69512803e-01,   1.35398335e-01,\n",
       "        -1.62435918e-01,  -3.51845809e-02,  -2.19473813e-01,\n",
       "        -1.02884523e-01,   3.05275967e-02,   3.61936330e-02,\n",
       "        -2.68909789e-02,  -7.09653914e-02,   2.68815850e-01,\n",
       "         7.44364588e-02,  -3.20999031e-01,  -1.51693863e-01,\n",
       "        -1.68708164e-02,  -9.33554996e-02,  -6.62332569e-02,\n",
       "         4.93152675e-02,  -1.25430001e-01,  -2.19912044e-01,\n",
       "        -1.01676941e-01,   2.32811678e-02,   1.49233854e-01,\n",
       "        -1.49710431e-01,   1.08951286e-01,   9.96560610e-02,\n",
       "        -5.59326186e-02,   1.78443199e-02,   1.35611162e-01,\n",
       "        -5.21009794e-03,   2.74918913e-01,   1.13252572e-01,\n",
       "         3.89479746e-02])"
      ]
     },
     "execution_count": 17,
     "metadata": {},
     "output_type": "execute_result"
    }
   ],
   "source": [
    "res = y - x\n",
    "res"
   ]
  },
  {
   "cell_type": "code",
   "execution_count": 18,
   "metadata": {
    "collapsed": false
   },
   "outputs": [
    {
     "data": {
      "text/plain": [
       "3.9556449629293224"
      ]
     },
     "execution_count": 18,
     "metadata": {},
     "output_type": "execute_result"
    }
   ],
   "source": [
    "SSres = np.sum(res**2)\n",
    "SSres"
   ]
  },
  {
   "cell_type": "code",
   "execution_count": 19,
   "metadata": {
    "collapsed": false
   },
   "outputs": [
    {
     "data": {
      "text/plain": [
       "array([ 0.07288018, -0.10452039,  0.20460469,  0.08828125, -0.11469913,\n",
       "        0.05559471, -0.14013208,  0.08305075, -0.14563508, -0.00914551,\n",
       "       -0.02927403, -0.00438674, -0.09634136, -0.06314191,  0.2277471 ,\n",
       "       -0.06119818,  0.00433126,  0.09848357, -0.16183854, -0.06259828,\n",
       "        0.16860751,  0.07860705,  0.05092518,  0.05102129,  0.01120772,\n",
       "       -0.13762051,  0.08779941,  0.01882948, -0.04450551,  0.05909916,\n",
       "       -0.07581102,  0.07917316,  0.0805778 , -0.00691812,  0.04738789,\n",
       "        0.02448934,  0.04439946,  0.03465176, -0.05784115,  0.05022014,\n",
       "        0.04004292,  0.07656291,  0.08262775,  0.00545111,  0.15790536,\n",
       "       -0.12875011,  0.01407903,  0.04197846, -0.0915303 ,  0.09545248,\n",
       "       -0.05781669,  0.07145507, -0.14417575, -0.07633211,  0.07365735,\n",
       "       -0.07296861,  0.06328881,  0.09676456, -0.09439866,  0.04624264,\n",
       "       -0.03633454, -0.02390665, -0.0708759 , -0.01649575,  0.03439112,\n",
       "       -0.13024712, -0.00708485,  0.05876196,  0.12889195, -0.147983  ,\n",
       "       -0.04833016, -0.05592004,  0.03366817,  0.00888911, -0.09449234,\n",
       "       -0.15220586,  0.09855317,  0.12076333, -0.09902675,  0.02901959,\n",
       "        0.26111137, -0.18817802,  0.11224006,  0.07415642, -0.0939461 ,\n",
       "       -0.06264378,  0.10552298, -0.25783511,  0.06930517, -0.08350905,\n",
       "        0.06131806,  0.01911306,  0.09832074,  0.02293476,  0.05761979,\n",
       "       -0.02768232,  0.16316404,  0.13894687,  0.07515114,  0.05790081,\n",
       "        0.04012583,  0.05728217,  0.10837704, -0.08911215, -0.01578935,\n",
       "        0.04599503, -0.02617434, -0.03675074, -0.11676108, -0.13902798,\n",
       "        0.06411277,  0.02760444, -0.08559708,  0.03743842,  0.10409186,\n",
       "       -0.08033483,  0.0607024 ,  0.19948631, -0.2061449 , -0.10899684,\n",
       "        0.20373764, -0.05984175, -0.03224647, -0.07040758, -0.23213949,\n",
       "        0.0445009 ,  0.03282974, -0.01287805,  0.01469247, -0.04408004,\n",
       "       -0.00734462, -0.01139679, -0.22517686, -0.22527927, -0.11591777,\n",
       "        0.11887021, -0.07507758,  0.0925763 ,  0.0322568 , -0.21430663,\n",
       "       -0.04836098, -0.08648332, -0.14868248,  0.271596  , -0.07247905,\n",
       "       -0.06926988,  0.03833542,  0.15374963, -0.15383784, -0.07428931,\n",
       "        0.02653735, -0.06890872,  0.17092419, -0.132015  ,  0.01284167,\n",
       "       -0.03539297,  0.04866243, -0.07220193,  0.15450562, -0.16552813,\n",
       "        0.09952238, -0.05737709,  0.17061308, -0.04971641,  0.04012153,\n",
       "       -0.11314125, -0.03845521,  0.0247611 ,  0.02332525, -0.16279097,\n",
       "       -0.17696946, -0.01218499,  0.00341066, -0.17620232,  0.0507675 ,\n",
       "       -0.15459767, -0.15055053,  0.02242471, -0.05769414,  0.16615521,\n",
       "        0.03830797,  0.13304363,  0.14441823,  0.04414003, -0.01629807,\n",
       "        0.12683919,  0.13967505,  0.10062647,  0.11262157,  0.08265879])"
      ]
     },
     "execution_count": 19,
     "metadata": {},
     "output_type": "execute_result"
    }
   ],
   "source": [
    "# Sum up the total error in y\n",
    "y_var = y - np.mean(y)\n",
    "y_var"
   ]
  },
  {
   "cell_type": "code",
   "execution_count": 20,
   "metadata": {
    "collapsed": false
   },
   "outputs": [
    {
     "data": {
      "text/plain": [
       "2.0388766882694762"
      ]
     },
     "execution_count": 20,
     "metadata": {},
     "output_type": "execute_result"
    }
   ],
   "source": [
    "SStot = np.sum(y_var**2)\n",
    "SStot"
   ]
  },
  {
   "cell_type": "code",
   "execution_count": 21,
   "metadata": {
    "collapsed": false
   },
   "outputs": [
    {
     "data": {
      "text/plain": [
       "-0.94010995647153583"
      ]
     },
     "execution_count": 21,
     "metadata": {},
     "output_type": "execute_result"
    }
   ],
   "source": [
    "# R squared\n",
    "Rsq = 1 - (SSres/SStot)\n",
    "Rsq"
   ]
  },
  {
   "cell_type": "code",
   "execution_count": 22,
   "metadata": {
    "collapsed": false
   },
   "outputs": [
    {
     "data": {
      "text/plain": [
       "<matplotlib.collections.PathCollection at 0x7f0eebbbb5d0>"
      ]
     },
     "execution_count": 22,
     "metadata": {},
     "output_type": "execute_result"
    },
    {
     "data": {
      "image/png": "[encoded data removed]",
      "text/plain": [
       "<matplotlib.figure.Figure at 0x7f0eeaf1b650>"
      ]
     },
     "metadata": {},
     "output_type": "display_data"
    }
   ],
   "source": [
    "plt.scatter(x, y)"
   ]
  },
  {
   "cell_type": "markdown",
   "metadata": {
    "collapsed": true
   },
   "source": [
    "## Conclusion\n",
    "\n",
    "Python 3: This works as expected, but we had to use `as_matrix()` to get it to not error in `calc_rsq()`.\n",
    "Python 2: This works as expected, but we had to use `as_matrix()` to get it to not error in `calc_rsq()`."
   ]
  },
  {
   "cell_type": "markdown",
   "metadata": {
    "collapsed": true
   },
   "source": [
    "# Real Data"
   ]
  },
  {
   "cell_type": "code",
   "execution_count": 27,
   "metadata": {
    "collapsed": true
   },
   "outputs": [],
   "source": [
    "behav_data_f = 'Phenotypic_V1_0b_preprocessed1.csv'"
   ]
  },
  {
   "cell_type": "code",
   "execution_count": 30,
   "metadata": {
    "collapsed": false
   },
   "outputs": [
    {
     "data": {
      "text/html": [
       "<div>\n",
       "<table border=\"1\" class=\"dataframe\">\n",
       "  <thead>\n",
       "    <tr style=\"text-align: right;\">\n",
       "      <th></th>\n",
       "      <th>Unnamed: 0</th>\n",
       "      <th>Unnamed: 0.1</th>\n",
       "      <th>SUB_ID</th>\n",
       "      <th>X</th>\n",
       "      <th>subject</th>\n",
       "      <th>SITE_ID</th>\n",
       "      <th>FILE_ID</th>\n",
       "      <th>DX_GROUP</th>\n",
       "      <th>DSM_IV_TR</th>\n",
       "      <th>AGE_AT_SCAN</th>\n",
       "      <th>...</th>\n",
       "      <th>qc_anat_rater_2</th>\n",
       "      <th>qc_anat_notes_rater_2</th>\n",
       "      <th>qc_func_rater_2</th>\n",
       "      <th>qc_func_notes_rater_2</th>\n",
       "      <th>qc_anat_rater_3</th>\n",
       "      <th>qc_anat_notes_rater_3</th>\n",
       "      <th>qc_func_rater_3</th>\n",
       "      <th>qc_func_notes_rater_3</th>\n",
       "      <th>SUB_IN_SMP</th>\n",
       "      <th>AGE_YRS</th>\n",
       "    </tr>\n",
       "  </thead>\n",
       "  <tbody>\n",
       "    <tr>\n",
       "      <th>1</th>\n",
       "      <td>1</td>\n",
       "      <td>2</td>\n",
       "      <td>50003</td>\n",
       "      <td>2</td>\n",
       "      <td>50003</td>\n",
       "      <td>PITT</td>\n",
       "      <td>Pitt_0050003</td>\n",
       "      <td>1</td>\n",
       "      <td>1</td>\n",
       "      <td>24.45</td>\n",
       "      <td>...</td>\n",
       "      <td>OK</td>\n",
       "      <td>NaN</td>\n",
       "      <td>OK</td>\n",
       "      <td>NaN</td>\n",
       "      <td>OK</td>\n",
       "      <td>NaN</td>\n",
       "      <td>OK</td>\n",
       "      <td>NaN</td>\n",
       "      <td>1</td>\n",
       "      <td>24.0</td>\n",
       "    </tr>\n",
       "    <tr>\n",
       "      <th>2</th>\n",
       "      <td>2</td>\n",
       "      <td>3</td>\n",
       "      <td>50004</td>\n",
       "      <td>3</td>\n",
       "      <td>50004</td>\n",
       "      <td>PITT</td>\n",
       "      <td>Pitt_0050004</td>\n",
       "      <td>1</td>\n",
       "      <td>1</td>\n",
       "      <td>19.09</td>\n",
       "      <td>...</td>\n",
       "      <td>OK</td>\n",
       "      <td>NaN</td>\n",
       "      <td>OK</td>\n",
       "      <td>NaN</td>\n",
       "      <td>OK</td>\n",
       "      <td>NaN</td>\n",
       "      <td>OK</td>\n",
       "      <td>NaN</td>\n",
       "      <td>1</td>\n",
       "      <td>19.0</td>\n",
       "    </tr>\n",
       "    <tr>\n",
       "      <th>3</th>\n",
       "      <td>3</td>\n",
       "      <td>4</td>\n",
       "      <td>50005</td>\n",
       "      <td>4</td>\n",
       "      <td>50005</td>\n",
       "      <td>PITT</td>\n",
       "      <td>Pitt_0050005</td>\n",
       "      <td>1</td>\n",
       "      <td>1</td>\n",
       "      <td>13.73</td>\n",
       "      <td>...</td>\n",
       "      <td>OK</td>\n",
       "      <td>NaN</td>\n",
       "      <td>maybe</td>\n",
       "      <td>ic-parietal-cerebellum</td>\n",
       "      <td>OK</td>\n",
       "      <td>NaN</td>\n",
       "      <td>OK</td>\n",
       "      <td>NaN</td>\n",
       "      <td>0</td>\n",
       "      <td>13.0</td>\n",
       "    </tr>\n",
       "    <tr>\n",
       "      <th>4</th>\n",
       "      <td>4</td>\n",
       "      <td>5</td>\n",
       "      <td>50006</td>\n",
       "      <td>5</td>\n",
       "      <td>50006</td>\n",
       "      <td>PITT</td>\n",
       "      <td>Pitt_0050006</td>\n",
       "      <td>1</td>\n",
       "      <td>1</td>\n",
       "      <td>13.37</td>\n",
       "      <td>...</td>\n",
       "      <td>OK</td>\n",
       "      <td>NaN</td>\n",
       "      <td>maybe</td>\n",
       "      <td>ic-parietal slight</td>\n",
       "      <td>OK</td>\n",
       "      <td>NaN</td>\n",
       "      <td>OK</td>\n",
       "      <td>NaN</td>\n",
       "      <td>1</td>\n",
       "      <td>13.0</td>\n",
       "    </tr>\n",
       "    <tr>\n",
       "      <th>5</th>\n",
       "      <td>5</td>\n",
       "      <td>6</td>\n",
       "      <td>50007</td>\n",
       "      <td>6</td>\n",
       "      <td>50007</td>\n",
       "      <td>PITT</td>\n",
       "      <td>Pitt_0050007</td>\n",
       "      <td>1</td>\n",
       "      <td>1</td>\n",
       "      <td>17.78</td>\n",
       "      <td>...</td>\n",
       "      <td>OK</td>\n",
       "      <td>NaN</td>\n",
       "      <td>maybe</td>\n",
       "      <td>ic-cerebellum_temporal_lob</td>\n",
       "      <td>OK</td>\n",
       "      <td>NaN</td>\n",
       "      <td>OK</td>\n",
       "      <td>NaN</td>\n",
       "      <td>1</td>\n",
       "      <td>17.0</td>\n",
       "    </tr>\n",
       "  </tbody>\n",
       "</table>\n",
       "<p>5 rows × 107 columns</p>\n",
       "</div>"
      ],
      "text/plain": [
       "   Unnamed: 0  Unnamed: 0.1  SUB_ID  X  subject SITE_ID       FILE_ID  \\\n",
       "1           1             2   50003  2    50003    PITT  Pitt_0050003   \n",
       "2           2             3   50004  3    50004    PITT  Pitt_0050004   \n",
       "3           3             4   50005  4    50005    PITT  Pitt_0050005   \n",
       "4           4             5   50006  5    50006    PITT  Pitt_0050006   \n",
       "5           5             6   50007  6    50007    PITT  Pitt_0050007   \n",
       "\n",
       "   DX_GROUP  DSM_IV_TR  AGE_AT_SCAN   ...     qc_anat_rater_2  \\\n",
       "1         1          1        24.45   ...                  OK   \n",
       "2         1          1        19.09   ...                  OK   \n",
       "3         1          1        13.73   ...                  OK   \n",
       "4         1          1        13.37   ...                  OK   \n",
       "5         1          1        17.78   ...                  OK   \n",
       "\n",
       "  qc_anat_notes_rater_2  qc_func_rater_2       qc_func_notes_rater_2  \\\n",
       "1                   NaN               OK                         NaN   \n",
       "2                   NaN               OK                         NaN   \n",
       "3                   NaN            maybe      ic-parietal-cerebellum   \n",
       "4                   NaN            maybe          ic-parietal slight   \n",
       "5                   NaN            maybe  ic-cerebellum_temporal_lob   \n",
       "\n",
       "   qc_anat_rater_3  qc_anat_notes_rater_3 qc_func_rater_3  \\\n",
       "1               OK                    NaN              OK   \n",
       "2               OK                    NaN              OK   \n",
       "3               OK                    NaN              OK   \n",
       "4               OK                    NaN              OK   \n",
       "5               OK                    NaN              OK   \n",
       "\n",
       "  qc_func_notes_rater_3 SUB_IN_SMP  AGE_YRS  \n",
       "1                   NaN          1     24.0  \n",
       "2                   NaN          1     19.0  \n",
       "3                   NaN          0     13.0  \n",
       "4                   NaN          1     13.0  \n",
       "5                   NaN          1     17.0  \n",
       "\n",
       "[5 rows x 107 columns]"
      ]
     },
     "execution_count": 30,
     "metadata": {},
     "output_type": "execute_result"
    }
   ],
   "source": [
    "df = pd.read_csv(behav_data_f)\n",
    "df = df.loc[df['func_perc_fd'].notnull(), :]\n",
    "df = df.loc[df['FILE_ID']!='no_filename', :]\n",
    "df['AGE_YRS'] = np.floor(df['AGE_AT_SCAN'])\n",
    "df.head()"
   ]
  },
  {
   "cell_type": "code",
   "execution_count": 207,
   "metadata": {
    "collapsed": false
   },
   "outputs": [],
   "source": [
    "for i, (sub, f_id) in enumerate(df.loc[0:100,['SUB_ID', 'FILE_ID']].values):\n",
    "    #read each subjects aal roi time series files\n",
    "    ts_df = pd.read_table('DATA/{}_rois_aal.1D'.format(f_id))\n",
    "\n",
    "    #create a correlation matrix from the roi all time series files\n",
    "    corr_mat = ts_df.corr()\n",
    "\n",
    "    #for the first subject, add a correlation matrix of zeros that is the same dimensions as the aal roi-roi matrix\n",
    "    if i == 0:\n",
    "        all_corr_mat1 = np.zeros([corr_mat.shape[0], corr_mat.shape[1], len(df)])\n",
    "\n",
    "    #now add the correlation matrix you just created for each subject to the all_corr_mat matrix (3D)\n",
    "    all_corr_mat1[:, :, i] = corr_mat\n",
    "\n",
    "#create the mean correlation matrix (ignore nas - sometime there are some...)\n",
    "av_corr_mat1 = np.nanmean(all_corr_mat1, axis=2)\n",
    "\n",
    "for i, (sub, f_id) in enumerate(df.loc[100:200,['SUB_ID', 'FILE_ID']].values):\n",
    "    #read each subjects aal roi time series files\n",
    "    ts_df = pd.read_table('DATA/{}_rois_aal.1D'.format(f_id))\n",
    "\n",
    "    #create a correlation matrix from the roi all time series files\n",
    "    corr_mat = ts_df.corr()\n",
    "\n",
    "    #for the first subject, add a correlation matrix of zeros that is the same dimensions as the aal roi-roi matrix\n",
    "    if i == 0:\n",
    "        all_corr_mat2 = np.zeros([corr_mat.shape[0], corr_mat.shape[1], len(df)])\n",
    "\n",
    "    #now add the correlation matrix you just created for each subject to the all_corr_mat matrix (3D)\n",
    "    all_corr_mat2[:, :, i] = corr_mat\n",
    "\n",
    "#create the mean correlation matrix (ignore nas - sometime there are some...)\n",
    "av_corr_mat2 = np.nanmean(all_corr_mat2, axis=2)"
   ]
  },
  {
   "cell_type": "code",
   "execution_count": 208,
   "metadata": {
    "collapsed": false
   },
   "outputs": [
    {
     "data": {
      "text/plain": [
       "<matplotlib.image.AxesImage at 0x7f0ed9cff810>"
      ]
     },
     "execution_count": 208,
     "metadata": {},
     "output_type": "execute_result"
    },
    {
     "data": {
      "image/png": "[encoded data removed]",
      "text/plain": [
       "<matplotlib.figure.Figure at 0x7f0ed9e8c710>"
      ]
     },
     "metadata": {},
     "output_type": "display_data"
    }
   ],
   "source": [
    "plt.matshow(all_corr_mat1[:,:,0], vmin=-1, vmax=1, cmap='bwr')"
   ]
  },
  {
   "cell_type": "code",
   "execution_count": 209,
   "metadata": {
    "collapsed": false
   },
   "outputs": [
    {
     "data": {
      "text/plain": [
       "<matplotlib.image.AxesImage at 0x7f0ed9ca5550>"
      ]
     },
     "execution_count": 209,
     "metadata": {},
     "output_type": "execute_result"
    },
    {
     "data": {
      "image/png": "[encoded data removed]",
      "text/plain": [
       "<matplotlib.figure.Figure at 0x7f0ed9e21110>"
      ]
     },
     "metadata": {},
     "output_type": "display_data"
    }
   ],
   "source": [
    "plt.matshow(all_corr_mat1[:,:,9], vmin=-1, vmax=1, cmap='bwr')"
   ]
  },
  {
   "cell_type": "code",
   "execution_count": 210,
   "metadata": {
    "collapsed": false
   },
   "outputs": [
    {
     "data": {
      "text/plain": [
       "<matplotlib.image.AxesImage at 0x7f0ed9bd5d90>"
      ]
     },
     "execution_count": 210,
     "metadata": {},
     "output_type": "execute_result"
    },
    {
     "data": {
      "image/png": "[encoded data removed]",
      "text/plain": [
       "<matplotlib.figure.Figure at 0x7f0ed9ce51d0>"
      ]
     },
     "metadata": {},
     "output_type": "display_data"
    }
   ],
   "source": [
    "plt.matshow(all_corr_mat2[:,:,0], vmin=-1, vmax=1, cmap='bwr')"
   ]
  },
  {
   "cell_type": "code",
   "execution_count": 211,
   "metadata": {
    "collapsed": false
   },
   "outputs": [
    {
     "data": {
      "text/plain": [
       "<matplotlib.image.AxesImage at 0x7f0ed9b11250>"
      ]
     },
     "execution_count": 211,
     "metadata": {},
     "output_type": "execute_result"
    },
    {
     "data": {
      "image/png": "[encoded data removed]",
      "text/plain": [
       "<matplotlib.figure.Figure at 0x7f0ed9b94290>"
      ]
     },
     "metadata": {},
     "output_type": "display_data"
    }
   ],
   "source": [
    "plt.matshow(all_corr_mat2[:,:,9], vmin=-1, vmax=1, cmap='bwr')"
   ]
  },
  {
   "cell_type": "code",
   "execution_count": 212,
   "metadata": {
    "collapsed": false
   },
   "outputs": [
    {
     "data": {
      "text/plain": [
       "<matplotlib.image.AxesImage at 0x7f0ed9a43550>"
      ]
     },
     "execution_count": 212,
     "metadata": {},
     "output_type": "execute_result"
    },
    {
     "data": {
      "image/png": "[encoded data removed]",
      "text/plain": [
       "<matplotlib.figure.Figure at 0x7f0ed9ace8d0>"
      ]
     },
     "metadata": {},
     "output_type": "display_data"
    }
   ],
   "source": [
    "plt.matshow(av_corr_mat1, vmin=-1, vmax=1, cmap='bwr')"
   ]
  },
  {
   "cell_type": "code",
   "execution_count": 213,
   "metadata": {
    "collapsed": false
   },
   "outputs": [
    {
     "data": {
      "text/plain": [
       "<matplotlib.image.AxesImage at 0x7f0ed99f29d0>"
      ]
     },
     "execution_count": 213,
     "metadata": {},
     "output_type": "execute_result"
    },
    {
     "data": {
      "image/png": "[encoded data removed]",
      "text/plain": [
       "<matplotlib.figure.Figure at 0x7f0ed9a66350>"
      ]
     },
     "metadata": {},
     "output_type": "display_data"
    }
   ],
   "source": [
    "plt.matshow(av_corr_mat2, vmin=-1, vmax=1, cmap='bwr')"
   ]
  },
  {
   "cell_type": "code",
   "execution_count": 214,
   "metadata": {
    "collapsed": false
   },
   "outputs": [
    {
     "data": {
      "text/plain": [
       "[(-0.0067167175213397618, 0.094777562862669251),\n",
       " (-0.0017487644028847729, 0.093810444874274659)]"
      ]
     },
     "execution_count": 214,
     "metadata": {},
     "output_type": "execute_result"
    }
   ],
   "source": [
    "[(av_corr_mat1.min(), av_corr_mat1.max()), (av_corr_mat2.min(), av_corr_mat2.max())]"
   ]
  },
  {
   "cell_type": "markdown",
   "metadata": {},
   "source": [
    "Oh no...that's not good. We just get an average correlation of 0."
   ]
  },
  {
   "cell_type": "code",
   "execution_count": 215,
   "metadata": {
    "collapsed": false
   },
   "outputs": [
    {
     "data": {
      "text/plain": [
       "0.78724328641013896"
      ]
     },
     "execution_count": 215,
     "metadata": {},
     "output_type": "execute_result"
    }
   ],
   "source": [
    "calc_rsq(av_corr_mat1, av_corr_mat2)"
   ]
  },
  {
   "cell_type": "markdown",
   "metadata": {},
   "source": [
    "Apparently nothing explains nothing extremely well."
   ]
  },
  {
   "cell_type": "code",
   "execution_count": 216,
   "metadata": {
    "collapsed": false
   },
   "outputs": [
    {
     "data": {
      "text/plain": [
       "array([ 0.54930614,  1.09861229,  1.47221949])"
      ]
     },
     "execution_count": 216,
     "metadata": {},
     "output_type": "execute_result"
    }
   ],
   "source": [
    "np.arctanh([.5, .8, .9])"
   ]
  },
  {
   "cell_type": "markdown",
   "metadata": {},
   "source": [
    "Apparently we need to Fisher *z* transform them, which is equivalent to the arctanh function."
   ]
  },
  {
   "cell_type": "code",
   "execution_count": 217,
   "metadata": {
    "collapsed": false
   },
   "outputs": [],
   "source": [
    "for i, (sub, f_id) in enumerate(df.loc[0:100,['SUB_ID', 'FILE_ID']].values):\n",
    "    #read each subjects aal roi time series files\n",
    "    ts_df = pd.read_table('DATA/{}_rois_aal.1D'.format(f_id))\n",
    "\n",
    "    #create a correlation matrix from the roi all time series files\n",
    "    corr_mat_r = ts_df.corr()\n",
    "    corr_mat_z = np.arctanh(corr_mat_r)\n",
    "\n",
    "    #for the first subject, add a correlation matrix of zeros that is the same dimensions as the aal roi-roi matrix\n",
    "    if i == 0:\n",
    "        all_corr_mat1_z = np.zeros([corr_mat_z.shape[0], corr_mat_z.shape[1], len(df)])\n",
    "\n",
    "    #now add the correlation matrix you just created for each subject to the all_corr_mat matrix (3D)\n",
    "    all_corr_mat1_z[:, :, i] = corr_mat_z\n",
    "\n",
    "#create the mean correlation matrix (ignore nas - sometime there are some...)\n",
    "av_corr_mat1_z = np.nanmean(all_corr_mat1_z, axis=2)\n",
    "\n",
    "for i, (sub, f_id) in enumerate(df.loc[100:200,['SUB_ID', 'FILE_ID']].values):\n",
    "    #read each subjects aal roi time series files\n",
    "    ts_df = pd.read_table('DATA/{}_rois_aal.1D'.format(f_id))\n",
    "\n",
    "    #create a correlation matrix from the roi all time series files\n",
    "    corr_mat_r = ts_df.corr()\n",
    "    corr_mat_z = np.arctanh(corr_mat_r)\n",
    "    \n",
    "    #for the first subject, add a correlation matrix of zeros that is the same dimensions as the aal roi-roi matrix\n",
    "    if i == 0:\n",
    "        all_corr_mat2_z = np.zeros([corr_mat_z.shape[0], corr_mat_z.shape[1], len(df)])\n",
    "\n",
    "    #now add the correlation matrix you just created for each subject to the all_corr_mat matrix (3D)\n",
    "    all_corr_mat2_z[:, :, i] = corr_mat_z\n",
    "\n",
    "#create the mean correlation matrix (ignore nas - sometime there are some...)\n",
    "av_corr_mat2_z = np.nanmean(all_corr_mat2_z, axis=2)"
   ]
  },
  {
   "cell_type": "code",
   "execution_count": 218,
   "metadata": {
    "collapsed": false
   },
   "outputs": [
    {
     "data": {
      "text/plain": [
       "<matplotlib.image.AxesImage at 0x7f0ed98c7f90>"
      ]
     },
     "execution_count": 218,
     "metadata": {},
     "output_type": "execute_result"
    },
    {
     "data": {
      "image/png": "[encoded data removed]",
      "text/plain": [
       "<matplotlib.figure.Figure at 0x7f0ed9b82cd0>"
      ]
     },
     "metadata": {},
     "output_type": "display_data"
    }
   ],
   "source": [
    "plt.matshow(all_corr_mat1_z[:,:,9], vmin=-1.5, vmax=1.5, cmap='bwr')"
   ]
  },
  {
   "cell_type": "code",
   "execution_count": 219,
   "metadata": {
    "collapsed": false
   },
   "outputs": [
    {
     "data": {
      "text/plain": [
       "<matplotlib.image.AxesImage at 0x7f0ed9875090>"
      ]
     },
     "execution_count": 219,
     "metadata": {},
     "output_type": "execute_result"
    },
    {
     "data": {
      "image/png": "[encoded data removed]",
      "text/plain": [
       "<matplotlib.figure.Figure at 0x7f0ed996a490>"
      ]
     },
     "metadata": {},
     "output_type": "display_data"
    }
   ],
   "source": [
    "plt.matshow(all_corr_mat2_z[:,:,9], vmin=-1.5, vmax=1.5, cmap='bwr')"
   ]
  },
  {
   "cell_type": "code",
   "execution_count": 220,
   "metadata": {
    "collapsed": false
   },
   "outputs": [
    {
     "data": {
      "text/plain": [
       "<matplotlib.image.AxesImage at 0x7f0ed979cbd0>"
      ]
     },
     "execution_count": 220,
     "metadata": {},
     "output_type": "execute_result"
    },
    {
     "data": {
      "image/png": "[encoded data removed]",
      "text/plain": [
       "<matplotlib.figure.Figure at 0x7f0ed996aa50>"
      ]
     },
     "metadata": {},
     "output_type": "display_data"
    }
   ],
   "source": [
    "plt.matshow(av_corr_mat1_z, vmin=-1.5, vmax=1.5, cmap='bwr')"
   ]
  },
  {
   "cell_type": "code",
   "execution_count": 221,
   "metadata": {
    "collapsed": false
   },
   "outputs": [
    {
     "data": {
      "text/plain": [
       "<matplotlib.image.AxesImage at 0x7f0ed96da090>"
      ]
     },
     "execution_count": 221,
     "metadata": {},
     "output_type": "execute_result"
    },
    {
     "data": {
      "image/png": "[encoded data removed]",
      "text/plain": [
       "<matplotlib.figure.Figure at 0x7f0ed975a650>"
      ]
     },
     "metadata": {},
     "output_type": "display_data"
    }
   ],
   "source": [
    "plt.matshow(av_corr_mat2_z, vmin=-1.5, vmax=1.5, cmap='bwr')"
   ]
  },
  {
   "cell_type": "code",
   "execution_count": 222,
   "metadata": {
    "collapsed": false
   },
   "outputs": [
    {
     "data": {
      "text/plain": [
       "array([[-0.0072,  0.1548],\n",
       "       [-0.0019,  0.1404]])"
      ]
     },
     "execution_count": 222,
     "metadata": {},
     "output_type": "execute_result"
    }
   ],
   "source": [
    "np.fill_diagonal(av_corr_mat1_z, 0)\n",
    "np.fill_diagonal(av_corr_mat2_z, 0)\n",
    "\n",
    "np.round([(av_corr_mat1_z.min(), av_corr_mat1_z.max()), (av_corr_mat2_z.min(), av_corr_mat2_z.max())],4)"
   ]
  },
  {
   "cell_type": "code",
   "execution_count": 223,
   "metadata": {
    "collapsed": false
   },
   "outputs": [
    {
     "data": {
      "text/plain": [
       "0.81084579868016948"
      ]
     },
     "execution_count": 223,
     "metadata": {},
     "output_type": "execute_result"
    }
   ],
   "source": [
    "calc_rsq(av_corr_mat1_z, av_corr_mat2_z)"
   ]
  },
  {
   "cell_type": "code",
   "execution_count": null,
   "metadata": {
    "collapsed": true
   },
   "outputs": [],
   "source": []
  }
 ],
 "metadata": {
  "anaconda-cloud": {},
  "kernelspec": {
   "display_name": "Python [conda env:kidsPy2]",
   "language": "python",
   "name": "conda-env-kidsPy2-py"
  },
  "language_info": {
   "codemirror_mode": {
    "name": "ipython",
    "version": 2
   },
   "file_extension": ".py",
   "mimetype": "text/x-python",
   "name": "python",
   "nbconvert_exporter": "python",
   "pygments_lexer": "ipython2",
   "version": "2.7.12"
  }
 },
 "nbformat": 4,
 "nbformat_minor": 1
}
