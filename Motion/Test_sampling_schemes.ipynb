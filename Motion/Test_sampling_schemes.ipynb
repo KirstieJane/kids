{
 "cells": [
  {
   "cell_type": "markdown",
   "metadata": {},
   "source": [
    "3. [Testing data sampling scheme](#Testing-data-sampling-scheme)"
   ]
  },
  {
   "cell_type": "markdown",
   "metadata": {
    "collapsed": true
   },
   "source": [
    "# Testing data sampling scheme"
   ]
  },
  {
   "cell_type": "code",
   "execution_count": 1,
   "metadata": {
    "collapsed": true
   },
   "outputs": [],
   "source": [
    "behav_data_f = 'Phenotypic_V1_0b_preprocessed1.csv'"
   ]
  },
  {
   "cell_type": "code",
   "execution_count": 2,
   "metadata": {
    "collapsed": false
   },
   "outputs": [
    {
     "ename": "NameError",
     "evalue": "name 'pd' is not defined",
     "output_type": "error",
     "traceback": [
      "\u001b[0;31m---------------------------------------------------------------------------\u001b[0m",
      "\u001b[0;31mNameError\u001b[0m                                 Traceback (most recent call last)",
      "\u001b[0;32m<ipython-input-2-30ebb3e359ba>\u001b[0m in \u001b[0;36m<module>\u001b[0;34m()\u001b[0m\n\u001b[0;32m----> 1\u001b[0;31m \u001b[0mdf\u001b[0m \u001b[0;34m=\u001b[0m \u001b[0mpd\u001b[0m\u001b[0;34m.\u001b[0m\u001b[0mread_csv\u001b[0m\u001b[0;34m(\u001b[0m\u001b[0mbehav_data_f\u001b[0m\u001b[0;34m)\u001b[0m\u001b[0;34m\u001b[0m\u001b[0m\n\u001b[0m\u001b[1;32m      2\u001b[0m \u001b[0mdf\u001b[0m \u001b[0;34m=\u001b[0m \u001b[0mdf\u001b[0m\u001b[0;34m.\u001b[0m\u001b[0mloc\u001b[0m\u001b[0;34m[\u001b[0m\u001b[0mdf\u001b[0m\u001b[0;34m[\u001b[0m\u001b[0;34m'func_perc_fd'\u001b[0m\u001b[0;34m]\u001b[0m\u001b[0;34m.\u001b[0m\u001b[0mnotnull\u001b[0m\u001b[0;34m(\u001b[0m\u001b[0;34m)\u001b[0m\u001b[0;34m,\u001b[0m \u001b[0;34m:\u001b[0m\u001b[0;34m]\u001b[0m\u001b[0;34m\u001b[0m\u001b[0m\n\u001b[1;32m      3\u001b[0m \u001b[0mdf\u001b[0m \u001b[0;34m=\u001b[0m \u001b[0mdf\u001b[0m\u001b[0;34m.\u001b[0m\u001b[0mloc\u001b[0m\u001b[0;34m[\u001b[0m\u001b[0mdf\u001b[0m\u001b[0;34m[\u001b[0m\u001b[0;34m'FILE_ID'\u001b[0m\u001b[0;34m]\u001b[0m\u001b[0;34m!=\u001b[0m\u001b[0;34m'no_filename'\u001b[0m\u001b[0;34m,\u001b[0m \u001b[0;34m:\u001b[0m\u001b[0;34m]\u001b[0m\u001b[0;34m\u001b[0m\u001b[0m\n\u001b[1;32m      4\u001b[0m \u001b[0mdf\u001b[0m\u001b[0;34m[\u001b[0m\u001b[0;34m'AGE_YRS'\u001b[0m\u001b[0;34m]\u001b[0m \u001b[0;34m=\u001b[0m \u001b[0mnp\u001b[0m\u001b[0;34m.\u001b[0m\u001b[0mfloor\u001b[0m\u001b[0;34m(\u001b[0m\u001b[0mdf\u001b[0m\u001b[0;34m[\u001b[0m\u001b[0;34m'AGE_AT_SCAN'\u001b[0m\u001b[0;34m]\u001b[0m\u001b[0;34m)\u001b[0m\u001b[0;34m\u001b[0m\u001b[0m\n\u001b[1;32m      5\u001b[0m \u001b[0mdf\u001b[0m\u001b[0;34m.\u001b[0m\u001b[0mhead\u001b[0m\u001b[0;34m(\u001b[0m\u001b[0;34m)\u001b[0m\u001b[0;34m\u001b[0m\u001b[0m\n",
      "\u001b[0;31mNameError\u001b[0m: name 'pd' is not defined"
     ]
    }
   ],
   "source": [
    "df = pd.read_csv(behav_data_f)\n",
    "df = df.loc[df['func_perc_fd'].notnull(), :]\n",
    "df = df.loc[df['FILE_ID']!='no_filename', :]\n",
    "df['AGE_YRS'] = np.floor(df['AGE_AT_SCAN'])\n",
    "df.head()"
   ]
  },
  {
   "cell_type": "code",
   "execution_count": null,
   "metadata": {
    "collapsed": true
   },
   "outputs": [],
   "source": [
    "motion_thresh = 10"
   ]
  },
  {
   "cell_type": "code",
   "execution_count": null,
   "metadata": {
    "collapsed": false
   },
   "outputs": [],
   "source": [
    "# Start by removing all participants whose data is below a certain\n",
    "# motion threshold.\n",
    "df_samp_motion = df.loc[df['func_perc_fd'] < motion_thresh, :]\n",
    "df_samp_motion.head()"
   ]
  },
  {
   "cell_type": "code",
   "execution_count": null,
   "metadata": {
    "collapsed": false
   },
   "outputs": [],
   "source": [
    "plt.figure(1)\n",
    "plt.subplot(121)\n",
    "plt.hist(df_samp_motion.func_perc_fd, range=(0,100), bins=100)\n",
    "plt.subplot(122)\n",
    "blah = plt.hist(df.func_perc_fd, range=(0,100), bins=100)"
   ]
  },
  {
   "cell_type": "code",
   "execution_count": null,
   "metadata": {
    "collapsed": false
   },
   "outputs": [],
   "source": [
    "age_l=10\n",
    "age_u=age_l+3\n",
    "# Then remove participants who are younger (in years) than age_l and older\n",
    "# than age_u. Note that this means people who are age_l and age_u\n",
    "# (eg 6 and 10) will be included in the sample.\n",
    "df_samp = df_samp_motion.loc[(df_samp_motion['AGE_YRS']>=age_l)\n",
    "                                & (df_samp_motion['AGE_YRS']<=age_u), :]\n",
    "plt.figure(1)\n",
    "plt.subplot(121)\n",
    "plt.hist(df_samp.AGE_YRS, range=(0,100), bins=100)\n",
    "plt.subplot(122)\n",
    "blah = plt.hist(df.AGE_YRS, range=(0,100), bins=100)"
   ]
  },
  {
   "cell_type": "code",
   "execution_count": null,
   "metadata": {
    "collapsed": false
   },
   "outputs": [],
   "source": [
    "plt.figure(1)\n",
    "plt.subplot(121)\n",
    "plt.scatter(df_samp.AGE_YRS, df_samp.func_perc_fd, alpha=.2)\n",
    "plt.ylim(0, 100)\n",
    "plt.xlim(0, 70)\n",
    "plt.subplot(122)\n",
    "plt.ylim(0, 100)\n",
    "plt.xlim(0, 70)\n",
    "blah = plt.scatter(df.AGE_YRS, df.func_perc_fd, alpha=.2)"
   ]
  },
  {
   "cell_type": "code",
   "execution_count": null,
   "metadata": {
    "collapsed": false
   },
   "outputs": [],
   "source": [
    "n=30\n",
    "# Shuffle these remaining participants to ensure you get different sub\n",
    "# samples each time you run the code.\n",
    "df_samp_rand = df_samp.reindex(np.random.permutation(df_samp.index))\n",
    "\n",
    "# Only keep the top 2*n participants.\n",
    "df_samp_2n = df_samp_rand.iloc[:2*n, :]\n",
    "\n",
    "# Sort these participants according to the sort columns of interest\n",
    "sort_column_list = ['DSM_IV_TR', 'DX_GROUP', 'SITE_ID', 'SEX', 'AGE_YRS']\n",
    "df_samp_2n_sorted = df_samp_2n.sort_values(by=sort_column_list)\n",
    "\n",
    "# Now put all even numbered participants in group A and all odd numbered\n",
    "# participants in group B.\n",
    "df_grp_A = df_samp_2n_sorted.iloc[::2, :]\n",
    "df_grp_B = df_samp_2n_sorted.iloc[1::2, :]"
   ]
  },
  {
   "cell_type": "code",
   "execution_count": null,
   "metadata": {
    "collapsed": false
   },
   "outputs": [],
   "source": [
    "(df_grp_A.subject.shape,\n",
    "df_grp_B.subject.shape)"
   ]
  },
  {
   "cell_type": "code",
   "execution_count": null,
   "metadata": {
    "collapsed": true
   },
   "outputs": [],
   "source": [
    "n=150\n",
    "# Shuffle these remaining participants to ensure you get different sub\n",
    "# samples each time you run the code.\n",
    "df_samp_rand = df_samp.reindex(np.random.permutation(df_samp.index))\n",
    "\n",
    "# Only keep the top 2*n participants.\n",
    "df_samp_2n = df_samp_rand.iloc[:2*n, :]\n",
    "\n",
    "# Sort these participants according to the sort columns of interest\n",
    "sort_column_list = ['DSM_IV_TR', 'DX_GROUP', 'SITE_ID', 'SEX', 'AGE_YRS']\n",
    "df_samp_2n_sorted = df_samp_2n.sort_values(by=sort_column_list)\n",
    "\n",
    "# Now put all even numbered participants in group A and all odd numbered\n",
    "# participants in group B.\n",
    "df_grp_A = df_samp_2n_sorted.iloc[::2, :]\n",
    "df_grp_B = df_samp_2n_sorted.iloc[1::2, :]"
   ]
  },
  {
   "cell_type": "code",
   "execution_count": null,
   "metadata": {
    "collapsed": false
   },
   "outputs": [],
   "source": [
    "(df_grp_A.subject.shape[0],\n",
    "df_grp_B.subject.shape[0])"
   ]
  },
  {
   "cell_type": "markdown",
   "metadata": {},
   "source": [
    "It appears that, at least in this slice (age 10-13, < 10% bad volumes), we only have a maximum of 94\\*2=188 subjects to work with, and so every iteration with these cutoffs, we're just remixing this subsample. As we increase our motion cuttoff, or rather reduce its stringency, we increase our available sampling pool"
   ]
  },
  {
   "cell_type": "code",
   "execution_count": null,
   "metadata": {
    "collapsed": true
   },
   "outputs": [],
   "source": [
    "def split_two_matched_samples(df, motion_thresh, age_l, age_u, n):\n",
    "    \"\"\"\n",
    "    This function takes in a data frame, thresholds it to only include\n",
    "    participants whose percentage bad frames are less than motion_thresh\n",
    "    and participants who are between the lower and upper age limits (inclusive),\n",
    "    then returns two matched samples of size n. The samples are matched on\n",
    "    age in years, autism diagnosis, gender and scanning site.\n",
    "    Information about the motion measure is here:\n",
    "    http://preprocessed-connectomes-project.org/quality-assessment-protocol/\n",
    "    \"\"\"\n",
    "\n",
    "    # Start by removing all participants whose data is below a certain\n",
    "    # motion threshold.\n",
    "    df_samp_motion = df.loc[df['func_perc_fd'] < motion_thresh, :]\n",
    "\n",
    "    # Then remove participants who are younger (in years) than age_l and older\n",
    "    # than age_u. Note that this means people who are age_l and age_u\n",
    "    # (eg 6 and 10) will be included in the sample.\n",
    "    df_samp = df_samp_motion.loc[(df_samp_motion['AGE_YRS']>=age_l)\n",
    "                                    & (df_samp_motion['AGE_YRS']<=age_u), :]\n",
    "\n",
    "    # Shuffle these remaining participants to ensure you get different sub\n",
    "    # samples each time you run the code.\n",
    "    df_samp_rand = df_samp.reindex(np.random.permutation(df_samp.index))\n",
    "\n",
    "    # Only keep the top 2*n participants.\n",
    "    df_samp_2n = df_samp_rand.iloc[:2*n, :]\n",
    "\n",
    "    # Sort these participants according to the sort columns of interest\n",
    "    sort_column_list = ['DSM_IV_TR', 'DX_GROUP', 'SITE_ID', 'SEX', 'AGE_YRS']\n",
    "    df_samp_2n_sorted = df_samp_2n.sort_values(by=sort_column_list)\n",
    "\n",
    "    # Now put all even numbered participants in group A and all odd numbered\n",
    "    # participants in group B.\n",
    "    df_grp_A = df_samp_2n_sorted.iloc[::2, :]\n",
    "    df_grp_B = df_samp_2n_sorted.iloc[1::2, :]\n",
    "\n",
    "    # Boom! Return these two data frames\n",
    "    return df_grp_A, df_grp_B\n"
   ]
  },
  {
   "cell_type": "markdown",
   "metadata": {},
   "source": [
    "Let's look at how often a particular subject ID re-occurs at different sample sizes."
   ]
  },
  {
   "cell_type": "code",
   "execution_count": null,
   "metadata": {
    "collapsed": false
   },
   "outputs": [],
   "source": [
    "motion_thresh = 10; age_l = 10; age_u = age_l + 3\n",
    "n_perms = 500\n",
    "\n",
    "proportionDF = pd.DataFrame()\n",
    "\n",
    "for motion_thresh in range(5, 55, 5):\n",
    "    for n in range(30, 330, 30):\n",
    "        subs = None\n",
    "        for i in range(n_perms):\n",
    "            #create two matched samples split on motion_thresh, age upper, age lower, and n\n",
    "            df_A, df_B = split_two_matched_samples(df, motion_thresh, age_l, age_u, n)\n",
    "            subs = pd.concat([subs, df_A.loc[:, 'subject'], df_B.loc[:, 'subject']])\n",
    "        proportionDF = proportionDF.append(\n",
    "            {'motion_thresh' : motion_thresh, \n",
    "             'N_set' : n*2,\n",
    "             'N_obs' : subs.shape[0]/n_perms,\n",
    "             'prop_min' : float(subs.value_counts().min())/n_perms,\n",
    "             'prop_max' : float(subs.value_counts().max())/n_perms},\n",
    "            ignore_index=True)"
   ]
  },
  {
   "cell_type": "code",
   "execution_count": null,
   "metadata": {
    "collapsed": false
   },
   "outputs": [],
   "source": [
    "propPlotFig, propPlotAx = plt.subplots(nrows=1, ncols=2, sharex=True, sharey=True)\n",
    "propPlotFig.set_size_inches(10, 5)\n",
    "\n",
    "labels = []\n",
    "for N_set in range(30*2, 330*2, 30*2):\n",
    "    tmpPropDF = proportionDF.query(\"N_set == \" + str(N_set))\n",
    "    propPlotAx[0].scatter(tmpPropDF.motion_thresh, tmpPropDF.prop_min, alpha=.2)\n",
    "    propPlotAx[0].plot(tmpPropDF.motion_thresh, tmpPropDF.prop_min)\n",
    "    propPlotAx[1].scatter(tmpPropDF.motion_thresh, tmpPropDF.prop_max, alpha=.2)\n",
    "    propPlotAx[1].plot(tmpPropDF.motion_thresh, tmpPropDF.prop_max)\n",
    "    labels.append(N_set)\n",
    "\n",
    "handles, labels_trash = propPlotAx[1].get_legend_handles_labels()\n",
    "propPlotAx[0].set_ylim([-.03, 1.03])\n",
    "propPlotAx[0].set_xlabel('Motion Cutoff')\n",
    "propPlotAx[0].xaxis.set_label_coords(1.1, -.075)\n",
    "propPlotAx[0].set_ylabel('Proportion of Samples in which subject appears\\nMinimum')\n",
    "propPlotAx[1].set_ylabel('\\nMaximum')\n",
    "propPlotAx[1].legend(handles, labels, ncol=1, loc='center left',\n",
    "                   title = \"Set Sample Size\", \n",
    "           bbox_to_anchor=[1, .5], \n",
    "           columnspacing=1.0, labelspacing=0.0,\n",
    "           handletextpad=0.0, handlelength=1.5,\n",
    "           fancybox=False, shadow=False)"
   ]
  },
  {
   "cell_type": "code",
   "execution_count": null,
   "metadata": {
    "collapsed": false
   },
   "outputs": [],
   "source": [
    "propPlotFig, propPlotAx = plt.subplots(nrows=1, ncols=1, sharex=True, sharey=True)\n",
    "propPlotFig.set_size_inches(10, 5)\n",
    "\n",
    "labels = []\n",
    "for N_set in range(30*2, 330*2, 30*2):\n",
    "    tmpPropDF = proportionDF.query(\"N_set == \" + str(N_set))\n",
    "    propPlotAx.scatter(tmpPropDF.motion_thresh, tmpPropDF.N_obs, alpha=.2)\n",
    "    propPlotAx.plot(tmpPropDF.motion_thresh, tmpPropDF.N_obs)\n",
    "    labels.append(N_set)\n",
    "\n",
    "handles, labels_trash = propPlotAx.get_legend_handles_labels()\n",
    "propPlotAx.set_xlabel('Motion Cutoff')\n",
    "propPlotAx.set_ylabel('Observed Sample Size')\n",
    "propPlotAx.legend(handles, labels, ncol=1, loc='center left',\n",
    "                   title = \"Set Sample Size\", \n",
    "           bbox_to_anchor=[1, .5], \n",
    "           columnspacing=1.0, labelspacing=0.0,\n",
    "           handletextpad=0.0, handlelength=1.5,\n",
    "           fancybox=False, shadow=False)"
   ]
  },
  {
   "cell_type": "markdown",
   "metadata": {},
   "source": [
    "## Conclusion\n",
    "\n",
    "We're not actually able to iterate over sample size very well. Also, at low motion cutoffs, and high sample sizes, we're merely shuffling groups in each iteration. This might be helped by looking at a single, wide age range (the above is just ages 10-13), or bootstrap sampling with replacement."
   ]
  },
  {
   "cell_type": "code",
   "execution_count": null,
   "metadata": {
    "collapsed": true
   },
   "outputs": [],
   "source": []
  }
 ],
 "metadata": {
  "anaconda-cloud": {},
  "kernelspec": {
   "display_name": "Python [conda env:kidsPy2]",
   "language": "python",
   "name": "conda-env-kidsPy2-py"
  },
  "language_info": {
   "codemirror_mode": {
    "name": "ipython",
    "version": 2
   },
   "file_extension": ".py",
   "mimetype": "text/x-python",
   "name": "python",
   "nbconvert_exporter": "python",
   "pygments_lexer": "ipython2",
   "version": "2.7.12"
  }
 },
 "nbformat": 4,
 "nbformat_minor": 1
}
