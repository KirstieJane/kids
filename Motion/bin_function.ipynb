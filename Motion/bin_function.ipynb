{
 "cells": [
  {
   "cell_type": "code",
   "execution_count": 1,
   "metadata": {
    "collapsed": false
   },
   "outputs": [
    {
     "name": "stderr",
     "output_type": "stream",
     "text": [
      "/home/jflournoy/miniconda3/envs/kidsPy2/lib/python2.7/site-packages/IPython/html.py:14: ShimWarning: The `IPython.html` package has been deprecated. You should import from `notebook` instead. `IPython.html.widgets` has moved to `ipywidgets`.\n",
      "  \"`IPython.html.widgets` has moved to `ipywidgets`.\", ShimWarning)\n"
     ]
    }
   ],
   "source": [
    "import matplotlib.pylab as plt\n",
    "%matplotlib inline\n",
    "import numpy as np\n",
    "import os\n",
    "import pandas as pd\n",
    "from scipy.stats import linregress\n",
    "import nibabel as nib\n",
    "import urllib\n",
    "import seaborn as sns\n",
    "sns.set_style('white')\n",
    "sns.set_context('notebook')\n",
    "from __future__ import division"
   ]
  },
  {
   "cell_type": "code",
   "execution_count": 2,
   "metadata": {
    "collapsed": true
   },
   "outputs": [],
   "source": [
    "behav_data_f = '../../Phenotypic_V1_0b_preprocessed1.csv'\n",
    "df = pd.read_csv(behav_data_f)"
   ]
  },
  {
   "cell_type": "code",
   "execution_count": 3,
   "metadata": {
    "collapsed": true
   },
   "outputs": [],
   "source": [
    "df = df.loc[df['func_perc_fd'].notnull(), :]\n",
    "df = df.loc[df['FILE_ID']!='no_filename', :]\n",
    "df['AGE_YRS'] = np.floor(df['AGE_AT_SCAN'])"
   ]
  },
  {
   "cell_type": "code",
   "execution_count": 4,
   "metadata": {
    "collapsed": false
   },
   "outputs": [
    {
     "data": {
      "text/plain": [
       "<matplotlib.text.Text at 0x7f117be90710>"
      ]
     },
     "execution_count": 4,
     "metadata": {},
     "output_type": "execute_result"
    },
    {
     "data": {
      "image/png": "[encoded data removed]",
      "text/plain": [
       "<matplotlib.figure.Figure at 0x7f117bebde10>"
      ]
     },
     "metadata": {},
     "output_type": "display_data"
    }
   ],
   "source": [
    "#df_samp_motion = df.loc[df['DX_GROUP']==2, :]\n",
    "#df_samp_motion.head(30)\n",
    "plt.hist(np.array(df[\"func_perc_fd\"]),bins=40)\n",
    "plt.xlabel('func_perc_fd')\n",
    "plt.ylabel('count')"
   ]
  },
  {
   "cell_type": "markdown",
   "metadata": {
    "collapsed": false
   },
   "source": [
    "## Attempt at changing split_two_matched_samples to grab data from equal bins in dist of motion"
   ]
  },
  {
   "cell_type": "code",
   "execution_count": 5,
   "metadata": {
    "collapsed": false
   },
   "outputs": [],
   "source": [
    "motion_thresh = 50\n",
    "df_samp_motion = df.loc[df['func_perc_fd']<motion_thresh, :]"
   ]
  },
  {
   "cell_type": "markdown",
   "metadata": {
    "collapsed": true
   },
   "source": [
    "## sort subjects based on motion"
   ]
  },
  {
   "cell_type": "code",
   "execution_count": 6,
   "metadata": {
    "collapsed": false
   },
   "outputs": [],
   "source": [
    "sort_column_list = ['func_perc_fd']\n",
    "df_motion_sorted = df_samp_motion.sort_values(by=sort_column_list)\n"
   ]
  },
  {
   "cell_type": "code",
   "execution_count": 7,
   "metadata": {
    "collapsed": false
   },
   "outputs": [
    {
     "data": {
      "text/html": [
       "<div>\n",
       "<table border=\"1\" class=\"dataframe\">\n",
       "  <thead>\n",
       "    <tr style=\"text-align: right;\">\n",
       "      <th></th>\n",
       "      <th>Unnamed: 0</th>\n",
       "      <th>Unnamed: 0.1</th>\n",
       "      <th>SUB_ID</th>\n",
       "      <th>X</th>\n",
       "      <th>subject</th>\n",
       "      <th>SITE_ID</th>\n",
       "      <th>FILE_ID</th>\n",
       "      <th>DX_GROUP</th>\n",
       "      <th>DSM_IV_TR</th>\n",
       "      <th>AGE_AT_SCAN</th>\n",
       "      <th>...</th>\n",
       "      <th>qc_anat_rater_2</th>\n",
       "      <th>qc_anat_notes_rater_2</th>\n",
       "      <th>qc_func_rater_2</th>\n",
       "      <th>qc_func_notes_rater_2</th>\n",
       "      <th>qc_anat_rater_3</th>\n",
       "      <th>qc_anat_notes_rater_3</th>\n",
       "      <th>qc_func_rater_3</th>\n",
       "      <th>qc_func_notes_rater_3</th>\n",
       "      <th>SUB_IN_SMP</th>\n",
       "      <th>AGE_YRS</th>\n",
       "    </tr>\n",
       "  </thead>\n",
       "  <tbody>\n",
       "    <tr>\n",
       "      <th>982</th>\n",
       "      <td>982</td>\n",
       "      <td>983</td>\n",
       "      <td>51313</td>\n",
       "      <td>983</td>\n",
       "      <td>51313</td>\n",
       "      <td>UCLA_2</td>\n",
       "      <td>UCLA_2_0051313</td>\n",
       "      <td>2</td>\n",
       "      <td>0</td>\n",
       "      <td>13.36</td>\n",
       "      <td>...</td>\n",
       "      <td>OK</td>\n",
       "      <td>NaN</td>\n",
       "      <td>OK</td>\n",
       "      <td>NaN</td>\n",
       "      <td>OK</td>\n",
       "      <td>NaN</td>\n",
       "      <td>OK</td>\n",
       "      <td>NaN</td>\n",
       "      <td>1</td>\n",
       "      <td>13.0</td>\n",
       "    </tr>\n",
       "    <tr>\n",
       "      <th>252</th>\n",
       "      <td>252</td>\n",
       "      <td>253</td>\n",
       "      <td>50329</td>\n",
       "      <td>253</td>\n",
       "      <td>50329</td>\n",
       "      <td>UM_1</td>\n",
       "      <td>UM_1_0050329</td>\n",
       "      <td>2</td>\n",
       "      <td>0</td>\n",
       "      <td>17.10</td>\n",
       "      <td>...</td>\n",
       "      <td>OK</td>\n",
       "      <td>NaN</td>\n",
       "      <td>OK</td>\n",
       "      <td>NaN</td>\n",
       "      <td>OK</td>\n",
       "      <td>NaN</td>\n",
       "      <td>OK</td>\n",
       "      <td>NaN</td>\n",
       "      <td>1</td>\n",
       "      <td>17.0</td>\n",
       "    </tr>\n",
       "    <tr>\n",
       "      <th>715</th>\n",
       "      <td>715</td>\n",
       "      <td>716</td>\n",
       "      <td>51028</td>\n",
       "      <td>716</td>\n",
       "      <td>51028</td>\n",
       "      <td>NYU</td>\n",
       "      <td>NYU_0051028</td>\n",
       "      <td>1</td>\n",
       "      <td>1</td>\n",
       "      <td>29.18</td>\n",
       "      <td>...</td>\n",
       "      <td>OK</td>\n",
       "      <td>NaN</td>\n",
       "      <td>OK</td>\n",
       "      <td>NaN</td>\n",
       "      <td>OK</td>\n",
       "      <td>NaN</td>\n",
       "      <td>OK</td>\n",
       "      <td>NaN</td>\n",
       "      <td>1</td>\n",
       "      <td>29.0</td>\n",
       "    </tr>\n",
       "    <tr>\n",
       "      <th>547</th>\n",
       "      <td>547</td>\n",
       "      <td>548</td>\n",
       "      <td>50706</td>\n",
       "      <td>548</td>\n",
       "      <td>50706</td>\n",
       "      <td>LEUVEN_1</td>\n",
       "      <td>Leuven_1_0050706</td>\n",
       "      <td>2</td>\n",
       "      <td>0</td>\n",
       "      <td>22.00</td>\n",
       "      <td>...</td>\n",
       "      <td>OK</td>\n",
       "      <td>NaN</td>\n",
       "      <td>OK</td>\n",
       "      <td>NaN</td>\n",
       "      <td>OK</td>\n",
       "      <td>NaN</td>\n",
       "      <td>OK</td>\n",
       "      <td>NaN</td>\n",
       "      <td>1</td>\n",
       "      <td>22.0</td>\n",
       "    </tr>\n",
       "    <tr>\n",
       "      <th>123</th>\n",
       "      <td>123</td>\n",
       "      <td>124</td>\n",
       "      <td>50184</td>\n",
       "      <td>124</td>\n",
       "      <td>50184</td>\n",
       "      <td>SDSU</td>\n",
       "      <td>SDSU_0050184</td>\n",
       "      <td>1</td>\n",
       "      <td>2</td>\n",
       "      <td>17.15</td>\n",
       "      <td>...</td>\n",
       "      <td>OK</td>\n",
       "      <td>NaN</td>\n",
       "      <td>OK</td>\n",
       "      <td>NaN</td>\n",
       "      <td>OK</td>\n",
       "      <td>NaN</td>\n",
       "      <td>OK</td>\n",
       "      <td>NaN</td>\n",
       "      <td>0</td>\n",
       "      <td>17.0</td>\n",
       "    </tr>\n",
       "  </tbody>\n",
       "</table>\n",
       "<p>5 rows × 107 columns</p>\n",
       "</div>"
      ],
      "text/plain": [
       "     Unnamed: 0  Unnamed: 0.1  SUB_ID    X  subject   SITE_ID  \\\n",
       "982         982           983   51313  983    51313    UCLA_2   \n",
       "252         252           253   50329  253    50329      UM_1   \n",
       "715         715           716   51028  716    51028       NYU   \n",
       "547         547           548   50706  548    50706  LEUVEN_1   \n",
       "123         123           124   50184  124    50184      SDSU   \n",
       "\n",
       "              FILE_ID  DX_GROUP  DSM_IV_TR  AGE_AT_SCAN   ...     \\\n",
       "982    UCLA_2_0051313         2          0        13.36   ...      \n",
       "252      UM_1_0050329         2          0        17.10   ...      \n",
       "715       NYU_0051028         1          1        29.18   ...      \n",
       "547  Leuven_1_0050706         2          0        22.00   ...      \n",
       "123      SDSU_0050184         1          2        17.15   ...      \n",
       "\n",
       "     qc_anat_rater_2 qc_anat_notes_rater_2  qc_func_rater_2  \\\n",
       "982               OK                   NaN               OK   \n",
       "252               OK                   NaN               OK   \n",
       "715               OK                   NaN               OK   \n",
       "547               OK                   NaN               OK   \n",
       "123               OK                   NaN               OK   \n",
       "\n",
       "     qc_func_notes_rater_2  qc_anat_rater_3  qc_anat_notes_rater_3  \\\n",
       "982                    NaN               OK                    NaN   \n",
       "252                    NaN               OK                    NaN   \n",
       "715                    NaN               OK                    NaN   \n",
       "547                    NaN               OK                    NaN   \n",
       "123                    NaN               OK                    NaN   \n",
       "\n",
       "    qc_func_rater_3 qc_func_notes_rater_3 SUB_IN_SMP  AGE_YRS  \n",
       "982              OK                   NaN          1     13.0  \n",
       "252              OK                   NaN          1     17.0  \n",
       "715              OK                   NaN          1     29.0  \n",
       "547              OK                   NaN          1     22.0  \n",
       "123              OK                   NaN          0     17.0  \n",
       "\n",
       "[5 rows x 107 columns]"
      ]
     },
     "execution_count": 7,
     "metadata": {},
     "output_type": "execute_result"
    }
   ],
   "source": [
    "df_motion_sorted.head(5)"
   ]
  },
  {
   "cell_type": "code",
   "execution_count": 8,
   "metadata": {
    "collapsed": false
   },
   "outputs": [
    {
     "data": {
      "text/html": [
       "<div>\n",
       "<table border=\"1\" class=\"dataframe\">\n",
       "  <thead>\n",
       "    <tr style=\"text-align: right;\">\n",
       "      <th></th>\n",
       "      <th>func_perc_fd</th>\n",
       "      <th>SUB_ID</th>\n",
       "    </tr>\n",
       "  </thead>\n",
       "  <tbody>\n",
       "    <tr>\n",
       "      <th>982</th>\n",
       "      <td>0.0</td>\n",
       "      <td>51313</td>\n",
       "    </tr>\n",
       "    <tr>\n",
       "      <th>252</th>\n",
       "      <td>0.0</td>\n",
       "      <td>50329</td>\n",
       "    </tr>\n",
       "    <tr>\n",
       "      <th>715</th>\n",
       "      <td>0.0</td>\n",
       "      <td>51028</td>\n",
       "    </tr>\n",
       "    <tr>\n",
       "      <th>547</th>\n",
       "      <td>0.0</td>\n",
       "      <td>50706</td>\n",
       "    </tr>\n",
       "    <tr>\n",
       "      <th>123</th>\n",
       "      <td>0.0</td>\n",
       "      <td>50184</td>\n",
       "    </tr>\n",
       "    <tr>\n",
       "      <th>1051</th>\n",
       "      <td>0.0</td>\n",
       "      <td>51465</td>\n",
       "    </tr>\n",
       "    <tr>\n",
       "      <th>1050</th>\n",
       "      <td>0.0</td>\n",
       "      <td>51464</td>\n",
       "    </tr>\n",
       "    <tr>\n",
       "      <th>126</th>\n",
       "      <td>0.0</td>\n",
       "      <td>50187</td>\n",
       "    </tr>\n",
       "    <tr>\n",
       "      <th>855</th>\n",
       "      <td>0.0</td>\n",
       "      <td>51177</td>\n",
       "    </tr>\n",
       "    <tr>\n",
       "      <th>549</th>\n",
       "      <td>0.0</td>\n",
       "      <td>50708</td>\n",
       "    </tr>\n",
       "  </tbody>\n",
       "</table>\n",
       "</div>"
      ],
      "text/plain": [
       "      func_perc_fd  SUB_ID\n",
       "982            0.0   51313\n",
       "252            0.0   50329\n",
       "715            0.0   51028\n",
       "547            0.0   50706\n",
       "123            0.0   50184\n",
       "1051           0.0   51465\n",
       "1050           0.0   51464\n",
       "126            0.0   50187\n",
       "855            0.0   51177\n",
       "549            0.0   50708"
      ]
     },
     "execution_count": 8,
     "metadata": {},
     "output_type": "execute_result"
    }
   ],
   "source": [
    "#check that sorted worked!\n",
    "df = df_motion_sorted[['func_perc_fd', \"SUB_ID\"]]\n",
    "df.head(10)"
   ]
  },
  {
   "cell_type": "markdown",
   "metadata": {},
   "source": [
    "## rank subjects by motion"
   ]
  },
  {
   "cell_type": "code",
   "execution_count": 9,
   "metadata": {
    "collapsed": false
   },
   "outputs": [],
   "source": [
    "#df_samp_motion['func_perc_fd_rank'] = df_samp_motion['func_perc_fd'].rank(ascending=1)\n",
    "#check that rank\n",
    "#df = df_samp_motion[['func_perc_fd', \"SUB_ID\",\"func_perc_fd_rank\"]]\n",
    "#df.tail(10)\n",
    "#plt.scatter(np.array(df[\"func_perc_fd_rank\"]), np.array(df['func_perc_fd']))\n",
    "#plt.xlabel('rank')\n",
    "#plt.ylabel('func_perc_fd')"
   ]
  },
  {
   "cell_type": "code",
   "execution_count": 10,
   "metadata": {
    "collapsed": false
   },
   "outputs": [
    {
     "data": {
      "text/html": [
       "<div>\n",
       "<table border=\"1\" class=\"dataframe\">\n",
       "  <thead>\n",
       "    <tr style=\"text-align: right;\">\n",
       "      <th></th>\n",
       "      <th>rank</th>\n",
       "    </tr>\n",
       "  </thead>\n",
       "  <tbody>\n",
       "    <tr>\n",
       "      <th>0</th>\n",
       "      <td>0</td>\n",
       "    </tr>\n",
       "    <tr>\n",
       "      <th>1</th>\n",
       "      <td>1</td>\n",
       "    </tr>\n",
       "    <tr>\n",
       "      <th>2</th>\n",
       "      <td>2</td>\n",
       "    </tr>\n",
       "  </tbody>\n",
       "</table>\n",
       "</div>"
      ],
      "text/plain": [
       "   rank\n",
       "0     0\n",
       "1     1\n",
       "2     2"
      ]
     },
     "execution_count": 10,
     "metadata": {},
     "output_type": "execute_result"
    }
   ],
   "source": [
    "r=range(len(df_motion_sorted))\n",
    "r_df=pd.DataFrame(r)\n",
    "r_df.columns = ['rank']\n",
    "r_df.head(3)"
   ]
  },
  {
   "cell_type": "code",
   "execution_count": 11,
   "metadata": {
    "collapsed": false
   },
   "outputs": [
    {
     "data": {
      "text/html": [
       "<div>\n",
       "<table border=\"1\" class=\"dataframe\">\n",
       "  <thead>\n",
       "    <tr style=\"text-align: right;\">\n",
       "      <th></th>\n",
       "      <th>rank</th>\n",
       "      <th>newcol</th>\n",
       "    </tr>\n",
       "  </thead>\n",
       "  <tbody>\n",
       "    <tr>\n",
       "      <th>0</th>\n",
       "      <td>0</td>\n",
       "      <td>982</td>\n",
       "    </tr>\n",
       "    <tr>\n",
       "      <th>1</th>\n",
       "      <td>1</td>\n",
       "      <td>252</td>\n",
       "    </tr>\n",
       "    <tr>\n",
       "      <th>2</th>\n",
       "      <td>2</td>\n",
       "      <td>715</td>\n",
       "    </tr>\n",
       "  </tbody>\n",
       "</table>\n",
       "</div>"
      ],
      "text/plain": [
       "   rank  newcol\n",
       "0     0     982\n",
       "1     1     252\n",
       "2     2     715"
      ]
     },
     "execution_count": 11,
     "metadata": {},
     "output_type": "execute_result"
    }
   ],
   "source": [
    "r_df['newcol'] = df_motion_sorted.index\n",
    "r_df.head(3)"
   ]
  },
  {
   "cell_type": "code",
   "execution_count": 12,
   "metadata": {
    "collapsed": false
   },
   "outputs": [],
   "source": [
    "#r_df.set_index('newcol').loc[df_motion_sorted.index]\n",
    "#r_df=r_df.set_index('newcol').loc[df_motion_sorted.index]\n",
    "#r_df=r_df.set_index('newcol',drop=False).loc[df_motion_sorted.index]\n",
    "r_df.set_index('newcol', inplace=True)\n",
    "r_df.index.names = [None]"
   ]
  },
  {
   "cell_type": "code",
   "execution_count": 13,
   "metadata": {
    "collapsed": false
   },
   "outputs": [
    {
     "data": {
      "text/html": [
       "<div>\n",
       "<table border=\"1\" class=\"dataframe\">\n",
       "  <thead>\n",
       "    <tr style=\"text-align: right;\">\n",
       "      <th></th>\n",
       "      <th>rank</th>\n",
       "    </tr>\n",
       "  </thead>\n",
       "  <tbody>\n",
       "    <tr>\n",
       "      <th>982</th>\n",
       "      <td>0</td>\n",
       "    </tr>\n",
       "    <tr>\n",
       "      <th>252</th>\n",
       "      <td>1</td>\n",
       "    </tr>\n",
       "    <tr>\n",
       "      <th>715</th>\n",
       "      <td>2</td>\n",
       "    </tr>\n",
       "  </tbody>\n",
       "</table>\n",
       "</div>"
      ],
      "text/plain": [
       "     rank\n",
       "982     0\n",
       "252     1\n",
       "715     2"
      ]
     },
     "execution_count": 13,
     "metadata": {},
     "output_type": "execute_result"
    }
   ],
   "source": [
    "r_df.head(3)"
   ]
  },
  {
   "cell_type": "code",
   "execution_count": 14,
   "metadata": {
    "collapsed": false
   },
   "outputs": [],
   "source": [
    "df_motion_sorted_rank=pd.concat ([r_df,df_motion_sorted], axis=1)"
   ]
  },
  {
   "cell_type": "code",
   "execution_count": 15,
   "metadata": {
    "collapsed": false
   },
   "outputs": [
    {
     "data": {
      "text/html": [
       "<div>\n",
       "<table border=\"1\" class=\"dataframe\">\n",
       "  <thead>\n",
       "    <tr style=\"text-align: right;\">\n",
       "      <th></th>\n",
       "      <th>rank</th>\n",
       "      <th>Unnamed: 0</th>\n",
       "      <th>Unnamed: 0.1</th>\n",
       "      <th>SUB_ID</th>\n",
       "      <th>X</th>\n",
       "      <th>subject</th>\n",
       "      <th>SITE_ID</th>\n",
       "      <th>FILE_ID</th>\n",
       "      <th>DX_GROUP</th>\n",
       "      <th>DSM_IV_TR</th>\n",
       "      <th>...</th>\n",
       "      <th>qc_anat_rater_2</th>\n",
       "      <th>qc_anat_notes_rater_2</th>\n",
       "      <th>qc_func_rater_2</th>\n",
       "      <th>qc_func_notes_rater_2</th>\n",
       "      <th>qc_anat_rater_3</th>\n",
       "      <th>qc_anat_notes_rater_3</th>\n",
       "      <th>qc_func_rater_3</th>\n",
       "      <th>qc_func_notes_rater_3</th>\n",
       "      <th>SUB_IN_SMP</th>\n",
       "      <th>AGE_YRS</th>\n",
       "    </tr>\n",
       "  </thead>\n",
       "  <tbody>\n",
       "    <tr>\n",
       "      <th>982</th>\n",
       "      <td>0</td>\n",
       "      <td>982</td>\n",
       "      <td>983</td>\n",
       "      <td>51313</td>\n",
       "      <td>983</td>\n",
       "      <td>51313</td>\n",
       "      <td>UCLA_2</td>\n",
       "      <td>UCLA_2_0051313</td>\n",
       "      <td>2</td>\n",
       "      <td>0</td>\n",
       "      <td>...</td>\n",
       "      <td>OK</td>\n",
       "      <td>NaN</td>\n",
       "      <td>OK</td>\n",
       "      <td>NaN</td>\n",
       "      <td>OK</td>\n",
       "      <td>NaN</td>\n",
       "      <td>OK</td>\n",
       "      <td>NaN</td>\n",
       "      <td>1</td>\n",
       "      <td>13.0</td>\n",
       "    </tr>\n",
       "    <tr>\n",
       "      <th>252</th>\n",
       "      <td>1</td>\n",
       "      <td>252</td>\n",
       "      <td>253</td>\n",
       "      <td>50329</td>\n",
       "      <td>253</td>\n",
       "      <td>50329</td>\n",
       "      <td>UM_1</td>\n",
       "      <td>UM_1_0050329</td>\n",
       "      <td>2</td>\n",
       "      <td>0</td>\n",
       "      <td>...</td>\n",
       "      <td>OK</td>\n",
       "      <td>NaN</td>\n",
       "      <td>OK</td>\n",
       "      <td>NaN</td>\n",
       "      <td>OK</td>\n",
       "      <td>NaN</td>\n",
       "      <td>OK</td>\n",
       "      <td>NaN</td>\n",
       "      <td>1</td>\n",
       "      <td>17.0</td>\n",
       "    </tr>\n",
       "    <tr>\n",
       "      <th>715</th>\n",
       "      <td>2</td>\n",
       "      <td>715</td>\n",
       "      <td>716</td>\n",
       "      <td>51028</td>\n",
       "      <td>716</td>\n",
       "      <td>51028</td>\n",
       "      <td>NYU</td>\n",
       "      <td>NYU_0051028</td>\n",
       "      <td>1</td>\n",
       "      <td>1</td>\n",
       "      <td>...</td>\n",
       "      <td>OK</td>\n",
       "      <td>NaN</td>\n",
       "      <td>OK</td>\n",
       "      <td>NaN</td>\n",
       "      <td>OK</td>\n",
       "      <td>NaN</td>\n",
       "      <td>OK</td>\n",
       "      <td>NaN</td>\n",
       "      <td>1</td>\n",
       "      <td>29.0</td>\n",
       "    </tr>\n",
       "    <tr>\n",
       "      <th>547</th>\n",
       "      <td>3</td>\n",
       "      <td>547</td>\n",
       "      <td>548</td>\n",
       "      <td>50706</td>\n",
       "      <td>548</td>\n",
       "      <td>50706</td>\n",
       "      <td>LEUVEN_1</td>\n",
       "      <td>Leuven_1_0050706</td>\n",
       "      <td>2</td>\n",
       "      <td>0</td>\n",
       "      <td>...</td>\n",
       "      <td>OK</td>\n",
       "      <td>NaN</td>\n",
       "      <td>OK</td>\n",
       "      <td>NaN</td>\n",
       "      <td>OK</td>\n",
       "      <td>NaN</td>\n",
       "      <td>OK</td>\n",
       "      <td>NaN</td>\n",
       "      <td>1</td>\n",
       "      <td>22.0</td>\n",
       "    </tr>\n",
       "    <tr>\n",
       "      <th>123</th>\n",
       "      <td>4</td>\n",
       "      <td>123</td>\n",
       "      <td>124</td>\n",
       "      <td>50184</td>\n",
       "      <td>124</td>\n",
       "      <td>50184</td>\n",
       "      <td>SDSU</td>\n",
       "      <td>SDSU_0050184</td>\n",
       "      <td>1</td>\n",
       "      <td>2</td>\n",
       "      <td>...</td>\n",
       "      <td>OK</td>\n",
       "      <td>NaN</td>\n",
       "      <td>OK</td>\n",
       "      <td>NaN</td>\n",
       "      <td>OK</td>\n",
       "      <td>NaN</td>\n",
       "      <td>OK</td>\n",
       "      <td>NaN</td>\n",
       "      <td>0</td>\n",
       "      <td>17.0</td>\n",
       "    </tr>\n",
       "  </tbody>\n",
       "</table>\n",
       "<p>5 rows × 108 columns</p>\n",
       "</div>"
      ],
      "text/plain": [
       "     rank  Unnamed: 0  Unnamed: 0.1  SUB_ID    X  subject   SITE_ID  \\\n",
       "982     0         982           983   51313  983    51313    UCLA_2   \n",
       "252     1         252           253   50329  253    50329      UM_1   \n",
       "715     2         715           716   51028  716    51028       NYU   \n",
       "547     3         547           548   50706  548    50706  LEUVEN_1   \n",
       "123     4         123           124   50184  124    50184      SDSU   \n",
       "\n",
       "              FILE_ID  DX_GROUP  DSM_IV_TR   ...    qc_anat_rater_2  \\\n",
       "982    UCLA_2_0051313         2          0   ...                 OK   \n",
       "252      UM_1_0050329         2          0   ...                 OK   \n",
       "715       NYU_0051028         1          1   ...                 OK   \n",
       "547  Leuven_1_0050706         2          0   ...                 OK   \n",
       "123      SDSU_0050184         1          2   ...                 OK   \n",
       "\n",
       "     qc_anat_notes_rater_2 qc_func_rater_2  qc_func_notes_rater_2  \\\n",
       "982                    NaN              OK                    NaN   \n",
       "252                    NaN              OK                    NaN   \n",
       "715                    NaN              OK                    NaN   \n",
       "547                    NaN              OK                    NaN   \n",
       "123                    NaN              OK                    NaN   \n",
       "\n",
       "     qc_anat_rater_3  qc_anat_notes_rater_3  qc_func_rater_3  \\\n",
       "982               OK                    NaN               OK   \n",
       "252               OK                    NaN               OK   \n",
       "715               OK                    NaN               OK   \n",
       "547               OK                    NaN               OK   \n",
       "123               OK                    NaN               OK   \n",
       "\n",
       "    qc_func_notes_rater_3 SUB_IN_SMP AGE_YRS  \n",
       "982                   NaN          1    13.0  \n",
       "252                   NaN          1    17.0  \n",
       "715                   NaN          1    29.0  \n",
       "547                   NaN          1    22.0  \n",
       "123                   NaN          0    17.0  \n",
       "\n",
       "[5 rows x 108 columns]"
      ]
     },
     "execution_count": 15,
     "metadata": {},
     "output_type": "execute_result"
    }
   ],
   "source": [
    "df_motion_sorted_rank.head()"
   ]
  },
  {
   "cell_type": "code",
   "execution_count": 16,
   "metadata": {
    "collapsed": false
   },
   "outputs": [
    {
     "data": {
      "text/plain": [
       "<matplotlib.text.Text at 0x7f11797dc410>"
      ]
     },
     "execution_count": 16,
     "metadata": {},
     "output_type": "execute_result"
    },
    {
     "data": {
      "image/png": "[encoded data removed]",
      "text/plain": [
       "<matplotlib.figure.Figure at 0x7f1179175e10>"
      ]
     },
     "metadata": {},
     "output_type": "display_data"
    }
   ],
   "source": [
    "plt.scatter(np.array(df_motion_sorted_rank[\"rank\"]), np.array(df_motion_sorted_rank['func_perc_fd']))\n",
    "plt.xlabel('rank')\n",
    "plt.ylabel('func_perc_fd')"
   ]
  },
  {
   "cell_type": "markdown",
   "metadata": {},
   "source": [
    "## create bins of subjects in quartiles"
   ]
  },
  {
   "cell_type": "code",
   "execution_count": 17,
   "metadata": {
    "collapsed": false
   },
   "outputs": [
    {
     "data": {
      "text/plain": [
       "241.75"
      ]
     },
     "execution_count": 17,
     "metadata": {},
     "output_type": "execute_result"
    }
   ],
   "source": [
    "# create percentile ranks\n",
    "n=len(df_motion_sorted_rank)\n",
    "chunk=n/4\n",
    "chunk1=chunk\n",
    "chunk2=2*chunk\n",
    "chunk3=3*chunk\n",
    "chunk4=n\n",
    "chunk"
   ]
  },
  {
   "cell_type": "code",
   "execution_count": 18,
   "metadata": {
    "collapsed": false
   },
   "outputs": [],
   "source": [
    "first=df_motion_sorted_rank[df_motion_sorted_rank['rank']<=chunk1]"
   ]
  },
  {
   "cell_type": "code",
   "execution_count": 19,
   "metadata": {
    "collapsed": false
   },
   "outputs": [
    {
     "data": {
      "text/html": [
       "<div>\n",
       "<table border=\"1\" class=\"dataframe\">\n",
       "  <thead>\n",
       "    <tr style=\"text-align: right;\">\n",
       "      <th></th>\n",
       "      <th>rank</th>\n",
       "      <th>Unnamed: 0</th>\n",
       "      <th>Unnamed: 0.1</th>\n",
       "      <th>SUB_ID</th>\n",
       "      <th>X</th>\n",
       "      <th>subject</th>\n",
       "      <th>SITE_ID</th>\n",
       "      <th>FILE_ID</th>\n",
       "      <th>DX_GROUP</th>\n",
       "      <th>DSM_IV_TR</th>\n",
       "      <th>...</th>\n",
       "      <th>qc_anat_rater_2</th>\n",
       "      <th>qc_anat_notes_rater_2</th>\n",
       "      <th>qc_func_rater_2</th>\n",
       "      <th>qc_func_notes_rater_2</th>\n",
       "      <th>qc_anat_rater_3</th>\n",
       "      <th>qc_anat_notes_rater_3</th>\n",
       "      <th>qc_func_rater_3</th>\n",
       "      <th>qc_func_notes_rater_3</th>\n",
       "      <th>SUB_IN_SMP</th>\n",
       "      <th>AGE_YRS</th>\n",
       "    </tr>\n",
       "  </thead>\n",
       "  <tbody>\n",
       "    <tr>\n",
       "      <th>543</th>\n",
       "      <td>238</td>\n",
       "      <td>543</td>\n",
       "      <td>544</td>\n",
       "      <td>50702</td>\n",
       "      <td>544</td>\n",
       "      <td>50702</td>\n",
       "      <td>LEUVEN_1</td>\n",
       "      <td>Leuven_1_0050702</td>\n",
       "      <td>1</td>\n",
       "      <td>1</td>\n",
       "      <td>...</td>\n",
       "      <td>OK</td>\n",
       "      <td>NaN</td>\n",
       "      <td>OK</td>\n",
       "      <td>NaN</td>\n",
       "      <td>OK</td>\n",
       "      <td>NaN</td>\n",
       "      <td>OK</td>\n",
       "      <td>NaN</td>\n",
       "      <td>1</td>\n",
       "      <td>18.0</td>\n",
       "    </tr>\n",
       "    <tr>\n",
       "      <th>991</th>\n",
       "      <td>239</td>\n",
       "      <td>991</td>\n",
       "      <td>992</td>\n",
       "      <td>51322</td>\n",
       "      <td>992</td>\n",
       "      <td>51322</td>\n",
       "      <td>MAX_MUN</td>\n",
       "      <td>MaxMun_b_0051322</td>\n",
       "      <td>1</td>\n",
       "      <td>2</td>\n",
       "      <td>...</td>\n",
       "      <td>OK</td>\n",
       "      <td>NaN</td>\n",
       "      <td>OK</td>\n",
       "      <td>NaN</td>\n",
       "      <td>OK</td>\n",
       "      <td>NaN</td>\n",
       "      <td>OK</td>\n",
       "      <td>NaN</td>\n",
       "      <td>1</td>\n",
       "      <td>29.0</td>\n",
       "    </tr>\n",
       "    <tr>\n",
       "      <th>933</th>\n",
       "      <td>240</td>\n",
       "      <td>933</td>\n",
       "      <td>934</td>\n",
       "      <td>51256</td>\n",
       "      <td>934</td>\n",
       "      <td>51256</td>\n",
       "      <td>UCLA_1</td>\n",
       "      <td>UCLA_1_0051256</td>\n",
       "      <td>2</td>\n",
       "      <td>0</td>\n",
       "      <td>...</td>\n",
       "      <td>maybe</td>\n",
       "      <td>skull-striping fail;</td>\n",
       "      <td>OK</td>\n",
       "      <td>NaN</td>\n",
       "      <td>OK</td>\n",
       "      <td>NaN</td>\n",
       "      <td>OK</td>\n",
       "      <td>NaN</td>\n",
       "      <td>1</td>\n",
       "      <td>15.0</td>\n",
       "    </tr>\n",
       "    <tr>\n",
       "      <th>895</th>\n",
       "      <td>241</td>\n",
       "      <td>895</td>\n",
       "      <td>896</td>\n",
       "      <td>51218</td>\n",
       "      <td>896</td>\n",
       "      <td>51218</td>\n",
       "      <td>UCLA_1</td>\n",
       "      <td>UCLA_1_0051218</td>\n",
       "      <td>1</td>\n",
       "      <td>1</td>\n",
       "      <td>...</td>\n",
       "      <td>OK</td>\n",
       "      <td>NaN</td>\n",
       "      <td>OK</td>\n",
       "      <td>NaN</td>\n",
       "      <td>OK</td>\n",
       "      <td>NaN</td>\n",
       "      <td>OK</td>\n",
       "      <td>NaN</td>\n",
       "      <td>1</td>\n",
       "      <td>16.0</td>\n",
       "    </tr>\n",
       "  </tbody>\n",
       "</table>\n",
       "<p>4 rows × 108 columns</p>\n",
       "</div>"
      ],
      "text/plain": [
       "     rank  Unnamed: 0  Unnamed: 0.1  SUB_ID    X  subject   SITE_ID  \\\n",
       "543   238         543           544   50702  544    50702  LEUVEN_1   \n",
       "991   239         991           992   51322  992    51322   MAX_MUN   \n",
       "933   240         933           934   51256  934    51256    UCLA_1   \n",
       "895   241         895           896   51218  896    51218    UCLA_1   \n",
       "\n",
       "              FILE_ID  DX_GROUP  DSM_IV_TR   ...    qc_anat_rater_2  \\\n",
       "543  Leuven_1_0050702         1          1   ...                 OK   \n",
       "991  MaxMun_b_0051322         1          2   ...                 OK   \n",
       "933    UCLA_1_0051256         2          0   ...              maybe   \n",
       "895    UCLA_1_0051218         1          1   ...                 OK   \n",
       "\n",
       "     qc_anat_notes_rater_2 qc_func_rater_2  qc_func_notes_rater_2  \\\n",
       "543                    NaN              OK                    NaN   \n",
       "991                    NaN              OK                    NaN   \n",
       "933   skull-striping fail;              OK                    NaN   \n",
       "895                    NaN              OK                    NaN   \n",
       "\n",
       "     qc_anat_rater_3  qc_anat_notes_rater_3  qc_func_rater_3  \\\n",
       "543               OK                    NaN               OK   \n",
       "991               OK                    NaN               OK   \n",
       "933               OK                    NaN               OK   \n",
       "895               OK                    NaN               OK   \n",
       "\n",
       "    qc_func_notes_rater_3 SUB_IN_SMP AGE_YRS  \n",
       "543                   NaN          1    18.0  \n",
       "991                   NaN          1    29.0  \n",
       "933                   NaN          1    15.0  \n",
       "895                   NaN          1    16.0  \n",
       "\n",
       "[4 rows x 108 columns]"
      ]
     },
     "execution_count": 19,
     "metadata": {},
     "output_type": "execute_result"
    }
   ],
   "source": [
    "first.shape\n",
    "first.tail(4) #top =201"
   ]
  },
  {
   "cell_type": "code",
   "execution_count": 20,
   "metadata": {
    "collapsed": false
   },
   "outputs": [],
   "source": [
    "second=df_motion_sorted_rank[(df_motion_sorted_rank['rank']>chunk1) & (df_motion_sorted_rank['rank']<=chunk2)]"
   ]
  },
  {
   "cell_type": "code",
   "execution_count": 21,
   "metadata": {
    "collapsed": false
   },
   "outputs": [
    {
     "data": {
      "text/html": [
       "<div>\n",
       "<table border=\"1\" class=\"dataframe\">\n",
       "  <thead>\n",
       "    <tr style=\"text-align: right;\">\n",
       "      <th></th>\n",
       "      <th>rank</th>\n",
       "      <th>Unnamed: 0</th>\n",
       "      <th>Unnamed: 0.1</th>\n",
       "      <th>SUB_ID</th>\n",
       "      <th>X</th>\n",
       "      <th>subject</th>\n",
       "      <th>SITE_ID</th>\n",
       "      <th>FILE_ID</th>\n",
       "      <th>DX_GROUP</th>\n",
       "      <th>DSM_IV_TR</th>\n",
       "      <th>...</th>\n",
       "      <th>qc_anat_rater_2</th>\n",
       "      <th>qc_anat_notes_rater_2</th>\n",
       "      <th>qc_func_rater_2</th>\n",
       "      <th>qc_func_notes_rater_2</th>\n",
       "      <th>qc_anat_rater_3</th>\n",
       "      <th>qc_anat_notes_rater_3</th>\n",
       "      <th>qc_func_rater_3</th>\n",
       "      <th>qc_func_notes_rater_3</th>\n",
       "      <th>SUB_IN_SMP</th>\n",
       "      <th>AGE_YRS</th>\n",
       "    </tr>\n",
       "  </thead>\n",
       "  <tbody>\n",
       "    <tr>\n",
       "      <th>69</th>\n",
       "      <td>480</td>\n",
       "      <td>69</td>\n",
       "      <td>70</td>\n",
       "      <td>50114</td>\n",
       "      <td>70</td>\n",
       "      <td>50114</td>\n",
       "      <td>OLIN</td>\n",
       "      <td>Olin_0050114</td>\n",
       "      <td>2</td>\n",
       "      <td>0</td>\n",
       "      <td>...</td>\n",
       "      <td>OK</td>\n",
       "      <td>NaN</td>\n",
       "      <td>OK</td>\n",
       "      <td>NaN</td>\n",
       "      <td>OK</td>\n",
       "      <td>NaN</td>\n",
       "      <td>OK</td>\n",
       "      <td>NaN</td>\n",
       "      <td>0</td>\n",
       "      <td>20.0</td>\n",
       "    </tr>\n",
       "    <tr>\n",
       "      <th>528</th>\n",
       "      <td>481</td>\n",
       "      <td>528</td>\n",
       "      <td>529</td>\n",
       "      <td>50687</td>\n",
       "      <td>529</td>\n",
       "      <td>50687</td>\n",
       "      <td>LEUVEN_1</td>\n",
       "      <td>Leuven_1_0050687</td>\n",
       "      <td>2</td>\n",
       "      <td>0</td>\n",
       "      <td>...</td>\n",
       "      <td>OK</td>\n",
       "      <td>NaN</td>\n",
       "      <td>OK</td>\n",
       "      <td>NaN</td>\n",
       "      <td>OK</td>\n",
       "      <td>NaN</td>\n",
       "      <td>OK</td>\n",
       "      <td>NaN</td>\n",
       "      <td>1</td>\n",
       "      <td>22.0</td>\n",
       "    </tr>\n",
       "    <tr>\n",
       "      <th>563</th>\n",
       "      <td>482</td>\n",
       "      <td>563</td>\n",
       "      <td>564</td>\n",
       "      <td>50733</td>\n",
       "      <td>564</td>\n",
       "      <td>50733</td>\n",
       "      <td>LEUVEN_2</td>\n",
       "      <td>Leuven_2_0050733</td>\n",
       "      <td>2</td>\n",
       "      <td>0</td>\n",
       "      <td>...</td>\n",
       "      <td>OK</td>\n",
       "      <td>NaN</td>\n",
       "      <td>maybe</td>\n",
       "      <td>ic-cerebellum</td>\n",
       "      <td>OK</td>\n",
       "      <td>NaN</td>\n",
       "      <td>OK</td>\n",
       "      <td>NaN</td>\n",
       "      <td>1</td>\n",
       "      <td>14.0</td>\n",
       "    </tr>\n",
       "    <tr>\n",
       "      <th>568</th>\n",
       "      <td>483</td>\n",
       "      <td>568</td>\n",
       "      <td>569</td>\n",
       "      <td>50738</td>\n",
       "      <td>569</td>\n",
       "      <td>50738</td>\n",
       "      <td>LEUVEN_2</td>\n",
       "      <td>Leuven_2_0050738</td>\n",
       "      <td>2</td>\n",
       "      <td>0</td>\n",
       "      <td>...</td>\n",
       "      <td>OK</td>\n",
       "      <td>NaN</td>\n",
       "      <td>maybe</td>\n",
       "      <td>ic-cerebellum</td>\n",
       "      <td>OK</td>\n",
       "      <td>NaN</td>\n",
       "      <td>OK</td>\n",
       "      <td>NaN</td>\n",
       "      <td>1</td>\n",
       "      <td>12.0</td>\n",
       "    </tr>\n",
       "  </tbody>\n",
       "</table>\n",
       "<p>4 rows × 108 columns</p>\n",
       "</div>"
      ],
      "text/plain": [
       "     rank  Unnamed: 0  Unnamed: 0.1  SUB_ID    X  subject   SITE_ID  \\\n",
       "69    480          69            70   50114   70    50114      OLIN   \n",
       "528   481         528           529   50687  529    50687  LEUVEN_1   \n",
       "563   482         563           564   50733  564    50733  LEUVEN_2   \n",
       "568   483         568           569   50738  569    50738  LEUVEN_2   \n",
       "\n",
       "              FILE_ID  DX_GROUP  DSM_IV_TR   ...    qc_anat_rater_2  \\\n",
       "69       Olin_0050114         2          0   ...                 OK   \n",
       "528  Leuven_1_0050687         2          0   ...                 OK   \n",
       "563  Leuven_2_0050733         2          0   ...                 OK   \n",
       "568  Leuven_2_0050738         2          0   ...                 OK   \n",
       "\n",
       "     qc_anat_notes_rater_2 qc_func_rater_2  qc_func_notes_rater_2  \\\n",
       "69                     NaN              OK                    NaN   \n",
       "528                    NaN              OK                    NaN   \n",
       "563                    NaN           maybe          ic-cerebellum   \n",
       "568                    NaN           maybe          ic-cerebellum   \n",
       "\n",
       "     qc_anat_rater_3  qc_anat_notes_rater_3  qc_func_rater_3  \\\n",
       "69                OK                    NaN               OK   \n",
       "528               OK                    NaN               OK   \n",
       "563               OK                    NaN               OK   \n",
       "568               OK                    NaN               OK   \n",
       "\n",
       "    qc_func_notes_rater_3 SUB_IN_SMP AGE_YRS  \n",
       "69                    NaN          0    20.0  \n",
       "528                   NaN          1    22.0  \n",
       "563                   NaN          1    14.0  \n",
       "568                   NaN          1    12.0  \n",
       "\n",
       "[4 rows x 108 columns]"
      ]
     },
     "execution_count": 21,
     "metadata": {},
     "output_type": "execute_result"
    }
   ],
   "source": [
    "second.shape\n",
    "second.tail(4) #402"
   ]
  },
  {
   "cell_type": "code",
   "execution_count": 22,
   "metadata": {
    "collapsed": false
   },
   "outputs": [
    {
     "data": {
      "text/html": [
       "<div>\n",
       "<table border=\"1\" class=\"dataframe\">\n",
       "  <thead>\n",
       "    <tr style=\"text-align: right;\">\n",
       "      <th></th>\n",
       "      <th>rank</th>\n",
       "      <th>Unnamed: 0</th>\n",
       "      <th>Unnamed: 0.1</th>\n",
       "      <th>SUB_ID</th>\n",
       "      <th>X</th>\n",
       "      <th>subject</th>\n",
       "      <th>SITE_ID</th>\n",
       "      <th>FILE_ID</th>\n",
       "      <th>DX_GROUP</th>\n",
       "      <th>DSM_IV_TR</th>\n",
       "      <th>...</th>\n",
       "      <th>qc_anat_rater_2</th>\n",
       "      <th>qc_anat_notes_rater_2</th>\n",
       "      <th>qc_func_rater_2</th>\n",
       "      <th>qc_func_notes_rater_2</th>\n",
       "      <th>qc_anat_rater_3</th>\n",
       "      <th>qc_anat_notes_rater_3</th>\n",
       "      <th>qc_func_rater_3</th>\n",
       "      <th>qc_func_notes_rater_3</th>\n",
       "      <th>SUB_IN_SMP</th>\n",
       "      <th>AGE_YRS</th>\n",
       "    </tr>\n",
       "  </thead>\n",
       "  <tbody>\n",
       "    <tr>\n",
       "      <th>108</th>\n",
       "      <td>722</td>\n",
       "      <td>108</td>\n",
       "      <td>109</td>\n",
       "      <td>50159</td>\n",
       "      <td>109</td>\n",
       "      <td>50159</td>\n",
       "      <td>OHSU</td>\n",
       "      <td>OHSU_0050159</td>\n",
       "      <td>2</td>\n",
       "      <td>-9999</td>\n",
       "      <td>...</td>\n",
       "      <td>OK</td>\n",
       "      <td>NaN</td>\n",
       "      <td>OK</td>\n",
       "      <td>NaN</td>\n",
       "      <td>OK</td>\n",
       "      <td>NaN</td>\n",
       "      <td>OK</td>\n",
       "      <td>NaN</td>\n",
       "      <td>1</td>\n",
       "      <td>10.0</td>\n",
       "    </tr>\n",
       "    <tr>\n",
       "      <th>688</th>\n",
       "      <td>723</td>\n",
       "      <td>688</td>\n",
       "      <td>689</td>\n",
       "      <td>50998</td>\n",
       "      <td>689</td>\n",
       "      <td>50998</td>\n",
       "      <td>NYU</td>\n",
       "      <td>NYU_0050998</td>\n",
       "      <td>1</td>\n",
       "      <td>1</td>\n",
       "      <td>...</td>\n",
       "      <td>OK</td>\n",
       "      <td>NaN</td>\n",
       "      <td>OK</td>\n",
       "      <td>NaN</td>\n",
       "      <td>OK</td>\n",
       "      <td>NaN</td>\n",
       "      <td>OK</td>\n",
       "      <td>NaN</td>\n",
       "      <td>1</td>\n",
       "      <td>13.0</td>\n",
       "    </tr>\n",
       "    <tr>\n",
       "      <th>70</th>\n",
       "      <td>724</td>\n",
       "      <td>70</td>\n",
       "      <td>71</td>\n",
       "      <td>50115</td>\n",
       "      <td>71</td>\n",
       "      <td>50115</td>\n",
       "      <td>OLIN</td>\n",
       "      <td>Olin_0050115</td>\n",
       "      <td>2</td>\n",
       "      <td>0</td>\n",
       "      <td>...</td>\n",
       "      <td>maybe</td>\n",
       "      <td>skull-striping fail</td>\n",
       "      <td>OK</td>\n",
       "      <td>NaN</td>\n",
       "      <td>OK</td>\n",
       "      <td>NaN</td>\n",
       "      <td>OK</td>\n",
       "      <td>NaN</td>\n",
       "      <td>1</td>\n",
       "      <td>23.0</td>\n",
       "    </tr>\n",
       "    <tr>\n",
       "      <th>597</th>\n",
       "      <td>725</td>\n",
       "      <td>597</td>\n",
       "      <td>598</td>\n",
       "      <td>50781</td>\n",
       "      <td>598</td>\n",
       "      <td>50781</td>\n",
       "      <td>KKI</td>\n",
       "      <td>KKI_0050781</td>\n",
       "      <td>2</td>\n",
       "      <td>0</td>\n",
       "      <td>...</td>\n",
       "      <td>OK</td>\n",
       "      <td>NaN</td>\n",
       "      <td>OK</td>\n",
       "      <td>NaN</td>\n",
       "      <td>OK</td>\n",
       "      <td>NaN</td>\n",
       "      <td>OK</td>\n",
       "      <td>NaN</td>\n",
       "      <td>1</td>\n",
       "      <td>9.0</td>\n",
       "    </tr>\n",
       "  </tbody>\n",
       "</table>\n",
       "<p>4 rows × 108 columns</p>\n",
       "</div>"
      ],
      "text/plain": [
       "     rank  Unnamed: 0  Unnamed: 0.1  SUB_ID    X  subject SITE_ID  \\\n",
       "108   722         108           109   50159  109    50159    OHSU   \n",
       "688   723         688           689   50998  689    50998     NYU   \n",
       "70    724          70            71   50115   71    50115    OLIN   \n",
       "597   725         597           598   50781  598    50781     KKI   \n",
       "\n",
       "          FILE_ID  DX_GROUP  DSM_IV_TR   ...    qc_anat_rater_2  \\\n",
       "108  OHSU_0050159         2      -9999   ...                 OK   \n",
       "688   NYU_0050998         1          1   ...                 OK   \n",
       "70   Olin_0050115         2          0   ...              maybe   \n",
       "597   KKI_0050781         2          0   ...                 OK   \n",
       "\n",
       "     qc_anat_notes_rater_2 qc_func_rater_2  qc_func_notes_rater_2  \\\n",
       "108                    NaN              OK                    NaN   \n",
       "688                    NaN              OK                    NaN   \n",
       "70     skull-striping fail              OK                    NaN   \n",
       "597                    NaN              OK                    NaN   \n",
       "\n",
       "     qc_anat_rater_3  qc_anat_notes_rater_3  qc_func_rater_3  \\\n",
       "108               OK                    NaN               OK   \n",
       "688               OK                    NaN               OK   \n",
       "70                OK                    NaN               OK   \n",
       "597               OK                    NaN               OK   \n",
       "\n",
       "    qc_func_notes_rater_3 SUB_IN_SMP AGE_YRS  \n",
       "108                   NaN          1    10.0  \n",
       "688                   NaN          1    13.0  \n",
       "70                    NaN          1    23.0  \n",
       "597                   NaN          1     9.0  \n",
       "\n",
       "[4 rows x 108 columns]"
      ]
     },
     "execution_count": 22,
     "metadata": {},
     "output_type": "execute_result"
    }
   ],
   "source": [
    "third=df_motion_sorted_rank[(df_motion_sorted_rank['rank']>chunk2) & (df_motion_sorted_rank['rank']<=chunk3)]\n",
    "third.shape\n",
    "third.tail(4) #603"
   ]
  },
  {
   "cell_type": "code",
   "execution_count": 23,
   "metadata": {
    "collapsed": false
   },
   "outputs": [
    {
     "data": {
      "text/html": [
       "<div>\n",
       "<table border=\"1\" class=\"dataframe\">\n",
       "  <thead>\n",
       "    <tr style=\"text-align: right;\">\n",
       "      <th></th>\n",
       "      <th>rank</th>\n",
       "      <th>Unnamed: 0</th>\n",
       "      <th>Unnamed: 0.1</th>\n",
       "      <th>SUB_ID</th>\n",
       "      <th>X</th>\n",
       "      <th>subject</th>\n",
       "      <th>SITE_ID</th>\n",
       "      <th>FILE_ID</th>\n",
       "      <th>DX_GROUP</th>\n",
       "      <th>DSM_IV_TR</th>\n",
       "      <th>...</th>\n",
       "      <th>qc_anat_rater_2</th>\n",
       "      <th>qc_anat_notes_rater_2</th>\n",
       "      <th>qc_func_rater_2</th>\n",
       "      <th>qc_func_notes_rater_2</th>\n",
       "      <th>qc_anat_rater_3</th>\n",
       "      <th>qc_anat_notes_rater_3</th>\n",
       "      <th>qc_func_rater_3</th>\n",
       "      <th>qc_func_notes_rater_3</th>\n",
       "      <th>SUB_IN_SMP</th>\n",
       "      <th>AGE_YRS</th>\n",
       "    </tr>\n",
       "  </thead>\n",
       "  <tbody>\n",
       "    <tr>\n",
       "      <th>24</th>\n",
       "      <td>963</td>\n",
       "      <td>24</td>\n",
       "      <td>25</td>\n",
       "      <td>50028</td>\n",
       "      <td>25</td>\n",
       "      <td>50028</td>\n",
       "      <td>PITT</td>\n",
       "      <td>Pitt_0050028</td>\n",
       "      <td>1</td>\n",
       "      <td>1</td>\n",
       "      <td>...</td>\n",
       "      <td>maybe</td>\n",
       "      <td>skull-striping fail</td>\n",
       "      <td>maybe</td>\n",
       "      <td>ic-parietal-cerebellum</td>\n",
       "      <td>OK</td>\n",
       "      <td>NaN</td>\n",
       "      <td>OK</td>\n",
       "      <td>NaN</td>\n",
       "      <td>1</td>\n",
       "      <td>12.0</td>\n",
       "    </tr>\n",
       "    <tr>\n",
       "      <th>513</th>\n",
       "      <td>964</td>\n",
       "      <td>513</td>\n",
       "      <td>514</td>\n",
       "      <td>50658</td>\n",
       "      <td>514</td>\n",
       "      <td>50658</td>\n",
       "      <td>CMU</td>\n",
       "      <td>CMU_b_0050658</td>\n",
       "      <td>2</td>\n",
       "      <td>0</td>\n",
       "      <td>...</td>\n",
       "      <td>fail</td>\n",
       "      <td>skull-striping fail</td>\n",
       "      <td>fail</td>\n",
       "      <td>ic-frontal-temporal-cerebellum-parietal</td>\n",
       "      <td>OK</td>\n",
       "      <td>NaN</td>\n",
       "      <td>OK</td>\n",
       "      <td>NaN</td>\n",
       "      <td>0</td>\n",
       "      <td>27.0</td>\n",
       "    </tr>\n",
       "    <tr>\n",
       "      <th>499</th>\n",
       "      <td>965</td>\n",
       "      <td>499</td>\n",
       "      <td>500</td>\n",
       "      <td>50644</td>\n",
       "      <td>500</td>\n",
       "      <td>50644</td>\n",
       "      <td>CMU</td>\n",
       "      <td>CMU_b_0050644</td>\n",
       "      <td>1</td>\n",
       "      <td>1</td>\n",
       "      <td>...</td>\n",
       "      <td>OK</td>\n",
       "      <td>NaN</td>\n",
       "      <td>maybe</td>\n",
       "      <td>ic-cerebellum</td>\n",
       "      <td>OK</td>\n",
       "      <td>NaN</td>\n",
       "      <td>OK</td>\n",
       "      <td>NaN</td>\n",
       "      <td>0</td>\n",
       "      <td>19.0</td>\n",
       "    </tr>\n",
       "    <tr>\n",
       "      <th>507</th>\n",
       "      <td>966</td>\n",
       "      <td>507</td>\n",
       "      <td>508</td>\n",
       "      <td>50652</td>\n",
       "      <td>508</td>\n",
       "      <td>50652</td>\n",
       "      <td>CMU</td>\n",
       "      <td>CMU_b_0050652</td>\n",
       "      <td>1</td>\n",
       "      <td>1</td>\n",
       "      <td>...</td>\n",
       "      <td>fail</td>\n",
       "      <td>skull-striping fail</td>\n",
       "      <td>fail</td>\n",
       "      <td>ic-frontal-temporal-cerebellum</td>\n",
       "      <td>OK</td>\n",
       "      <td>NaN</td>\n",
       "      <td>OK</td>\n",
       "      <td>NaN</td>\n",
       "      <td>0</td>\n",
       "      <td>24.0</td>\n",
       "    </tr>\n",
       "  </tbody>\n",
       "</table>\n",
       "<p>4 rows × 108 columns</p>\n",
       "</div>"
      ],
      "text/plain": [
       "     rank  Unnamed: 0  Unnamed: 0.1  SUB_ID    X  subject SITE_ID  \\\n",
       "24    963          24            25   50028   25    50028    PITT   \n",
       "513   964         513           514   50658  514    50658     CMU   \n",
       "499   965         499           500   50644  500    50644     CMU   \n",
       "507   966         507           508   50652  508    50652     CMU   \n",
       "\n",
       "           FILE_ID  DX_GROUP  DSM_IV_TR   ...    qc_anat_rater_2  \\\n",
       "24    Pitt_0050028         1          1   ...              maybe   \n",
       "513  CMU_b_0050658         2          0   ...               fail   \n",
       "499  CMU_b_0050644         1          1   ...                 OK   \n",
       "507  CMU_b_0050652         1          1   ...               fail   \n",
       "\n",
       "     qc_anat_notes_rater_2 qc_func_rater_2  \\\n",
       "24     skull-striping fail           maybe   \n",
       "513    skull-striping fail            fail   \n",
       "499                    NaN           maybe   \n",
       "507    skull-striping fail            fail   \n",
       "\n",
       "                       qc_func_notes_rater_2  qc_anat_rater_3  \\\n",
       "24                    ic-parietal-cerebellum               OK   \n",
       "513  ic-frontal-temporal-cerebellum-parietal               OK   \n",
       "499                            ic-cerebellum               OK   \n",
       "507           ic-frontal-temporal-cerebellum               OK   \n",
       "\n",
       "     qc_anat_notes_rater_3  qc_func_rater_3 qc_func_notes_rater_3 SUB_IN_SMP  \\\n",
       "24                     NaN               OK                   NaN          1   \n",
       "513                    NaN               OK                   NaN          0   \n",
       "499                    NaN               OK                   NaN          0   \n",
       "507                    NaN               OK                   NaN          0   \n",
       "\n",
       "    AGE_YRS  \n",
       "24     12.0  \n",
       "513    27.0  \n",
       "499    19.0  \n",
       "507    24.0  \n",
       "\n",
       "[4 rows x 108 columns]"
      ]
     },
     "execution_count": 23,
     "metadata": {},
     "output_type": "execute_result"
    }
   ],
   "source": [
    "fourth=df_motion_sorted_rank[df_motion_sorted_rank['rank']>=chunk3]\n",
    "fourth.shape\n",
    "fourth.tail(4)"
   ]
  },
  {
   "cell_type": "code",
   "execution_count": 24,
   "metadata": {
    "collapsed": false
   },
   "outputs": [
    {
     "data": {
      "text/plain": [
       "(array([ 148.,    0.,    0.,    0.,   12.,    7.,   48.,    1.,   18.,    8.]),\n",
       " array([ 0.        ,  0.08264463,  0.16528926,  0.24793388,  0.33057851,\n",
       "         0.41322314,  0.49586777,  0.5785124 ,  0.66115702,  0.74380165,\n",
       "         0.82644628]),\n",
       " <a list of 10 Patch objects>)"
      ]
     },
     "execution_count": 24,
     "metadata": {},
     "output_type": "execute_result"
    },
    {
     "data": {
      "image/png": "[encoded data removed]",
      "text/plain": [
       "<matplotlib.figure.Figure at 0x7f117993cc10>"
      ]
     },
     "metadata": {},
     "output_type": "display_data"
    }
   ],
   "source": [
    "first[\"func_perc_fd\"].mean()\n",
    "plt.hist(np.array(first[\"func_perc_fd\"]))"
   ]
  },
  {
   "cell_type": "code",
   "execution_count": 25,
   "metadata": {
    "collapsed": false
   },
   "outputs": [
    {
     "data": {
      "text/plain": [
       "(array([ 50.,  33.,  26.,  26.,  14.,  17.,  27.,  22.,  19.,   8.]),\n",
       " array([ 0.82644628,  1.18204866,  1.53765105,  1.89325343,  2.24885582,\n",
       "         2.6044582 ,  2.96006058,  3.31566297,  3.67126535,  4.02686774,\n",
       "         4.38247012]),\n",
       " <a list of 10 Patch objects>)"
      ]
     },
     "execution_count": 25,
     "metadata": {},
     "output_type": "execute_result"
    },
    {
     "data": {
      "image/png": "[encoded data removed]",
      "text/plain": [
       "<matplotlib.figure.Figure at 0x7f1178ffa6d0>"
      ]
     },
     "metadata": {},
     "output_type": "display_data"
    }
   ],
   "source": [
    "second[\"func_perc_fd\"].mean()\n",
    "plt.hist(np.array(second[\"func_perc_fd\"]))"
   ]
  },
  {
   "cell_type": "code",
   "execution_count": 26,
   "metadata": {
    "collapsed": false
   },
   "outputs": [
    {
     "data": {
      "text/plain": [
       "(array([ 40.,  39.,  31.,  27.,  22.,  20.,  10.,  16.,  16.,  21.]),\n",
       " array([  4.4198895 ,   5.31548017,   6.21107084,   7.10666151,\n",
       "          8.00225217,   8.89784284,   9.79343351,  10.68902418,\n",
       "         11.58461484,  12.48020551,  13.37579618]),\n",
       " <a list of 10 Patch objects>)"
      ]
     },
     "execution_count": 26,
     "metadata": {},
     "output_type": "execute_result"
    },
    {
     "data": {
      "image/png": "[encoded data removed]",
      "text/plain": [
       "<matplotlib.figure.Figure at 0x7f1178ed89d0>"
      ]
     },
     "metadata": {},
     "output_type": "display_data"
    }
   ],
   "source": [
    "third[\"func_perc_fd\"].mean()\n",
    "plt.hist(np.array(third[\"func_perc_fd\"]))"
   ]
  },
  {
   "cell_type": "code",
   "execution_count": 27,
   "metadata": {
    "collapsed": false
   },
   "outputs": [
    {
     "data": {
      "text/plain": [
       "(array([ 60.,  29.,  36.,  23.,  25.,  20.,  12.,  14.,   6.,  16.]),\n",
       " array([ 13.69294606,  17.30807513,  20.9232042 ,  24.53833327,\n",
       "         28.15346234,  31.76859141,  35.38372048,  38.99884955,\n",
       "         42.61397862,  46.22910769,  49.84423676]),\n",
       " <a list of 10 Patch objects>)"
      ]
     },
     "execution_count": 27,
     "metadata": {},
     "output_type": "execute_result"
    },
    {
     "data": {
      "image/png": "[encoded data removed]",
      "text/plain": [
       "<matplotlib.figure.Figure at 0x7f1178de30d0>"
      ]
     },
     "metadata": {},
     "output_type": "display_data"
    }
   ],
   "source": [
    "fourth[\"func_perc_fd\"].mean()\n",
    "plt.hist(np.array(fourth[\"func_perc_fd\"]))"
   ]
  },
  {
   "cell_type": "code",
   "execution_count": null,
   "metadata": {
    "collapsed": true
   },
   "outputs": [],
   "source": [
    "(first.func_perc_fd.max(), second.func_perc_fd.min(), second.func_perc_fd.max(), third.func_perc_fd.min(), third.func_perc_fd.max())"
   ]
  },
  {
   "cell_type": "code",
   "execution_count": 40,
   "metadata": {
    "collapsed": false
   },
   "outputs": [
    {
     "name": "stdout",
     "output_type": "stream",
     "text": [
      "0.826446281\n",
      "4.38247012\n",
      "13.37579618\n"
     ]
    }
   ],
   "source": [
    "motion_boundaries = (first.func_perc_fd.max(), second.func_perc_fd.max(), third.func_perc_fd.max())\n",
    "for boundary in motion_boundaries:\n",
    "    print boundary"
   ]
  },
  {
   "cell_type": "code",
   "execution_count": 41,
   "metadata": {
    "collapsed": false
   },
   "outputs": [
    {
     "data": {
      "image/png": "[encoded data removed]",
      "text/plain": [
       "<matplotlib.figure.Figure at 0x7f1178239790>"
      ]
     },
     "metadata": {},
     "output_type": "display_data"
    }
   ],
   "source": [
    "plt.hist(np.array(df[\"func_perc_fd\"]),bins=40)\n",
    "plt.xlabel('func_perc_fd')\n",
    "plt.ylabel('count')\n",
    "for boundary in motion_boundaries:\n",
    "    plt.plot((boundary, boundary), (0,350), 'k-')"
   ]
  },
  {
   "cell_type": "markdown",
   "metadata": {},
   "source": [
    " ## take 2n/4 from each bin"
   ]
  },
  {
   "cell_type": "code",
   "execution_count": null,
   "metadata": {
    "collapsed": true
   },
   "outputs": [],
   "source": [
    "#lets say our sample size is 100 (perhaps the max we should deal with right now)\n",
    "# we want 100 per sample so 200 total\n",
    "#thus we want to sample 50 per bin\n",
    "#first we need to shuffle our subsamples, then grab the first 50 per list and add them together to create a new dataframe"
   ]
  },
  {
   "cell_type": "code",
   "execution_count": null,
   "metadata": {
    "collapsed": false
   },
   "outputs": [],
   "source": [
    "n=100\n",
    "n_samp=(n*2)/4\n",
    "n_samp"
   ]
  },
  {
   "cell_type": "markdown",
   "metadata": {},
   "source": [
    "## what do we do if sample is NOT equally divisible by 4?? just use even numbers for now and use n of at least 4 (We got this)"
   ]
  },
  {
   "cell_type": "code",
   "execution_count": null,
   "metadata": {
    "collapsed": false
   },
   "outputs": [],
   "source": [
    "# shuffle within each bin\n",
    "first_rand = first.reindex(np.random.permutation(first.index))\n",
    "second_rand = second.reindex(np.random.permutation(second.index))\n",
    "third_rand = third.reindex(np.random.permutation(third.index))\n",
    "fourth_rand = fourth.reindex(np.random.permutation(fourth.index))\n"
   ]
  },
  {
   "cell_type": "code",
   "execution_count": null,
   "metadata": {
    "collapsed": false
   },
   "outputs": [],
   "source": [
    "#grab n_samp from each\n",
    "first_samp_2n = first_rand.iloc[:n_samp, :]\n",
    "second_samp_2n = second_rand.iloc[:n_samp, :]\n",
    "third_samp_2n = third_rand.iloc[:n_samp, :]\n",
    "fourth_samp_2n = fourth_rand.iloc[:n_samp, :]"
   ]
  },
  {
   "cell_type": "code",
   "execution_count": null,
   "metadata": {
    "collapsed": true
   },
   "outputs": [],
   "source": [
    "#append these together\n",
    "frames = [first_samp_2n, second_samp_2n, third_samp_2n,fourth_samp_2n]\n",
    "\n",
    "final_df = pd.concat(frames)"
   ]
  },
  {
   "cell_type": "code",
   "execution_count": null,
   "metadata": {
    "collapsed": false
   },
   "outputs": [],
   "source": [
    "# Sort these participants according to the sort columns of interest\n",
    "sort_column_list = ['DSM_IV_TR', 'DX_GROUP', 'SITE_ID', 'SEX', 'AGE_YRS']\n",
    "df_samp_2n_sorted = final_df.sort_values(by=sort_column_list)"
   ]
  },
  {
   "cell_type": "code",
   "execution_count": null,
   "metadata": {
    "collapsed": false
   },
   "outputs": [],
   "source": [
    "df_grp_A = df_samp_2n_sorted.iloc[::2, :]\n",
    "df_grp_B = df_samp_2n_sorted.iloc[1::2, :]"
   ]
  },
  {
   "cell_type": "code",
   "execution_count": null,
   "metadata": {
    "collapsed": false
   },
   "outputs": [],
   "source": [
    "print df_grp_A[['AGE_AT_SCAN', 'DX_GROUP', 'SEX']].describe()\n",
    "print df_grp_B[['AGE_AT_SCAN', 'DX_GROUP', 'SEX']].describe()"
   ]
  },
  {
   "cell_type": "markdown",
   "metadata": {},
   "source": [
    "### Write the function !"
   ]
  },
  {
   "cell_type": "code",
   "execution_count": null,
   "metadata": {
    "collapsed": true
   },
   "outputs": [],
   "source": [
    "def split_two_matched_samples(df, motion_thresh, age_l, age_u, n):\n",
    "    \"\"\"\n",
    "    This function takes in a data frame, thresholds it to only include\n",
    "    participants whose percentage bad frames are less than motion_thresh\n",
    "    and participants who are between the lower and upper age limits (inclusive),\n",
    "    then returns two matched samples of size n. The samples are matched on\n",
    "    age in years, autism diagnosis, gender and scanning site. This function also selectively samples the\n",
    "    func_perc_fd\n",
    "    Information about the motion measure is here:\n",
    "    http://preprocessed-connectomes-project.org/quality-assessment-protocol/\n",
    "    \"\"\"\n",
    "    \n",
    "    # Start by removing all participants whose data is below a certain\n",
    "    # motion threshold.\n",
    "    df_samp_motion =  df.loc[df['func_perc_fd'] < motion_thresh, :]\n",
    "\n",
    "    # Then remove participants who are younger (in years) than age_l and older\n",
    "    # than age_u. Note that this means people who are age_l and age_u\n",
    "    # (eg 6 and 10) will be included in the sample.\n",
    "    df_samp = df_samp_motion.loc[(df_samp_motion['AGE_YRS']>=age_l)\n",
    "                                    & (df_samp_motion['AGE_YRS']<=age_u), :]\n",
    "                                    \n",
    "    ##sort subjects based on motion\n",
    "    sort_column_list = ['func_perc_fd']\n",
    "    df_motion_sorted = df_samp.sort_values(by=sort_column_list)\n",
    "    \n",
    "    ##rank subjects by motion\n",
    "    r=range(len(df_motion_sorted))\n",
    "    r_df=pd.DataFrame(r)\n",
    "    r_df.columns = ['rank']\n",
    "    r_df['newcol'] = df_motion_sorted.index\n",
    "    r_df.set_index('newcol', inplace=True)\n",
    "    r_df.index.names = [None]\n",
    "    df_motion_sorted_rank=pd.concat ([r_df,df_motion_sorted], axis=1)\n",
    "    \n",
    "    ##create bins of subjects in quartiles\n",
    "    l=len(df_motion_sorted_rank)\n",
    "    chunk=l/4\n",
    "    chunk1=chunk\n",
    "    chunk2=2*chunk\n",
    "    chunk3=3*chunk\n",
    "    chunk4=l\n",
    "    \n",
    "    first=df_motion_sorted_rank[df_motion_sorted_rank['rank']<=chunk1]\n",
    "    second=df_motion_sorted_rank[(df_motion_sorted_rank['rank']>chunk1) & (df_motion_sorted_rank['rank']<=chunk2)]\n",
    "    third=df_motion_sorted_rank[(df_motion_sorted_rank['rank']>chunk2) & (df_motion_sorted_rank['rank']<=chunk3)]\n",
    "    fourth=df_motion_sorted_rank[df_motion_sorted_rank['rank']>=chunk3]\n",
    "    \n",
    "    ##take 2n/4 from each bin\n",
    "    n_samp=(n*2)/4\n",
    "    n_samp\n",
    "\n",
    "    # Shuffle these remaining participants to ensure you get different sub\n",
    "    # samples each time you run the code.\n",
    "    first_rand = first.reindex(np.random.permutation(first.index))\n",
    "    second_rand = second.reindex(np.random.permutation(second.index))\n",
    "    third_rand = third.reindex(np.random.permutation(third.index))\n",
    "    fourth_rand = fourth.reindex(np.random.permutation(fourth.index))\n",
    "\n",
    "    # Only keep the top 2*n/4 participants.\n",
    "    first_samp_2n = first_rand.iloc[:n_samp, :]\n",
    "    second_samp_2n = second_rand.iloc[:n_samp, :]\n",
    "    third_samp_2n = third_rand.iloc[:n_samp, :]\n",
    "    fourth_samp_2n = fourth_rand.iloc[:n_samp, :]\n",
    "    \n",
    "    #append these together\n",
    "    frames = [first_samp_2n, second_samp_2n, third_samp_2n,fourth_samp_2n]\n",
    "    final_df = pd.concat(frames)\n",
    "\n",
    "    # Sort these participants according to the sort columns of interest\n",
    "    sort_column_list = ['DSM_IV_TR', 'DX_GROUP', 'SITE_ID', 'SEX', 'AGE_YRS']\n",
    "    df_samp_2n_sorted = final_df.sort_values(by=sort_column_list)\n",
    "\n",
    "    # Now put all even numbered participants in group A and all odd numbered\n",
    "    # participants in group B.\n",
    "    df_grp_A = df_samp_2n_sorted.iloc[::2, :]\n",
    "    df_grp_B = df_samp_2n_sorted.iloc[1::2, :]\n",
    "\n",
    "    # Boom! Return these two data frames\n",
    "    return df_grp_A, df_grp_B\n"
   ]
  },
  {
   "cell_type": "code",
   "execution_count": null,
   "metadata": {
    "collapsed": false
   },
   "outputs": [],
   "source": [
    "df_A, df_B = split_two_matched_samples(df, 50, 6, 18, 100)\n",
    "print df_A[['AGE_AT_SCAN', 'DX_GROUP', 'SEX']].describe()\n",
    "print df_B[['AGE_AT_SCAN', 'DX_GROUP', 'SEX']].describe()"
   ]
  },
  {
   "cell_type": "markdown",
   "metadata": {},
   "source": [
    "## Trying to figure out max number of people we can sample per motion cutoff..."
   ]
  },
  {
   "cell_type": "code",
   "execution_count": null,
   "metadata": {
    "collapsed": false
   },
   "outputs": [],
   "source": [
    "df_samp = df.loc[(df['AGE_YRS']<=18)]\n",
    "len(df_samp)\n",
    "#max sample of 743 people!"
   ]
  },
  {
   "cell_type": "code",
   "execution_count": null,
   "metadata": {
    "collapsed": true
   },
   "outputs": [],
   "source": [
    "motion_thresh = 2\n",
    "df_samp_motion = df_samp.loc[df['func_perc_fd']<motion_thresh, :]\n",
    "#if motion thresh =5, we get minimal amount of 364 people! so maybe say our max sample is 100 for now?"
   ]
  },
  {
   "cell_type": "code",
   "execution_count": null,
   "metadata": {
    "collapsed": false
   },
   "outputs": [],
   "source": [
    "len(df_samp_motion)\n"
   ]
  }
 ],
 "metadata": {
  "anaconda-cloud": {},
  "kernelspec": {
   "display_name": "Python [conda env:kidsPy2]",
   "language": "python",
   "name": "conda-env-kidsPy2-py"
  },
  "language_info": {
   "codemirror_mode": {
    "name": "ipython",
    "version": 2
   },
   "file_extension": ".py",
   "mimetype": "text/x-python",
   "name": "python",
   "nbconvert_exporter": "python",
   "pygments_lexer": "ipython2",
   "version": "2.7.12"
  }
 },
 "nbformat": 4,
 "nbformat_minor": 0
}
