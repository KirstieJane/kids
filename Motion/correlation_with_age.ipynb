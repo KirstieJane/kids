{
 "cells": [
  {
   "cell_type": "code",
   "execution_count": 87,
   "metadata": {
    "collapsed": true
   },
   "outputs": [],
   "source": [
    "from __future__ import division\n",
    "import matplotlib.pylab as plt\n",
    "%matplotlib inline\n",
    "import numpy as np\n",
    "import os\n",
    "import pandas as pd\n",
    "from scipy.stats import linregress\n",
    "import nibabel as nib\n",
    "import urllib\n",
    "import seaborn as sns\n",
    "sns.set_style('white')\n",
    "sns.set_context('notebook')\n",
    "import scipy "
   ]
  },
  {
   "cell_type": "code",
   "execution_count": 7,
   "metadata": {
    "collapsed": true
   },
   "outputs": [],
   "source": [
    "behav_data_f = '../../Phenotypic_V1_0b_preprocessed1.csv'\n",
    "df = pd.read_csv(behav_data_f)\n",
    "df = df.loc[df['func_perc_fd'].notnull(), :]\n",
    "df = df.loc[df['FILE_ID']!='no_filename', :]\n",
    "df['AGE_YRS'] = np.floor(df['AGE_AT_SCAN'])"
   ]
  },
  {
   "cell_type": "markdown",
   "metadata": {},
   "source": [
    "## Correlate each vertex with age"
   ]
  },
  {
   "cell_type": "code",
   "execution_count": 17,
   "metadata": {
    "collapsed": true
   },
   "outputs": [],
   "source": [
    "def split_two_matched_samples(df, motion_thresh, age_l, age_u, n):\n",
    "    \"\"\"\n",
    "    This function takes in a data frame, thresholds it to only include\n",
    "    participants whose percentage bad frames are less than motion_thresh\n",
    "    and participants who are between the lower and upper age limits (inclusive),\n",
    "    then returns two matched samples of size n. The samples are matched on\n",
    "    age in years, autism diagnosis, gender and scanning site. This function also selectively samples the\n",
    "    func_perc_fd\n",
    "    Information about the motion measure is here:\n",
    "    http://preprocessed-connectomes-project.org/quality-assessment-protocol/\n",
    "    \"\"\"\n",
    "    \n",
    "    # Start by removing all participants whose data is below a certain\n",
    "    # motion threshold.\n",
    "    df_samp_motion =  df.loc[df['func_perc_fd'] < motion_thresh, :]\n",
    "\n",
    "    # Then remove participants who are younger (in years) than age_l and older\n",
    "    # than age_u. Note that this means people who are age_l and age_u\n",
    "    # (eg 6 and 10) will be included in the sample.\n",
    "    df_samp = df_samp_motion.loc[(df_samp_motion['AGE_YRS']>=age_l)\n",
    "                                    & (df_samp_motion['AGE_YRS']<=age_u), :]\n",
    "                                    \n",
    "    ##sort subjects based on motion\n",
    "    sort_column_list = ['func_perc_fd']\n",
    "    df_motion_sorted = df_samp.sort_values(by=sort_column_list)\n",
    "    \n",
    "    ##rank subjects by motion\n",
    "    r=range(len(df_motion_sorted))\n",
    "    r_df=pd.DataFrame(r)\n",
    "    r_df.columns = ['rank']\n",
    "    r_df['newcol'] = df_motion_sorted.index\n",
    "    r_df.set_index('newcol', inplace=True)\n",
    "    r_df.index.names = [None]\n",
    "    df_motion_sorted_rank=pd.concat ([r_df,df_motion_sorted], axis=1)\n",
    "    \n",
    "    ##create bins of subjects in quartiles\n",
    "    l=len(df_motion_sorted_rank)\n",
    "    chunk=l/4\n",
    "    chunk1=chunk\n",
    "    chunk2=2*chunk\n",
    "    chunk3=3*chunk\n",
    "    chunk4=l\n",
    "    \n",
    "    first=df_motion_sorted_rank[df_motion_sorted_rank['rank']<=chunk1]\n",
    "    second=df_motion_sorted_rank[(df_motion_sorted_rank['rank']>chunk1) & (df_motion_sorted_rank['rank']<=chunk2)]\n",
    "    third=df_motion_sorted_rank[(df_motion_sorted_rank['rank']>chunk2) & (df_motion_sorted_rank['rank']<=chunk3)]\n",
    "    fourth=df_motion_sorted_rank[df_motion_sorted_rank['rank']>=chunk3]\n",
    "    \n",
    "    ##take 2n/4 from each bin\n",
    "    n_samp=(n*2)/4\n",
    "    n_samp\n",
    "    n_samp=int(n_samp)\n",
    "\n",
    "    # Shuffle these remaining participants to ensure you get different sub\n",
    "    # samples each time you run the code.\n",
    "    first_rand = first.reindex(np.random.permutation(first.index))\n",
    "    second_rand = second.reindex(np.random.permutation(second.index))\n",
    "    third_rand = third.reindex(np.random.permutation(third.index))\n",
    "    fourth_rand = fourth.reindex(np.random.permutation(fourth.index))\n",
    "\n",
    "    # Only keep the top 2*n/4 participants.\n",
    "    first_samp_2n = first_rand.iloc[:n_samp, :]\n",
    "    second_samp_2n = second_rand.iloc[:n_samp, :]\n",
    "    third_samp_2n = third_rand.iloc[:n_samp, :]\n",
    "    fourth_samp_2n = fourth_rand.iloc[:n_samp, :]\n",
    "    \n",
    "    #append these together\n",
    "    frames = [first_samp_2n, second_samp_2n, third_samp_2n,fourth_samp_2n]\n",
    "    final_df = pd.concat(frames)\n",
    "\n",
    "    # Sort these participants according to the sort columns of interest\n",
    "    sort_column_list = ['DSM_IV_TR', 'DX_GROUP', 'SITE_ID', 'SEX', 'AGE_YRS']\n",
    "    df_samp_2n_sorted = final_df.sort_values(by=sort_column_list)\n",
    "\n",
    "    # Now put all even numbered participants in group A and all odd numbered\n",
    "    # participants in group B.\n",
    "    df_grp_A = df_samp_2n_sorted.iloc[::2, :]\n",
    "    df_grp_B = df_samp_2n_sorted.iloc[1::2, :]\n",
    "\n",
    "    # Boom! Return these two data frames\n",
    "    return df_grp_A, df_grp_B"
   ]
  },
  {
   "cell_type": "code",
   "execution_count": 19,
   "metadata": {
    "collapsed": false
   },
   "outputs": [
    {
     "name": "stdout",
     "output_type": "stream",
     "text": [
      "       AGE_AT_SCAN  DX_GROUP         SEX\n",
      "count   100.000000    100.00  100.000000\n",
      "mean     13.321114      1.55    1.180000\n",
      "std       2.852127      0.50    0.386123\n",
      "min       7.290000      1.00    1.000000\n",
      "25%      11.000000      1.00    1.000000\n",
      "50%      13.265000      2.00    1.000000\n",
      "75%      15.363000      2.00    1.000000\n",
      "max      18.900000      2.00    2.000000\n",
      "       AGE_AT_SCAN  DX_GROUP         SEX\n",
      "count   100.000000    100.00  100.000000\n",
      "mean     13.032420      1.55    1.160000\n",
      "std       2.698831      0.50    0.368453\n",
      "min       7.190000      1.00    1.000000\n",
      "25%      11.003750      1.00    1.000000\n",
      "50%      13.145000      2.00    1.000000\n",
      "75%      14.872500      2.00    1.000000\n",
      "max      18.658500      2.00    2.000000\n"
     ]
    }
   ],
   "source": [
    "df_A, df_B = split_two_matched_samples(df, 50, 6, 18, 100)\n",
    "print df_A[['AGE_AT_SCAN', 'DX_GROUP', 'SEX']].describe()\n",
    "print df_B[['AGE_AT_SCAN', 'DX_GROUP', 'SEX']].describe()"
   ]
  },
  {
   "cell_type": "code",
   "execution_count": 20,
   "metadata": {
    "collapsed": false
   },
   "outputs": [
    {
     "name": "stderr",
     "output_type": "stream",
     "text": [
      "/om/user/jlnrd/py27/lib/python2.7/site-packages/ipykernel/__main__.py:3: RuntimeWarning: divide by zero encountered in arctanh\n",
      "  app.launch_new_instance()\n"
     ]
    }
   ],
   "source": [
    "ts_df = pd.read_table('DATA/Caltech_0051456_rois_aal.1D')\n",
    "corr_mat_r = ts_df.corr()\n",
    "corr_mat_z = np.arctanh(corr_mat_r)\n"
   ]
  },
  {
   "cell_type": "code",
   "execution_count": null,
   "metadata": {
    "collapsed": true
   },
   "outputs": [],
   "source": [
    "#loop through correlation matrix and correlate each value with age"
   ]
  },
  {
   "cell_type": "code",
   "execution_count": 21,
   "metadata": {
    "collapsed": false
   },
   "outputs": [],
   "source": [
    "def make_group_corr_mat(df):\n",
    "    \"\"\"\n",
    "    This function reads in each subject's aal roi time series files and creates roi-roi correlation matrices\n",
    "    for each subject and then sums them all together. The final output is a 3d matrix of all subjects \n",
    "    roi-roi correlations, a mean roi-roi correlation matrix and a roi-roi covariance matrix. \n",
    "    **NOTE WELL** This returns correlations transformed by the Fisher z, aka arctanh, function.    \n",
    "    \"\"\"\n",
    "\n",
    "    # for each subject do the following\n",
    "    \n",
    "    for i, (sub, f_id, age) in enumerate(df[['SUB_ID', 'FILE_ID', 'AGE_AT_SCAN']].values):\n",
    "        \n",
    "        #read each subjects aal roi time series files\n",
    "        ts_df = pd.read_table('DATA/{}_rois_aal.1D'.format(f_id))\n",
    "\n",
    "        #create a correlation matrix from the roi all time series files\n",
    "        corr_mat_r = ts_df.corr()\n",
    "        #the correlations need to be transformed to Fisher z, which is\n",
    "        #equivalent to the arctanh function.\n",
    "        corr_mat_z = np.arctanh(corr_mat_r)\n",
    "        \n",
    "        #for the first subject, add a correlation matrix of zeros that is the same dimensions as the aal roi-roi matrix\n",
    "        if i == 0:\n",
    "            all_corr_mat = np.zeros([corr_mat_z.shape[0], corr_mat_z.shape[1], len(df)])\n",
    "\n",
    "        #now add the correlation matrix you just created for each subject to the all_corr_mat matrix (3D)\n",
    "        all_corr_mat[:, :, i] = corr_mat_z\n",
    "    \n",
    "    #create the mean correlation matrix (ignore nas - sometime there are some...)\n",
    "    av_corr_mat = np.nanmean(all_corr_mat, axis=2)\n",
    "    #create the group covariance matrix (ignore nas - sometime there are some...)\n",
    "    var_corr_mat = np.nanvar(all_corr_mat, axis=2)\n",
    "        \n",
    "    return all_corr_mat, av_corr_mat, var_corr_mat"
   ]
  },
  {
   "cell_type": "code",
   "execution_count": 22,
   "metadata": {
    "collapsed": false
   },
   "outputs": [
    {
     "name": "stderr",
     "output_type": "stream",
     "text": [
      "/om/user/jlnrd/py27/lib/python2.7/site-packages/ipykernel/__main__.py:20: RuntimeWarning: divide by zero encountered in arctanh\n"
     ]
    }
   ],
   "source": [
    "all_corr_mat_A, av_corr_mat_A, var_corr_mat_A = make_group_corr_mat(df_A)\n"
   ]
  },
  {
   "cell_type": "code",
   "execution_count": 23,
   "metadata": {
    "collapsed": false
   },
   "outputs": [
    {
     "data": {
      "text/plain": [
       "(116, 116, 100)"
      ]
     },
     "execution_count": 23,
     "metadata": {},
     "output_type": "execute_result"
    }
   ],
   "source": [
    "all_corr_mat_A.shape"
   ]
  },
  {
   "cell_type": "markdown",
   "metadata": {
    "collapsed": false
   },
   "source": [
    "## For each subject we have roi-roi correlation matrix and one age value.\n",
    "### Then create 116x116 matrix of age value per subject (in same 3d array) \n",
    "### Then correlate age matrix with roi-roi matrix\n",
    "### put age - roiroi matrixes into 1 line\n"
   ]
  },
  {
   "cell_type": "code",
   "execution_count": 41,
   "metadata": {
    "collapsed": false
   },
   "outputs": [
    {
     "data": {
      "text/html": [
       "<div>\n",
       "<table border=\"1\" class=\"dataframe\">\n",
       "  <thead>\n",
       "    <tr style=\"text-align: right;\">\n",
       "      <th></th>\n",
       "      <th>AGE_AT_SCAN</th>\n",
       "    </tr>\n",
       "  </thead>\n",
       "  <tbody>\n",
       "    <tr>\n",
       "      <th>0</th>\n",
       "      <td>9.7300</td>\n",
       "    </tr>\n",
       "    <tr>\n",
       "      <th>1</th>\n",
       "      <td>13.9900</td>\n",
       "    </tr>\n",
       "    <tr>\n",
       "      <th>2</th>\n",
       "      <td>12.6300</td>\n",
       "    </tr>\n",
       "    <tr>\n",
       "      <th>3</th>\n",
       "      <td>11.6982</td>\n",
       "    </tr>\n",
       "    <tr>\n",
       "      <th>4</th>\n",
       "      <td>11.2628</td>\n",
       "    </tr>\n",
       "    <tr>\n",
       "      <th>5</th>\n",
       "      <td>10.8652</td>\n",
       "    </tr>\n",
       "    <tr>\n",
       "      <th>6</th>\n",
       "      <td>9.1500</td>\n",
       "    </tr>\n",
       "    <tr>\n",
       "      <th>7</th>\n",
       "      <td>9.7201</td>\n",
       "    </tr>\n",
       "    <tr>\n",
       "      <th>8</th>\n",
       "      <td>10.6927</td>\n",
       "    </tr>\n",
       "    <tr>\n",
       "      <th>9</th>\n",
       "      <td>7.7502</td>\n",
       "    </tr>\n",
       "  </tbody>\n",
       "</table>\n",
       "</div>"
      ],
      "text/plain": [
       "   AGE_AT_SCAN\n",
       "0       9.7300\n",
       "1      13.9900\n",
       "2      12.6300\n",
       "3      11.6982\n",
       "4      11.2628\n",
       "5      10.8652\n",
       "6       9.1500\n",
       "7       9.7201\n",
       "8      10.6927\n",
       "9       7.7502"
      ]
     },
     "execution_count": 41,
     "metadata": {},
     "output_type": "execute_result"
    }
   ],
   "source": [
    "age=df_A.loc[:, 'AGE_AT_SCAN']\n",
    "age_df=pd.DataFrame(age)\n",
    "age_roi_corr =np.ones((116,116))\n",
    "age_roi_corr.shape ##creating the output I think\n",
    "age_df.index=[x for x in range(age_df.shape[0])]\n",
    "age_df.head(10)\n"
   ]
  },
  {
   "cell_type": "code",
   "execution_count": 46,
   "metadata": {
    "collapsed": false
   },
   "outputs": [
    {
     "data": {
      "text/plain": [
       "array([ 0.65691784,  0.23128996,  0.69851264,  0.71805923,  0.74720872,\n",
       "        0.74754804,  0.24581721,  0.86322516,  0.48608233,  0.43203345,\n",
       "        0.85399245, -0.05374002,  0.38370457,  0.59347863,  0.34366852,\n",
       "        0.65074167,  0.32499882,  0.4906399 ,  0.44083767,  0.41443276,\n",
       "        0.16604599,  0.56843077,  0.31380302,  0.31325585,  0.56895794,\n",
       "        0.40284926,  0.93789404,  0.48238168,  0.86762259,  0.26203163,\n",
       "        0.00569282,  0.22160202,  0.15952851,  0.21377688,  0.55122523,\n",
       "        0.23810659, -0.06483061,  0.45108884, -0.47212159,  0.54462073,\n",
       "        0.71281875,  0.44090874,  0.31000203,  0.80029935,  0.50226682,\n",
       "        0.46569185,  0.53294123,  0.35982994,  0.60877792,  0.15180832,\n",
       "       -0.06773877,  0.24463589,  1.08214376,  0.79627112,  0.3293669 ,\n",
       "        0.20421669,  0.88653539,  0.79559591,  0.54083736,  0.45755944,\n",
       "        0.13855241,  0.46829449,  0.24857392,  0.92588276,  0.72724967,\n",
       "        0.26526113,  0.1889162 ,  0.53164814,  0.42696645,  0.2402435 ,\n",
       "        0.45530522,  0.61801822,  0.6186398 ,  0.5637684 ,  0.39295532,\n",
       "        0.13826638,  0.14802015,  0.10408465,  0.30877128,  0.22211631,\n",
       "        0.34937519,  0.74028541,  0.33954362,  0.82847373, -0.01643544,\n",
       "        0.43123598,  0.54868007,  0.15637418,  0.54703908,  0.43799306,\n",
       "        0.67280157,  0.23672624, -0.24375812,  0.61676073, -0.25507303,\n",
       "        0.15271841,  0.40267808,  0.05983966,  0.22493041, -0.23674431])"
      ]
     },
     "execution_count": 46,
     "metadata": {},
     "output_type": "execute_result"
    }
   ],
   "source": [
    "all_corr_mat_A[1,2,:]"
   ]
  },
  {
   "cell_type": "code",
   "execution_count": 43,
   "metadata": {
    "collapsed": false
   },
   "outputs": [
    {
     "data": {
      "text/plain": [
       "(100, 2)"
      ]
     },
     "execution_count": 43,
     "metadata": {},
     "output_type": "execute_result"
    }
   ],
   "source": [
    "corr_dat=pd.DataFrame(all_corr_mat_A[1,2,:]) #length of matrix\n",
    "corr_dat[\"age\"]=age_df\n",
    "corr_dat.corr()[\"age\"][0]\n",
    "corr_dat.head(20)\n",
    "corr_dat.shape"
   ]
  },
  {
   "cell_type": "code",
   "execution_count": 50,
   "metadata": {
    "collapsed": false
   },
   "outputs": [],
   "source": [
    "#age_roi_corr[r,rn]=corr_dat.corr()"
   ]
  },
  {
   "cell_type": "code",
   "execution_count": 51,
   "metadata": {
    "collapsed": false
   },
   "outputs": [],
   "source": [
    "for  r in range(all_corr_mat_A.shape[0]):\n",
    "            for rn in range(all_corr_mat_A.shape[0]):\n",
    "                if rn != r:\n",
    "                    corr_dat=pd.DataFrame(all_corr_mat_A[r,rn,:])\n",
    "                    corr_dat[\"age\"]=age_df\n",
    "                    age_roi_corr[r,rn]=corr_dat.corr()[\"age\"][0]\n",
    "                    #motion_roi_corr[r,rn] = np.arctanh(np.corrcoef(corr_dat,motion)[0,1]) "
   ]
  },
  {
   "cell_type": "code",
   "execution_count": 54,
   "metadata": {
    "collapsed": false
   },
   "outputs": [
    {
     "data": {
      "text/plain": [
       "(116, 116)"
      ]
     },
     "execution_count": 54,
     "metadata": {},
     "output_type": "execute_result"
    }
   ],
   "source": [
    "age_roi_corr.shape"
   ]
  },
  {
   "cell_type": "markdown",
   "metadata": {
    "collapsed": true
   },
   "source": [
    "## make the new function"
   ]
  },
  {
   "cell_type": "code",
   "execution_count": 72,
   "metadata": {
    "collapsed": false
   },
   "outputs": [],
   "source": [
    "def make_group_corr_mat(df):\n",
    "    \"\"\"\n",
    "    This function reads in each subject's aal roi time series files and creates roi-roi correlation matrices\n",
    "    for each subject and then sums them all together. The final output is a 3d matrix of all subjects \n",
    "    roi-roi correlations, a mean roi-roi correlation matrix and a roi-roi covariance matrix. \n",
    "    **NOTE WELL** This returns correlations transformed by the Fisher z, aka arctanh, function.    \n",
    "    \"\"\"\n",
    "\n",
    "    # for each subject do the following\n",
    "    \n",
    "    for i, (sub, f_id, age) in enumerate(df[['SUB_ID', 'FILE_ID', 'AGE_AT_SCAN']].values):\n",
    "        \n",
    "        #read each subjects aal roi time series files\n",
    "        ts_df = pd.read_table('DATA/{}_rois_aal.1D'.format(f_id))\n",
    "\n",
    "        #create a correlation matrix from the roi all time series files\n",
    "        corr_mat_r = ts_df.corr()\n",
    "        #the correlations need to be transformed to Fisher z, which is\n",
    "        #equivalent to the arctanh function.\n",
    "        corr_mat_z = np.arctanh(corr_mat_r)\n",
    "        \n",
    "        #for the first subject, add a correlation matrix of zeros that is the same dimensions as the aal roi-roi matrix\n",
    "        if i == 0:\n",
    "            all_corr_mat = np.zeros([corr_mat_z.shape[0], corr_mat_z.shape[1], len(df)])\n",
    "\n",
    "        #now add the correlation matrix you just created for each subject to the all_corr_mat matrix (3D)\n",
    "        all_corr_mat[:, :, i] = corr_mat_z\n",
    "    \n",
    "    \n",
    "    \n",
    "    ##now correlate with age for each matrix\n",
    "    age=df.loc[:, 'AGE_AT_SCAN']\n",
    "    age_df=pd.DataFrame(age)\n",
    "    age_df.index=[x for x in range(age_df.shape[0])]\n",
    "    for  r in range(all_corr_mat.shape[0]):\n",
    "            for rn in range(all_corr_mat.shape[0]):\n",
    "                if rn != r:\n",
    "                    corr_dat=pd.DataFrame(all_corr_mat[r,rn,:])\n",
    "                    corr_dat[\"age\"]=age_df\n",
    "                    age_roi_corr[r,rn]=corr_dat.corr()[\"age\"][0]\n",
    "    \n",
    "    #create the mean correlation matrix (ignore nas - sometime there are some...)\n",
    "    #av_corr_mat = np.nanmean(all_corr_mat, axis=2)\n",
    "    #create the group covariance matrix (ignore nas - sometime there are some...)\n",
    "    #var_corr_mat = np.nanvar(all_corr_mat, axis=2)\n",
    "        \n",
    "    return all_corr_mat,age_roi_corr"
   ]
  },
  {
   "cell_type": "code",
   "execution_count": 73,
   "metadata": {
    "collapsed": false
   },
   "outputs": [
    {
     "name": "stderr",
     "output_type": "stream",
     "text": [
      "/om/user/jlnrd/py27/lib/python2.7/site-packages/ipykernel/__main__.py:20: RuntimeWarning: divide by zero encountered in arctanh\n"
     ]
    }
   ],
   "source": [
    "all_corr_mat_A, age_roi_mat_B= make_group_corr_mat(df_B)"
   ]
  },
  {
   "cell_type": "code",
   "execution_count": 74,
   "metadata": {
    "collapsed": false
   },
   "outputs": [
    {
     "data": {
      "text/plain": [
       "array([[  1.00000000e+00,  -5.65776966e-04,  -3.65131334e-02, ...,\n",
       "         -1.84722567e-01,  -2.62490568e-02,   1.69916609e-02],\n",
       "       [ -5.65776966e-04,   1.00000000e+00,  -6.68782233e-02, ...,\n",
       "         -2.44823388e-01,  -1.61156888e-01,  -1.34590782e-01],\n",
       "       [ -3.65131334e-02,  -6.68782233e-02,   1.00000000e+00, ...,\n",
       "         -7.31339317e-02,  -3.21894827e-03,  -3.22128755e-02],\n",
       "       ..., \n",
       "       [ -1.84722567e-01,  -2.44823388e-01,  -7.31339317e-02, ...,\n",
       "          1.00000000e+00,  -3.80152859e-02,  -1.65075016e-01],\n",
       "       [ -2.62490568e-02,  -1.61156888e-01,  -3.21894827e-03, ...,\n",
       "         -3.80152859e-02,   1.00000000e+00,  -4.54409080e-02],\n",
       "       [  1.69916609e-02,  -1.34590782e-01,  -3.22128755e-02, ...,\n",
       "         -1.65075016e-01,  -4.54409080e-02,   1.00000000e+00]])"
      ]
     },
     "execution_count": 74,
     "metadata": {},
     "output_type": "execute_result"
    }
   ],
   "source": [
    "age_roi_mat_B"
   ]
  },
  {
   "cell_type": "code",
   "execution_count": 91,
   "metadata": {
    "collapsed": true
   },
   "outputs": [],
   "source": [
    "df_A, df_B = split_two_matched_samples(df, 40, 6, 18, 50)\n"
   ]
  },
  {
   "cell_type": "markdown",
   "metadata": {},
   "source": [
    "## does age and motion correlate in theses split samples?"
   ]
  },
  {
   "cell_type": "code",
   "execution_count": 92,
   "metadata": {
    "collapsed": false
   },
   "outputs": [
    {
     "data": {
      "text/plain": [
       "(-0.058761134814792254, 0.68522374395478358)"
      ]
     },
     "execution_count": 92,
     "metadata": {},
     "output_type": "execute_result"
    }
   ],
   "source": [
    "age=df_A[\"AGE_AT_SCAN\"]\n",
    "motion=df_A[\"func_perc_fd\"]\n",
    "scipy.stats.pearsonr(age, motion) #returns r and p"
   ]
  },
  {
   "cell_type": "code",
   "execution_count": 86,
   "metadata": {
    "collapsed": false
   },
   "outputs": [
    {
     "data": {
      "text/html": [
       "<div>\n",
       "<table border=\"1\" class=\"dataframe\">\n",
       "  <thead>\n",
       "    <tr style=\"text-align: right;\">\n",
       "      <th></th>\n",
       "      <th>AGE_AT_SCAN</th>\n",
       "      <th>func_perc_fd</th>\n",
       "    </tr>\n",
       "  </thead>\n",
       "  <tbody>\n",
       "    <tr>\n",
       "      <th>AGE_AT_SCAN</th>\n",
       "      <td>1.00000</td>\n",
       "      <td>-0.13244</td>\n",
       "    </tr>\n",
       "    <tr>\n",
       "      <th>func_perc_fd</th>\n",
       "      <td>-0.13244</td>\n",
       "      <td>1.00000</td>\n",
       "    </tr>\n",
       "  </tbody>\n",
       "</table>\n",
       "</div>"
      ],
      "text/plain": [
       "              AGE_AT_SCAN  func_perc_fd\n",
       "AGE_AT_SCAN       1.00000      -0.13244\n",
       "func_perc_fd     -0.13244       1.00000"
      ]
     },
     "execution_count": 86,
     "metadata": {},
     "output_type": "execute_result"
    }
   ],
   "source": [
    "df_A[[\"AGE_AT_SCAN\",\"func_perc_fd\"]].corr()"
   ]
  },
  {
   "cell_type": "code",
   "execution_count": null,
   "metadata": {
    "collapsed": true
   },
   "outputs": [],
   "source": []
  }
 ],
 "metadata": {
  "kernelspec": {
   "display_name": "Python 2",
   "language": "python",
   "name": "python2"
  },
  "language_info": {
   "codemirror_mode": {
    "name": "ipython",
    "version": 2
   },
   "file_extension": ".py",
   "mimetype": "text/x-python",
   "name": "python",
   "nbconvert_exporter": "python",
   "pygments_lexer": "ipython2",
   "version": "2.7.12"
  }
 },
 "nbformat": 4,
 "nbformat_minor": 1
}
