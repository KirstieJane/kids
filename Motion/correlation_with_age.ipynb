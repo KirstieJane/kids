{
 "cells": [
  {
   "cell_type": "code",
   "execution_count": 2,
   "metadata": {
    "collapsed": true
   },
   "outputs": [],
   "source": [
    "import matplotlib.pylab as plt\n",
    "%matplotlib inline\n",
    "import numpy as np\n",
    "import os\n",
    "import pandas as pd\n",
    "from scipy.stats import linregress\n",
    "import nibabel as nib\n",
    "import urllib\n",
    "import seaborn as sns\n",
    "sns.set_style('white')\n",
    "sns.set_context('notebook')\n",
    "from __future__ import division"
   ]
  },
  {
   "cell_type": "code",
   "execution_count": 3,
   "metadata": {
    "collapsed": true
   },
   "outputs": [],
   "source": [
    "behav_data_f = '../../Phenotypic_V1_0b_preprocessed1.csv'\n",
    "df = pd.read_csv(behav_data_f)\n",
    "df = df.loc[df['func_perc_fd'].notnull(), :]\n",
    "df = df.loc[df['FILE_ID']!='no_filename', :]\n",
    "df['AGE_YRS'] = np.floor(df['AGE_AT_SCAN'])"
   ]
  },
  {
   "cell_type": "markdown",
   "metadata": {},
   "source": [
    "## Correlate each vertex with age"
   ]
  },
  {
   "cell_type": "code",
   "execution_count": 5,
   "metadata": {
    "collapsed": true
   },
   "outputs": [],
   "source": [
    "def split_two_matched_samples(df, motion_thresh, age_l, age_u, n):\n",
    "    \"\"\"\n",
    "    This function takes in a data frame, thresholds it to only include\n",
    "    participants whose percentage bad frames are less than motion_thresh\n",
    "    and participants who are between the lower and upper age limits (inclusive),\n",
    "    then returns two matched samples of size n. The samples are matched on\n",
    "    age in years, autism diagnosis, gender and scanning site. This function also selectively samples the\n",
    "    func_perc_fd\n",
    "    Information about the motion measure is here:\n",
    "    http://preprocessed-connectomes-project.org/quality-assessment-protocol/\n",
    "    \"\"\"\n",
    "    \n",
    "    # Start by removing all participants whose data is below a certain\n",
    "    # motion threshold.\n",
    "    df_samp_motion =  df.loc[df['func_perc_fd'] < motion_thresh, :]\n",
    "\n",
    "    # Then remove participants who are younger (in years) than age_l and older\n",
    "    # than age_u. Note that this means people who are age_l and age_u\n",
    "    # (eg 6 and 10) will be included in the sample.\n",
    "    df_samp = df_samp_motion.loc[(df_samp_motion['AGE_YRS']>=age_l)\n",
    "                                    & (df_samp_motion['AGE_YRS']<=age_u), :]\n",
    "                                    \n",
    "    ##sort subjects based on motion\n",
    "    sort_column_list = ['func_perc_fd']\n",
    "    df_motion_sorted = df_samp.sort_values(by=sort_column_list)\n",
    "    \n",
    "    ##rank subjects by motion\n",
    "    r=range(len(df_motion_sorted))\n",
    "    r_df=pd.DataFrame(r)\n",
    "    r_df.columns = ['rank']\n",
    "    r_df['newcol'] = df_motion_sorted.index\n",
    "    r_df.set_index('newcol', inplace=True)\n",
    "    r_df.index.names = [None]\n",
    "    df_motion_sorted_rank=pd.concat ([r_df,df_motion_sorted], axis=1)\n",
    "    \n",
    "    ##create bins of subjects in quartiles\n",
    "    l=len(df_motion_sorted_rank)\n",
    "    chunk=l/4\n",
    "    chunk1=chunk\n",
    "    chunk2=2*chunk\n",
    "    chunk3=3*chunk\n",
    "    chunk4=l\n",
    "    \n",
    "    first=df_motion_sorted_rank[df_motion_sorted_rank['rank']<=chunk1]\n",
    "    second=df_motion_sorted_rank[(df_motion_sorted_rank['rank']>chunk1) & (df_motion_sorted_rank['rank']<=chunk2)]\n",
    "    third=df_motion_sorted_rank[(df_motion_sorted_rank['rank']>chunk2) & (df_motion_sorted_rank['rank']<=chunk3)]\n",
    "    fourth=df_motion_sorted_rank[df_motion_sorted_rank['rank']>=chunk3]\n",
    "    \n",
    "    ##take 2n/4 from each bin\n",
    "    n_samp=(n*2)/4\n",
    "    n_samp\n",
    "\n",
    "    # Shuffle these remaining participants to ensure you get different sub\n",
    "    # samples each time you run the code.\n",
    "    first_rand = first.reindex(np.random.permutation(first.index))\n",
    "    second_rand = second.reindex(np.random.permutation(second.index))\n",
    "    third_rand = third.reindex(np.random.permutation(third.index))\n",
    "    fourth_rand = fourth.reindex(np.random.permutation(fourth.index))\n",
    "\n",
    "    # Only keep the top 2*n/4 participants.\n",
    "    first_samp_2n = first_rand.iloc[:n_samp, :]\n",
    "    second_samp_2n = second_rand.iloc[:n_samp, :]\n",
    "    third_samp_2n = third_rand.iloc[:n_samp, :]\n",
    "    fourth_samp_2n = fourth_rand.iloc[:n_samp, :]\n",
    "    \n",
    "    #append these together\n",
    "    frames = [first_samp_2n, second_samp_2n, third_samp_2n,fourth_samp_2n]\n",
    "    final_df = pd.concat(frames)\n",
    "\n",
    "    # Sort these participants according to the sort columns of interest\n",
    "    sort_column_list = ['DSM_IV_TR', 'DX_GROUP', 'SITE_ID', 'SEX', 'AGE_YRS']\n",
    "    df_samp_2n_sorted = final_df.sort_values(by=sort_column_list)\n",
    "\n",
    "    # Now put all even numbered participants in group A and all odd numbered\n",
    "    # participants in group B.\n",
    "    df_grp_A = df_samp_2n_sorted.iloc[::2, :]\n",
    "    df_grp_B = df_samp_2n_sorted.iloc[1::2, :]\n",
    "\n",
    "    # Boom! Return these two data frames\n",
    "    return df_grp_A, df_grp_B"
   ]
  },
  {
   "cell_type": "code",
   "execution_count": 6,
   "metadata": {
    "collapsed": false
   },
   "outputs": [
    {
     "name": "stdout",
     "output_type": "stream",
     "text": [
      "       AGE_AT_SCAN    DX_GROUP        SEX\n",
      "count   100.000000  100.000000  100.00000\n",
      "mean     13.601489    1.500000    1.21000\n",
      "std       2.908456    0.502519    0.40936\n",
      "min       7.933600    1.000000    1.00000\n",
      "25%      10.980000    1.000000    1.00000\n",
      "50%      13.985000    1.500000    1.00000\n",
      "75%      15.927500    2.000000    1.00000\n",
      "max      18.900000    2.000000    2.00000\n",
      "       AGE_AT_SCAN    DX_GROUP        SEX\n",
      "count   100.000000  100.000000  100.00000\n",
      "mean     13.097167    1.510000    1.21000\n",
      "std       3.031123    0.502418    0.40936\n",
      "min       7.228000    1.000000    1.00000\n",
      "25%      10.737500    1.000000    1.00000\n",
      "50%      13.090000    2.000000    1.00000\n",
      "75%      15.547500    2.000000    1.00000\n",
      "max      18.900000    2.000000    2.00000\n"
     ]
    },
    {
     "name": "stderr",
     "output_type": "stream",
     "text": [
      "/Users/julialeonard/anaconda/lib/python2.7/site-packages/pandas/core/indexing.py:1196: FutureWarning: slice indexers when using iloc should be integers and not floating point\n",
      "  return self._getitem_tuple(key)\n"
     ]
    }
   ],
   "source": [
    "df_A, df_B = split_two_matched_samples(df, 50, 6, 18, 100)\n",
    "print df_A[['AGE_AT_SCAN', 'DX_GROUP', 'SEX']].describe()\n",
    "print df_B[['AGE_AT_SCAN', 'DX_GROUP', 'SEX']].describe()"
   ]
  },
  {
   "cell_type": "code",
   "execution_count": 25,
   "metadata": {
    "collapsed": false
   },
   "outputs": [],
   "source": [
    "ts_df = pd.read_table('DATA/Caltech_0051456_rois_aal.1D')\n",
    "corr_mat_r = ts_df.corr()\n",
    "corr_mat_z = np.arctanh(corr_mat_r)"
   ]
  },
  {
   "cell_type": "code",
   "execution_count": null,
   "metadata": {
    "collapsed": true
   },
   "outputs": [],
   "source": [
    "#loop through correlation matrix and correlate each value with age"
   ]
  },
  {
   "cell_type": "code",
   "execution_count": 8,
   "metadata": {
    "collapsed": false
   },
   "outputs": [],
   "source": [
    "def make_group_corr_mat(df):\n",
    "    \"\"\"\n",
    "    This function reads in each subject's aal roi time series files and creates roi-roi correlation matrices\n",
    "    for each subject and then sums them all together. The final output is a 3d matrix of all subjects \n",
    "    roi-roi correlations, a mean roi-roi correlation matrix and a roi-roi covariance matrix. \n",
    "    **NOTE WELL** This returns correlations transformed by the Fisher z, aka arctanh, function.    \n",
    "    \"\"\"\n",
    "\n",
    "    # for each subject do the following\n",
    "    \n",
    "    for i, (sub, f_id, age) in enumerate(df[['SUB_ID', 'FILE_ID', 'AGE_AT_SCAN']].values):\n",
    "        \n",
    "        #read each subjects aal roi time series files\n",
    "        ts_df = pd.read_table('DATA/{}_rois_aal.1D'.format(f_id))\n",
    "\n",
    "        #create a correlation matrix from the roi all time series files\n",
    "        corr_mat_r = ts_df.corr()\n",
    "        #the correlations need to be transformed to Fisher z, which is\n",
    "        #equivalent to the arctanh function.\n",
    "        corr_mat_z = np.arctanh(corr_mat_r)\n",
    "        \n",
    "        #for the first subject, add a correlation matrix of zeros that is the same dimensions as the aal roi-roi matrix\n",
    "        if i == 0:\n",
    "            all_corr_mat = np.zeros([corr_mat_z.shape[0], corr_mat_z.shape[1], len(df)])\n",
    "\n",
    "        #now add the correlation matrix you just created for each subject to the all_corr_mat matrix (3D)\n",
    "        all_corr_mat[:, :, i] = corr_mat_z\n",
    "    \n",
    "    #create the mean correlation matrix (ignore nas - sometime there are some...)\n",
    "    av_corr_mat = np.nanmean(all_corr_mat, axis=2)\n",
    "    #create the group covariance matrix (ignore nas - sometime there are some...)\n",
    "    var_corr_mat = np.nanvar(all_corr_mat, axis=2)\n",
    "        \n",
    "    return all_corr_mat, av_corr_mat, var_corr_mat"
   ]
  },
  {
   "cell_type": "code",
   "execution_count": 38,
   "metadata": {
    "collapsed": false
   },
   "outputs": [],
   "source": [
    "all_corr_mat_A, av_corr_mat_A, var_corr_mat_A = make_group_corr_mat(df_A)\n"
   ]
  },
  {
   "cell_type": "code",
   "execution_count": 39,
   "metadata": {
    "collapsed": false
   },
   "outputs": [
    {
     "data": {
      "text/plain": [
       "(116, 116, 100)"
      ]
     },
     "execution_count": 39,
     "metadata": {},
     "output_type": "execute_result"
    }
   ],
   "source": [
    "all_corr_mat_A.shape"
   ]
  },
  {
   "cell_type": "code",
   "execution_count": 33,
   "metadata": {
    "collapsed": false
   },
   "outputs": [],
   "source": [
    "## For each subject we have roi-roi correlation matrix and one age value.\n",
    "#Then create 116x116 matrix of age value per subject (in same 3d array)\n",
    "#Then correlate age matrix with roi-roi matrix\n",
    "#put age - roiroi matrixes into 1 line"
   ]
  },
  {
   "cell_type": "code",
   "execution_count": 106,
   "metadata": {
    "collapsed": false
   },
   "outputs": [
    {
     "data": {
      "text/html": [
       "<div>\n",
       "<table border=\"1\" class=\"dataframe\">\n",
       "  <thead>\n",
       "    <tr style=\"text-align: right;\">\n",
       "      <th></th>\n",
       "      <th>AGE_AT_SCAN</th>\n",
       "    </tr>\n",
       "  </thead>\n",
       "  <tbody>\n",
       "    <tr>\n",
       "      <th>101</th>\n",
       "      <td>9.4200</td>\n",
       "    </tr>\n",
       "    <tr>\n",
       "      <th>95</th>\n",
       "      <td>10.2200</td>\n",
       "    </tr>\n",
       "    <tr>\n",
       "      <th>127</th>\n",
       "      <td>15.4000</td>\n",
       "    </tr>\n",
       "    <tr>\n",
       "      <th>838</th>\n",
       "      <td>7.9336</td>\n",
       "    </tr>\n",
       "    <tr>\n",
       "      <th>848</th>\n",
       "      <td>10.8652</td>\n",
       "    </tr>\n",
       "  </tbody>\n",
       "</table>\n",
       "</div>"
      ],
      "text/plain": [
       "     AGE_AT_SCAN\n",
       "101       9.4200\n",
       "95       10.2200\n",
       "127      15.4000\n",
       "838       7.9336\n",
       "848      10.8652"
      ]
     },
     "execution_count": 106,
     "metadata": {},
     "output_type": "execute_result"
    }
   ],
   "source": [
    "age=df_A.loc[:, 'AGE_AT_SCAN']\n",
    "age_df=pd.DataFrame(age)\n",
    "age_roi_corr =np.ones((116,116))\n",
    "age_roi_corr.shape ##creating the output I think\n",
    "age_df.head()\n",
    "#need to make the index 0-100\n"
   ]
  },
  {
   "cell_type": "code",
   "execution_count": 107,
   "metadata": {
    "collapsed": false
   },
   "outputs": [
    {
     "data": {
      "text/html": [
       "<div>\n",
       "<table border=\"1\" class=\"dataframe\">\n",
       "  <thead>\n",
       "    <tr style=\"text-align: right;\">\n",
       "      <th></th>\n",
       "      <th>rank</th>\n",
       "    </tr>\n",
       "  </thead>\n",
       "  <tbody>\n",
       "    <tr>\n",
       "      <th>101</th>\n",
       "      <td>0</td>\n",
       "    </tr>\n",
       "    <tr>\n",
       "      <th>95</th>\n",
       "      <td>1</td>\n",
       "    </tr>\n",
       "    <tr>\n",
       "      <th>127</th>\n",
       "      <td>2</td>\n",
       "    </tr>\n",
       "  </tbody>\n",
       "</table>\n",
       "</div>"
      ],
      "text/plain": [
       "     rank\n",
       "101     0\n",
       "95      1\n",
       "127     2"
      ]
     },
     "execution_count": 107,
     "metadata": {},
     "output_type": "execute_result"
    }
   ],
   "source": [
    "r=range(len(age))\n",
    "r_df=pd.DataFrame(r)\n",
    "r_df.columns = ['rank']\n",
    "r_df['newcol'] = age_df.index\n",
    "r_df.set_index('newcol', inplace=True)\n",
    "r_df.index.names = [None]\n",
    "#r_df['age']=age_df['AGE_AT_SCAN']\n",
    "r_df.head(3)"
   ]
  },
  {
   "cell_type": "code",
   "execution_count": 110,
   "metadata": {
    "collapsed": false
   },
   "outputs": [
    {
     "data": {
      "text/html": [
       "<div>\n",
       "<table border=\"1\" class=\"dataframe\">\n",
       "  <thead>\n",
       "    <tr style=\"text-align: right;\">\n",
       "      <th></th>\n",
       "      <th>0</th>\n",
       "      <th>age</th>\n",
       "    </tr>\n",
       "  </thead>\n",
       "  <tbody>\n",
       "    <tr>\n",
       "      <th>0</th>\n",
       "      <td>0.058755</td>\n",
       "      <td>NaN</td>\n",
       "    </tr>\n",
       "    <tr>\n",
       "      <th>1</th>\n",
       "      <td>0.912022</td>\n",
       "      <td>NaN</td>\n",
       "    </tr>\n",
       "    <tr>\n",
       "      <th>2</th>\n",
       "      <td>0.354744</td>\n",
       "      <td>NaN</td>\n",
       "    </tr>\n",
       "    <tr>\n",
       "      <th>3</th>\n",
       "      <td>0.150852</td>\n",
       "      <td>NaN</td>\n",
       "    </tr>\n",
       "    <tr>\n",
       "      <th>4</th>\n",
       "      <td>0.747548</td>\n",
       "      <td>NaN</td>\n",
       "    </tr>\n",
       "    <tr>\n",
       "      <th>5</th>\n",
       "      <td>1.074216</td>\n",
       "      <td>NaN</td>\n",
       "    </tr>\n",
       "    <tr>\n",
       "      <th>6</th>\n",
       "      <td>0.411452</td>\n",
       "      <td>NaN</td>\n",
       "    </tr>\n",
       "    <tr>\n",
       "      <th>7</th>\n",
       "      <td>0.427048</td>\n",
       "      <td>NaN</td>\n",
       "    </tr>\n",
       "    <tr>\n",
       "      <th>8</th>\n",
       "      <td>0.596651</td>\n",
       "      <td>NaN</td>\n",
       "    </tr>\n",
       "    <tr>\n",
       "      <th>9</th>\n",
       "      <td>0.587405</td>\n",
       "      <td>NaN</td>\n",
       "    </tr>\n",
       "    <tr>\n",
       "      <th>10</th>\n",
       "      <td>0.944487</td>\n",
       "      <td>NaN</td>\n",
       "    </tr>\n",
       "    <tr>\n",
       "      <th>11</th>\n",
       "      <td>-0.053740</td>\n",
       "      <td>NaN</td>\n",
       "    </tr>\n",
       "    <tr>\n",
       "      <th>12</th>\n",
       "      <td>0.405980</td>\n",
       "      <td>NaN</td>\n",
       "    </tr>\n",
       "    <tr>\n",
       "      <th>13</th>\n",
       "      <td>0.824992</td>\n",
       "      <td>NaN</td>\n",
       "    </tr>\n",
       "    <tr>\n",
       "      <th>14</th>\n",
       "      <td>0.462098</td>\n",
       "      <td>NaN</td>\n",
       "    </tr>\n",
       "    <tr>\n",
       "      <th>15</th>\n",
       "      <td>0.462250</td>\n",
       "      <td>NaN</td>\n",
       "    </tr>\n",
       "    <tr>\n",
       "      <th>16</th>\n",
       "      <td>0.532808</td>\n",
       "      <td>NaN</td>\n",
       "    </tr>\n",
       "    <tr>\n",
       "      <th>17</th>\n",
       "      <td>0.440838</td>\n",
       "      <td>NaN</td>\n",
       "    </tr>\n",
       "    <tr>\n",
       "      <th>18</th>\n",
       "      <td>0.868468</td>\n",
       "      <td>16.99</td>\n",
       "    </tr>\n",
       "    <tr>\n",
       "      <th>19</th>\n",
       "      <td>-0.088039</td>\n",
       "      <td>NaN</td>\n",
       "    </tr>\n",
       "  </tbody>\n",
       "</table>\n",
       "</div>"
      ],
      "text/plain": [
       "           0    age\n",
       "0   0.058755    NaN\n",
       "1   0.912022    NaN\n",
       "2   0.354744    NaN\n",
       "3   0.150852    NaN\n",
       "4   0.747548    NaN\n",
       "5   1.074216    NaN\n",
       "6   0.411452    NaN\n",
       "7   0.427048    NaN\n",
       "8   0.596651    NaN\n",
       "9   0.587405    NaN\n",
       "10  0.944487    NaN\n",
       "11 -0.053740    NaN\n",
       "12  0.405980    NaN\n",
       "13  0.824992    NaN\n",
       "14  0.462098    NaN\n",
       "15  0.462250    NaN\n",
       "16  0.532808    NaN\n",
       "17  0.440838    NaN\n",
       "18  0.868468  16.99\n",
       "19 -0.088039    NaN"
      ]
     },
     "execution_count": 110,
     "metadata": {},
     "output_type": "execute_result"
    }
   ],
   "source": [
    "corr_dat=pd.DataFrame(all_corr_mat_A[1,2,:]) #length of matrix\n",
    "corr_dat[\"age\"]=age\n",
    "corr_dat.corr()[\"age\"][0]\n",
    "corr_dat.head(20)\n"
   ]
  },
  {
   "cell_type": "code",
   "execution_count": 54,
   "metadata": {
    "collapsed": false
   },
   "outputs": [],
   "source": [
    "#age_roi_corr[r,rn]=corr_dat.corr()"
   ]
  },
  {
   "cell_type": "code",
   "execution_count": 55,
   "metadata": {
    "collapsed": false
   },
   "outputs": [],
   "source": [
    "for  r in range(all_corr_mat_A.shape[0]):\n",
    "            for rn in range(all_corr_mat_A.shape[0]):\n",
    "                if rn != r:\n",
    "                    corr_dat=pd.DataFrame(all_corr_mat_A[r,rn,:])\n",
    "                    corr_dat[\"age\"]=age\n",
    "                    age_roi_corr[r,rn]=corr_dat.corr()[\"age\"][0]\n",
    "                    #motion_roi_corr[r,rn] = np.arctanh(np.corrcoef(corr_dat,motion)[0,1]) "
   ]
  },
  {
   "cell_type": "code",
   "execution_count": 57,
   "metadata": {
    "collapsed": false
   },
   "outputs": [
    {
     "data": {
      "text/plain": [
       "array([[ 1.        , -0.05788752, -0.27590469, ..., -0.5725525 ,\n",
       "        -0.8222929 , -0.66760981],\n",
       "       [-0.05788752,  1.        , -0.19144147, ..., -0.72691603,\n",
       "        -0.81954384, -0.65546931],\n",
       "       [-0.27590469, -0.19144147,  1.        , ..., -0.38396543,\n",
       "        -0.71823665, -0.54922236],\n",
       "       ..., \n",
       "       [-0.5725525 , -0.72691603, -0.38396543, ...,  1.        ,\n",
       "        -0.50417864, -0.02371075],\n",
       "       [-0.8222929 , -0.81954384, -0.71823665, ..., -0.50417864,\n",
       "         1.        ,  0.1239588 ],\n",
       "       [-0.66760981, -0.65546931, -0.54922236, ..., -0.02371075,\n",
       "         0.1239588 ,  1.        ]])"
      ]
     },
     "execution_count": 57,
     "metadata": {},
     "output_type": "execute_result"
    }
   ],
   "source": [
    "age_roi_corr"
   ]
  },
  {
   "cell_type": "code",
   "execution_count": null,
   "metadata": {
    "collapsed": true
   },
   "outputs": [],
   "source": []
  }
 ],
 "metadata": {
  "kernelspec": {
   "display_name": "Python 2",
   "language": "python",
   "name": "python2"
  },
  "language_info": {
   "codemirror_mode": {
    "name": "ipython",
    "version": 2
   },
   "file_extension": ".py",
   "mimetype": "text/x-python",
   "name": "python",
   "nbconvert_exporter": "python",
   "pygments_lexer": "ipython2",
   "version": "2.7.12"
  }
 },
 "nbformat": 4,
 "nbformat_minor": 1
}
