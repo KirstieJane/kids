{
 "cells": [
  {
   "cell_type": "code",
   "execution_count": 1,
   "metadata": {
    "collapsed": false
   },
   "outputs": [],
   "source": [
    "import numpy as np\n",
    "import pandas as pd"
   ]
  },
  {
   "cell_type": "code",
   "execution_count": 2,
   "metadata": {
    "collapsed": false
   },
   "outputs": [],
   "source": [
    "xlabel=\"Age at scan (y)\"\n",
    "ylabel=\"Percent Frame Displacement Exceeding Threshold\"\n",
    "x='xvar'\n",
    "y='yvar'\n",
    "variance='variance'\n",
    "\n",
    "def makefakedata():\n",
    "    a=[[x, y, z] for x in [20, 25, 30, 35, 40] for y in [6, 8, 10, 12] for z in [8, 10, 12, 14]]\n",
    "    b=[list(t) for t in zip(*a)]\n",
    "    adf = pd.DataFrame({\n",
    "        'xvar' : np.random.randint(0, 100, 80),\n",
    "        'yvar' : np.random.normal(0, 1, 80),\n",
    "        'variance' : np.random.normal(0,.1, 80),\n",
    "        'SampleSize' : b[0],\n",
    "        'LowerAge' : b[1],\n",
    "        'UpperAge' : b[2]\n",
    "    })\n",
    "    return(adf)"
   ]
  },
  {
   "cell_type": "code",
   "execution_count": 3,
   "metadata": {
    "collapsed": false
   },
   "outputs": [
    {
     "data": {
      "text/plain": [
       "array([ 6,  8, 10, 12])"
      ]
     },
     "execution_count": 3,
     "metadata": {},
     "output_type": "execute_result"
    }
   ],
   "source": [
    "df = makefakedata()\n",
    "df.LowerAge.unique()"
   ]
  },
  {
   "cell_type": "code",
   "execution_count": 4,
   "metadata": {
    "collapsed": false
   },
   "outputs": [
    {
     "name": "stdout",
     "output_type": "stream",
     "text": [
      "xvar\n",
      "yvar\n"
     ]
    }
   ],
   "source": [
    "print(x)\n",
    "print(y)\n"
   ]
  },
  {
   "cell_type": "code",
   "execution_count": 37,
   "metadata": {
    "collapsed": false
   },
   "outputs": [
    {
     "data": {
      "text/html": [
       "\n",
       "    <div class=\"bk-root\">\n",
       "        <a href=\"http://bokeh.pydata.org\" target=\"_blank\" class=\"bk-logo bk-logo-small bk-logo-notebook\"></a>\n",
       "        <span id=\"a9cb2991-c982-4e15-b373-1618e1e3f4d0\">Loading BokehJS ...</span>\n",
       "    </div>"
      ]
     },
     "metadata": {},
     "output_type": "display_data"
    },
    {
     "data": {
      "application/javascript": [
       "\n",
       "(function(global) {\n",
       "  function now() {\n",
       "    return new Date();\n",
       "  }\n",
       "\n",
       "  var force = \"1\";\n",
       "\n",
       "  if (typeof (window._bokeh_onload_callbacks) === \"undefined\" || force !== \"\") {\n",
       "    window._bokeh_onload_callbacks = [];\n",
       "    window._bokeh_is_loading = undefined;\n",
       "  }\n",
       "\n",
       "\n",
       "  \n",
       "  if (typeof (window._bokeh_timeout) === \"undefined\" || force !== \"\") {\n",
       "    window._bokeh_timeout = Date.now() + 5000;\n",
       "    window._bokeh_failed_load = false;\n",
       "  }\n",
       "\n",
       "  var NB_LOAD_WARNING = {'data': {'text/html':\n",
       "     \"<div style='background-color: #fdd'>\\n\"+\n",
       "     \"<p>\\n\"+\n",
       "     \"BokehJS does not appear to have successfully loaded. If loading BokehJS from CDN, this \\n\"+\n",
       "     \"may be due to a slow or bad network connection. Possible fixes:\\n\"+\n",
       "     \"</p>\\n\"+\n",
       "     \"<ul>\\n\"+\n",
       "     \"<li>re-rerun `output_notebook()` to attempt to load from CDN again, or</li>\\n\"+\n",
       "     \"<li>use INLINE resources instead, as so:</li>\\n\"+\n",
       "     \"</ul>\\n\"+\n",
       "     \"<code>\\n\"+\n",
       "     \"from bokeh.resources import INLINE\\n\"+\n",
       "     \"output_notebook(resources=INLINE)\\n\"+\n",
       "     \"</code>\\n\"+\n",
       "     \"</div>\"}};\n",
       "\n",
       "  function display_loaded() {\n",
       "    if (window.Bokeh !== undefined) {\n",
       "      Bokeh.$(\"#a9cb2991-c982-4e15-b373-1618e1e3f4d0\").text(\"BokehJS successfully loaded.\");\n",
       "    } else if (Date.now() < window._bokeh_timeout) {\n",
       "      setTimeout(display_loaded, 100)\n",
       "    }\n",
       "  }\n",
       "\n",
       "  function run_callbacks() {\n",
       "    window._bokeh_onload_callbacks.forEach(function(callback) { callback() });\n",
       "    delete window._bokeh_onload_callbacks\n",
       "    console.info(\"Bokeh: all callbacks have finished\");\n",
       "  }\n",
       "\n",
       "  function load_libs(js_urls, callback) {\n",
       "    window._bokeh_onload_callbacks.push(callback);\n",
       "    if (window._bokeh_is_loading > 0) {\n",
       "      console.log(\"Bokeh: BokehJS is being loaded, scheduling callback at\", now());\n",
       "      return null;\n",
       "    }\n",
       "    if (js_urls == null || js_urls.length === 0) {\n",
       "      run_callbacks();\n",
       "      return null;\n",
       "    }\n",
       "    console.log(\"Bokeh: BokehJS not loaded, scheduling load and callback at\", now());\n",
       "    window._bokeh_is_loading = js_urls.length;\n",
       "    for (var i = 0; i < js_urls.length; i++) {\n",
       "      var url = js_urls[i];\n",
       "      var s = document.createElement('script');\n",
       "      s.src = url;\n",
       "      s.async = false;\n",
       "      s.onreadystatechange = s.onload = function() {\n",
       "        window._bokeh_is_loading--;\n",
       "        if (window._bokeh_is_loading === 0) {\n",
       "          console.log(\"Bokeh: all BokehJS libraries loaded\");\n",
       "          run_callbacks()\n",
       "        }\n",
       "      };\n",
       "      s.onerror = function() {\n",
       "        console.warn(\"failed to load library \" + url);\n",
       "      };\n",
       "      console.log(\"Bokeh: injecting script tag for BokehJS library: \", url);\n",
       "      document.getElementsByTagName(\"head\")[0].appendChild(s);\n",
       "    }\n",
       "  };var element = document.getElementById(\"a9cb2991-c982-4e15-b373-1618e1e3f4d0\");\n",
       "  if (element == null) {\n",
       "    console.log(\"Bokeh: ERROR: autoload.js configured with elementid 'a9cb2991-c982-4e15-b373-1618e1e3f4d0' but no matching script tag was found. \")\n",
       "    return false;\n",
       "  }\n",
       "\n",
       "  var js_urls = ['https://cdn.pydata.org/bokeh/release/bokeh-0.12.2.min.js', 'https://cdn.pydata.org/bokeh/release/bokeh-widgets-0.12.2.min.js', 'https://cdn.pydata.org/bokeh/release/bokeh-compiler-0.12.2.min.js'];\n",
       "\n",
       "  var inline_js = [\n",
       "    function(Bokeh) {\n",
       "      Bokeh.set_log_level(\"info\");\n",
       "    },\n",
       "    \n",
       "    function(Bokeh) {\n",
       "      \n",
       "      Bokeh.$(\"#a9cb2991-c982-4e15-b373-1618e1e3f4d0\").text(\"BokehJS is loading...\");\n",
       "    },\n",
       "    function(Bokeh) {\n",
       "      console.log(\"Bokeh: injecting CSS: https://cdn.pydata.org/bokeh/release/bokeh-0.12.2.min.css\");\n",
       "      Bokeh.embed.inject_css(\"https://cdn.pydata.org/bokeh/release/bokeh-0.12.2.min.css\");\n",
       "      console.log(\"Bokeh: injecting CSS: https://cdn.pydata.org/bokeh/release/bokeh-widgets-0.12.2.min.css\");\n",
       "      Bokeh.embed.inject_css(\"https://cdn.pydata.org/bokeh/release/bokeh-widgets-0.12.2.min.css\");\n",
       "    }\n",
       "  ];\n",
       "\n",
       "  function run_inline_js() {\n",
       "    \n",
       "    if ((window.Bokeh !== undefined) || (force === \"1\")) {\n",
       "      for (var i = 0; i < inline_js.length; i++) {\n",
       "        inline_js[i](window.Bokeh);\n",
       "      }if (force === \"1\") {\n",
       "        display_loaded();\n",
       "      }} else if (Date.now() < window._bokeh_timeout) {\n",
       "      setTimeout(run_inline_js, 100);\n",
       "    } else if (!window._bokeh_failed_load) {\n",
       "      console.log(\"Bokeh: BokehJS failed to load within specified timeout.\");\n",
       "      window._bokeh_failed_load = true;\n",
       "    } else if (!force) {\n",
       "      var cell = $(\"#a9cb2991-c982-4e15-b373-1618e1e3f4d0\").parents('.cell').data().cell;\n",
       "      cell.output_area.append_execute_result(NB_LOAD_WARNING)\n",
       "    }\n",
       "\n",
       "  }\n",
       "\n",
       "  if (window._bokeh_is_loading === 0) {\n",
       "    console.log(\"Bokeh: BokehJS loaded, going straight to plotting\");\n",
       "    run_inline_js();\n",
       "  } else {\n",
       "    load_libs(js_urls, function() {\n",
       "      console.log(\"Bokeh: BokehJS plotting callback run at\", now());\n",
       "      run_inline_js();\n",
       "    });\n",
       "  }\n",
       "}(this));"
      ]
     },
     "metadata": {},
     "output_type": "display_data"
    }
   ],
   "source": [
    "import numpy as np\n",
    "import os\n",
    "import pandas as pd\n",
    "import nibabel as nib\n",
    "\n",
    "from bokeh.io import curdoc, output_notebook, output_file, push_notebook\n",
    "from bokeh.layouts import column\n",
    "from bokeh.models import ColumnDataSource, DataRange1d, Range1d, VBox, HBox, Select\n",
    "from bokeh.palettes import Blues4\n",
    "from bokeh.plotting import Figure, show\n",
    "from scipy.signal import savgol_filter\n",
    "from ipywidgets import interact, FloatSlider\n",
    "\n",
    "output_notebook()\n",
    "\n",
    "def get_dataset(src, samplesize, lowerage, upperage):\n",
    "    src['ci'] = zip(src[y] + src[variance]/2, src[y] - src[variance]/2)\n",
    "    src['ci_x'] = zip(src[x], src[x])\n",
    "    df = src[(src.SampleSize == int(samplesize)) & (src.LowerAge >= int(lowerage)) & (src.UpperAge <= int(upperage))].copy()\n",
    "    df = df.set_index([x])\n",
    "    df.sort_index(inplace=True)\n",
    "    return ColumnDataSource(data=df)\n",
    "\n",
    "def make_plot(source, title):\n",
    "    plot = Figure(plot_width=800, plot_height=600, tools=\"\", toolbar_location=None)\n",
    "    plot.title.text = title\n",
    "    colors = Blues4[0:3]\n",
    "\n",
    "    plot.scatter(x=x, y=y, source=source)\n",
    "    plot.multi_line('ci_x', 'ci', source=source)\n",
    "\n",
    "    # fixed attributes\n",
    "    plot.xaxis.axis_label = xlabel\n",
    "    plot.yaxis.axis_label = ylabel\n",
    "    plot.axis.major_label_text_font_size = \"8pt\"\n",
    "    plot.axis.axis_label_text_font_size = \"8pt\"\n",
    "    plot.axis.axis_label_text_font_style = \"bold\"\n",
    "\n",
    "    return plot\n",
    "def update_plot(samplesize, lowerage, upperage):\n",
    "    plot.title.text = \"Motion for sample size \" + str(samplesize) + \", ages \" + str(lowerage) + \"-\" + str(upperage)\n",
    "    src = get_dataset(df, samplesize, lowerage, upperage)\n",
    "    source.data.update(src.data)\n",
    "    push_notebook()\n"
   ]
  },
  {
   "cell_type": "code",
   "execution_count": 34,
   "metadata": {
    "collapsed": false
   },
   "outputs": [],
   "source": [
    "samplesize = df.SampleSize.max()\n",
    "lowerage = df.LowerAge.min()\n",
    "upperage = df.UpperAge.max()\n"
   ]
  },
  {
   "cell_type": "code",
   "execution_count": 35,
   "metadata": {
    "collapsed": false
   },
   "outputs": [
    {
     "data": {
      "text/html": [
       "\n",
       "\n",
       "    <div class=\"bk-root\">\n",
       "        <div class=\"plotdiv\" id=\"480b31c5-28bb-4a7f-8de0-f47f2595ba89\"></div>\n",
       "    </div>\n",
       "<script type=\"text/javascript\">\n",
       "  \n",
       "  (function(global) {\n",
       "    function now() {\n",
       "      return new Date();\n",
       "    }\n",
       "  \n",
       "    var force = \"\";\n",
       "  \n",
       "    if (typeof (window._bokeh_onload_callbacks) === \"undefined\" || force !== \"\") {\n",
       "      window._bokeh_onload_callbacks = [];\n",
       "      window._bokeh_is_loading = undefined;\n",
       "    }\n",
       "  \n",
       "  \n",
       "    \n",
       "    if (typeof (window._bokeh_timeout) === \"undefined\" || force !== \"\") {\n",
       "      window._bokeh_timeout = Date.now() + 0;\n",
       "      window._bokeh_failed_load = false;\n",
       "    }\n",
       "  \n",
       "    var NB_LOAD_WARNING = {'data': {'text/html':\n",
       "       \"<div style='background-color: #fdd'>\\n\"+\n",
       "       \"<p>\\n\"+\n",
       "       \"BokehJS does not appear to have successfully loaded. If loading BokehJS from CDN, this \\n\"+\n",
       "       \"may be due to a slow or bad network connection. Possible fixes:\\n\"+\n",
       "       \"</p>\\n\"+\n",
       "       \"<ul>\\n\"+\n",
       "       \"<li>re-rerun `output_notebook()` to attempt to load from CDN again, or</li>\\n\"+\n",
       "       \"<li>use INLINE resources instead, as so:</li>\\n\"+\n",
       "       \"</ul>\\n\"+\n",
       "       \"<code>\\n\"+\n",
       "       \"from bokeh.resources import INLINE\\n\"+\n",
       "       \"output_notebook(resources=INLINE)\\n\"+\n",
       "       \"</code>\\n\"+\n",
       "       \"</div>\"}};\n",
       "  \n",
       "    function display_loaded() {\n",
       "      if (window.Bokeh !== undefined) {\n",
       "        Bokeh.$(\"#480b31c5-28bb-4a7f-8de0-f47f2595ba89\").text(\"BokehJS successfully loaded.\");\n",
       "      } else if (Date.now() < window._bokeh_timeout) {\n",
       "        setTimeout(display_loaded, 100)\n",
       "      }\n",
       "    }if ((window.Jupyter !== undefined) && Jupyter.notebook.kernel) {\n",
       "      comm_manager = Jupyter.notebook.kernel.comm_manager\n",
       "      comm_manager.register_target(\"aceeb093-9259-44a5-814c-e0965d334247\", function () {});\n",
       "    }\n",
       "  \n",
       "    function run_callbacks() {\n",
       "      window._bokeh_onload_callbacks.forEach(function(callback) { callback() });\n",
       "      delete window._bokeh_onload_callbacks\n",
       "      console.info(\"Bokeh: all callbacks have finished\");\n",
       "    }\n",
       "  \n",
       "    function load_libs(js_urls, callback) {\n",
       "      window._bokeh_onload_callbacks.push(callback);\n",
       "      if (window._bokeh_is_loading > 0) {\n",
       "        console.log(\"Bokeh: BokehJS is being loaded, scheduling callback at\", now());\n",
       "        return null;\n",
       "      }\n",
       "      if (js_urls == null || js_urls.length === 0) {\n",
       "        run_callbacks();\n",
       "        return null;\n",
       "      }\n",
       "      console.log(\"Bokeh: BokehJS not loaded, scheduling load and callback at\", now());\n",
       "      window._bokeh_is_loading = js_urls.length;\n",
       "      for (var i = 0; i < js_urls.length; i++) {\n",
       "        var url = js_urls[i];\n",
       "        var s = document.createElement('script');\n",
       "        s.src = url;\n",
       "        s.async = false;\n",
       "        s.onreadystatechange = s.onload = function() {\n",
       "          window._bokeh_is_loading--;\n",
       "          if (window._bokeh_is_loading === 0) {\n",
       "            console.log(\"Bokeh: all BokehJS libraries loaded\");\n",
       "            run_callbacks()\n",
       "          }\n",
       "        };\n",
       "        s.onerror = function() {\n",
       "          console.warn(\"failed to load library \" + url);\n",
       "        };\n",
       "        console.log(\"Bokeh: injecting script tag for BokehJS library: \", url);\n",
       "        document.getElementsByTagName(\"head\")[0].appendChild(s);\n",
       "      }\n",
       "    };var element = document.getElementById(\"480b31c5-28bb-4a7f-8de0-f47f2595ba89\");\n",
       "    if (element == null) {\n",
       "      console.log(\"Bokeh: ERROR: autoload.js configured with elementid '480b31c5-28bb-4a7f-8de0-f47f2595ba89' but no matching script tag was found. \")\n",
       "      return false;\n",
       "    }\n",
       "  \n",
       "    var js_urls = [];\n",
       "  \n",
       "    var inline_js = [\n",
       "      function(Bokeh) {\n",
       "        Bokeh.$(function() {\n",
       "            var docs_json = {\"16848bf6-e6e7-475c-9047-46860052b275\":{\"roots\":{\"references\":[{\"attributes\":{\"fill_color\":{\"value\":\"#1f77b4\"},\"line_color\":{\"value\":\"#1f77b4\"},\"x\":{\"field\":\"xvar\"},\"y\":{\"field\":\"yvar\"}},\"id\":\"8a3350f5-6130-4579-8543-1cbbcac3876a\",\"type\":\"Circle\"},{\"attributes\":{},\"id\":\"5f2c20c7-616b-4e9d-9bf7-548ecba6273f\",\"type\":\"BasicTicker\"},{\"attributes\":{\"line_alpha\":{\"value\":0.1},\"line_color\":{\"value\":\"#1f77b4\"},\"xs\":{\"field\":\"ci_x\"},\"ys\":{\"field\":\"ci\"}},\"id\":\"308683dd-adf1-4b87-8da2-a37d9951e6f2\",\"type\":\"MultiLine\"},{\"attributes\":{},\"id\":\"cd34593f-33b6-4b9b-a526-860ed7f44cab\",\"type\":\"ToolEvents\"},{\"attributes\":{\"line_color\":{\"value\":\"#1f77b4\"},\"xs\":{\"field\":\"ci_x\"},\"ys\":{\"field\":\"ci\"}},\"id\":\"069a26b8-ed8c-4cf5-8ed4-da00917bd77b\",\"type\":\"MultiLine\"},{\"attributes\":{\"callback\":null},\"id\":\"dcb87ac4-56d2-479c-ad89-5a1434b729a9\",\"type\":\"DataRange1d\"},{\"attributes\":{\"fill_alpha\":{\"value\":0.1},\"fill_color\":{\"value\":\"#1f77b4\"},\"line_alpha\":{\"value\":0.1},\"line_color\":{\"value\":\"#1f77b4\"},\"x\":{\"field\":\"xvar\"},\"y\":{\"field\":\"yvar\"}},\"id\":\"64bc22c5-3b4e-4600-83f9-f74e4fd97c62\",\"type\":\"Circle\"},{\"attributes\":{\"axis_label\":\"Age at scan (y)\",\"axis_label_text_font_size\":{\"value\":\"8pt\"},\"axis_label_text_font_style\":\"bold\",\"formatter\":{\"id\":\"8b86679d-0ca8-4fa4-a8af-c6010fd1705c\",\"type\":\"BasicTickFormatter\"},\"plot\":{\"id\":\"391feb6a-3b54-4e34-97e6-678e7bf96638\",\"subtype\":\"Figure\",\"type\":\"Plot\"},\"ticker\":{\"id\":\"58d853c1-b40d-499f-8379-852f53af73fd\",\"type\":\"BasicTicker\"}},\"id\":\"1a175065-8c2a-4dd0-ac96-e1ba15ce053a\",\"type\":\"LinearAxis\"},{\"attributes\":{},\"id\":\"58d853c1-b40d-499f-8379-852f53af73fd\",\"type\":\"BasicTicker\"},{\"attributes\":{},\"id\":\"68f83325-9768-4b20-8222-75715ca4b917\",\"type\":\"BasicTickFormatter\"},{\"attributes\":{\"below\":[{\"id\":\"1a175065-8c2a-4dd0-ac96-e1ba15ce053a\",\"type\":\"LinearAxis\"}],\"left\":[{\"id\":\"b6dd2e88-96f6-4fac-a48f-5592fe1908ab\",\"type\":\"LinearAxis\"}],\"plot_width\":800,\"renderers\":[{\"id\":\"1a175065-8c2a-4dd0-ac96-e1ba15ce053a\",\"type\":\"LinearAxis\"},{\"id\":\"205379a1-2300-4126-a0f3-205425c0ce5c\",\"type\":\"Grid\"},{\"id\":\"b6dd2e88-96f6-4fac-a48f-5592fe1908ab\",\"type\":\"LinearAxis\"},{\"id\":\"01662e56-effb-4928-8f39-02516d2757a4\",\"type\":\"Grid\"},{\"id\":\"27fc8282-44cb-43f1-9d22-50c3163e8660\",\"type\":\"GlyphRenderer\"},{\"id\":\"00166faa-038e-479c-a44b-cdda7b2654f4\",\"type\":\"GlyphRenderer\"}],\"title\":{\"id\":\"30335b35-9b2b-4ad8-be43-9b9beb4198d1\",\"type\":\"Title\"},\"tool_events\":{\"id\":\"cd34593f-33b6-4b9b-a526-860ed7f44cab\",\"type\":\"ToolEvents\"},\"toolbar\":{\"id\":\"1b34f74a-5da1-48e4-9199-9fb9ac8834d8\",\"type\":\"Toolbar\"},\"toolbar_location\":null,\"x_range\":{\"id\":\"dcb87ac4-56d2-479c-ad89-5a1434b729a9\",\"type\":\"DataRange1d\"},\"y_range\":{\"id\":\"6e30de05-ac6c-40f6-8f61-6d36b3594304\",\"type\":\"DataRange1d\"}},\"id\":\"391feb6a-3b54-4e34-97e6-678e7bf96638\",\"subtype\":\"Figure\",\"type\":\"Plot\"},{\"attributes\":{\"callback\":null,\"column_names\":[\"ci_x\",\"ci\",\"xvar\",\"UpperAge\",\"SampleSize\",\"yvar\",\"variance\",\"LowerAge\"],\"data\":{\"LowerAge\":[8,8,10,12,6,10,12,8,10,6,12,12,6,8,10,6],\"SampleSize\":[40,40,40,40,40,40,40,40,40,40,40,40,40,40,40,40],\"UpperAge\":[14,12,14,8,14,8,12,8,12,12,10,14,8,10,10,10],\"ci\":[[1.3064646292204944,1.2337443181804333],[-1.1888750590017985,-1.2213459550793808],[0.6286379329851255,0.5532031269392654],[0.1737927618527199,0.280096017217591],[0.4465186312306341,0.44892308436883305],[0.8971013669391391,0.9279551945373111],[1.4070026552004733,1.2832860421133554],[-0.8427880943633622,-1.0265196106240797],[0.6986556479176008,0.6561159061945684],[-0.8196411255938686,-0.6800407176731743],[-0.09068493651937823,-0.15048121316039967],[0.5254770230204618,0.5190098002953681],[1.1077485642894358,1.0503738028165708],[0.8460781775430009,0.6768165652446525],[0.6657438384531461,0.7929081717504708],[0.5759447941895325,0.5261415335914842]],\"ci_x\":[[3,3],[16,16],[18,18],[18,18],[27,27],[30,30],[46,46],[50,50],[51,51],[55,55],[58,58],[66,66],[68,68],[69,69],[72,72],[77,77]],\"variance\":[0.072720311040061,0.032470896077582294,0.07543480604586006,-0.10630325536487109,-0.002404453138198967,-0.030853827598171908,0.123716613087118,0.18373151626071754,0.042539741723032404,-0.13960040792069428,0.059796276641021454,0.0064672227250937775,0.057374761472865125,0.16926161229834846,-0.12716433329732474,0.0498032605980482],\"xvar\":[3,16,18,18,27,30,46,50,51,55,58,66,68,69,72,77],\"yvar\":[1.2701044737004639,-1.2051105070405896,0.5909205299621955,0.22694438953515544,0.4477208577997336,0.9125282807382251,1.3451443486569143,-0.934653852493721,0.6773857770560846,-0.7498409216335215,-0.12058307483988895,0.522243411657915,1.0790611835530033,0.7614473713938267,0.7293260051018084,0.5510431638905083]}},\"id\":\"38acb648-3e4f-4630-9bf9-5af5437dbe2a\",\"type\":\"ColumnDataSource\"},{\"attributes\":{\"plot\":null,\"text\":\"Motion for sample size 40, ages 6-14\"},\"id\":\"30335b35-9b2b-4ad8-be43-9b9beb4198d1\",\"type\":\"Title\"},{\"attributes\":{\"data_source\":{\"id\":\"38acb648-3e4f-4630-9bf9-5af5437dbe2a\",\"type\":\"ColumnDataSource\"},\"glyph\":{\"id\":\"069a26b8-ed8c-4cf5-8ed4-da00917bd77b\",\"type\":\"MultiLine\"},\"hover_glyph\":null,\"nonselection_glyph\":{\"id\":\"308683dd-adf1-4b87-8da2-a37d9951e6f2\",\"type\":\"MultiLine\"},\"selection_glyph\":null},\"id\":\"00166faa-038e-479c-a44b-cdda7b2654f4\",\"type\":\"GlyphRenderer\"},{\"attributes\":{},\"id\":\"8b86679d-0ca8-4fa4-a8af-c6010fd1705c\",\"type\":\"BasicTickFormatter\"},{\"attributes\":{\"callback\":null},\"id\":\"6e30de05-ac6c-40f6-8f61-6d36b3594304\",\"type\":\"DataRange1d\"},{\"attributes\":{\"plot\":{\"id\":\"391feb6a-3b54-4e34-97e6-678e7bf96638\",\"subtype\":\"Figure\",\"type\":\"Plot\"},\"ticker\":{\"id\":\"58d853c1-b40d-499f-8379-852f53af73fd\",\"type\":\"BasicTicker\"}},\"id\":\"205379a1-2300-4126-a0f3-205425c0ce5c\",\"type\":\"Grid\"},{\"attributes\":{\"axis_label\":\"Percent Frame Displacement Exceeding Threshold\",\"axis_label_text_font_size\":{\"value\":\"8pt\"},\"axis_label_text_font_style\":\"bold\",\"formatter\":{\"id\":\"68f83325-9768-4b20-8222-75715ca4b917\",\"type\":\"BasicTickFormatter\"},\"plot\":{\"id\":\"391feb6a-3b54-4e34-97e6-678e7bf96638\",\"subtype\":\"Figure\",\"type\":\"Plot\"},\"ticker\":{\"id\":\"5f2c20c7-616b-4e9d-9bf7-548ecba6273f\",\"type\":\"BasicTicker\"}},\"id\":\"b6dd2e88-96f6-4fac-a48f-5592fe1908ab\",\"type\":\"LinearAxis\"},{\"attributes\":{\"data_source\":{\"id\":\"38acb648-3e4f-4630-9bf9-5af5437dbe2a\",\"type\":\"ColumnDataSource\"},\"glyph\":{\"id\":\"8a3350f5-6130-4579-8543-1cbbcac3876a\",\"type\":\"Circle\"},\"hover_glyph\":null,\"nonselection_glyph\":{\"id\":\"64bc22c5-3b4e-4600-83f9-f74e4fd97c62\",\"type\":\"Circle\"},\"selection_glyph\":null},\"id\":\"27fc8282-44cb-43f1-9d22-50c3163e8660\",\"type\":\"GlyphRenderer\"},{\"attributes\":{\"dimension\":1,\"plot\":{\"id\":\"391feb6a-3b54-4e34-97e6-678e7bf96638\",\"subtype\":\"Figure\",\"type\":\"Plot\"},\"ticker\":{\"id\":\"5f2c20c7-616b-4e9d-9bf7-548ecba6273f\",\"type\":\"BasicTicker\"}},\"id\":\"01662e56-effb-4928-8f39-02516d2757a4\",\"type\":\"Grid\"},{\"attributes\":{\"active_drag\":\"auto\",\"active_scroll\":\"auto\",\"active_tap\":\"auto\"},\"id\":\"1b34f74a-5da1-48e4-9199-9fb9ac8834d8\",\"type\":\"Toolbar\"}],\"root_ids\":[\"391feb6a-3b54-4e34-97e6-678e7bf96638\"]},\"title\":\"Bokeh Application\",\"version\":\"0.12.2\"}};\n",
       "            var render_items = [{\"docid\":\"16848bf6-e6e7-475c-9047-46860052b275\",\"elementid\":\"480b31c5-28bb-4a7f-8de0-f47f2595ba89\",\"modelid\":\"391feb6a-3b54-4e34-97e6-678e7bf96638\",\"notebook_comms_target\":\"aceeb093-9259-44a5-814c-e0965d334247\"}];\n",
       "            \n",
       "            Bokeh.embed.embed_items(docs_json, render_items);\n",
       "        });\n",
       "      },\n",
       "      function(Bokeh) {\n",
       "      }\n",
       "    ];\n",
       "  \n",
       "    function run_inline_js() {\n",
       "      \n",
       "      if ((window.Bokeh !== undefined) || (force === \"1\")) {\n",
       "        for (var i = 0; i < inline_js.length; i++) {\n",
       "          inline_js[i](window.Bokeh);\n",
       "        }if (force === \"1\") {\n",
       "          display_loaded();\n",
       "        }} else if (Date.now() < window._bokeh_timeout) {\n",
       "        setTimeout(run_inline_js, 100);\n",
       "      } else if (!window._bokeh_failed_load) {\n",
       "        console.log(\"Bokeh: BokehJS failed to load within specified timeout.\");\n",
       "        window._bokeh_failed_load = true;\n",
       "      } else if (!force) {\n",
       "        var cell = $(\"#480b31c5-28bb-4a7f-8de0-f47f2595ba89\").parents('.cell').data().cell;\n",
       "        cell.output_area.append_execute_result(NB_LOAD_WARNING)\n",
       "      }\n",
       "  \n",
       "    }\n",
       "  \n",
       "    if (window._bokeh_is_loading === 0) {\n",
       "      console.log(\"Bokeh: BokehJS loaded, going straight to plotting\");\n",
       "      run_inline_js();\n",
       "    } else {\n",
       "      load_libs(js_urls, function() {\n",
       "        console.log(\"Bokeh: BokehJS plotting callback run at\", now());\n",
       "        run_inline_js();\n",
       "      });\n",
       "    }\n",
       "  }(this));\n",
       "</script>"
      ]
     },
     "metadata": {},
     "output_type": "display_data"
    },
    {
     "data": {
      "text/html": [
       "<p><code>&lt;Bokeh Notebook handle for <strong>In[35]</strong>&gt;</code></p>"
      ],
      "text/plain": [
       "<bokeh.io._CommsHandle at 0x7f2b181b7610>"
      ]
     },
     "execution_count": 35,
     "metadata": {},
     "output_type": "execute_result"
    }
   ],
   "source": [
    "source = get_dataset(df, samplesize, lowerage, upperage)\n",
    "plot = make_plot(source, \"Motion for sample size \" + str(samplesize) + \", ages \" + str(lowerage) + \"-\" + str(upperage))\n",
    "show(plot, notebook_handle=True)"
   ]
  },
  {
   "cell_type": "code",
   "execution_count": 32,
   "metadata": {
    "collapsed": false
   },
   "outputs": [
    {
     "data": {
      "text/plain": [
       "numpy.int64"
      ]
     },
     "execution_count": 32,
     "metadata": {},
     "output_type": "execute_result"
    }
   ],
   "source": [
    "lowerage_widget = FloatSlider(min=df.LowerAge.min(), max=df.LowerAge.max(), step=1, value=lowerage)\n",
    "upperage_widget = FloatSlider(min=df.UpperAge.min(), max=df.UpperAge.max(), step=1, value=upperage)\n",
    "\n",
    "def update_x_range(*args):\n",
    "    x_widget.max = 2.0 * y_widget.value\n",
    "y_widget.observe(update_x_range, 'value')\n",
    "\n",
    "def printer(x, y):\n",
    "    print(x, y)\n",
    "interact(printer,x=x_widget, y=y_widget)"
   ]
  },
  {
   "cell_type": "code",
   "execution_count": 36,
   "metadata": {
    "collapsed": false
   },
   "outputs": [],
   "source": [
    "interact(update_plot, samplesize=list(df.SampleSize.unique()), lowerage=list(df.LowerAge.unique()), upperage=list(df.UpperAge.unique()))"
   ]
  },
  {
   "cell_type": "code",
   "execution_count": null,
   "metadata": {
    "collapsed": true
   },
   "outputs": [],
   "source": []
  }
 ],
 "metadata": {
  "anaconda-cloud": {},
  "kernelspec": {
   "display_name": "Python [conda env:nhw16_cluster]",
   "language": "python",
   "name": "conda-env-nhw16_cluster-py"
  },
  "language_info": {
   "codemirror_mode": {
    "name": "ipython",
    "version": 2
   },
   "file_extension": ".py",
   "mimetype": "text/x-python",
   "name": "python",
   "nbconvert_exporter": "python",
   "pygments_lexer": "ipython2",
   "version": "2.7.12"
  },
  "widgets": {
   "state": {
    "01b6874215e444db975b89f55afc1d1c": {
     "views": [
      {
       "cell_index": 8
      }
     ]
    }
   },
   "version": "1.2.0"
  }
 },
 "nbformat": 4,
 "nbformat_minor": 1
}
