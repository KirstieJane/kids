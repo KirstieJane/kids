{
 "cells": [
  {
   "cell_type": "code",
   "execution_count": 1,
   "metadata": {
    "collapsed": false
   },
   "outputs": [],
   "source": [
    "import numpy as np\n",
    "import pandas as pd"
   ]
  },
  {
   "cell_type": "code",
   "execution_count": 2,
   "metadata": {
    "collapsed": false
   },
   "outputs": [],
   "source": [
    "xlabel=\"Age at scan (y)\"\n",
    "ylabel=\"Percent Frame Displacement Exceeding Threshold\"\n",
    "x='xvar'\n",
    "y='yvar'\n",
    "variance='variance'\n",
    "\n",
    "def makefakedata():\n",
    "    a=[[x, y, z] for x in [20, 25, 30, 35, 40] for y in [6, 8, 10, 12] for z in [8, 10, 12, 14]]\n",
    "    b=[list(t) for t in zip(*a)]\n",
    "    adf = pd.DataFrame({\n",
    "        'xvar' : np.random.randint(0, 100, 80),\n",
    "        'yvar' : np.random.normal(0, 1, 80),\n",
    "        'variance' : np.random.normal(0,.1, 80),\n",
    "        'SampleSize' : b[0],\n",
    "        'LowerAge' : b[1],\n",
    "        'UpperAge' : b[2]\n",
    "    })\n",
    "    return(adf)"
   ]
  },
  {
   "cell_type": "code",
   "execution_count": 3,
   "metadata": {
    "collapsed": false
   },
   "outputs": [],
   "source": [
    "df = makefakedata()"
   ]
  },
  {
   "cell_type": "code",
   "execution_count": 4,
   "metadata": {
    "collapsed": false
   },
   "outputs": [
    {
     "data": {
      "text/html": [
       "\n",
       "    <div class=\"bk-root\">\n",
       "        <a href=\"http://bokeh.pydata.org\" target=\"_blank\" class=\"bk-logo bk-logo-small bk-logo-notebook\"></a>\n",
       "        <span id=\"38bcf6fd-dbd5-4b91-b82c-78113bd8d474\">Loading BokehJS ...</span>\n",
       "    </div>"
      ]
     },
     "metadata": {},
     "output_type": "display_data"
    },
    {
     "data": {
      "application/javascript": [
       "\n",
       "(function(global) {\n",
       "  function now() {\n",
       "    return new Date();\n",
       "  }\n",
       "\n",
       "  var force = \"1\";\n",
       "\n",
       "  if (typeof (window._bokeh_onload_callbacks) === \"undefined\" || force !== \"\") {\n",
       "    window._bokeh_onload_callbacks = [];\n",
       "    window._bokeh_is_loading = undefined;\n",
       "  }\n",
       "\n",
       "\n",
       "  \n",
       "  if (typeof (window._bokeh_timeout) === \"undefined\" || force !== \"\") {\n",
       "    window._bokeh_timeout = Date.now() + 5000;\n",
       "    window._bokeh_failed_load = false;\n",
       "  }\n",
       "\n",
       "  var NB_LOAD_WARNING = {'data': {'text/html':\n",
       "     \"<div style='background-color: #fdd'>\\n\"+\n",
       "     \"<p>\\n\"+\n",
       "     \"BokehJS does not appear to have successfully loaded. If loading BokehJS from CDN, this \\n\"+\n",
       "     \"may be due to a slow or bad network connection. Possible fixes:\\n\"+\n",
       "     \"</p>\\n\"+\n",
       "     \"<ul>\\n\"+\n",
       "     \"<li>re-rerun `output_notebook()` to attempt to load from CDN again, or</li>\\n\"+\n",
       "     \"<li>use INLINE resources instead, as so:</li>\\n\"+\n",
       "     \"</ul>\\n\"+\n",
       "     \"<code>\\n\"+\n",
       "     \"from bokeh.resources import INLINE\\n\"+\n",
       "     \"output_notebook(resources=INLINE)\\n\"+\n",
       "     \"</code>\\n\"+\n",
       "     \"</div>\"}};\n",
       "\n",
       "  function display_loaded() {\n",
       "    if (window.Bokeh !== undefined) {\n",
       "      Bokeh.$(\"#38bcf6fd-dbd5-4b91-b82c-78113bd8d474\").text(\"BokehJS successfully loaded.\");\n",
       "    } else if (Date.now() < window._bokeh_timeout) {\n",
       "      setTimeout(display_loaded, 100)\n",
       "    }\n",
       "  }\n",
       "\n",
       "  function run_callbacks() {\n",
       "    window._bokeh_onload_callbacks.forEach(function(callback) { callback() });\n",
       "    delete window._bokeh_onload_callbacks\n",
       "    console.info(\"Bokeh: all callbacks have finished\");\n",
       "  }\n",
       "\n",
       "  function load_libs(js_urls, callback) {\n",
       "    window._bokeh_onload_callbacks.push(callback);\n",
       "    if (window._bokeh_is_loading > 0) {\n",
       "      console.log(\"Bokeh: BokehJS is being loaded, scheduling callback at\", now());\n",
       "      return null;\n",
       "    }\n",
       "    if (js_urls == null || js_urls.length === 0) {\n",
       "      run_callbacks();\n",
       "      return null;\n",
       "    }\n",
       "    console.log(\"Bokeh: BokehJS not loaded, scheduling load and callback at\", now());\n",
       "    window._bokeh_is_loading = js_urls.length;\n",
       "    for (var i = 0; i < js_urls.length; i++) {\n",
       "      var url = js_urls[i];\n",
       "      var s = document.createElement('script');\n",
       "      s.src = url;\n",
       "      s.async = false;\n",
       "      s.onreadystatechange = s.onload = function() {\n",
       "        window._bokeh_is_loading--;\n",
       "        if (window._bokeh_is_loading === 0) {\n",
       "          console.log(\"Bokeh: all BokehJS libraries loaded\");\n",
       "          run_callbacks()\n",
       "        }\n",
       "      };\n",
       "      s.onerror = function() {\n",
       "        console.warn(\"failed to load library \" + url);\n",
       "      };\n",
       "      console.log(\"Bokeh: injecting script tag for BokehJS library: \", url);\n",
       "      document.getElementsByTagName(\"head\")[0].appendChild(s);\n",
       "    }\n",
       "  };var element = document.getElementById(\"38bcf6fd-dbd5-4b91-b82c-78113bd8d474\");\n",
       "  if (element == null) {\n",
       "    console.log(\"Bokeh: ERROR: autoload.js configured with elementid '38bcf6fd-dbd5-4b91-b82c-78113bd8d474' but no matching script tag was found. \")\n",
       "    return false;\n",
       "  }\n",
       "\n",
       "  var js_urls = ['https://cdn.pydata.org/bokeh/release/bokeh-0.12.2.min.js', 'https://cdn.pydata.org/bokeh/release/bokeh-widgets-0.12.2.min.js', 'https://cdn.pydata.org/bokeh/release/bokeh-compiler-0.12.2.min.js'];\n",
       "\n",
       "  var inline_js = [\n",
       "    function(Bokeh) {\n",
       "      Bokeh.set_log_level(\"info\");\n",
       "    },\n",
       "    \n",
       "    function(Bokeh) {\n",
       "      \n",
       "      Bokeh.$(\"#38bcf6fd-dbd5-4b91-b82c-78113bd8d474\").text(\"BokehJS is loading...\");\n",
       "    },\n",
       "    function(Bokeh) {\n",
       "      console.log(\"Bokeh: injecting CSS: https://cdn.pydata.org/bokeh/release/bokeh-0.12.2.min.css\");\n",
       "      Bokeh.embed.inject_css(\"https://cdn.pydata.org/bokeh/release/bokeh-0.12.2.min.css\");\n",
       "      console.log(\"Bokeh: injecting CSS: https://cdn.pydata.org/bokeh/release/bokeh-widgets-0.12.2.min.css\");\n",
       "      Bokeh.embed.inject_css(\"https://cdn.pydata.org/bokeh/release/bokeh-widgets-0.12.2.min.css\");\n",
       "    }\n",
       "  ];\n",
       "\n",
       "  function run_inline_js() {\n",
       "    \n",
       "    if ((window.Bokeh !== undefined) || (force === \"1\")) {\n",
       "      for (var i = 0; i < inline_js.length; i++) {\n",
       "        inline_js[i](window.Bokeh);\n",
       "      }if (force === \"1\") {\n",
       "        display_loaded();\n",
       "      }} else if (Date.now() < window._bokeh_timeout) {\n",
       "      setTimeout(run_inline_js, 100);\n",
       "    } else if (!window._bokeh_failed_load) {\n",
       "      console.log(\"Bokeh: BokehJS failed to load within specified timeout.\");\n",
       "      window._bokeh_failed_load = true;\n",
       "    } else if (!force) {\n",
       "      var cell = $(\"#38bcf6fd-dbd5-4b91-b82c-78113bd8d474\").parents('.cell').data().cell;\n",
       "      cell.output_area.append_execute_result(NB_LOAD_WARNING)\n",
       "    }\n",
       "\n",
       "  }\n",
       "\n",
       "  if (window._bokeh_is_loading === 0) {\n",
       "    console.log(\"Bokeh: BokehJS loaded, going straight to plotting\");\n",
       "    run_inline_js();\n",
       "  } else {\n",
       "    load_libs(js_urls, function() {\n",
       "      console.log(\"Bokeh: BokehJS plotting callback run at\", now());\n",
       "      run_inline_js();\n",
       "    });\n",
       "  }\n",
       "}(this));"
      ]
     },
     "metadata": {},
     "output_type": "display_data"
    }
   ],
   "source": [
    "from plot_motion_results import plot_motion_results"
   ]
  },
  {
   "cell_type": "code",
   "execution_count": 7,
   "metadata": {
    "collapsed": false
   },
   "outputs": [
    {
     "data": {
      "text/html": [
       "\n",
       "\n",
       "    <div class=\"bk-root\">\n",
       "        <div class=\"plotdiv\" id=\"dcc7b976-7b7c-4599-b691-48b9bd6fa0b2\"></div>\n",
       "    </div>\n",
       "<script type=\"text/javascript\">\n",
       "  \n",
       "  (function(global) {\n",
       "    function now() {\n",
       "      return new Date();\n",
       "    }\n",
       "  \n",
       "    var force = \"\";\n",
       "  \n",
       "    if (typeof (window._bokeh_onload_callbacks) === \"undefined\" || force !== \"\") {\n",
       "      window._bokeh_onload_callbacks = [];\n",
       "      window._bokeh_is_loading = undefined;\n",
       "    }\n",
       "  \n",
       "  \n",
       "    \n",
       "    if (typeof (window._bokeh_timeout) === \"undefined\" || force !== \"\") {\n",
       "      window._bokeh_timeout = Date.now() + 0;\n",
       "      window._bokeh_failed_load = false;\n",
       "    }\n",
       "  \n",
       "    var NB_LOAD_WARNING = {'data': {'text/html':\n",
       "       \"<div style='background-color: #fdd'>\\n\"+\n",
       "       \"<p>\\n\"+\n",
       "       \"BokehJS does not appear to have successfully loaded. If loading BokehJS from CDN, this \\n\"+\n",
       "       \"may be due to a slow or bad network connection. Possible fixes:\\n\"+\n",
       "       \"</p>\\n\"+\n",
       "       \"<ul>\\n\"+\n",
       "       \"<li>re-rerun `output_notebook()` to attempt to load from CDN again, or</li>\\n\"+\n",
       "       \"<li>use INLINE resources instead, as so:</li>\\n\"+\n",
       "       \"</ul>\\n\"+\n",
       "       \"<code>\\n\"+\n",
       "       \"from bokeh.resources import INLINE\\n\"+\n",
       "       \"output_notebook(resources=INLINE)\\n\"+\n",
       "       \"</code>\\n\"+\n",
       "       \"</div>\"}};\n",
       "  \n",
       "    function display_loaded() {\n",
       "      if (window.Bokeh !== undefined) {\n",
       "        Bokeh.$(\"#dcc7b976-7b7c-4599-b691-48b9bd6fa0b2\").text(\"BokehJS successfully loaded.\");\n",
       "      } else if (Date.now() < window._bokeh_timeout) {\n",
       "        setTimeout(display_loaded, 100)\n",
       "      }\n",
       "    }if ((window.Jupyter !== undefined) && Jupyter.notebook.kernel) {\n",
       "      comm_manager = Jupyter.notebook.kernel.comm_manager\n",
       "      comm_manager.register_target(\"888ea69a-033e-4f37-98e4-144cf2232b7c\", function () {});\n",
       "    }\n",
       "  \n",
       "    function run_callbacks() {\n",
       "      window._bokeh_onload_callbacks.forEach(function(callback) { callback() });\n",
       "      delete window._bokeh_onload_callbacks\n",
       "      console.info(\"Bokeh: all callbacks have finished\");\n",
       "    }\n",
       "  \n",
       "    function load_libs(js_urls, callback) {\n",
       "      window._bokeh_onload_callbacks.push(callback);\n",
       "      if (window._bokeh_is_loading > 0) {\n",
       "        console.log(\"Bokeh: BokehJS is being loaded, scheduling callback at\", now());\n",
       "        return null;\n",
       "      }\n",
       "      if (js_urls == null || js_urls.length === 0) {\n",
       "        run_callbacks();\n",
       "        return null;\n",
       "      }\n",
       "      console.log(\"Bokeh: BokehJS not loaded, scheduling load and callback at\", now());\n",
       "      window._bokeh_is_loading = js_urls.length;\n",
       "      for (var i = 0; i < js_urls.length; i++) {\n",
       "        var url = js_urls[i];\n",
       "        var s = document.createElement('script');\n",
       "        s.src = url;\n",
       "        s.async = false;\n",
       "        s.onreadystatechange = s.onload = function() {\n",
       "          window._bokeh_is_loading--;\n",
       "          if (window._bokeh_is_loading === 0) {\n",
       "            console.log(\"Bokeh: all BokehJS libraries loaded\");\n",
       "            run_callbacks()\n",
       "          }\n",
       "        };\n",
       "        s.onerror = function() {\n",
       "          console.warn(\"failed to load library \" + url);\n",
       "        };\n",
       "        console.log(\"Bokeh: injecting script tag for BokehJS library: \", url);\n",
       "        document.getElementsByTagName(\"head\")[0].appendChild(s);\n",
       "      }\n",
       "    };var element = document.getElementById(\"dcc7b976-7b7c-4599-b691-48b9bd6fa0b2\");\n",
       "    if (element == null) {\n",
       "      console.log(\"Bokeh: ERROR: autoload.js configured with elementid 'dcc7b976-7b7c-4599-b691-48b9bd6fa0b2' but no matching script tag was found. \")\n",
       "      return false;\n",
       "    }\n",
       "  \n",
       "    var js_urls = [];\n",
       "  \n",
       "    var inline_js = [\n",
       "      function(Bokeh) {\n",
       "        Bokeh.$(function() {\n",
       "            var docs_json = {\"80fdae3a-4c94-4474-a3a3-9605333db413\":{\"roots\":{\"references\":[{\"attributes\":{\"active_drag\":\"auto\",\"active_scroll\":\"auto\",\"active_tap\":\"auto\"},\"id\":\"e518a151-997c-4036-be7c-d87c95ef02d3\",\"type\":\"Toolbar\"},{\"attributes\":{\"callback\":null},\"id\":\"7780d8eb-a469-4173-b908-28fb997cdbd3\",\"type\":\"DataRange1d\"},{\"attributes\":{\"axis_label\":\"Age at scan (y)\",\"axis_label_text_font_size\":{\"value\":\"8pt\"},\"axis_label_text_font_style\":\"bold\",\"formatter\":{\"id\":\"1309a071-5a90-4cec-8b6a-5b31d2d23929\",\"type\":\"BasicTickFormatter\"},\"plot\":{\"id\":\"56cf142d-242a-4df1-b1b2-30277e2995d0\",\"subtype\":\"Figure\",\"type\":\"Plot\"},\"ticker\":{\"id\":\"494f8e41-fa9f-4976-9d95-d5ca5aaabba8\",\"type\":\"BasicTicker\"}},\"id\":\"2453ee1e-a758-4c03-8a2c-28570fe96839\",\"type\":\"LinearAxis\"},{\"attributes\":{},\"id\":\"494f8e41-fa9f-4976-9d95-d5ca5aaabba8\",\"type\":\"BasicTicker\"},{\"attributes\":{\"data_source\":{\"id\":\"aa590416-ae34-4980-aa2a-32e9e37e10cc\",\"type\":\"ColumnDataSource\"},\"glyph\":{\"id\":\"d20b26a7-0c84-47f1-98cb-42363b10af74\",\"type\":\"MultiLine\"},\"hover_glyph\":null,\"nonselection_glyph\":{\"id\":\"57a43c29-b548-4ed6-8e27-71b318ffad11\",\"type\":\"MultiLine\"},\"selection_glyph\":null},\"id\":\"c7dd65f4-f153-45a4-839a-ab975fb84972\",\"type\":\"GlyphRenderer\"},{\"attributes\":{\"axis_label\":\"Percent Frame Displacement Exceeding Threshold\",\"axis_label_text_font_size\":{\"value\":\"8pt\"},\"axis_label_text_font_style\":\"bold\",\"formatter\":{\"id\":\"6bf7e16b-b3a9-440c-aa31-856fcc9ec0df\",\"type\":\"BasicTickFormatter\"},\"plot\":{\"id\":\"56cf142d-242a-4df1-b1b2-30277e2995d0\",\"subtype\":\"Figure\",\"type\":\"Plot\"},\"ticker\":{\"id\":\"9b72908b-20fe-4338-a8e4-86aae4e63556\",\"type\":\"BasicTicker\"}},\"id\":\"9e6d8d1a-1295-43bc-ab10-09cb2249f8c3\",\"type\":\"LinearAxis\"},{\"attributes\":{},\"id\":\"6bf7e16b-b3a9-440c-aa31-856fcc9ec0df\",\"type\":\"BasicTickFormatter\"},{\"attributes\":{\"plot\":null,\"text\":\"Motion for sample size 40, ages 6-14\"},\"id\":\"a839ea16-aa10-4c75-99b6-882d1207d2aa\",\"type\":\"Title\"},{\"attributes\":{\"below\":[{\"id\":\"2453ee1e-a758-4c03-8a2c-28570fe96839\",\"type\":\"LinearAxis\"}],\"left\":[{\"id\":\"9e6d8d1a-1295-43bc-ab10-09cb2249f8c3\",\"type\":\"LinearAxis\"}],\"plot_width\":800,\"renderers\":[{\"id\":\"2453ee1e-a758-4c03-8a2c-28570fe96839\",\"type\":\"LinearAxis\"},{\"id\":\"4db51720-dc36-4944-b491-014635b7260d\",\"type\":\"Grid\"},{\"id\":\"9e6d8d1a-1295-43bc-ab10-09cb2249f8c3\",\"type\":\"LinearAxis\"},{\"id\":\"bd0037e6-955c-45a2-993d-cfb58a228df3\",\"type\":\"Grid\"},{\"id\":\"67d538bd-e84f-4016-aa1b-ee7c373ffbff\",\"type\":\"GlyphRenderer\"},{\"id\":\"c7dd65f4-f153-45a4-839a-ab975fb84972\",\"type\":\"GlyphRenderer\"}],\"title\":{\"id\":\"a839ea16-aa10-4c75-99b6-882d1207d2aa\",\"type\":\"Title\"},\"tool_events\":{\"id\":\"5b9bd91f-dee5-46c1-8204-076c2db037a0\",\"type\":\"ToolEvents\"},\"toolbar\":{\"id\":\"e518a151-997c-4036-be7c-d87c95ef02d3\",\"type\":\"Toolbar\"},\"toolbar_location\":null,\"x_range\":{\"id\":\"7780d8eb-a469-4173-b908-28fb997cdbd3\",\"type\":\"DataRange1d\"},\"y_range\":{\"id\":\"ca900c26-b337-4f2e-8714-f462afffaacc\",\"type\":\"DataRange1d\"}},\"id\":\"56cf142d-242a-4df1-b1b2-30277e2995d0\",\"subtype\":\"Figure\",\"type\":\"Plot\"},{\"attributes\":{\"fill_alpha\":{\"value\":0.1},\"fill_color\":{\"value\":\"#1f77b4\"},\"line_alpha\":{\"value\":0.1},\"line_color\":{\"value\":\"#1f77b4\"},\"x\":{\"field\":\"xvar\"},\"y\":{\"field\":\"yvar\"}},\"id\":\"7685a8b0-712b-487b-bde6-8fb4669af2f9\",\"type\":\"Circle\"},{\"attributes\":{\"line_color\":{\"value\":\"#1f77b4\"},\"xs\":{\"field\":\"ci_x\"},\"ys\":{\"field\":\"ci\"}},\"id\":\"d20b26a7-0c84-47f1-98cb-42363b10af74\",\"type\":\"MultiLine\"},{\"attributes\":{\"dimension\":1,\"plot\":{\"id\":\"56cf142d-242a-4df1-b1b2-30277e2995d0\",\"subtype\":\"Figure\",\"type\":\"Plot\"},\"ticker\":{\"id\":\"9b72908b-20fe-4338-a8e4-86aae4e63556\",\"type\":\"BasicTicker\"}},\"id\":\"bd0037e6-955c-45a2-993d-cfb58a228df3\",\"type\":\"Grid\"},{\"attributes\":{},\"id\":\"1309a071-5a90-4cec-8b6a-5b31d2d23929\",\"type\":\"BasicTickFormatter\"},{\"attributes\":{\"data_source\":{\"id\":\"aa590416-ae34-4980-aa2a-32e9e37e10cc\",\"type\":\"ColumnDataSource\"},\"glyph\":{\"id\":\"65f746bf-396b-4ba8-9446-96a550a9fdf4\",\"type\":\"Circle\"},\"hover_glyph\":null,\"nonselection_glyph\":{\"id\":\"7685a8b0-712b-487b-bde6-8fb4669af2f9\",\"type\":\"Circle\"},\"selection_glyph\":null},\"id\":\"67d538bd-e84f-4016-aa1b-ee7c373ffbff\",\"type\":\"GlyphRenderer\"},{\"attributes\":{\"callback\":null,\"column_names\":[\"ci_x\",\"ci\",\"xvar\",\"UpperAge\",\"SampleSize\",\"yvar\",\"variance\",\"LowerAge\"],\"data\":{\"LowerAge\":[8,8,12,10,6,6,8,12,12,8,10,6,12,10,10,6],\"SampleSize\":[40,40,40,40,40,40,40,40,40,40,40,40,40,40,40,40],\"UpperAge\":[8,14,14,8,10,12,10,10,12,12,10,8,8,12,14,14],\"ci\":[[-0.2883851865996322,-0.2151374170711159],[0.6607762643992623,0.6158447276603578],[-0.6318640095300809,-0.6131781553729199],[-0.6146431476861942,-0.5466033244389119],[-0.5812922554413483,-0.6110198003048873],[0.8003863938884301,0.7538236002957495],[0.9264707148955043,0.8190813348478283],[0.0236354719078778,-0.106381143007683],[1.7564680938745014,1.6990609466088258],[-0.16816405733025566,-0.4215324812257768],[-1.3819847831840044,-1.2420994849991107],[1.9510961039943113,1.8788011338784611],[-1.3855830277091428,-1.4697507899823326],[-0.921031111706427,-0.6135541406078046],[-0.49179651799449065,-0.470263437217887],[1.9576215833060326,2.0309678954955404]],\"ci_x\":[[3,3],[19,19],[21,21],[38,38],[41,41],[41,41],[44,44],[61,61],[64,64],[65,65],[75,75],[76,76],[84,84],[85,85],[87,87],[98,98]],\"variance\":[-0.0732477695285163,0.0449315367389044,-0.018685854157160977,-0.06803982324728235,0.029727544863538916,0.04656279359268071,0.10738938004767594,0.1300166149155608,0.057407147265675446,0.2533684238955211,-0.13988529818489367,0.07229497011585022,0.08416776227318969,-0.30747697109862243,-0.021533080776603625,-0.07334631218950775],\"xvar\":[3,19,21,38,41,41,44,61,64,65,75,76,84,85,87,98],\"yvar\":[-0.25176130183537404,0.63831049602981,-0.6225210824515004,-0.5806232360625531,-0.5961560278731178,0.7771049970920898,0.8727760248716663,-0.0413728355499026,1.7277645202416636,-0.2948482692780162,-1.3120421340915576,1.9149486189363862,-1.4276669088457377,-0.7672926261571158,-0.4810299776061888,1.9942947394007866]}},\"id\":\"aa590416-ae34-4980-aa2a-32e9e37e10cc\",\"type\":\"ColumnDataSource\"},{\"attributes\":{\"plot\":{\"id\":\"56cf142d-242a-4df1-b1b2-30277e2995d0\",\"subtype\":\"Figure\",\"type\":\"Plot\"},\"ticker\":{\"id\":\"494f8e41-fa9f-4976-9d95-d5ca5aaabba8\",\"type\":\"BasicTicker\"}},\"id\":\"4db51720-dc36-4944-b491-014635b7260d\",\"type\":\"Grid\"},{\"attributes\":{},\"id\":\"9b72908b-20fe-4338-a8e4-86aae4e63556\",\"type\":\"BasicTicker\"},{\"attributes\":{\"callback\":null},\"id\":\"ca900c26-b337-4f2e-8714-f462afffaacc\",\"type\":\"DataRange1d\"},{\"attributes\":{\"fill_color\":{\"value\":\"#1f77b4\"},\"line_color\":{\"value\":\"#1f77b4\"},\"x\":{\"field\":\"xvar\"},\"y\":{\"field\":\"yvar\"}},\"id\":\"65f746bf-396b-4ba8-9446-96a550a9fdf4\",\"type\":\"Circle\"},{\"attributes\":{},\"id\":\"5b9bd91f-dee5-46c1-8204-076c2db037a0\",\"type\":\"ToolEvents\"},{\"attributes\":{\"line_alpha\":{\"value\":0.1},\"line_color\":{\"value\":\"#1f77b4\"},\"xs\":{\"field\":\"ci_x\"},\"ys\":{\"field\":\"ci\"}},\"id\":\"57a43c29-b548-4ed6-8e27-71b318ffad11\",\"type\":\"MultiLine\"}],\"root_ids\":[\"56cf142d-242a-4df1-b1b2-30277e2995d0\"]},\"title\":\"Bokeh Application\",\"version\":\"0.12.2\"}};\n",
       "            var render_items = [{\"docid\":\"80fdae3a-4c94-4474-a3a3-9605333db413\",\"elementid\":\"dcc7b976-7b7c-4599-b691-48b9bd6fa0b2\",\"modelid\":\"56cf142d-242a-4df1-b1b2-30277e2995d0\",\"notebook_comms_target\":\"888ea69a-033e-4f37-98e4-144cf2232b7c\"}];\n",
       "            \n",
       "            Bokeh.embed.embed_items(docs_json, render_items);\n",
       "        });\n",
       "      },\n",
       "      function(Bokeh) {\n",
       "      }\n",
       "    ];\n",
       "  \n",
       "    function run_inline_js() {\n",
       "      \n",
       "      if ((window.Bokeh !== undefined) || (force === \"1\")) {\n",
       "        for (var i = 0; i < inline_js.length; i++) {\n",
       "          inline_js[i](window.Bokeh);\n",
       "        }if (force === \"1\") {\n",
       "          display_loaded();\n",
       "        }} else if (Date.now() < window._bokeh_timeout) {\n",
       "        setTimeout(run_inline_js, 100);\n",
       "      } else if (!window._bokeh_failed_load) {\n",
       "        console.log(\"Bokeh: BokehJS failed to load within specified timeout.\");\n",
       "        window._bokeh_failed_load = true;\n",
       "      } else if (!force) {\n",
       "        var cell = $(\"#dcc7b976-7b7c-4599-b691-48b9bd6fa0b2\").parents('.cell').data().cell;\n",
       "        cell.output_area.append_execute_result(NB_LOAD_WARNING)\n",
       "      }\n",
       "  \n",
       "    }\n",
       "  \n",
       "    if (window._bokeh_is_loading === 0) {\n",
       "      console.log(\"Bokeh: BokehJS loaded, going straight to plotting\");\n",
       "      run_inline_js();\n",
       "    } else {\n",
       "      load_libs(js_urls, function() {\n",
       "        console.log(\"Bokeh: BokehJS plotting callback run at\", now());\n",
       "        run_inline_js();\n",
       "      });\n",
       "    }\n",
       "  }(this));\n",
       "</script>"
      ]
     },
     "metadata": {},
     "output_type": "display_data"
    }
   ],
   "source": [
    "plot_motion_results(df, x, y, variance, xlabel, ylabel)"
   ]
  },
  {
   "cell_type": "code",
   "execution_count": null,
   "metadata": {
    "collapsed": false
   },
   "outputs": [],
   "source": [
    "import numpy as np\n",
    "import os\n",
    "import pandas as pd\n",
    "import nibabel as nib\n",
    "\n",
    "from bokeh.io import curdoc, output_notebook, output_file, push_notebook\n",
    "from bokeh.layouts import column\n",
    "from bokeh.models import ColumnDataSource, DataRange1d, Range1d, VBox, HBox, Select\n",
    "from bokeh.palettes import Blues4\n",
    "from bokeh.plotting import Figure, show\n",
    "from scipy.signal import savgol_filter\n",
    "from ipywidgets import interact, FloatSlider\n",
    "\n",
    "output_notebook()\n",
    "\n",
    "def get_dataset(src, samplesize, lowerage, upperage):\n",
    "    src['ci'] = zip(src[y] + src[variance]/2, src[y] - src[variance]/2)\n",
    "    src['ci_x'] = zip(src[x], src[x])\n",
    "    df = src[(src.SampleSize == int(samplesize)) & (src.LowerAge >= int(lowerage)) & (src.UpperAge <= int(upperage))].copy()\n",
    "    df = df.set_index([x])\n",
    "    df.sort_index(inplace=True)\n",
    "    return ColumnDataSource(data=df)\n",
    "\n",
    "def make_plot(source, title):\n",
    "    plot = Figure(plot_width=800, plot_height=600, tools=\"\", toolbar_location=None)\n",
    "    plot.title.text = title\n",
    "    colors = Blues4[0:3]\n",
    "\n",
    "    plot.scatter(x=x, y=y, source=source)\n",
    "    plot.multi_line('ci_x', 'ci', source=source)\n",
    "\n",
    "    # fixed attributes\n",
    "    plot.xaxis.axis_label = xlabel\n",
    "    plot.yaxis.axis_label = ylabel\n",
    "    plot.axis.major_label_text_font_size = \"8pt\"\n",
    "    plot.axis.axis_label_text_font_size = \"8pt\"\n",
    "    plot.axis.axis_label_text_font_style = \"bold\"\n",
    "\n",
    "    return plot\n",
    "def update_plot(N, min_age, max_age):\n",
    "    plot.title.text = \"Motion for sample size \" + str(N) + \", ages \" + str(min_age) + \"-\" + str(max_age)\n",
    "    src = get_dataset(df, N, min_age, max_age)\n",
    "    source.data.update(src.data)\n",
    "    push_notebook()\n"
   ]
  },
  {
   "cell_type": "code",
   "execution_count": null,
   "metadata": {
    "collapsed": false
   },
   "outputs": [],
   "source": [
    "samplesize = df.SampleSize.max()\n",
    "lowerage = df.LowerAge.min()\n",
    "upperage = df.UpperAge.max()\n",
    "\n",
    "def getspacing(alist):\n",
    "    azip=zip(alist[1:], alist[:-1])\n",
    "    thediffs=[q[0]-q[1] for q in azip]\n",
    "    uniquediffs=list(set(thediffs))\n",
    "    nonzerodiffs=uniquediffs[uniquediffs != 0]\n",
    "    if (hasattr(nonzerodiffs, '__len__')) or (isinstance(nonzerodiffs, str)):\n",
    "        nonzerodiffs=-1\n",
    "    return(nonzerodiffs)\n",
    "sampleSpacing=getspacing(df.SampleSize)\n",
    "\n",
    "samplesize_widget = FloatSlider(min=df.SampleSize.min(), max=df.SampleSize.max(), step=sampleSpacing, value=samplesize)\n",
    "lowerage_widget = FloatSlider(min=df.LowerAge.min(), max=df.LowerAge.max(), step=1, value=lowerage)\n",
    "upperage_widget = FloatSlider(min=df.UpperAge.min(), max=df.UpperAge.max(), step=1, value=upperage)\n",
    "\n",
    "def update_upperage_range(*args):\n",
    "    if lowerage_widget.value > upperage_widget.value:\n",
    "        upperage_widget.value = lowerage_widget.value\n",
    "lowerage_widget.observe(update_upperage_range, 'value')\n",
    "def update_lowerage_range(*args):\n",
    "    if upperage_widget.value < lowerage_widget.value:\n",
    "        lowerage_widget.value = upperage_widget.value\n",
    "upperage_widget.observe(update_lowerage_range, 'value')"
   ]
  },
  {
   "cell_type": "code",
   "execution_count": null,
   "metadata": {
    "collapsed": false
   },
   "outputs": [],
   "source": [
    "source = get_dataset(df, samplesize, lowerage, upperage)\n",
    "plot = make_plot(source, \"Motion for sample size \" + str(samplesize) + \", ages \" + str(lowerage) + \"-\" + str(upperage))\n",
    "show(plot, notebook_handle=True)"
   ]
  },
  {
   "cell_type": "code",
   "execution_count": null,
   "metadata": {
    "collapsed": false
   },
   "outputs": [],
   "source": [
    "interact(update_plot, N=samplesize_widget, min_age=lowerage_widget, max_age=upperage_widget)"
   ]
  },
  {
   "cell_type": "code",
   "execution_count": null,
   "metadata": {
    "collapsed": false
   },
   "outputs": [],
   "source": []
  },
  {
   "cell_type": "code",
   "execution_count": null,
   "metadata": {
    "collapsed": false
   },
   "outputs": [],
   "source": []
  },
  {
   "cell_type": "code",
   "execution_count": null,
   "metadata": {
    "collapsed": true
   },
   "outputs": [],
   "source": []
  },
  {
   "cell_type": "code",
   "execution_count": null,
   "metadata": {
    "collapsed": false
   },
   "outputs": [],
   "source": []
  },
  {
   "cell_type": "code",
   "execution_count": null,
   "metadata": {
    "collapsed": true
   },
   "outputs": [],
   "source": []
  }
 ],
 "metadata": {
  "anaconda-cloud": {},
  "kernelspec": {
   "display_name": "Python [conda env:nhw16_cluster]",
   "language": "python",
   "name": "conda-env-nhw16_cluster-py"
  },
  "language_info": {
   "codemirror_mode": {
    "name": "ipython",
    "version": 2
   },
   "file_extension": ".py",
   "mimetype": "text/x-python",
   "name": "python",
   "nbconvert_exporter": "python",
   "pygments_lexer": "ipython2",
   "version": "2.7.12"
  },
  "widgets": {
   "state": {
    "44c6190a57f44ea09289552bab73039b": {
     "views": [
      {
       "cell_index": 7
      }
     ]
    },
    "5ebf50abe21d4507987eb2f941b5fe3f": {
     "views": [
      {
       "cell_index": 4
      }
     ]
    }
   },
   "version": "1.2.0"
  }
 },
 "nbformat": 4,
 "nbformat_minor": 1
}
