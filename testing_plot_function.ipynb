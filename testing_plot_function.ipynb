{
 "cells": [
  {
   "cell_type": "code",
   "execution_count": 1,
   "metadata": {
    "collapsed": false
   },
   "outputs": [],
   "source": [
    "import numpy as np\n",
    "import pandas as pd"
   ]
  },
  {
   "cell_type": "code",
   "execution_count": 2,
   "metadata": {
    "collapsed": false
   },
   "outputs": [],
   "source": [
    "xlabel=\"Age at scan (y)\"\n",
    "ylabel=\"Percent Frame Displacement Exceeding Threshold\"\n",
    "x='xvar'\n",
    "y='yvar'\n",
    "variance='variance'\n",
    "\n",
    "def makefakedata():\n",
    "    a=[[x, y, z] for x in [20, 25, 30, 35, 40] for y in [6, 8, 10, 12] for z in [8, 10, 12, 14]]\n",
    "    b=[list(t) for t in zip(*a)]\n",
    "    adf = pd.DataFrame({\n",
    "        'xvar' : np.random.randint(0, 100, 80),\n",
    "        'yvar' : np.random.normal(0, 1, 80),\n",
    "        'variance' : np.random.normal(0,.1, 80),\n",
    "        'SampleSize' : b[0],\n",
    "        'LowerAge' : b[1],\n",
    "        'UpperAge' : b[2]\n",
    "    })\n",
    "    return(adf)"
   ]
  },
  {
   "cell_type": "code",
   "execution_count": 3,
   "metadata": {
    "collapsed": false
   },
   "outputs": [],
   "source": [
    "df = makefakedata()"
   ]
  },
  {
   "cell_type": "code",
   "execution_count": null,
   "metadata": {
    "collapsed": false
   },
   "outputs": [],
   "source": []
  },
  {
   "cell_type": "code",
   "execution_count": 4,
   "metadata": {
    "collapsed": false
   },
   "outputs": [
    {
     "data": {
      "text/html": [
       "\n",
       "    <div class=\"bk-root\">\n",
       "        <a href=\"http://bokeh.pydata.org\" target=\"_blank\" class=\"bk-logo bk-logo-small bk-logo-notebook\"></a>\n",
       "        <span id=\"05a118a1-59ce-427e-bb35-047dec13a475\">Loading BokehJS ...</span>\n",
       "    </div>"
      ]
     },
     "metadata": {},
     "output_type": "display_data"
    },
    {
     "data": {
      "application/javascript": [
       "\n",
       "(function(global) {\n",
       "  function now() {\n",
       "    return new Date();\n",
       "  }\n",
       "\n",
       "  var force = \"1\";\n",
       "\n",
       "  if (typeof (window._bokeh_onload_callbacks) === \"undefined\" || force !== \"\") {\n",
       "    window._bokeh_onload_callbacks = [];\n",
       "    window._bokeh_is_loading = undefined;\n",
       "  }\n",
       "\n",
       "\n",
       "  \n",
       "  if (typeof (window._bokeh_timeout) === \"undefined\" || force !== \"\") {\n",
       "    window._bokeh_timeout = Date.now() + 5000;\n",
       "    window._bokeh_failed_load = false;\n",
       "  }\n",
       "\n",
       "  var NB_LOAD_WARNING = {'data': {'text/html':\n",
       "     \"<div style='background-color: #fdd'>\\n\"+\n",
       "     \"<p>\\n\"+\n",
       "     \"BokehJS does not appear to have successfully loaded. If loading BokehJS from CDN, this \\n\"+\n",
       "     \"may be due to a slow or bad network connection. Possible fixes:\\n\"+\n",
       "     \"</p>\\n\"+\n",
       "     \"<ul>\\n\"+\n",
       "     \"<li>re-rerun `output_notebook()` to attempt to load from CDN again, or</li>\\n\"+\n",
       "     \"<li>use INLINE resources instead, as so:</li>\\n\"+\n",
       "     \"</ul>\\n\"+\n",
       "     \"<code>\\n\"+\n",
       "     \"from bokeh.resources import INLINE\\n\"+\n",
       "     \"output_notebook(resources=INLINE)\\n\"+\n",
       "     \"</code>\\n\"+\n",
       "     \"</div>\"}};\n",
       "\n",
       "  function display_loaded() {\n",
       "    if (window.Bokeh !== undefined) {\n",
       "      Bokeh.$(\"#05a118a1-59ce-427e-bb35-047dec13a475\").text(\"BokehJS successfully loaded.\");\n",
       "    } else if (Date.now() < window._bokeh_timeout) {\n",
       "      setTimeout(display_loaded, 100)\n",
       "    }\n",
       "  }\n",
       "\n",
       "  function run_callbacks() {\n",
       "    window._bokeh_onload_callbacks.forEach(function(callback) { callback() });\n",
       "    delete window._bokeh_onload_callbacks\n",
       "    console.info(\"Bokeh: all callbacks have finished\");\n",
       "  }\n",
       "\n",
       "  function load_libs(js_urls, callback) {\n",
       "    window._bokeh_onload_callbacks.push(callback);\n",
       "    if (window._bokeh_is_loading > 0) {\n",
       "      console.log(\"Bokeh: BokehJS is being loaded, scheduling callback at\", now());\n",
       "      return null;\n",
       "    }\n",
       "    if (js_urls == null || js_urls.length === 0) {\n",
       "      run_callbacks();\n",
       "      return null;\n",
       "    }\n",
       "    console.log(\"Bokeh: BokehJS not loaded, scheduling load and callback at\", now());\n",
       "    window._bokeh_is_loading = js_urls.length;\n",
       "    for (var i = 0; i < js_urls.length; i++) {\n",
       "      var url = js_urls[i];\n",
       "      var s = document.createElement('script');\n",
       "      s.src = url;\n",
       "      s.async = false;\n",
       "      s.onreadystatechange = s.onload = function() {\n",
       "        window._bokeh_is_loading--;\n",
       "        if (window._bokeh_is_loading === 0) {\n",
       "          console.log(\"Bokeh: all BokehJS libraries loaded\");\n",
       "          run_callbacks()\n",
       "        }\n",
       "      };\n",
       "      s.onerror = function() {\n",
       "        console.warn(\"failed to load library \" + url);\n",
       "      };\n",
       "      console.log(\"Bokeh: injecting script tag for BokehJS library: \", url);\n",
       "      document.getElementsByTagName(\"head\")[0].appendChild(s);\n",
       "    }\n",
       "  };var element = document.getElementById(\"05a118a1-59ce-427e-bb35-047dec13a475\");\n",
       "  if (element == null) {\n",
       "    console.log(\"Bokeh: ERROR: autoload.js configured with elementid '05a118a1-59ce-427e-bb35-047dec13a475' but no matching script tag was found. \")\n",
       "    return false;\n",
       "  }\n",
       "\n",
       "  var js_urls = ['https://cdn.pydata.org/bokeh/release/bokeh-0.12.2.min.js', 'https://cdn.pydata.org/bokeh/release/bokeh-widgets-0.12.2.min.js', 'https://cdn.pydata.org/bokeh/release/bokeh-compiler-0.12.2.min.js'];\n",
       "\n",
       "  var inline_js = [\n",
       "    function(Bokeh) {\n",
       "      Bokeh.set_log_level(\"info\");\n",
       "    },\n",
       "    \n",
       "    function(Bokeh) {\n",
       "      \n",
       "      Bokeh.$(\"#05a118a1-59ce-427e-bb35-047dec13a475\").text(\"BokehJS is loading...\");\n",
       "    },\n",
       "    function(Bokeh) {\n",
       "      console.log(\"Bokeh: injecting CSS: https://cdn.pydata.org/bokeh/release/bokeh-0.12.2.min.css\");\n",
       "      Bokeh.embed.inject_css(\"https://cdn.pydata.org/bokeh/release/bokeh-0.12.2.min.css\");\n",
       "      console.log(\"Bokeh: injecting CSS: https://cdn.pydata.org/bokeh/release/bokeh-widgets-0.12.2.min.css\");\n",
       "      Bokeh.embed.inject_css(\"https://cdn.pydata.org/bokeh/release/bokeh-widgets-0.12.2.min.css\");\n",
       "    }\n",
       "  ];\n",
       "\n",
       "  function run_inline_js() {\n",
       "    \n",
       "    if ((window.Bokeh !== undefined) || (force === \"1\")) {\n",
       "      for (var i = 0; i < inline_js.length; i++) {\n",
       "        inline_js[i](window.Bokeh);\n",
       "      }if (force === \"1\") {\n",
       "        display_loaded();\n",
       "      }} else if (Date.now() < window._bokeh_timeout) {\n",
       "      setTimeout(run_inline_js, 100);\n",
       "    } else if (!window._bokeh_failed_load) {\n",
       "      console.log(\"Bokeh: BokehJS failed to load within specified timeout.\");\n",
       "      window._bokeh_failed_load = true;\n",
       "    } else if (!force) {\n",
       "      var cell = $(\"#05a118a1-59ce-427e-bb35-047dec13a475\").parents('.cell').data().cell;\n",
       "      cell.output_area.append_execute_result(NB_LOAD_WARNING)\n",
       "    }\n",
       "\n",
       "  }\n",
       "\n",
       "  if (window._bokeh_is_loading === 0) {\n",
       "    console.log(\"Bokeh: BokehJS loaded, going straight to plotting\");\n",
       "    run_inline_js();\n",
       "  } else {\n",
       "    load_libs(js_urls, function() {\n",
       "      console.log(\"Bokeh: BokehJS plotting callback run at\", now());\n",
       "      run_inline_js();\n",
       "    });\n",
       "  }\n",
       "}(this));"
      ]
     },
     "metadata": {},
     "output_type": "display_data"
    }
   ],
   "source": [
    "import numpy as np\n",
    "import os\n",
    "import pandas as pd\n",
    "import nibabel as nib\n",
    "\n",
    "from bokeh.io import curdoc, output_notebook, output_file, push_notebook\n",
    "from bokeh.layouts import column\n",
    "from bokeh.models import ColumnDataSource, DataRange1d, Range1d, VBox, HBox, Select\n",
    "from bokeh.palettes import Blues4\n",
    "from bokeh.plotting import Figure, show\n",
    "from scipy.signal import savgol_filter\n",
    "from ipywidgets import interact, FloatSlider\n",
    "\n",
    "output_notebook()\n",
    "\n",
    "def get_dataset(src, samplesize, lowerage, upperage):\n",
    "    src['ci'] = zip(src[y] + src[variance]/2, src[y] - src[variance]/2)\n",
    "    src['ci_x'] = zip(src[x], src[x])\n",
    "    df = src[(src.SampleSize == int(samplesize)) & (src.LowerAge >= int(lowerage)) & (src.UpperAge <= int(upperage))].copy()\n",
    "    df = df.set_index([x])\n",
    "    df.sort_index(inplace=True)\n",
    "    return ColumnDataSource(data=df)\n",
    "\n",
    "def make_plot(source, title):\n",
    "    plot = Figure(plot_width=800, plot_height=600, tools=\"\", toolbar_location=None)\n",
    "    plot.title.text = title\n",
    "    colors = Blues4[0:3]\n",
    "\n",
    "    plot.scatter(x=x, y=y, source=source)\n",
    "    plot.multi_line('ci_x', 'ci', source=source)\n",
    "\n",
    "    # fixed attributes\n",
    "    plot.xaxis.axis_label = xlabel\n",
    "    plot.yaxis.axis_label = ylabel\n",
    "    plot.axis.major_label_text_font_size = \"8pt\"\n",
    "    plot.axis.axis_label_text_font_size = \"8pt\"\n",
    "    plot.axis.axis_label_text_font_style = \"bold\"\n",
    "\n",
    "    return plot\n",
    "def update_plot(N, min_age, max_age):\n",
    "    plot.title.text = \"Motion for sample size \" + str(N) + \", ages \" + str(min_age) + \"-\" + str(max_age)\n",
    "    src = get_dataset(df, N, min_age, max_age)\n",
    "    source.data.update(src.data)\n",
    "    push_notebook()\n"
   ]
  },
  {
   "cell_type": "code",
   "execution_count": 5,
   "metadata": {
    "collapsed": false
   },
   "outputs": [],
   "source": [
    "samplesize = df.SampleSize.max()\n",
    "lowerage = df.LowerAge.min()\n",
    "upperage = df.UpperAge.max()\n",
    "\n",
    "def getspacing(alist):\n",
    "    azip=zip(alist[1:], alist[:-1])\n",
    "    thediffs=[q[0]-q[1] for q in azip]\n",
    "    uniquediffs=list(set(thediffs))\n",
    "    nonzerodiffs=uniquediffs[uniquediffs != 0]\n",
    "    if (hasattr(nonzerodiffs, '__len__')) or (isinstance(nonzerodiffs, str)):\n",
    "        nonzerodiffs=-1\n",
    "    return(nonzerodiffs)\n",
    "sampleSpacing=getspacing(df.SampleSize)\n",
    "\n",
    "samplesize_widget = FloatSlider(min=df.SampleSize.min(), max=df.SampleSize.max(), step=sampleSpacing, value=samplesize)\n",
    "lowerage_widget = FloatSlider(min=df.LowerAge.min(), max=df.LowerAge.max(), step=1, value=lowerage)\n",
    "upperage_widget = FloatSlider(min=df.UpperAge.min(), max=df.UpperAge.max(), step=1, value=upperage)\n",
    "\n",
    "def update_upperage_range(*args):\n",
    "    if lowerage_widget.value > upperage_widget.value:\n",
    "        upperage_widget.value = lowerage_widget.value\n",
    "lowerage_widget.observe(update_upperage_range, 'value')\n",
    "def update_lowerage_range(*args):\n",
    "    if upperage_widget.value < lowerage_widget.value:\n",
    "        lowerage_widget.value = upperage_widget.value\n",
    "upperage_widget.observe(update_lowerage_range, 'value')"
   ]
  },
  {
   "cell_type": "code",
   "execution_count": 6,
   "metadata": {
    "collapsed": false
   },
   "outputs": [
    {
     "data": {
      "text/html": [
       "\n",
       "\n",
       "    <div class=\"bk-root\">\n",
       "        <div class=\"plotdiv\" id=\"c66156eb-e407-4a16-857b-abedc744fd53\"></div>\n",
       "    </div>\n",
       "<script type=\"text/javascript\">\n",
       "  \n",
       "  (function(global) {\n",
       "    function now() {\n",
       "      return new Date();\n",
       "    }\n",
       "  \n",
       "    var force = \"\";\n",
       "  \n",
       "    if (typeof (window._bokeh_onload_callbacks) === \"undefined\" || force !== \"\") {\n",
       "      window._bokeh_onload_callbacks = [];\n",
       "      window._bokeh_is_loading = undefined;\n",
       "    }\n",
       "  \n",
       "  \n",
       "    \n",
       "    if (typeof (window._bokeh_timeout) === \"undefined\" || force !== \"\") {\n",
       "      window._bokeh_timeout = Date.now() + 0;\n",
       "      window._bokeh_failed_load = false;\n",
       "    }\n",
       "  \n",
       "    var NB_LOAD_WARNING = {'data': {'text/html':\n",
       "       \"<div style='background-color: #fdd'>\\n\"+\n",
       "       \"<p>\\n\"+\n",
       "       \"BokehJS does not appear to have successfully loaded. If loading BokehJS from CDN, this \\n\"+\n",
       "       \"may be due to a slow or bad network connection. Possible fixes:\\n\"+\n",
       "       \"</p>\\n\"+\n",
       "       \"<ul>\\n\"+\n",
       "       \"<li>re-rerun `output_notebook()` to attempt to load from CDN again, or</li>\\n\"+\n",
       "       \"<li>use INLINE resources instead, as so:</li>\\n\"+\n",
       "       \"</ul>\\n\"+\n",
       "       \"<code>\\n\"+\n",
       "       \"from bokeh.resources import INLINE\\n\"+\n",
       "       \"output_notebook(resources=INLINE)\\n\"+\n",
       "       \"</code>\\n\"+\n",
       "       \"</div>\"}};\n",
       "  \n",
       "    function display_loaded() {\n",
       "      if (window.Bokeh !== undefined) {\n",
       "        Bokeh.$(\"#c66156eb-e407-4a16-857b-abedc744fd53\").text(\"BokehJS successfully loaded.\");\n",
       "      } else if (Date.now() < window._bokeh_timeout) {\n",
       "        setTimeout(display_loaded, 100)\n",
       "      }\n",
       "    }if ((window.Jupyter !== undefined) && Jupyter.notebook.kernel) {\n",
       "      comm_manager = Jupyter.notebook.kernel.comm_manager\n",
       "      comm_manager.register_target(\"bdbe645f-7566-40a6-bd9e-97cc5766a43e\", function () {});\n",
       "    }\n",
       "  \n",
       "    function run_callbacks() {\n",
       "      window._bokeh_onload_callbacks.forEach(function(callback) { callback() });\n",
       "      delete window._bokeh_onload_callbacks\n",
       "      console.info(\"Bokeh: all callbacks have finished\");\n",
       "    }\n",
       "  \n",
       "    function load_libs(js_urls, callback) {\n",
       "      window._bokeh_onload_callbacks.push(callback);\n",
       "      if (window._bokeh_is_loading > 0) {\n",
       "        console.log(\"Bokeh: BokehJS is being loaded, scheduling callback at\", now());\n",
       "        return null;\n",
       "      }\n",
       "      if (js_urls == null || js_urls.length === 0) {\n",
       "        run_callbacks();\n",
       "        return null;\n",
       "      }\n",
       "      console.log(\"Bokeh: BokehJS not loaded, scheduling load and callback at\", now());\n",
       "      window._bokeh_is_loading = js_urls.length;\n",
       "      for (var i = 0; i < js_urls.length; i++) {\n",
       "        var url = js_urls[i];\n",
       "        var s = document.createElement('script');\n",
       "        s.src = url;\n",
       "        s.async = false;\n",
       "        s.onreadystatechange = s.onload = function() {\n",
       "          window._bokeh_is_loading--;\n",
       "          if (window._bokeh_is_loading === 0) {\n",
       "            console.log(\"Bokeh: all BokehJS libraries loaded\");\n",
       "            run_callbacks()\n",
       "          }\n",
       "        };\n",
       "        s.onerror = function() {\n",
       "          console.warn(\"failed to load library \" + url);\n",
       "        };\n",
       "        console.log(\"Bokeh: injecting script tag for BokehJS library: \", url);\n",
       "        document.getElementsByTagName(\"head\")[0].appendChild(s);\n",
       "      }\n",
       "    };var element = document.getElementById(\"c66156eb-e407-4a16-857b-abedc744fd53\");\n",
       "    if (element == null) {\n",
       "      console.log(\"Bokeh: ERROR: autoload.js configured with elementid 'c66156eb-e407-4a16-857b-abedc744fd53' but no matching script tag was found. \")\n",
       "      return false;\n",
       "    }\n",
       "  \n",
       "    var js_urls = [];\n",
       "  \n",
       "    var inline_js = [\n",
       "      function(Bokeh) {\n",
       "        Bokeh.$(function() {\n",
       "            var docs_json = {\"7ad07f5e-8475-4c16-8b42-14d91d40721e\":{\"roots\":{\"references\":[{\"attributes\":{\"active_drag\":\"auto\",\"active_scroll\":\"auto\",\"active_tap\":\"auto\"},\"id\":\"c29667f6-e4e1-4226-8d26-2bb0394ed42d\",\"type\":\"Toolbar\"},{\"attributes\":{\"dimension\":1,\"plot\":{\"id\":\"0bb15bde-6852-4123-a8d4-f1c074bd031f\",\"subtype\":\"Figure\",\"type\":\"Plot\"},\"ticker\":{\"id\":\"21922f8d-873f-4d94-8c71-00e7a729a3be\",\"type\":\"BasicTicker\"}},\"id\":\"1d220604-6486-4010-b023-f59b5104b0f4\",\"type\":\"Grid\"},{\"attributes\":{\"fill_alpha\":{\"value\":0.1},\"fill_color\":{\"value\":\"#1f77b4\"},\"line_alpha\":{\"value\":0.1},\"line_color\":{\"value\":\"#1f77b4\"},\"x\":{\"field\":\"xvar\"},\"y\":{\"field\":\"yvar\"}},\"id\":\"be4e409f-a5a6-48be-9703-930d18c1b8c2\",\"type\":\"Circle\"},{\"attributes\":{\"below\":[{\"id\":\"3dc09bfe-2361-42b1-96bf-d3494ba54eab\",\"type\":\"LinearAxis\"}],\"left\":[{\"id\":\"f6639678-c8f4-4650-b7c5-c9afb4ea6aea\",\"type\":\"LinearAxis\"}],\"plot_width\":800,\"renderers\":[{\"id\":\"3dc09bfe-2361-42b1-96bf-d3494ba54eab\",\"type\":\"LinearAxis\"},{\"id\":\"c4fe5df2-d227-462f-85a0-0139925429b4\",\"type\":\"Grid\"},{\"id\":\"f6639678-c8f4-4650-b7c5-c9afb4ea6aea\",\"type\":\"LinearAxis\"},{\"id\":\"1d220604-6486-4010-b023-f59b5104b0f4\",\"type\":\"Grid\"},{\"id\":\"df48d491-47bb-418a-8cad-7d0cb3713322\",\"type\":\"GlyphRenderer\"},{\"id\":\"b393df76-f713-4959-9f58-f6b334e9516c\",\"type\":\"GlyphRenderer\"}],\"title\":{\"id\":\"caeb101b-2900-4327-8247-68871cdce35a\",\"type\":\"Title\"},\"tool_events\":{\"id\":\"3463256f-a2fa-4b62-9ab4-4a70d89bcd56\",\"type\":\"ToolEvents\"},\"toolbar\":{\"id\":\"c29667f6-e4e1-4226-8d26-2bb0394ed42d\",\"type\":\"Toolbar\"},\"toolbar_location\":null,\"x_range\":{\"id\":\"0974cd4a-fa34-4934-9186-ab85004390cb\",\"type\":\"DataRange1d\"},\"y_range\":{\"id\":\"53233859-1d74-4191-aa97-ef2557e708ae\",\"type\":\"DataRange1d\"}},\"id\":\"0bb15bde-6852-4123-a8d4-f1c074bd031f\",\"subtype\":\"Figure\",\"type\":\"Plot\"},{\"attributes\":{\"line_alpha\":{\"value\":0.1},\"line_color\":{\"value\":\"#1f77b4\"},\"xs\":{\"field\":\"ci_x\"},\"ys\":{\"field\":\"ci\"}},\"id\":\"88fa2fb0-01a9-4a4d-84f8-de3101417acf\",\"type\":\"MultiLine\"},{\"attributes\":{\"plot\":null,\"text\":\"Motion for sample size 40, ages 6-14\"},\"id\":\"caeb101b-2900-4327-8247-68871cdce35a\",\"type\":\"Title\"},{\"attributes\":{\"callback\":null},\"id\":\"53233859-1d74-4191-aa97-ef2557e708ae\",\"type\":\"DataRange1d\"},{\"attributes\":{},\"id\":\"3db5c00b-7364-4f48-9eb1-fee5e2ef970c\",\"type\":\"BasicTickFormatter\"},{\"attributes\":{\"line_color\":{\"value\":\"#1f77b4\"},\"xs\":{\"field\":\"ci_x\"},\"ys\":{\"field\":\"ci\"}},\"id\":\"7b01eaec-6bfd-4cff-b0ec-00671b5cf10e\",\"type\":\"MultiLine\"},{\"attributes\":{},\"id\":\"13597582-651d-410f-8792-4125592afa5f\",\"type\":\"BasicTicker\"},{\"attributes\":{\"callback\":null,\"column_names\":[\"ci_x\",\"ci\",\"xvar\",\"UpperAge\",\"SampleSize\",\"yvar\",\"variance\",\"LowerAge\"],\"data\":{\"LowerAge\":[8,6,12,8,10,12,6,10,10,8,10,8,6,6,12,12],\"SampleSize\":[40,40,40,40,40,40,40,40,40,40,40,40,40,40,40,40],\"UpperAge\":[8,12,14,10,14,12,8,10,12,14,8,12,10,14,8,10],\"ci\":[[0.41655569009732984,0.40135652312384074],[-0.5857348087448812,-0.5442979861061229],[0.9730800904404826,0.9985566618475277],[-1.2542887573993173,-1.280053671547221],[-0.10012453500837826,-0.21683549265617008],[-0.20513563048412908,0.016974552951907737],[-0.37630452825518224,-0.5824799062290175],[-2.522091954247956,-2.5281290259298164],[0.3819343319731586,0.5252822529807721],[-1.3486116294596044,-1.3351354549724839],[1.1451483794072261,0.9691353645391146],[-0.7209718068772124,-0.6644470957620299],[-1.1992620755566166,-1.297753712951025],[0.03002556317627304,0.08508880912263288],[1.060738856089933,1.228572272616713],[-1.648302298786331,-1.5051426743516196]],\"ci_x\":[[5,5],[10,10],[19,19],[21,21],[21,21],[25,25],[36,36],[38,38],[40,40],[45,45],[60,60],[61,61],[73,73],[94,94],[95,95],[95,95]],\"variance\":[0.015199166973489144,-0.04143682263875835,-0.025476571407045068,0.025764914147903707,0.11671095764779182,-0.22211018343603683,0.20617537797383517,0.006037071681860849,-0.14334792100761348,-0.013476174487120502,0.17601301486811158,-0.056524711115182424,0.09849163739440861,-0.05506324594635984,-0.16783341652678027,-0.14315962443471128],\"xvar\":[5,10,19,21,21,25,36,38,40,45,60,61,73,94,95,95],\"yvar\":[0.4089561066105853,-0.565016397425502,0.9858183761440051,-1.2671712144732692,-0.15848001383227417,-0.09408053876611068,-0.47939221724209985,-2.525110490088886,0.4536082924769654,-1.3418735422160442,1.0571418719731704,-0.6927094513196211,-1.2485078942538208,0.05755718614945296,1.144655564353323,-1.5767224865689753]}},\"id\":\"b3c3ae6d-78f3-4f36-822e-1a2376752409\",\"type\":\"ColumnDataSource\"},{\"attributes\":{},\"id\":\"80cfa51a-cda2-4ec4-bbed-f79ea45c760b\",\"type\":\"BasicTickFormatter\"},{\"attributes\":{\"axis_label\":\"Age at scan (y)\",\"axis_label_text_font_size\":{\"value\":\"8pt\"},\"axis_label_text_font_style\":\"bold\",\"formatter\":{\"id\":\"3db5c00b-7364-4f48-9eb1-fee5e2ef970c\",\"type\":\"BasicTickFormatter\"},\"plot\":{\"id\":\"0bb15bde-6852-4123-a8d4-f1c074bd031f\",\"subtype\":\"Figure\",\"type\":\"Plot\"},\"ticker\":{\"id\":\"13597582-651d-410f-8792-4125592afa5f\",\"type\":\"BasicTicker\"}},\"id\":\"3dc09bfe-2361-42b1-96bf-d3494ba54eab\",\"type\":\"LinearAxis\"},{\"attributes\":{\"fill_color\":{\"value\":\"#1f77b4\"},\"line_color\":{\"value\":\"#1f77b4\"},\"x\":{\"field\":\"xvar\"},\"y\":{\"field\":\"yvar\"}},\"id\":\"e4589dde-8399-4c72-b8d2-e3c57eb30a84\",\"type\":\"Circle\"},{\"attributes\":{\"plot\":{\"id\":\"0bb15bde-6852-4123-a8d4-f1c074bd031f\",\"subtype\":\"Figure\",\"type\":\"Plot\"},\"ticker\":{\"id\":\"13597582-651d-410f-8792-4125592afa5f\",\"type\":\"BasicTicker\"}},\"id\":\"c4fe5df2-d227-462f-85a0-0139925429b4\",\"type\":\"Grid\"},{\"attributes\":{\"data_source\":{\"id\":\"b3c3ae6d-78f3-4f36-822e-1a2376752409\",\"type\":\"ColumnDataSource\"},\"glyph\":{\"id\":\"7b01eaec-6bfd-4cff-b0ec-00671b5cf10e\",\"type\":\"MultiLine\"},\"hover_glyph\":null,\"nonselection_glyph\":{\"id\":\"88fa2fb0-01a9-4a4d-84f8-de3101417acf\",\"type\":\"MultiLine\"},\"selection_glyph\":null},\"id\":\"b393df76-f713-4959-9f58-f6b334e9516c\",\"type\":\"GlyphRenderer\"},{\"attributes\":{},\"id\":\"21922f8d-873f-4d94-8c71-00e7a729a3be\",\"type\":\"BasicTicker\"},{\"attributes\":{\"axis_label\":\"Percent Frame Displacement Exceeding Threshold\",\"axis_label_text_font_size\":{\"value\":\"8pt\"},\"axis_label_text_font_style\":\"bold\",\"formatter\":{\"id\":\"80cfa51a-cda2-4ec4-bbed-f79ea45c760b\",\"type\":\"BasicTickFormatter\"},\"plot\":{\"id\":\"0bb15bde-6852-4123-a8d4-f1c074bd031f\",\"subtype\":\"Figure\",\"type\":\"Plot\"},\"ticker\":{\"id\":\"21922f8d-873f-4d94-8c71-00e7a729a3be\",\"type\":\"BasicTicker\"}},\"id\":\"f6639678-c8f4-4650-b7c5-c9afb4ea6aea\",\"type\":\"LinearAxis\"},{\"attributes\":{\"data_source\":{\"id\":\"b3c3ae6d-78f3-4f36-822e-1a2376752409\",\"type\":\"ColumnDataSource\"},\"glyph\":{\"id\":\"e4589dde-8399-4c72-b8d2-e3c57eb30a84\",\"type\":\"Circle\"},\"hover_glyph\":null,\"nonselection_glyph\":{\"id\":\"be4e409f-a5a6-48be-9703-930d18c1b8c2\",\"type\":\"Circle\"},\"selection_glyph\":null},\"id\":\"df48d491-47bb-418a-8cad-7d0cb3713322\",\"type\":\"GlyphRenderer\"},{\"attributes\":{},\"id\":\"3463256f-a2fa-4b62-9ab4-4a70d89bcd56\",\"type\":\"ToolEvents\"},{\"attributes\":{\"callback\":null},\"id\":\"0974cd4a-fa34-4934-9186-ab85004390cb\",\"type\":\"DataRange1d\"}],\"root_ids\":[\"0bb15bde-6852-4123-a8d4-f1c074bd031f\"]},\"title\":\"Bokeh Application\",\"version\":\"0.12.2\"}};\n",
       "            var render_items = [{\"docid\":\"7ad07f5e-8475-4c16-8b42-14d91d40721e\",\"elementid\":\"c66156eb-e407-4a16-857b-abedc744fd53\",\"modelid\":\"0bb15bde-6852-4123-a8d4-f1c074bd031f\",\"notebook_comms_target\":\"bdbe645f-7566-40a6-bd9e-97cc5766a43e\"}];\n",
       "            \n",
       "            Bokeh.embed.embed_items(docs_json, render_items);\n",
       "        });\n",
       "      },\n",
       "      function(Bokeh) {\n",
       "      }\n",
       "    ];\n",
       "  \n",
       "    function run_inline_js() {\n",
       "      \n",
       "      if ((window.Bokeh !== undefined) || (force === \"1\")) {\n",
       "        for (var i = 0; i < inline_js.length; i++) {\n",
       "          inline_js[i](window.Bokeh);\n",
       "        }if (force === \"1\") {\n",
       "          display_loaded();\n",
       "        }} else if (Date.now() < window._bokeh_timeout) {\n",
       "        setTimeout(run_inline_js, 100);\n",
       "      } else if (!window._bokeh_failed_load) {\n",
       "        console.log(\"Bokeh: BokehJS failed to load within specified timeout.\");\n",
       "        window._bokeh_failed_load = true;\n",
       "      } else if (!force) {\n",
       "        var cell = $(\"#c66156eb-e407-4a16-857b-abedc744fd53\").parents('.cell').data().cell;\n",
       "        cell.output_area.append_execute_result(NB_LOAD_WARNING)\n",
       "      }\n",
       "  \n",
       "    }\n",
       "  \n",
       "    if (window._bokeh_is_loading === 0) {\n",
       "      console.log(\"Bokeh: BokehJS loaded, going straight to plotting\");\n",
       "      run_inline_js();\n",
       "    } else {\n",
       "      load_libs(js_urls, function() {\n",
       "        console.log(\"Bokeh: BokehJS plotting callback run at\", now());\n",
       "        run_inline_js();\n",
       "      });\n",
       "    }\n",
       "  }(this));\n",
       "</script>"
      ]
     },
     "metadata": {},
     "output_type": "display_data"
    },
    {
     "data": {
      "text/html": [
       "<p><code>&lt;Bokeh Notebook handle for <strong>In[6]</strong>&gt;</code></p>"
      ],
      "text/plain": [
       "<bokeh.io._CommsHandle at 0x7f7ac2ca38d0>"
      ]
     },
     "execution_count": 6,
     "metadata": {},
     "output_type": "execute_result"
    }
   ],
   "source": [
    "source = get_dataset(df, samplesize, lowerage, upperage)\n",
    "plot = make_plot(source, \"Motion for sample size \" + str(samplesize) + \", ages \" + str(lowerage) + \"-\" + str(upperage))\n",
    "show(plot, notebook_handle=True)"
   ]
  },
  {
   "cell_type": "code",
   "execution_count": 7,
   "metadata": {
    "collapsed": false
   },
   "outputs": [],
   "source": [
    "interact(update_plot, N=samplesize_widget, min_age=lowerage_widget, max_age=upperage_widget)"
   ]
  },
  {
   "cell_type": "code",
   "execution_count": null,
   "metadata": {
    "collapsed": false
   },
   "outputs": [],
   "source": []
  },
  {
   "cell_type": "code",
   "execution_count": null,
   "metadata": {
    "collapsed": false
   },
   "outputs": [],
   "source": []
  },
  {
   "cell_type": "code",
   "execution_count": null,
   "metadata": {
    "collapsed": true
   },
   "outputs": [],
   "source": []
  },
  {
   "cell_type": "code",
   "execution_count": null,
   "metadata": {
    "collapsed": false
   },
   "outputs": [],
   "source": []
  },
  {
   "cell_type": "code",
   "execution_count": null,
   "metadata": {
    "collapsed": true
   },
   "outputs": [],
   "source": []
  }
 ],
 "metadata": {
  "anaconda-cloud": {},
  "kernelspec": {
   "display_name": "Python [conda env:nhw16_cluster]",
   "language": "python",
   "name": "conda-env-nhw16_cluster-py"
  },
  "language_info": {
   "codemirror_mode": {
    "name": "ipython",
    "version": 2
   },
   "file_extension": ".py",
   "mimetype": "text/x-python",
   "name": "python",
   "nbconvert_exporter": "python",
   "pygments_lexer": "ipython2",
   "version": "2.7.12"
  },
  "widgets": {
   "state": {
    "44c6190a57f44ea09289552bab73039b": {
     "views": [
      {
       "cell_index": 7
      }
     ]
    }
   },
   "version": "1.2.0"
  }
 },
 "nbformat": 4,
 "nbformat_minor": 1
}
