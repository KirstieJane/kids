{
 "cells": [
  {
   "cell_type": "code",
   "execution_count": 1,
   "metadata": {
    "collapsed": false
   },
   "outputs": [],
   "source": [
    "import numpy as np\n",
    "import pandas as pd"
   ]
  },
  {
   "cell_type": "code",
   "execution_count": 2,
   "metadata": {
    "collapsed": false
   },
   "outputs": [],
   "source": [
    "xlabel=\"Age at scan (y)\"\n",
    "ylabel=\"Percent Frame Displacement Exceeding Threshold\"\n",
    "x='xvar'\n",
    "y='yvar'\n",
    "variance='variance'\n",
    "\n",
    "def makefakedata():\n",
    "    a=[[x, y, z] for x in [20, 25, 30, 35, 40] for y in [6, 8, 10, 12] for z in [8, 10, 12, 14]]\n",
    "    b=[list(t) for t in zip(*a)]\n",
    "    adf = pd.DataFrame({\n",
    "        'xvar' : np.random.randint(0, 100, 80),\n",
    "        'yvar' : np.random.normal(0, 1, 80),\n",
    "        'variance' : np.random.normal(0,.1, 80),\n",
    "        'SampleSize' : b[0],\n",
    "        'LowerAge' : b[1],\n",
    "        'UpperAge' : b[2]\n",
    "    })\n",
    "    return(adf)"
   ]
  },
  {
   "cell_type": "code",
   "execution_count": 3,
   "metadata": {
    "collapsed": false
   },
   "outputs": [],
   "source": [
    "df = makefakedata()"
   ]
  },
  {
   "cell_type": "code",
   "execution_count": 4,
   "metadata": {
    "collapsed": false
   },
   "outputs": [
    {
     "data": {
      "text/html": [
       "\n",
       "    <div class=\"bk-root\">\n",
       "        <a href=\"http://bokeh.pydata.org\" target=\"_blank\" class=\"bk-logo bk-logo-small bk-logo-notebook\"></a>\n",
       "        <span id=\"38bcf6fd-dbd5-4b91-b82c-78113bd8d474\">Loading BokehJS ...</span>\n",
       "    </div>"
      ]
     },
     "metadata": {},
     "output_type": "display_data"
    },
    {
     "data": {
      "application/javascript": [
       "\n",
       "(function(global) {\n",
       "  function now() {\n",
       "    return new Date();\n",
       "  }\n",
       "\n",
       "  var force = \"1\";\n",
       "\n",
       "  if (typeof (window._bokeh_onload_callbacks) === \"undefined\" || force !== \"\") {\n",
       "    window._bokeh_onload_callbacks = [];\n",
       "    window._bokeh_is_loading = undefined;\n",
       "  }\n",
       "\n",
       "\n",
       "  \n",
       "  if (typeof (window._bokeh_timeout) === \"undefined\" || force !== \"\") {\n",
       "    window._bokeh_timeout = Date.now() + 5000;\n",
       "    window._bokeh_failed_load = false;\n",
       "  }\n",
       "\n",
       "  var NB_LOAD_WARNING = {'data': {'text/html':\n",
       "     \"<div style='background-color: #fdd'>\\n\"+\n",
       "     \"<p>\\n\"+\n",
       "     \"BokehJS does not appear to have successfully loaded. If loading BokehJS from CDN, this \\n\"+\n",
       "     \"may be due to a slow or bad network connection. Possible fixes:\\n\"+\n",
       "     \"</p>\\n\"+\n",
       "     \"<ul>\\n\"+\n",
       "     \"<li>re-rerun `output_notebook()` to attempt to load from CDN again, or</li>\\n\"+\n",
       "     \"<li>use INLINE resources instead, as so:</li>\\n\"+\n",
       "     \"</ul>\\n\"+\n",
       "     \"<code>\\n\"+\n",
       "     \"from bokeh.resources import INLINE\\n\"+\n",
       "     \"output_notebook(resources=INLINE)\\n\"+\n",
       "     \"</code>\\n\"+\n",
       "     \"</div>\"}};\n",
       "\n",
       "  function display_loaded() {\n",
       "    if (window.Bokeh !== undefined) {\n",
       "      Bokeh.$(\"#38bcf6fd-dbd5-4b91-b82c-78113bd8d474\").text(\"BokehJS successfully loaded.\");\n",
       "    } else if (Date.now() < window._bokeh_timeout) {\n",
       "      setTimeout(display_loaded, 100)\n",
       "    }\n",
       "  }\n",
       "\n",
       "  function run_callbacks() {\n",
       "    window._bokeh_onload_callbacks.forEach(function(callback) { callback() });\n",
       "    delete window._bokeh_onload_callbacks\n",
       "    console.info(\"Bokeh: all callbacks have finished\");\n",
       "  }\n",
       "\n",
       "  function load_libs(js_urls, callback) {\n",
       "    window._bokeh_onload_callbacks.push(callback);\n",
       "    if (window._bokeh_is_loading > 0) {\n",
       "      console.log(\"Bokeh: BokehJS is being loaded, scheduling callback at\", now());\n",
       "      return null;\n",
       "    }\n",
       "    if (js_urls == null || js_urls.length === 0) {\n",
       "      run_callbacks();\n",
       "      return null;\n",
       "    }\n",
       "    console.log(\"Bokeh: BokehJS not loaded, scheduling load and callback at\", now());\n",
       "    window._bokeh_is_loading = js_urls.length;\n",
       "    for (var i = 0; i < js_urls.length; i++) {\n",
       "      var url = js_urls[i];\n",
       "      var s = document.createElement('script');\n",
       "      s.src = url;\n",
       "      s.async = false;\n",
       "      s.onreadystatechange = s.onload = function() {\n",
       "        window._bokeh_is_loading--;\n",
       "        if (window._bokeh_is_loading === 0) {\n",
       "          console.log(\"Bokeh: all BokehJS libraries loaded\");\n",
       "          run_callbacks()\n",
       "        }\n",
       "      };\n",
       "      s.onerror = function() {\n",
       "        console.warn(\"failed to load library \" + url);\n",
       "      };\n",
       "      console.log(\"Bokeh: injecting script tag for BokehJS library: \", url);\n",
       "      document.getElementsByTagName(\"head\")[0].appendChild(s);\n",
       "    }\n",
       "  };var element = document.getElementById(\"38bcf6fd-dbd5-4b91-b82c-78113bd8d474\");\n",
       "  if (element == null) {\n",
       "    console.log(\"Bokeh: ERROR: autoload.js configured with elementid '38bcf6fd-dbd5-4b91-b82c-78113bd8d474' but no matching script tag was found. \")\n",
       "    return false;\n",
       "  }\n",
       "\n",
       "  var js_urls = ['https://cdn.pydata.org/bokeh/release/bokeh-0.12.2.min.js', 'https://cdn.pydata.org/bokeh/release/bokeh-widgets-0.12.2.min.js', 'https://cdn.pydata.org/bokeh/release/bokeh-compiler-0.12.2.min.js'];\n",
       "\n",
       "  var inline_js = [\n",
       "    function(Bokeh) {\n",
       "      Bokeh.set_log_level(\"info\");\n",
       "    },\n",
       "    \n",
       "    function(Bokeh) {\n",
       "      \n",
       "      Bokeh.$(\"#38bcf6fd-dbd5-4b91-b82c-78113bd8d474\").text(\"BokehJS is loading...\");\n",
       "    },\n",
       "    function(Bokeh) {\n",
       "      console.log(\"Bokeh: injecting CSS: https://cdn.pydata.org/bokeh/release/bokeh-0.12.2.min.css\");\n",
       "      Bokeh.embed.inject_css(\"https://cdn.pydata.org/bokeh/release/bokeh-0.12.2.min.css\");\n",
       "      console.log(\"Bokeh: injecting CSS: https://cdn.pydata.org/bokeh/release/bokeh-widgets-0.12.2.min.css\");\n",
       "      Bokeh.embed.inject_css(\"https://cdn.pydata.org/bokeh/release/bokeh-widgets-0.12.2.min.css\");\n",
       "    }\n",
       "  ];\n",
       "\n",
       "  function run_inline_js() {\n",
       "    \n",
       "    if ((window.Bokeh !== undefined) || (force === \"1\")) {\n",
       "      for (var i = 0; i < inline_js.length; i++) {\n",
       "        inline_js[i](window.Bokeh);\n",
       "      }if (force === \"1\") {\n",
       "        display_loaded();\n",
       "      }} else if (Date.now() < window._bokeh_timeout) {\n",
       "      setTimeout(run_inline_js, 100);\n",
       "    } else if (!window._bokeh_failed_load) {\n",
       "      console.log(\"Bokeh: BokehJS failed to load within specified timeout.\");\n",
       "      window._bokeh_failed_load = true;\n",
       "    } else if (!force) {\n",
       "      var cell = $(\"#38bcf6fd-dbd5-4b91-b82c-78113bd8d474\").parents('.cell').data().cell;\n",
       "      cell.output_area.append_execute_result(NB_LOAD_WARNING)\n",
       "    }\n",
       "\n",
       "  }\n",
       "\n",
       "  if (window._bokeh_is_loading === 0) {\n",
       "    console.log(\"Bokeh: BokehJS loaded, going straight to plotting\");\n",
       "    run_inline_js();\n",
       "  } else {\n",
       "    load_libs(js_urls, function() {\n",
       "      console.log(\"Bokeh: BokehJS plotting callback run at\", now());\n",
       "      run_inline_js();\n",
       "    });\n",
       "  }\n",
       "}(this));"
      ]
     },
     "metadata": {},
     "output_type": "display_data"
    }
   ],
   "source": [
    "from plot_motion_results import plot_motion_results"
   ]
  },
  {
   "cell_type": "code",
   "execution_count": 6,
   "metadata": {
    "collapsed": false
   },
   "outputs": [],
   "source": [
    "plot_motion_results(df, x, y, variance, xlabel, ylabel)"
   ]
  },
  {
   "cell_type": "code",
   "execution_count": null,
   "metadata": {
    "collapsed": false
   },
   "outputs": [],
   "source": [
    "import numpy as np\n",
    "import os\n",
    "import pandas as pd\n",
    "import nibabel as nib\n",
    "\n",
    "from bokeh.io import curdoc, output_notebook, output_file, push_notebook\n",
    "from bokeh.layouts import column\n",
    "from bokeh.models import ColumnDataSource, DataRange1d, Range1d, VBox, HBox, Select\n",
    "from bokeh.palettes import Blues4\n",
    "from bokeh.plotting import Figure, show\n",
    "from scipy.signal import savgol_filter\n",
    "from ipywidgets import interact, FloatSlider\n",
    "\n",
    "output_notebook()\n",
    "\n",
    "def get_dataset(src, samplesize, lowerage, upperage):\n",
    "    src['ci'] = zip(src[y] + src[variance]/2, src[y] - src[variance]/2)\n",
    "    src['ci_x'] = zip(src[x], src[x])\n",
    "    df = src[(src.SampleSize == int(samplesize)) & (src.LowerAge >= int(lowerage)) & (src.UpperAge <= int(upperage))].copy()\n",
    "    df = df.set_index([x])\n",
    "    df.sort_index(inplace=True)\n",
    "    return ColumnDataSource(data=df)\n",
    "\n",
    "def make_plot(source, title):\n",
    "    plot = Figure(plot_width=800, plot_height=600, tools=\"\", toolbar_location=None)\n",
    "    plot.title.text = title\n",
    "    colors = Blues4[0:3]\n",
    "\n",
    "    plot.scatter(x=x, y=y, source=source)\n",
    "    plot.multi_line('ci_x', 'ci', source=source)\n",
    "\n",
    "    # fixed attributes\n",
    "    plot.xaxis.axis_label = xlabel\n",
    "    plot.yaxis.axis_label = ylabel\n",
    "    plot.axis.major_label_text_font_size = \"8pt\"\n",
    "    plot.axis.axis_label_text_font_size = \"8pt\"\n",
    "    plot.axis.axis_label_text_font_style = \"bold\"\n",
    "\n",
    "    return plot\n",
    "def update_plot(N, min_age, max_age):\n",
    "    plot.title.text = \"Motion for sample size \" + str(N) + \", ages \" + str(min_age) + \"-\" + str(max_age)\n",
    "    src = get_dataset(df, N, min_age, max_age)\n",
    "    source.data.update(src.data)\n",
    "    push_notebook()\n"
   ]
  },
  {
   "cell_type": "code",
   "execution_count": null,
   "metadata": {
    "collapsed": false
   },
   "outputs": [],
   "source": [
    "samplesize = df.SampleSize.max()\n",
    "lowerage = df.LowerAge.min()\n",
    "upperage = df.UpperAge.max()\n",
    "\n",
    "def getspacing(alist):\n",
    "    azip=zip(alist[1:], alist[:-1])\n",
    "    thediffs=[q[0]-q[1] for q in azip]\n",
    "    uniquediffs=list(set(thediffs))\n",
    "    nonzerodiffs=uniquediffs[uniquediffs != 0]\n",
    "    if (hasattr(nonzerodiffs, '__len__')) or (isinstance(nonzerodiffs, str)):\n",
    "        nonzerodiffs=-1\n",
    "    return(nonzerodiffs)\n",
    "sampleSpacing=getspacing(df.SampleSize)\n",
    "\n",
    "samplesize_widget = FloatSlider(min=df.SampleSize.min(), max=df.SampleSize.max(), step=sampleSpacing, value=samplesize)\n",
    "lowerage_widget = FloatSlider(min=df.LowerAge.min(), max=df.LowerAge.max(), step=1, value=lowerage)\n",
    "upperage_widget = FloatSlider(min=df.UpperAge.min(), max=df.UpperAge.max(), step=1, value=upperage)\n",
    "\n",
    "def update_upperage_range(*args):\n",
    "    if lowerage_widget.value > upperage_widget.value:\n",
    "        upperage_widget.value = lowerage_widget.value\n",
    "lowerage_widget.observe(update_upperage_range, 'value')\n",
    "def update_lowerage_range(*args):\n",
    "    if upperage_widget.value < lowerage_widget.value:\n",
    "        lowerage_widget.value = upperage_widget.value\n",
    "upperage_widget.observe(update_lowerage_range, 'value')"
   ]
  },
  {
   "cell_type": "code",
   "execution_count": null,
   "metadata": {
    "collapsed": false
   },
   "outputs": [],
   "source": [
    "source = get_dataset(df, samplesize, lowerage, upperage)\n",
    "plot = make_plot(source, \"Motion for sample size \" + str(samplesize) + \", ages \" + str(lowerage) + \"-\" + str(upperage))\n",
    "show(plot, notebook_handle=True)"
   ]
  },
  {
   "cell_type": "code",
   "execution_count": null,
   "metadata": {
    "collapsed": false
   },
   "outputs": [],
   "source": [
    "interact(update_plot, N=samplesize_widget, min_age=lowerage_widget, max_age=upperage_widget)"
   ]
  },
  {
   "cell_type": "code",
   "execution_count": null,
   "metadata": {
    "collapsed": false
   },
   "outputs": [],
   "source": []
  },
  {
   "cell_type": "code",
   "execution_count": null,
   "metadata": {
    "collapsed": false
   },
   "outputs": [],
   "source": []
  },
  {
   "cell_type": "code",
   "execution_count": null,
   "metadata": {
    "collapsed": true
   },
   "outputs": [],
   "source": []
  },
  {
   "cell_type": "code",
   "execution_count": null,
   "metadata": {
    "collapsed": false
   },
   "outputs": [],
   "source": []
  },
  {
   "cell_type": "code",
   "execution_count": null,
   "metadata": {
    "collapsed": true
   },
   "outputs": [],
   "source": []
  }
 ],
 "metadata": {
  "anaconda-cloud": {},
  "kernelspec": {
   "display_name": "Python [conda env:nhw16_cluster]",
   "language": "python",
   "name": "conda-env-nhw16_cluster-py"
  },
  "language_info": {
   "codemirror_mode": {
    "name": "ipython",
    "version": 2
   },
   "file_extension": ".py",
   "mimetype": "text/x-python",
   "name": "python",
   "nbconvert_exporter": "python",
   "pygments_lexer": "ipython2",
   "version": "2.7.12"
  },
  "widgets": {
   "state": {
    "44c6190a57f44ea09289552bab73039b": {
     "views": [
      {
       "cell_index": 7
      }
     ]
    },
    "fe546b75c20946d69c866ac9ad628631": {
     "views": [
      {
       "cell_index": 4
      }
     ]
    }
   },
   "version": "1.2.0"
  }
 },
 "nbformat": 4,
 "nbformat_minor": 1
}
